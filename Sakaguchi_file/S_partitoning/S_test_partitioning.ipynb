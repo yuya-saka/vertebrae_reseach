{
 "cells": [
  {
   "cell_type": "code",
   "execution_count": 1,
   "metadata": {},
   "outputs": [],
   "source": [
    "import os\n",
    "import shutil\n",
    "import random\n",
    "import re\n",
    "from concurrent.futures import ThreadPoolExecutor\n",
    "from pathlib import Path"
   ]
  },
  {
   "cell_type": "code",
   "execution_count": 2,
   "metadata": {},
   "outputs": [
    {
     "name": "stdout",
     "output_type": "stream",
     "text": [
      "テストデータの分割が完了しました。処理されたファイル数: 152\n",
      "テストデータ: 8 症例\n",
      "訓練・検証データ: 30 症例\n"
     ]
    }
   ],
   "source": [
    "# 入力ディレクトリと出力ディレクトリの設定\n",
    "input_all = Path(\"/mnt/nfs1/home/yamamoto-hiroto/research/vertebrae_saka/input_nii\")\n",
    "output_dir_train_and_val = Path(\"/mnt/nfs1/home/yamamoto-hiroto/research/vertebrae_saka/Sakaguchi_file/S_train_and_val\")\n",
    "output_dir_test = Path(\"/mnt/nfs1/home/yamamoto-hiroto/research/vertebrae_saka/Sakaguchi_file/S_test\")\n",
    "\n",
    "# 出力ディレクトリを作成\n",
    "output_dir_train_and_val.mkdir(exist_ok=True)\n",
    "output_dir_test.mkdir(exist_ok=True)\n",
    "\n",
    "# 最適化されたファイル名から番号（xxxx）を抽出（正規表現使用）\n",
    "number_pattern = re.compile(r'\\d+')\n",
    "def extract_number(filename):\n",
    "    match = number_pattern.search(filename)\n",
    "    return match.group() if match else ''\n",
    "\n",
    "# ファイルを番号ごとにグループ化（最適化）\n",
    "files = list(input_all.iterdir())\n",
    "groups = {}\n",
    "for file_path in files:\n",
    "    if file_path.is_file():\n",
    "        number = extract_number(file_path.name)\n",
    "        if number:\n",
    "            if number not in groups:\n",
    "                groups[number] = []\n",
    "            groups[number].append(file_path)\n",
    "\n",
    "# グループをシャッフルして8症例をテストに割り当て\n",
    "group_keys = list(groups.keys())\n",
    "random.shuffle(group_keys)\n",
    "\n",
    "# 8症例をテストデータに分ける\n",
    "test_keys = set(group_keys[:8])\n",
    "\n",
    "# 並列処理でファイルコピーを高速化\n",
    "def copy_file(args):\n",
    "    src_path, dest_path = args\n",
    "    shutil.copy2(src_path, dest_path)  # copy2は高速でメタデータも保持\n",
    "    return dest_path\n",
    "\n",
    "# コピータスクを準備\n",
    "copy_tasks = []\n",
    "for number, file_paths in groups.items():\n",
    "    target_dir = output_dir_test if number in test_keys else output_dir_train_and_val\n",
    "    \n",
    "    for file_path in file_paths:\n",
    "        dest_path = target_dir / file_path.name\n",
    "        copy_tasks.append((file_path, dest_path))\n",
    "\n",
    "# 並列処理でファイルコピーを実行\n",
    "with ThreadPoolExecutor(max_workers=4) as executor:\n",
    "    results = list(executor.map(copy_file, copy_tasks))\n",
    "\n",
    "print(f\"テストデータの分割が完了しました。処理されたファイル数: {len(results)}\")\n",
    "print(f\"テストデータ: {len([k for k in test_keys])} 症例\")\n",
    "print(f\"訓練・検証データ: {len(group_keys) - len(test_keys)} 症例\")"
   ]
  }
 ],
 "metadata": {
  "kernelspec": {
   "display_name": "vertebrae",
   "language": "python",
   "name": "python3"
  },
  "language_info": {
   "codemirror_mode": {
    "name": "ipython",
    "version": 3
   },
   "file_extension": ".py",
   "mimetype": "text/x-python",
   "name": "python",
   "nbconvert_exporter": "python",
   "pygments_lexer": "ipython3",
   "version": "3.12.8"
  }
 },
 "nbformat": 4,
 "nbformat_minor": 2
}

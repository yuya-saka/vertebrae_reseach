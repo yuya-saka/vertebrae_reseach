{
 "cells": [
  {
   "cell_type": "code",
   "execution_count": 1,
   "metadata": {},
   "outputs": [],
   "source": [
    "import os\n",
    "import shutil\n",
    "import random\n",
    "import re\n",
    "from concurrent.futures import ThreadPoolExecutor\n",
    "from pathlib import Path"
   ]
  },
  {
   "cell_type": "code",
   "execution_count": 2,
   "metadata": {},
   "outputs": [
    {
     "name": "stdout",
     "output_type": "stream",
     "text": [
      "trainとvalへの分割が完了しました。処理されたファイル数: 114\n",
      "valデータ: 6 症例\n",
      "trainデータ: 24 症例\n"
     ]
    }
   ],
   "source": [
    "# 入力ディレクトリと出力ディレクトリの設定\n",
    "input_dir = Path(\"/mnt/nfs1/home/yamamoto-hiroto/research/vertebrae_saka/Sakaguchi_file/S_train_and_val\")\n",
    "output_dir_train = Path(\"/mnt/nfs1/home/yamamoto-hiroto/research/vertebrae_saka/Sakaguchi_file/S_train\")\n",
    "output_dir_val = Path(\"/mnt/nfs1/home/yamamoto-hiroto/research/vertebrae_saka/Sakaguchi_file/S_val\")\n",
    "\n",
    "# trainとvalの分割比率\n",
    "val_ratio = 0.2\n",
    "\n",
    "# 出力ディレクトリを作成\n",
    "output_dir_train.mkdir(exist_ok=True)\n",
    "output_dir_val.mkdir(exist_ok=True)\n",
    "\n",
    "# 最適化されたファイル名から番号（xxxx）を抽出（正規表現使用）\n",
    "number_pattern = re.compile(r'\\d+')\n",
    "def extract_number(filename):\n",
    "    match = number_pattern.search(filename)\n",
    "    return match.group() if match else ''\n",
    "\n",
    "# ファイルを番号ごとにグループ化（最適化）\n",
    "files = list(input_dir.iterdir())\n",
    "groups = {}\n",
    "for file_path in files:\n",
    "    if file_path.is_file():\n",
    "        number = extract_number(file_path.name)\n",
    "        if number:\n",
    "            if number not in groups:\n",
    "                groups[number] = []\n",
    "            groups[number].append(file_path)\n",
    "\n",
    "# グループをシャッフルしてtrainとvalに分割\n",
    "group_keys = list(groups.keys())\n",
    "random.shuffle(group_keys)\n",
    "\n",
    "val_count = int(len(group_keys) * val_ratio)\n",
    "val_keys = set(group_keys[:val_count])\n",
    "\n",
    "# 並列処理でファイルコピーを高速化\n",
    "def copy_file(args):\n",
    "    src_path, dest_path = args\n",
    "    shutil.copy2(src_path, dest_path)  # copy2は高速でメタデータも保持\n",
    "    return dest_path\n",
    "\n",
    "# コピータスクを準備\n",
    "copy_tasks = []\n",
    "for number, file_paths in groups.items():\n",
    "    target_dir = output_dir_val if number in val_keys else output_dir_train\n",
    "\n",
    "    for file_path in file_paths:\n",
    "        # valセットにはsegファイルを含めない\n",
    "        if target_dir == output_dir_val and file_path.name.startswith(\"seg\"):\n",
    "            continue\n",
    "        dest_path = target_dir / file_path.name\n",
    "        copy_tasks.append((file_path, dest_path))\n",
    "\n",
    "# 並列処理でファイルコピーを実行\n",
    "with ThreadPoolExecutor(max_workers=4) as executor:\n",
    "    results = list(executor.map(copy_file, copy_tasks))\n",
    "\n",
    "print(f\"trainとvalへの分割が完了しました。処理されたファイル数: {len(results)}\")\n",
    "print(f\"valデータ: {len([k for k in val_keys])} 症例\")\n",
    "print(f\"trainデータ: {len(group_keys) - len(val_keys)} 症例\")"
   ]
  }
 ],
 "metadata": {
  "kernelspec": {
   "display_name": "vertebrae",
   "language": "python",
   "name": "python3"
  },
  "language_info": {
   "codemirror_mode": {
    "name": "ipython",
    "version": 3
   },
   "file_extension": ".py",
   "mimetype": "text/x-python",
   "name": "python",
   "nbconvert_exporter": "python",
   "pygments_lexer": "ipython3",
   "version": "3.12.8"
  }
 },
 "nbformat": 4,
 "nbformat_minor": 2
}

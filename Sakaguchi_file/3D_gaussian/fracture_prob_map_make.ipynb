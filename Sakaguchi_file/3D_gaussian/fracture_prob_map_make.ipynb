{
 "cells": [
  {
   "cell_type": "code",
   "execution_count": 2,
   "id": "976f95b4",
   "metadata": {},
   "outputs": [],
   "source": [
    "# 基本\n",
    "from pathlib import Path\n",
    "import re, multiprocessing as mp\n",
    "\n",
    "# 処理\n",
    "import numpy as np\n",
    "import nibabel as nib\n",
    "from scipy.ndimage import gaussian_filter\n",
    "\n",
    "# 進捗表示\n",
    "from tqdm.notebook import tqdm\n"
   ]
  },
  {
   "cell_type": "markdown",
   "id": "7bb7afb7",
   "metadata": {},
   "source": [
    "# trainデータにgaussin適用"
   ]
  },
  {
   "cell_type": "code",
   "execution_count": 4,
   "id": "96c32a32",
   "metadata": {},
   "outputs": [
    {
     "name": "stdout",
     "output_type": "stream",
     "text": [
      "found 319 mask files\n"
     ]
    },
    {
     "data": {
      "application/vnd.jupyter.widget-view+json": {
       "model_id": "2806681472ff4479b4d8b615794d7791",
       "version_major": 2,
       "version_minor": 0
      },
      "text/plain": [
       "  0%|          | 0/319 [00:00<?, ?it/s]"
      ]
     },
     "metadata": {},
     "output_type": "display_data"
    },
    {
     "name": "stdout",
     "output_type": "stream",
     "text": [
      "✓ all probability maps written to /mnt/nfs1/home/yamamoto-hiroto/research/vertebrae/Sakaguchi_file/proceed_train_prob\n"
     ]
    }
   ],
   "source": [
    "def make_prob_map(src_path: Path, dst_path: Path, sigma_mm: float = 1.0):\n",
    "    \"\"\"\n",
    "    src_path : cut_ans****.nii / .nii.gz（0/1 マスク）\n",
    "    dst_path : 出力先（*_prob.nii.gz）\n",
    "    sigma_mm : ガウス σ [mm]\n",
    "    \"\"\"\n",
    "    img  = nib.load(str(src_path), mmap=True)\n",
    "    mask = (np.asanyarray(img.dataobj) > 0).astype(np.float32)\n",
    "\n",
    "    # voxel 単位 σ\n",
    "    spacing = img.header.get_zooms()[:3]              # (sx, sy, sz) [mm]\n",
    "    sigma   = tuple(sigma_mm / s for s in spacing)\n",
    "\n",
    "    prob  = gaussian_filter(mask, sigma=sigma, mode=\"nearest\")\n",
    "    if prob.max() > 0:\n",
    "        prob /= prob.max()\n",
    "\n",
    "    dst_path.parent.mkdir(parents=True, exist_ok=True)\n",
    "    nib.save(\n",
    "        nib.Nifti1Image(prob.astype(np.float32), img.affine, img.header.copy()),\n",
    "        str(dst_path)\n",
    "    )\n",
    "\n",
    "INPUT_ROOT  = Path(\"/mnt/nfs1/home/yamamoto-hiroto/research/vertebrae/Sakaguchi_file/processed_train\")        # ★実パスに置換\n",
    "OUTPUT_ROOT = Path(\"/mnt/nfs1/home/yamamoto-hiroto/research/vertebrae/Sakaguchi_file/proceed_train_prob\")   # 出力ルート\n",
    "SIGMA_MM    = 1.0                                             # ガウス σ\n",
    "N_WORKERS   = min(8, mp.cpu_count())                          # 並列数 (0=シングル)\n",
    "\n",
    "regex = re.compile(r\"cut_ans\\d+\\.nii(\\.gz)?$\")\n",
    "mask_paths = [\n",
    "    p for p in INPUT_ROOT.rglob(\"*\") if p.is_file() and regex.match(p.name)\n",
    "]\n",
    "\n",
    "print(f\"found {len(mask_paths)} mask files\")\n",
    "\n",
    "def _job(args):\n",
    "    src, dst = args\n",
    "    make_prob_map(src, dst, SIGMA_MM)\n",
    "    return dst\n",
    "\n",
    "jobs = []\n",
    "for src in mask_paths:\n",
    "    rel = src.relative_to(INPUT_ROOT)\n",
    "    out = OUTPUT_ROOT / rel.with_suffix(\"\").with_suffix(\".nii.gz\")\n",
    "    out = out.with_name(out.stem + \"_prob.nii.gz\")\n",
    "    jobs.append((src, out))\n",
    "\n",
    "if N_WORKERS > 1:\n",
    "    with mp.Pool(N_WORKERS) as pool:\n",
    "        for _ in tqdm(pool.imap_unordered(_job, jobs), total=len(jobs)):\n",
    "            pass\n",
    "else:                                # シングルスレッド\n",
    "    for j in tqdm(jobs):\n",
    "        _job(j)\n",
    "\n",
    "print(\"✓ all probability maps written to\", OUTPUT_ROOT)\n",
    "\n",
    "\n"
   ]
  }
 ],
 "metadata": {
  "kernelspec": {
   "display_name": "vertebrae",
   "language": "python",
   "name": "python3"
  },
  "language_info": {
   "codemirror_mode": {
    "name": "ipython",
    "version": 3
   },
   "file_extension": ".py",
   "mimetype": "text/x-python",
   "name": "python",
   "nbconvert_exporter": "python",
   "pygments_lexer": "ipython3",
   "version": "3.12.8"
  }
 },
 "nbformat": 4,
 "nbformat_minor": 5
}

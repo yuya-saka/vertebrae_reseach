{
 "cells": [
  {
   "cell_type": "code",
   "execution_count": 1,
   "id": "c13568d5",
   "metadata": {},
   "outputs": [],
   "source": [
    "import os\n",
    "import glob\n",
    "import re\n",
    "import pandas as pd"
   ]
  },
  {
   "cell_type": "markdown",
   "id": "2da7af3f",
   "metadata": {},
   "source": [
    "# trainのラベルマージ"
   ]
  },
  {
   "cell_type": "code",
   "execution_count": 2,
   "id": "3a373c25",
   "metadata": {},
   "outputs": [
    {
     "name": "stdout",
     "output_type": "stream",
     "text": [
      "Found 24 CSV files.\n",
      "Merged CSV shape: (37367, 5)\n",
      "Merged CSV saved as /mnt/nfs1/home/yamamoto-hiroto/research/vertebrae_saka/Sakaguchi_file/slice_train/axial/train_labels_axial.csv\n"
     ]
    }
   ],
   "source": [
    "# 読み込み対象のベースディレクトリ\n",
    "read_dir = \"slice_train/axial/\"\n",
    "\n",
    "# 出力先のディレクトリ（自分が指定したいディレクトリに変更してください）\n",
    "output_dir = \"/mnt/nfs1/home/yamamoto-hiroto/research/vertebrae_saka/Sakaguchi_file/slice_train/axial\"  # 例： \"output\" や \"/home/username/output\" 等\n",
    "\n",
    "# 出力ファイル名\n",
    "output_filename = \"train_labels_axial.csv\"\n",
    "# -----------------\n",
    "\n",
    "# 出力先ディレクトリが存在しない場合は作成する\n",
    "os.makedirs(output_dir, exist_ok=True)\n",
    "# 出力先のフルパスを作成\n",
    "output_file_path = os.path.join(output_dir, output_filename)\n",
    "\n",
    "# 読み込み対象となるCSVファイルを、再帰的に全て取得\n",
    "csv_files = glob.glob(os.path.join(read_dir, '**', '*.csv'), recursive=True)\n",
    "print(f\"Found {len(csv_files)} CSV files.\")\n",
    "\n",
    "# 各CSVファイルを読み込み、リストに格納\n",
    "df_list = []\n",
    "for file in csv_files:\n",
    "    try:\n",
    "        temp_df = pd.read_csv(file)\n",
    "        df_list.append(temp_df)\n",
    "    except Exception as e:\n",
    "        print(f\"Error reading {file}: {e}\")\n",
    "\n",
    "# 全ての DataFrame を縦方向に結合し、統合結果を作成\n",
    "if df_list:\n",
    "    merged_df = pd.concat(df_list, ignore_index=True)\n",
    "    print(\"Merged CSV shape:\", merged_df.shape)\n",
    "    \n",
    "    # 統合結果を指定したディレクトリにCSVファイルとして保存\n",
    "    merged_df.to_csv(output_file_path, index=False)\n",
    "    print(f\"Merged CSV saved as {output_file_path}\")\n",
    "else:\n",
    "    print(\"CSVファイルが見つからなかったか、読み込みに失敗しました。\")"
   ]
  },
  {
   "cell_type": "markdown",
   "id": "824767b9",
   "metadata": {},
   "source": [
    "# augmentation_trainのラベルマージ"
   ]
  },
  {
   "cell_type": "code",
   "execution_count": null,
   "id": "45d05d6e",
   "metadata": {},
   "outputs": [
    {
     "name": "stdout",
     "output_type": "stream",
     "text": [
      "Found 24 CSV files.\n",
      "Merged CSV shape: (37737, 5)\n",
      "Merged CSV saved as /mnt/nfs1/home/yamamoto-hiroto/research/vertebrae/Sakaguchi_file/slice_train_augmentation/axial/labels_axial.csv\n"
     ]
    }
   ],
   "source": [
    "# 読み込み対象のベースディレクトリ\n",
    "read_dir = \"slice_train/axial/\"\n",
    "\n",
    "# 出力先のディレクトリ（自分が指定したいディレクトリに変更してください）\n",
    "output_dir = \"/mnt/nfs1/home/yamamoto-hiroto/research/vertebrae/Sakaguchi_file/slice_train_augmentation/axial\"  # 例： \"output\" や \"/home/username/output\" 等\n",
    "\n",
    "# 出力ファイル名\n",
    "output_filename = \"labels_axial.csv\"\n",
    "# -----------------\n",
    "\n",
    "# 出力先ディレクトリが存在しない場合は作成する\n",
    "os.makedirs(output_dir, exist_ok=True)\n",
    "# 出力先のフルパスを作成\n",
    "output_file_path = os.path.join(output_dir, output_filename)\n",
    "\n",
    "# 読み込み対象となるCSVファイルを、再帰的に全て取得\n",
    "csv_files = glob.glob(os.path.join(read_dir, '**', '*.csv'), recursive=True)\n",
    "print(f\"Found {len(csv_files)} CSV files.\")\n",
    "\n",
    "# 各CSVファイルを読み込み、リストに格納\n",
    "df_list = []\n",
    "for file in csv_files:\n",
    "    try:\n",
    "        temp_df = pd.read_csv(file)\n",
    "        df_list.append(temp_df)\n",
    "    except Exception as e:\n",
    "        print(f\"Error reading {file}: {e}\")\n",
    "\n",
    "# 全ての DataFrame を縦方向に結合し、統合結果を作成\n",
    "if df_list:\n",
    "    merged_df = pd.concat(df_list, ignore_index=True)\n",
    "    print(\"Merged CSV shape:\", merged_df.shape)\n",
    "    \n",
    "    # 統合結果を指定したディレクトリにCSVファイルとして保存\n",
    "    merged_df.to_csv(output_file_path, index=False)\n",
    "    print(f\"Merged CSV saved as {output_file_path}\")\n",
    "else:\n",
    "    print(\"CSVファイルが見つからなかったか、読み込みに失敗しました。\")"
   ]
  },
  {
   "cell_type": "code",
   "execution_count": 2,
   "id": "ef68597f",
   "metadata": {},
   "outputs": [
    {
     "name": "stdout",
     "output_type": "stream",
     "text": [
      "Found 24 CSV files.\n",
      "Merged CSV shape: (37737, 5)\n",
      "Merged CSV saved as /mnt/nfs1/home/yamamoto-hiroto/research/vertebrae/Sakaguchi_file/slice_train_sampling/axial/labels_axial.csv\n"
     ]
    }
   ],
   "source": [
    "# 読み込み対象のベースディレクトリ\n",
    "read_dir = \"slice_train/axial/\"\n",
    "\n",
    "# 出力先のディレクトリ（自分が指定したいディレクトリに変更してください）\n",
    "output_dir = \"/mnt/nfs1/home/yamamoto-hiroto/research/vertebrae/Sakaguchi_file/slice_train_sampling/axial\"  # 例： \"output\" や \"/home/username/output\" 等\n",
    "\n",
    "# 出力ファイル名\n",
    "output_filename = \"labels_axial.csv\"\n",
    "# -----------------\n",
    "\n",
    "# 出力先ディレクトリが存在しない場合は作成する\n",
    "os.makedirs(output_dir, exist_ok=True)\n",
    "# 出力先のフルパスを作成\n",
    "output_file_path = os.path.join(output_dir, output_filename)\n",
    "\n",
    "# 読み込み対象となるCSVファイルを、再帰的に全て取得\n",
    "csv_files = glob.glob(os.path.join(read_dir, '**', '*.csv'), recursive=True)\n",
    "print(f\"Found {len(csv_files)} CSV files.\")\n",
    "\n",
    "# 各CSVファイルを読み込み、リストに格納\n",
    "df_list = []\n",
    "for file in csv_files:\n",
    "    try:\n",
    "        temp_df = pd.read_csv(file)\n",
    "        df_list.append(temp_df)\n",
    "    except Exception as e:\n",
    "        print(f\"Error reading {file}: {e}\")\n",
    "\n",
    "# 全ての DataFrame を縦方向に結合し、統合結果を作成\n",
    "if df_list:\n",
    "    merged_df = pd.concat(df_list, ignore_index=True)\n",
    "    print(\"Merged CSV shape:\", merged_df.shape)\n",
    "    \n",
    "    # 統合結果を指定したディレクトリにCSVファイルとして保存\n",
    "    merged_df.to_csv(output_file_path, index=False)\n",
    "    print(f\"Merged CSV saved as {output_file_path}\")\n",
    "else:\n",
    "    print(\"CSVファイルが見つからなかったか、読み込みに失敗しました。\")"
   ]
  },
  {
   "cell_type": "markdown",
   "id": "c63a8d77",
   "metadata": {},
   "source": [
    "# valのラベルマージ"
   ]
  },
  {
   "cell_type": "code",
   "execution_count": 3,
   "id": "e96898b6",
   "metadata": {},
   "outputs": [
    {
     "name": "stdout",
     "output_type": "stream",
     "text": [
      "Found 6 CSV files.\n",
      "Merged CSV shape: (10843, 5)\n",
      "Merged CSV saved as /mnt/nfs1/home/yamamoto-hiroto/research/vertebrae_saka/Sakaguchi_file/slice_val/axial/val_labels_axial.csv\n"
     ]
    }
   ],
   "source": [
    "# 読み込み対象のベースディレクトリ\n",
    "read_dir = \"slice_val/axial/\"\n",
    "\n",
    "# 出力先のディレクトリ（自分が指定したいディレクトリに変更してください）\n",
    "output_dir = \"/mnt/nfs1/home/yamamoto-hiroto/research/vertebrae_saka/Sakaguchi_file/slice_val/axial\"  # 例： \"output\" や \"/home/username/output\" 等\n",
    "\n",
    "# 出力ファイル名\n",
    "output_filename = \"val_labels_axial.csv\"\n",
    "# -----------------\n",
    "\n",
    "# 出力先ディレクトリが存在しない場合は作成する\n",
    "os.makedirs(output_dir, exist_ok=True)\n",
    "# 出力先のフルパスを作成\n",
    "output_file_path = os.path.join(output_dir, output_filename)\n",
    "\n",
    "# 読み込み対象となるCSVファイルを、再帰的に全て取得\n",
    "csv_files = glob.glob(os.path.join(read_dir, '**', '*.csv'), recursive=True)\n",
    "print(f\"Found {len(csv_files)} CSV files.\")\n",
    "\n",
    "# 各CSVファイルを読み込み、リストに格納\n",
    "df_list = []\n",
    "for file in csv_files:\n",
    "    try:\n",
    "        temp_df = pd.read_csv(file)\n",
    "        df_list.append(temp_df)\n",
    "    except Exception as e:\n",
    "        print(f\"Error reading {file}: {e}\")\n",
    "\n",
    "# 全ての DataFrame を縦方向に結合し、統合結果を作成\n",
    "if df_list:\n",
    "    merged_df = pd.concat(df_list, ignore_index=True)\n",
    "    print(\"Merged CSV shape:\", merged_df.shape)\n",
    "    \n",
    "    # 統合結果を指定したディレクトリにCSVファイルとして保存\n",
    "    merged_df.to_csv(output_file_path, index=False)\n",
    "    print(f\"Merged CSV saved as {output_file_path}\")\n",
    "else:\n",
    "    print(\"CSVファイルが見つからなかったか、読み込みに失敗しました。\")"
   ]
  },
  {
   "cell_type": "markdown",
   "id": "cb0fbdc6",
   "metadata": {},
   "source": [
    "# testのラベルマージ"
   ]
  },
  {
   "cell_type": "code",
   "execution_count": 4,
   "id": "e9471df4",
   "metadata": {},
   "outputs": [
    {
     "name": "stdout",
     "output_type": "stream",
     "text": [
      "Found 8 CSV files.\n",
      "Merged CSV shape: (11296, 5)\n",
      "Merged CSV saved as /mnt/nfs1/home/yamamoto-hiroto/research/vertebrae_saka/Sakaguchi_file/slice_test/axial/test_labels_axial.csv\n"
     ]
    }
   ],
   "source": [
    "# 読み込み対象のベースディレクトリ\n",
    "read_dir = \"slice_test/axial/\"\n",
    "\n",
    "# 出力先のディレクトリ（自分が指定したいディレクトリに変更してください）\n",
    "output_dir = \"/mnt/nfs1/home/yamamoto-hiroto/research/vertebrae_saka/Sakaguchi_file/slice_test/axial\"  # 例： \"output\" や \"/home/username/output\" 等\n",
    "\n",
    "# 出力ファイル名\n",
    "output_filename = \"test_labels_axial.csv\"\n",
    "# -----------------\n",
    "\n",
    "# 出力先ディレクトリが存在しない場合は作成する\n",
    "os.makedirs(output_dir, exist_ok=True)\n",
    "# 出力先のフルパスを作成\n",
    "output_file_path = os.path.join(output_dir, output_filename)\n",
    "\n",
    "# 読み込み対象となるCSVファイルを、再帰的に全て取得\n",
    "csv_files = glob.glob(os.path.join(read_dir, '**', '*.csv'), recursive=True)\n",
    "print(f\"Found {len(csv_files)} CSV files.\")\n",
    "\n",
    "# 各CSVファイルを読み込み、リストに格納\n",
    "df_list = []\n",
    "for file in csv_files:\n",
    "    try:\n",
    "        temp_df = pd.read_csv(file)\n",
    "        df_list.append(temp_df)\n",
    "    except Exception as e:\n",
    "        print(f\"Error reading {file}: {e}\")\n",
    "\n",
    "# 全ての DataFrame を縦方向に結合し、統合結果を作成\n",
    "if df_list:\n",
    "    merged_df = pd.concat(df_list, ignore_index=True)\n",
    "    print(\"Merged CSV shape:\", merged_df.shape)\n",
    "    \n",
    "    # 統合結果を指定したディレクトリにCSVファイルとして保存\n",
    "    merged_df.to_csv(output_file_path, index=False)\n",
    "    print(f\"Merged CSV saved as {output_file_path}\")\n",
    "else:\n",
    "    print(\"CSVファイルが見つからなかったか、読み込みに失敗しました。\")"
   ]
  }
 ],
 "metadata": {
  "kernelspec": {
   "display_name": "vertebrae",
   "language": "python",
   "name": "python3"
  },
  "language_info": {
   "codemirror_mode": {
    "name": "ipython",
    "version": 3
   },
   "file_extension": ".py",
   "mimetype": "text/x-python",
   "name": "python",
   "nbconvert_exporter": "python",
   "pygments_lexer": "ipython3",
   "version": "3.12.8"
  }
 },
 "nbformat": 4,
 "nbformat_minor": 5
}

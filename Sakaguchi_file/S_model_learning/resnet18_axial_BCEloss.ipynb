{
 "cells": [
  {
   "cell_type": "code",
   "execution_count": 12,
   "id": "1c28bab3",
   "metadata": {},
   "outputs": [],
   "source": [
    "import os, copy, itertools, random, numpy as np, pandas as pd\n",
    "import torch, torch.nn as nn, torch.optim as optim\n",
    "import torch.nn.functional as F\n",
    "from torch.utils.data import Dataset, DataLoader, WeightedRandomSampler\n",
    "from torchvision import models, transforms\n",
    "import nibabel as nib\n",
    "from PIL import Image\n",
    "from tqdm import tqdm\n",
    "from sklearn.metrics import precision_recall_curve, auc\n",
    "import wandb"
   ]
  },
  {
   "cell_type": "code",
   "execution_count": 13,
   "id": "028ab9dd",
   "metadata": {},
   "outputs": [],
   "source": [
    "# global config  (★要環境合わせ)\n",
    "# ————————————————————————————————————————\n",
    "WANDB_PROJECT_NAME = \"vertebrae_axial_bceloss_3\"\n",
    "TRAIN_CSV_PATH     = \"/mnt/nfs1/home/yamamoto-hiroto/research/vertebrae/Sakaguchi_file/slice_train/axial/train_labels_axial.csv\"\n",
    "VAL_CSV_PATH       = \"/mnt/nfs1/home/yamamoto-hiroto/research/vertebrae/Sakaguchi_file/slice_val/axial/val_labels_axial.csv\"\n",
    "MODEL_SAVE_DIR     = \"/mnt/nfs1/home/yamamoto-hiroto/research/vertebrae/Sakaguchi_file/S_model_learning/model_pth\"\n",
    "SEED               = 42\n",
    "\n",
    "DEVICE = torch.device(\"cuda\" if torch.cuda.is_available() else \"cpu\")\n",
    "os.environ[\"CUDA_VISIBLE_DEVICES\"] = \"1\""
   ]
  },
  {
   "cell_type": "code",
   "execution_count": 14,
   "id": "26643f8b",
   "metadata": {},
   "outputs": [
    {
     "name": "stdout",
     "output_type": "stream",
     "text": [
      "⏩ Grid Search: 6 combinations\n",
      "\n",
      "—— Trial 1/6 : e25_lr0.0001_wd0.0005_do0.2_#1 ——\n"
     ]
    },
    {
     "data": {
      "text/html": [
       "Tracking run with wandb version 0.19.9"
      ],
      "text/plain": [
       "<IPython.core.display.HTML object>"
      ]
     },
     "metadata": {},
     "output_type": "display_data"
    },
    {
     "data": {
      "text/html": [
       "Run data is saved locally in <code>/mnt/nfs1/home/yamamoto-hiroto/research/vertebrae/Sakaguchi_file/S_model_learning/wandb/run-20250512_171542-g1b2y7rx</code>"
      ],
      "text/plain": [
       "<IPython.core.display.HTML object>"
      ]
     },
     "metadata": {},
     "output_type": "display_data"
    },
    {
     "data": {
      "text/html": [
       "Syncing run <strong><a href='https://wandb.ai/yuya00-university-of-hyogo/vertebrae_axial_bceloss_3/runs/g1b2y7rx' target=\"_blank\">e25_lr0.0001_wd0.0005_do0.2_#1</a></strong> to <a href='https://wandb.ai/yuya00-university-of-hyogo/vertebrae_axial_bceloss_3' target=\"_blank\">Weights & Biases</a> (<a href='https://wandb.me/developer-guide' target=\"_blank\">docs</a>)<br>"
      ],
      "text/plain": [
       "<IPython.core.display.HTML object>"
      ]
     },
     "metadata": {},
     "output_type": "display_data"
    },
    {
     "data": {
      "text/html": [
       " View project at <a href='https://wandb.ai/yuya00-university-of-hyogo/vertebrae_axial_bceloss_3' target=\"_blank\">https://wandb.ai/yuya00-university-of-hyogo/vertebrae_axial_bceloss_3</a>"
      ],
      "text/plain": [
       "<IPython.core.display.HTML object>"
      ]
     },
     "metadata": {},
     "output_type": "display_data"
    },
    {
     "data": {
      "text/html": [
       " View run at <a href='https://wandb.ai/yuya00-university-of-hyogo/vertebrae_axial_bceloss_3/runs/g1b2y7rx' target=\"_blank\">https://wandb.ai/yuya00-university-of-hyogo/vertebrae_axial_bceloss_3/runs/g1b2y7rx</a>"
      ],
      "text/plain": [
       "<IPython.core.display.HTML object>"
      ]
     },
     "metadata": {},
     "output_type": "display_data"
    },
    {
     "name": "stderr",
     "output_type": "stream",
     "text": [
      "/mnt/nfs1/home/yamamoto-hiroto/research/vertebrae/.venv/lib/python3.12/site-packages/torch/optim/lr_scheduler.py:60: UserWarning: The verbose parameter is deprecated. Please use get_last_lr() to access the learning rate.\n",
      "  warnings.warn(\n",
      "                                                                             \r"
     ]
    },
    {
     "name": "stdout",
     "output_type": "stream",
     "text": [
      "  ↳ new best PRAUC 0.3094  (model saved)\n"
     ]
    },
    {
     "name": "stderr",
     "output_type": "stream",
     "text": [
      "                                                                              \r"
     ]
    },
    {
     "name": "stdout",
     "output_type": "stream",
     "text": [
      "  ↳ new best PRAUC 0.3270  (model saved)\n"
     ]
    },
    {
     "name": "stderr",
     "output_type": "stream",
     "text": [
      "                                                                              \r"
     ]
    },
    {
     "name": "stdout",
     "output_type": "stream",
     "text": [
      "  ↳ new best PRAUC 0.3757  (model saved)\n"
     ]
    },
    {
     "name": "stderr",
     "output_type": "stream",
     "text": [
      "\u001b[34m\u001b[1mwandb\u001b[0m: \u001b[32m\u001b[41mERROR\u001b[0m The nbformat package was not found. It is required to save notebook history.\n"
     ]
    },
    {
     "name": "stdout",
     "output_type": "stream",
     "text": [
      "Early-stop: no PRAUC gain for 5 epochs\n",
      "🎉 new overall best PRAUC 0.3757\n"
     ]
    },
    {
     "data": {
      "text/html": [],
      "text/plain": [
       "<IPython.core.display.HTML object>"
      ]
     },
     "metadata": {},
     "output_type": "display_data"
    },
    {
     "data": {
      "text/html": [
       "<br>    <style><br>        .wandb-row {<br>            display: flex;<br>            flex-direction: row;<br>            flex-wrap: wrap;<br>            justify-content: flex-start;<br>            width: 100%;<br>        }<br>        .wandb-col {<br>            display: flex;<br>            flex-direction: column;<br>            flex-basis: 100%;<br>            flex: 1;<br>            padding: 10px;<br>        }<br>    </style><br><div class=\"wandb-row\"><div class=\"wandb-col\"><h3>Run history:</h3><br/><table class=\"wandb\"><tr><td>epoch</td><td>▁▂▃▃▄▅▆▆▇█</td></tr><tr><td>lr</td><td>▁▁▁▁▁▁▁▁▁▁</td></tr><tr><td>train_loss</td><td>█▃▂▂▁▁▂▁▁▁</td></tr><tr><td>val_loss</td><td>▁▁▃▂▂▃█▃█▂</td></tr><tr><td>val_prauc</td><td>▅▄▆▄█▆▃▁▃▅</td></tr></table><br/></div><div class=\"wandb-col\"><h3>Run summary:</h3><br/><table class=\"wandb\"><tr><td>best_epoch</td><td>5</td></tr><tr><td>best_prauc</td><td>0.37571</td></tr><tr><td>epoch</td><td>10</td></tr><tr><td>lr</td><td>0.0001</td></tr><tr><td>train_loss</td><td>0.01107</td></tr><tr><td>val_loss</td><td>0.34002</td></tr><tr><td>val_prauc</td><td>0.30173</td></tr></table><br/></div></div>"
      ],
      "text/plain": [
       "<IPython.core.display.HTML object>"
      ]
     },
     "metadata": {},
     "output_type": "display_data"
    },
    {
     "data": {
      "text/html": [
       " View run <strong style=\"color:#cdcd00\">e25_lr0.0001_wd0.0005_do0.2_#1</strong> at: <a href='https://wandb.ai/yuya00-university-of-hyogo/vertebrae_axial_bceloss_3/runs/g1b2y7rx' target=\"_blank\">https://wandb.ai/yuya00-university-of-hyogo/vertebrae_axial_bceloss_3/runs/g1b2y7rx</a><br> View project at: <a href='https://wandb.ai/yuya00-university-of-hyogo/vertebrae_axial_bceloss_3' target=\"_blank\">https://wandb.ai/yuya00-university-of-hyogo/vertebrae_axial_bceloss_3</a><br>Synced 5 W&B file(s), 0 media file(s), 0 artifact file(s) and 0 other file(s)"
      ],
      "text/plain": [
       "<IPython.core.display.HTML object>"
      ]
     },
     "metadata": {},
     "output_type": "display_data"
    },
    {
     "data": {
      "text/html": [
       "Find logs at: <code>./wandb/run-20250512_171542-g1b2y7rx/logs</code>"
      ],
      "text/plain": [
       "<IPython.core.display.HTML object>"
      ]
     },
     "metadata": {},
     "output_type": "display_data"
    },
    {
     "name": "stdout",
     "output_type": "stream",
     "text": [
      "\n",
      "—— Trial 2/6 : e25_lr0.0001_wd0.005_do0.2_#2 ——\n"
     ]
    },
    {
     "data": {
      "text/html": [
       "Tracking run with wandb version 0.19.9"
      ],
      "text/plain": [
       "<IPython.core.display.HTML object>"
      ]
     },
     "metadata": {},
     "output_type": "display_data"
    },
    {
     "data": {
      "text/html": [
       "Run data is saved locally in <code>/mnt/nfs1/home/yamamoto-hiroto/research/vertebrae/Sakaguchi_file/S_model_learning/wandb/run-20250512_172109-3ry3kpb8</code>"
      ],
      "text/plain": [
       "<IPython.core.display.HTML object>"
      ]
     },
     "metadata": {},
     "output_type": "display_data"
    },
    {
     "data": {
      "text/html": [
       "Syncing run <strong><a href='https://wandb.ai/yuya00-university-of-hyogo/vertebrae_axial_bceloss_3/runs/3ry3kpb8' target=\"_blank\">e25_lr0.0001_wd0.005_do0.2_#2</a></strong> to <a href='https://wandb.ai/yuya00-university-of-hyogo/vertebrae_axial_bceloss_3' target=\"_blank\">Weights & Biases</a> (<a href='https://wandb.me/developer-guide' target=\"_blank\">docs</a>)<br>"
      ],
      "text/plain": [
       "<IPython.core.display.HTML object>"
      ]
     },
     "metadata": {},
     "output_type": "display_data"
    },
    {
     "data": {
      "text/html": [
       " View project at <a href='https://wandb.ai/yuya00-university-of-hyogo/vertebrae_axial_bceloss_3' target=\"_blank\">https://wandb.ai/yuya00-university-of-hyogo/vertebrae_axial_bceloss_3</a>"
      ],
      "text/plain": [
       "<IPython.core.display.HTML object>"
      ]
     },
     "metadata": {},
     "output_type": "display_data"
    },
    {
     "data": {
      "text/html": [
       " View run at <a href='https://wandb.ai/yuya00-university-of-hyogo/vertebrae_axial_bceloss_3/runs/3ry3kpb8' target=\"_blank\">https://wandb.ai/yuya00-university-of-hyogo/vertebrae_axial_bceloss_3/runs/3ry3kpb8</a>"
      ],
      "text/plain": [
       "<IPython.core.display.HTML object>"
      ]
     },
     "metadata": {},
     "output_type": "display_data"
    },
    {
     "name": "stderr",
     "output_type": "stream",
     "text": [
      "/mnt/nfs1/home/yamamoto-hiroto/research/vertebrae/.venv/lib/python3.12/site-packages/torch/optim/lr_scheduler.py:60: UserWarning: The verbose parameter is deprecated. Please use get_last_lr() to access the learning rate.\n",
      "  warnings.warn(\n",
      "                                                                              \r"
     ]
    },
    {
     "name": "stdout",
     "output_type": "stream",
     "text": [
      "  ↳ new best PRAUC 0.3527  (model saved)\n"
     ]
    },
    {
     "name": "stderr",
     "output_type": "stream",
     "text": [
      "\u001b[34m\u001b[1mwandb\u001b[0m: \u001b[32m\u001b[41mERROR\u001b[0m The nbformat package was not found. It is required to save notebook history.\n"
     ]
    },
    {
     "name": "stdout",
     "output_type": "stream",
     "text": [
      "Early-stop: no PRAUC gain for 5 epochs\n"
     ]
    },
    {
     "data": {
      "text/html": [],
      "text/plain": [
       "<IPython.core.display.HTML object>"
      ]
     },
     "metadata": {},
     "output_type": "display_data"
    },
    {
     "data": {
      "text/html": [
       "<br>    <style><br>        .wandb-row {<br>            display: flex;<br>            flex-direction: row;<br>            flex-wrap: wrap;<br>            justify-content: flex-start;<br>            width: 100%;<br>        }<br>        .wandb-col {<br>            display: flex;<br>            flex-direction: column;<br>            flex-basis: 100%;<br>            flex: 1;<br>            padding: 10px;<br>        }<br>    </style><br><div class=\"wandb-row\"><div class=\"wandb-col\"><h3>Run history:</h3><br/><table class=\"wandb\"><tr><td>epoch</td><td>▁▂▄▅▇█</td></tr><tr><td>lr</td><td>▁▁▁▁▁▁</td></tr><tr><td>train_loss</td><td>█▃▂▂▂▁</td></tr><tr><td>val_loss</td><td>▁▂▃▁▂█</td></tr><tr><td>val_prauc</td><td>█▇▁▁▁▂</td></tr></table><br/></div><div class=\"wandb-col\"><h3>Run summary:</h3><br/><table class=\"wandb\"><tr><td>best_epoch</td><td>1</td></tr><tr><td>best_prauc</td><td>0.35269</td></tr><tr><td>epoch</td><td>6</td></tr><tr><td>lr</td><td>0.0001</td></tr><tr><td>train_loss</td><td>0.02496</td></tr><tr><td>val_loss</td><td>0.60789</td></tr><tr><td>val_prauc</td><td>0.18106</td></tr></table><br/></div></div>"
      ],
      "text/plain": [
       "<IPython.core.display.HTML object>"
      ]
     },
     "metadata": {},
     "output_type": "display_data"
    },
    {
     "data": {
      "text/html": [
       " View run <strong style=\"color:#cdcd00\">e25_lr0.0001_wd0.005_do0.2_#2</strong> at: <a href='https://wandb.ai/yuya00-university-of-hyogo/vertebrae_axial_bceloss_3/runs/3ry3kpb8' target=\"_blank\">https://wandb.ai/yuya00-university-of-hyogo/vertebrae_axial_bceloss_3/runs/3ry3kpb8</a><br> View project at: <a href='https://wandb.ai/yuya00-university-of-hyogo/vertebrae_axial_bceloss_3' target=\"_blank\">https://wandb.ai/yuya00-university-of-hyogo/vertebrae_axial_bceloss_3</a><br>Synced 5 W&B file(s), 0 media file(s), 0 artifact file(s) and 0 other file(s)"
      ],
      "text/plain": [
       "<IPython.core.display.HTML object>"
      ]
     },
     "metadata": {},
     "output_type": "display_data"
    },
    {
     "data": {
      "text/html": [
       "Find logs at: <code>./wandb/run-20250512_172109-3ry3kpb8/logs</code>"
      ],
      "text/plain": [
       "<IPython.core.display.HTML object>"
      ]
     },
     "metadata": {},
     "output_type": "display_data"
    },
    {
     "name": "stdout",
     "output_type": "stream",
     "text": [
      "\n",
      "—— Trial 3/6 : e25_lr1e-05_wd0.0005_do0.2_#3 ——\n"
     ]
    },
    {
     "data": {
      "text/html": [
       "Tracking run with wandb version 0.19.9"
      ],
      "text/plain": [
       "<IPython.core.display.HTML object>"
      ]
     },
     "metadata": {},
     "output_type": "display_data"
    },
    {
     "data": {
      "text/html": [
       "Run data is saved locally in <code>/mnt/nfs1/home/yamamoto-hiroto/research/vertebrae/Sakaguchi_file/S_model_learning/wandb/run-20250512_172426-7jhkdx3r</code>"
      ],
      "text/plain": [
       "<IPython.core.display.HTML object>"
      ]
     },
     "metadata": {},
     "output_type": "display_data"
    },
    {
     "data": {
      "text/html": [
       "Syncing run <strong><a href='https://wandb.ai/yuya00-university-of-hyogo/vertebrae_axial_bceloss_3/runs/7jhkdx3r' target=\"_blank\">e25_lr1e-05_wd0.0005_do0.2_#3</a></strong> to <a href='https://wandb.ai/yuya00-university-of-hyogo/vertebrae_axial_bceloss_3' target=\"_blank\">Weights & Biases</a> (<a href='https://wandb.me/developer-guide' target=\"_blank\">docs</a>)<br>"
      ],
      "text/plain": [
       "<IPython.core.display.HTML object>"
      ]
     },
     "metadata": {},
     "output_type": "display_data"
    },
    {
     "data": {
      "text/html": [
       " View project at <a href='https://wandb.ai/yuya00-university-of-hyogo/vertebrae_axial_bceloss_3' target=\"_blank\">https://wandb.ai/yuya00-university-of-hyogo/vertebrae_axial_bceloss_3</a>"
      ],
      "text/plain": [
       "<IPython.core.display.HTML object>"
      ]
     },
     "metadata": {},
     "output_type": "display_data"
    },
    {
     "data": {
      "text/html": [
       " View run at <a href='https://wandb.ai/yuya00-university-of-hyogo/vertebrae_axial_bceloss_3/runs/7jhkdx3r' target=\"_blank\">https://wandb.ai/yuya00-university-of-hyogo/vertebrae_axial_bceloss_3/runs/7jhkdx3r</a>"
      ],
      "text/plain": [
       "<IPython.core.display.HTML object>"
      ]
     },
     "metadata": {},
     "output_type": "display_data"
    },
    {
     "name": "stderr",
     "output_type": "stream",
     "text": [
      "/mnt/nfs1/home/yamamoto-hiroto/research/vertebrae/.venv/lib/python3.12/site-packages/torch/optim/lr_scheduler.py:60: UserWarning: The verbose parameter is deprecated. Please use get_last_lr() to access the learning rate.\n",
      "  warnings.warn(\n",
      "                                                                             \r"
     ]
    },
    {
     "name": "stdout",
     "output_type": "stream",
     "text": [
      "  ↳ new best PRAUC 0.2555  (model saved)\n"
     ]
    },
    {
     "name": "stderr",
     "output_type": "stream",
     "text": [
      "                                                                              \r"
     ]
    },
    {
     "name": "stdout",
     "output_type": "stream",
     "text": [
      "  ↳ new best PRAUC 0.2676  (model saved)\n"
     ]
    },
    {
     "name": "stderr",
     "output_type": "stream",
     "text": [
      "                                                                              \r"
     ]
    },
    {
     "name": "stdout",
     "output_type": "stream",
     "text": [
      "  ↳ new best PRAUC 0.2818  (model saved)\n"
     ]
    },
    {
     "name": "stderr",
     "output_type": "stream",
     "text": [
      "                                                                              \r"
     ]
    },
    {
     "name": "stdout",
     "output_type": "stream",
     "text": [
      "  ↳ new best PRAUC 0.2895  (model saved)\n"
     ]
    },
    {
     "name": "stderr",
     "output_type": "stream",
     "text": [
      "                                                                              \r"
     ]
    },
    {
     "name": "stdout",
     "output_type": "stream",
     "text": [
      "  ↳ new best PRAUC 0.3144  (model saved)\n"
     ]
    },
    {
     "name": "stderr",
     "output_type": "stream",
     "text": [
      "                                                                               \r"
     ]
    },
    {
     "name": "stdout",
     "output_type": "stream",
     "text": [
      "  ↳ new best PRAUC 0.3554  (model saved)\n"
     ]
    },
    {
     "name": "stderr",
     "output_type": "stream",
     "text": [
      "                                                                               \r"
     ]
    },
    {
     "name": "stdout",
     "output_type": "stream",
     "text": [
      "  ↳ new best PRAUC 0.3581  (model saved)\n"
     ]
    },
    {
     "name": "stderr",
     "output_type": "stream",
     "text": [
      "\u001b[34m\u001b[1mwandb\u001b[0m: \u001b[32m\u001b[41mERROR\u001b[0m The nbformat package was not found. It is required to save notebook history.\n"
     ]
    },
    {
     "name": "stdout",
     "output_type": "stream",
     "text": [
      "Early-stop: no PRAUC gain for 5 epochs\n"
     ]
    },
    {
     "data": {
      "text/html": [],
      "text/plain": [
       "<IPython.core.display.HTML object>"
      ]
     },
     "metadata": {},
     "output_type": "display_data"
    },
    {
     "data": {
      "text/html": [
       "<br>    <style><br>        .wandb-row {<br>            display: flex;<br>            flex-direction: row;<br>            flex-wrap: wrap;<br>            justify-content: flex-start;<br>            width: 100%;<br>        }<br>        .wandb-col {<br>            display: flex;<br>            flex-direction: column;<br>            flex-basis: 100%;<br>            flex: 1;<br>            padding: 10px;<br>        }<br>    </style><br><div class=\"wandb-row\"><div class=\"wandb-col\"><h3>Run history:</h3><br/><table class=\"wandb\"><tr><td>epoch</td><td>▁▁▂▂▃▃▄▄▅▅▆▆▇▇██</td></tr><tr><td>lr</td><td>▁▁▁▁▁▁▁▁▁▁▁▁▁▁▁▁</td></tr><tr><td>train_loss</td><td>█▃▂▂▂▁▁▁▁▁▁▁▁▁▁▁</td></tr><tr><td>val_loss</td><td>▁▄▃▄▃▄▄▄▅▃▅▅█▇▇▆</td></tr><tr><td>val_prauc</td><td>▃▁▄▅▄▅▄▆▄██▆▄▅▃▆</td></tr></table><br/></div><div class=\"wandb-col\"><h3>Run summary:</h3><br/><table class=\"wandb\"><tr><td>best_epoch</td><td>11</td></tr><tr><td>best_prauc</td><td>0.35808</td></tr><tr><td>epoch</td><td>16</td></tr><tr><td>lr</td><td>1e-05</td></tr><tr><td>train_loss</td><td>0.00325</td></tr><tr><td>val_loss</td><td>0.41534</td></tr><tr><td>val_prauc</td><td>0.3075</td></tr></table><br/></div></div>"
      ],
      "text/plain": [
       "<IPython.core.display.HTML object>"
      ]
     },
     "metadata": {},
     "output_type": "display_data"
    },
    {
     "data": {
      "text/html": [
       " View run <strong style=\"color:#cdcd00\">e25_lr1e-05_wd0.0005_do0.2_#3</strong> at: <a href='https://wandb.ai/yuya00-university-of-hyogo/vertebrae_axial_bceloss_3/runs/7jhkdx3r' target=\"_blank\">https://wandb.ai/yuya00-university-of-hyogo/vertebrae_axial_bceloss_3/runs/7jhkdx3r</a><br> View project at: <a href='https://wandb.ai/yuya00-university-of-hyogo/vertebrae_axial_bceloss_3' target=\"_blank\">https://wandb.ai/yuya00-university-of-hyogo/vertebrae_axial_bceloss_3</a><br>Synced 5 W&B file(s), 0 media file(s), 0 artifact file(s) and 0 other file(s)"
      ],
      "text/plain": [
       "<IPython.core.display.HTML object>"
      ]
     },
     "metadata": {},
     "output_type": "display_data"
    },
    {
     "data": {
      "text/html": [
       "Find logs at: <code>./wandb/run-20250512_172426-7jhkdx3r/logs</code>"
      ],
      "text/plain": [
       "<IPython.core.display.HTML object>"
      ]
     },
     "metadata": {},
     "output_type": "display_data"
    },
    {
     "name": "stdout",
     "output_type": "stream",
     "text": [
      "\n",
      "—— Trial 4/6 : e25_lr1e-05_wd0.005_do0.2_#4 ——\n"
     ]
    },
    {
     "data": {
      "text/html": [
       "Tracking run with wandb version 0.19.9"
      ],
      "text/plain": [
       "<IPython.core.display.HTML object>"
      ]
     },
     "metadata": {},
     "output_type": "display_data"
    },
    {
     "data": {
      "text/html": [
       "Run data is saved locally in <code>/mnt/nfs1/home/yamamoto-hiroto/research/vertebrae/Sakaguchi_file/S_model_learning/wandb/run-20250512_173306-2s9et0i0</code>"
      ],
      "text/plain": [
       "<IPython.core.display.HTML object>"
      ]
     },
     "metadata": {},
     "output_type": "display_data"
    },
    {
     "data": {
      "text/html": [
       "Syncing run <strong><a href='https://wandb.ai/yuya00-university-of-hyogo/vertebrae_axial_bceloss_3/runs/2s9et0i0' target=\"_blank\">e25_lr1e-05_wd0.005_do0.2_#4</a></strong> to <a href='https://wandb.ai/yuya00-university-of-hyogo/vertebrae_axial_bceloss_3' target=\"_blank\">Weights & Biases</a> (<a href='https://wandb.me/developer-guide' target=\"_blank\">docs</a>)<br>"
      ],
      "text/plain": [
       "<IPython.core.display.HTML object>"
      ]
     },
     "metadata": {},
     "output_type": "display_data"
    },
    {
     "data": {
      "text/html": [
       " View project at <a href='https://wandb.ai/yuya00-university-of-hyogo/vertebrae_axial_bceloss_3' target=\"_blank\">https://wandb.ai/yuya00-university-of-hyogo/vertebrae_axial_bceloss_3</a>"
      ],
      "text/plain": [
       "<IPython.core.display.HTML object>"
      ]
     },
     "metadata": {},
     "output_type": "display_data"
    },
    {
     "data": {
      "text/html": [
       " View run at <a href='https://wandb.ai/yuya00-university-of-hyogo/vertebrae_axial_bceloss_3/runs/2s9et0i0' target=\"_blank\">https://wandb.ai/yuya00-university-of-hyogo/vertebrae_axial_bceloss_3/runs/2s9et0i0</a>"
      ],
      "text/plain": [
       "<IPython.core.display.HTML object>"
      ]
     },
     "metadata": {},
     "output_type": "display_data"
    },
    {
     "name": "stderr",
     "output_type": "stream",
     "text": [
      "/mnt/nfs1/home/yamamoto-hiroto/research/vertebrae/.venv/lib/python3.12/site-packages/torch/optim/lr_scheduler.py:60: UserWarning: The verbose parameter is deprecated. Please use get_last_lr() to access the learning rate.\n",
      "  warnings.warn(\n",
      "                                                                             \r"
     ]
    },
    {
     "name": "stdout",
     "output_type": "stream",
     "text": [
      "  ↳ new best PRAUC 0.3102  (model saved)\n"
     ]
    },
    {
     "name": "stderr",
     "output_type": "stream",
     "text": [
      "                                                                              \r"
     ]
    },
    {
     "name": "stdout",
     "output_type": "stream",
     "text": [
      "  ↳ new best PRAUC 0.3220  (model saved)\n"
     ]
    },
    {
     "name": "stderr",
     "output_type": "stream",
     "text": [
      "                                                                              \r"
     ]
    },
    {
     "name": "stdout",
     "output_type": "stream",
     "text": [
      "  ↳ new best PRAUC 0.3391  (model saved)\n"
     ]
    },
    {
     "name": "stderr",
     "output_type": "stream",
     "text": [
      "                                                                               \r"
     ]
    },
    {
     "name": "stdout",
     "output_type": "stream",
     "text": [
      "  ↳ new best PRAUC 0.3598  (model saved)\n"
     ]
    },
    {
     "name": "stderr",
     "output_type": "stream",
     "text": [
      "                                                                               \r"
     ]
    },
    {
     "name": "stdout",
     "output_type": "stream",
     "text": [
      "  ↳ new best PRAUC 0.3899  (model saved)\n"
     ]
    },
    {
     "name": "stderr",
     "output_type": "stream",
     "text": [
      "                                                                               \r"
     ]
    },
    {
     "name": "stdout",
     "output_type": "stream",
     "text": [
      "  ↳ new best PRAUC 0.3999  (model saved)\n"
     ]
    },
    {
     "name": "stderr",
     "output_type": "stream",
     "text": [
      "                                                                               \r"
     ]
    },
    {
     "name": "stdout",
     "output_type": "stream",
     "text": [
      "  ↳ new best PRAUC 0.4040  (model saved)\n"
     ]
    },
    {
     "name": "stderr",
     "output_type": "stream",
     "text": [
      "\u001b[34m\u001b[1mwandb\u001b[0m: \u001b[32m\u001b[41mERROR\u001b[0m The nbformat package was not found. It is required to save notebook history.\n"
     ]
    },
    {
     "name": "stdout",
     "output_type": "stream",
     "text": [
      "Early-stop: no PRAUC gain for 5 epochs\n",
      "🎉 new overall best PRAUC 0.4040\n"
     ]
    },
    {
     "data": {
      "text/html": [],
      "text/plain": [
       "<IPython.core.display.HTML object>"
      ]
     },
     "metadata": {},
     "output_type": "display_data"
    },
    {
     "data": {
      "text/html": [
       "<br>    <style><br>        .wandb-row {<br>            display: flex;<br>            flex-direction: row;<br>            flex-wrap: wrap;<br>            justify-content: flex-start;<br>            width: 100%;<br>        }<br>        .wandb-col {<br>            display: flex;<br>            flex-direction: column;<br>            flex-basis: 100%;<br>            flex: 1;<br>            padding: 10px;<br>        }<br>    </style><br><div class=\"wandb-row\"><div class=\"wandb-col\"><h3>Run history:</h3><br/><table class=\"wandb\"><tr><td>epoch</td><td>▁▁▂▂▂▃▃▄▄▄▅▅▅▆▆▇▇▇██</td></tr><tr><td>lr</td><td>▁▁▁▁▁▁▁▁▁▁▁▁▁▁▁▁▁▁▁▁</td></tr><tr><td>train_loss</td><td>█▃▂▂▁▁▁▁▁▁▁▁▁▁▁▁▁▁▁▁</td></tr><tr><td>val_loss</td><td>▁▂▃▃▄▃▅▆▅▅▄▇▄▄▃▃▅▄▅█</td></tr><tr><td>val_prauc</td><td>▄▂▃▄▄▄▅▂▃▂▆▁▇██▆▁▆▃▂</td></tr></table><br/></div><div class=\"wandb-col\"><h3>Run summary:</h3><br/><table class=\"wandb\"><tr><td>best_epoch</td><td>15</td></tr><tr><td>best_prauc</td><td>0.40402</td></tr><tr><td>epoch</td><td>20</td></tr><tr><td>lr</td><td>1e-05</td></tr><tr><td>train_loss</td><td>0.00577</td></tr><tr><td>val_loss</td><td>0.48259</td></tr><tr><td>val_prauc</td><td>0.2835</td></tr></table><br/></div></div>"
      ],
      "text/plain": [
       "<IPython.core.display.HTML object>"
      ]
     },
     "metadata": {},
     "output_type": "display_data"
    },
    {
     "data": {
      "text/html": [
       " View run <strong style=\"color:#cdcd00\">e25_lr1e-05_wd0.005_do0.2_#4</strong> at: <a href='https://wandb.ai/yuya00-university-of-hyogo/vertebrae_axial_bceloss_3/runs/2s9et0i0' target=\"_blank\">https://wandb.ai/yuya00-university-of-hyogo/vertebrae_axial_bceloss_3/runs/2s9et0i0</a><br> View project at: <a href='https://wandb.ai/yuya00-university-of-hyogo/vertebrae_axial_bceloss_3' target=\"_blank\">https://wandb.ai/yuya00-university-of-hyogo/vertebrae_axial_bceloss_3</a><br>Synced 5 W&B file(s), 0 media file(s), 0 artifact file(s) and 0 other file(s)"
      ],
      "text/plain": [
       "<IPython.core.display.HTML object>"
      ]
     },
     "metadata": {},
     "output_type": "display_data"
    },
    {
     "data": {
      "text/html": [
       "Find logs at: <code>./wandb/run-20250512_173306-2s9et0i0/logs</code>"
      ],
      "text/plain": [
       "<IPython.core.display.HTML object>"
      ]
     },
     "metadata": {},
     "output_type": "display_data"
    },
    {
     "name": "stdout",
     "output_type": "stream",
     "text": [
      "\n",
      "—— Trial 5/6 : e25_lr1e-06_wd0.0005_do0.2_#5 ——\n"
     ]
    },
    {
     "data": {
      "text/html": [
       "Tracking run with wandb version 0.19.9"
      ],
      "text/plain": [
       "<IPython.core.display.HTML object>"
      ]
     },
     "metadata": {},
     "output_type": "display_data"
    },
    {
     "data": {
      "text/html": [
       "Run data is saved locally in <code>/mnt/nfs1/home/yamamoto-hiroto/research/vertebrae/Sakaguchi_file/S_model_learning/wandb/run-20250512_174357-38v43ubz</code>"
      ],
      "text/plain": [
       "<IPython.core.display.HTML object>"
      ]
     },
     "metadata": {},
     "output_type": "display_data"
    },
    {
     "data": {
      "text/html": [
       "Syncing run <strong><a href='https://wandb.ai/yuya00-university-of-hyogo/vertebrae_axial_bceloss_3/runs/38v43ubz' target=\"_blank\">e25_lr1e-06_wd0.0005_do0.2_#5</a></strong> to <a href='https://wandb.ai/yuya00-university-of-hyogo/vertebrae_axial_bceloss_3' target=\"_blank\">Weights & Biases</a> (<a href='https://wandb.me/developer-guide' target=\"_blank\">docs</a>)<br>"
      ],
      "text/plain": [
       "<IPython.core.display.HTML object>"
      ]
     },
     "metadata": {},
     "output_type": "display_data"
    },
    {
     "data": {
      "text/html": [
       " View project at <a href='https://wandb.ai/yuya00-university-of-hyogo/vertebrae_axial_bceloss_3' target=\"_blank\">https://wandb.ai/yuya00-university-of-hyogo/vertebrae_axial_bceloss_3</a>"
      ],
      "text/plain": [
       "<IPython.core.display.HTML object>"
      ]
     },
     "metadata": {},
     "output_type": "display_data"
    },
    {
     "data": {
      "text/html": [
       " View run at <a href='https://wandb.ai/yuya00-university-of-hyogo/vertebrae_axial_bceloss_3/runs/38v43ubz' target=\"_blank\">https://wandb.ai/yuya00-university-of-hyogo/vertebrae_axial_bceloss_3/runs/38v43ubz</a>"
      ],
      "text/plain": [
       "<IPython.core.display.HTML object>"
      ]
     },
     "metadata": {},
     "output_type": "display_data"
    },
    {
     "name": "stderr",
     "output_type": "stream",
     "text": [
      "/mnt/nfs1/home/yamamoto-hiroto/research/vertebrae/.venv/lib/python3.12/site-packages/torch/optim/lr_scheduler.py:60: UserWarning: The verbose parameter is deprecated. Please use get_last_lr() to access the learning rate.\n",
      "  warnings.warn(\n",
      "                                                                           \r"
     ]
    },
    {
     "name": "stdout",
     "output_type": "stream",
     "text": [
      "  ↳ new best PRAUC 0.2816  (model saved)\n"
     ]
    },
    {
     "name": "stderr",
     "output_type": "stream",
     "text": [
      "                                                                            \r"
     ]
    },
    {
     "name": "stdout",
     "output_type": "stream",
     "text": [
      "  ↳ new best PRAUC 0.2988  (model saved)\n"
     ]
    },
    {
     "name": "stderr",
     "output_type": "stream",
     "text": [
      "                                                                            \r"
     ]
    },
    {
     "name": "stdout",
     "output_type": "stream",
     "text": [
      "  ↳ new best PRAUC 0.3040  (model saved)\n"
     ]
    },
    {
     "name": "stderr",
     "output_type": "stream",
     "text": [
      "                                                                             \r"
     ]
    },
    {
     "name": "stdout",
     "output_type": "stream",
     "text": [
      "  ↳ new best PRAUC 0.3042  (model saved)\n"
     ]
    },
    {
     "name": "stderr",
     "output_type": "stream",
     "text": [
      "                                                                             \r"
     ]
    },
    {
     "name": "stdout",
     "output_type": "stream",
     "text": [
      "  ↳ new best PRAUC 0.3068  (model saved)\n"
     ]
    },
    {
     "name": "stderr",
     "output_type": "stream",
     "text": [
      "                                                                              \r"
     ]
    },
    {
     "name": "stdout",
     "output_type": "stream",
     "text": [
      "  ↳ new best PRAUC 0.3095  (model saved)\n"
     ]
    },
    {
     "name": "stderr",
     "output_type": "stream",
     "text": [
      "                                                                              \r"
     ]
    },
    {
     "name": "stdout",
     "output_type": "stream",
     "text": [
      "  ↳ new best PRAUC 0.3193  (model saved)\n"
     ]
    },
    {
     "name": "stderr",
     "output_type": "stream",
     "text": [
      "                                                                              \r"
     ]
    },
    {
     "name": "stdout",
     "output_type": "stream",
     "text": [
      "  ↳ new best PRAUC 0.3238  (model saved)\n"
     ]
    },
    {
     "name": "stderr",
     "output_type": "stream",
     "text": [
      "                                                                              \r"
     ]
    },
    {
     "name": "stdout",
     "output_type": "stream",
     "text": [
      "  ↳ new best PRAUC 0.3427  (model saved)\n"
     ]
    },
    {
     "name": "stderr",
     "output_type": "stream",
     "text": [
      "                                                                              \r"
     ]
    },
    {
     "name": "stdout",
     "output_type": "stream",
     "text": [
      "  ↳ new best PRAUC 0.3469  (model saved)\n"
     ]
    },
    {
     "name": "stderr",
     "output_type": "stream",
     "text": [
      "                                                                               \r"
     ]
    },
    {
     "name": "stdout",
     "output_type": "stream",
     "text": [
      "  ↳ new best PRAUC 0.3498  (model saved)\n"
     ]
    },
    {
     "name": "stderr",
     "output_type": "stream",
     "text": [
      "                                                                               \r"
     ]
    },
    {
     "name": "stdout",
     "output_type": "stream",
     "text": [
      "  ↳ new best PRAUC 0.3517  (model saved)\n"
     ]
    },
    {
     "name": "stderr",
     "output_type": "stream",
     "text": [
      "                                                                               \r"
     ]
    },
    {
     "name": "stdout",
     "output_type": "stream",
     "text": [
      "  ↳ new best PRAUC 0.3593  (model saved)\n"
     ]
    },
    {
     "name": "stderr",
     "output_type": "stream",
     "text": [
      "\u001b[34m\u001b[1mwandb\u001b[0m: \u001b[32m\u001b[41mERROR\u001b[0m The nbformat package was not found. It is required to save notebook history.\n"
     ]
    },
    {
     "data": {
      "text/html": [],
      "text/plain": [
       "<IPython.core.display.HTML object>"
      ]
     },
     "metadata": {},
     "output_type": "display_data"
    },
    {
     "data": {
      "text/html": [
       "<br>    <style><br>        .wandb-row {<br>            display: flex;<br>            flex-direction: row;<br>            flex-wrap: wrap;<br>            justify-content: flex-start;<br>            width: 100%;<br>        }<br>        .wandb-col {<br>            display: flex;<br>            flex-direction: column;<br>            flex-basis: 100%;<br>            flex: 1;<br>            padding: 10px;<br>        }<br>    </style><br><div class=\"wandb-row\"><div class=\"wandb-col\"><h3>Run history:</h3><br/><table class=\"wandb\"><tr><td>epoch</td><td>▁▁▂▂▂▂▃▃▃▄▄▄▅▅▅▅▆▆▆▇▇▇▇██</td></tr><tr><td>lr</td><td>▁▁▁▁▁▁▁▁▁▁▁▁▁▁▁▁▁▁▁▁▁▁▁▁▁</td></tr><tr><td>train_loss</td><td>█▅▃▃▂▂▂▂▂▂▁▁▁▁▁▁▁▁▁▁▁▁▁▁▁</td></tr><tr><td>val_loss</td><td>█▄▂▁▂▂▄▄▄▄▄▄▄▅▄▅▅▆▆▆▅▇▆▇▇</td></tr><tr><td>val_prauc</td><td>▁▃▂▃▃▃▃▃▂▄▄▅▅▄▇▆▅▆▇▇▇▇▇██</td></tr></table><br/></div><div class=\"wandb-col\"><h3>Run summary:</h3><br/><table class=\"wandb\"><tr><td>best_epoch</td><td>24</td></tr><tr><td>best_prauc</td><td>0.35931</td></tr><tr><td>epoch</td><td>25</td></tr><tr><td>lr</td><td>0.0</td></tr><tr><td>train_loss</td><td>0.01483</td></tr><tr><td>val_loss</td><td>0.27525</td></tr><tr><td>val_prauc</td><td>0.35548</td></tr></table><br/></div></div>"
      ],
      "text/plain": [
       "<IPython.core.display.HTML object>"
      ]
     },
     "metadata": {},
     "output_type": "display_data"
    },
    {
     "data": {
      "text/html": [
       " View run <strong style=\"color:#cdcd00\">e25_lr1e-06_wd0.0005_do0.2_#5</strong> at: <a href='https://wandb.ai/yuya00-university-of-hyogo/vertebrae_axial_bceloss_3/runs/38v43ubz' target=\"_blank\">https://wandb.ai/yuya00-university-of-hyogo/vertebrae_axial_bceloss_3/runs/38v43ubz</a><br> View project at: <a href='https://wandb.ai/yuya00-university-of-hyogo/vertebrae_axial_bceloss_3' target=\"_blank\">https://wandb.ai/yuya00-university-of-hyogo/vertebrae_axial_bceloss_3</a><br>Synced 5 W&B file(s), 0 media file(s), 0 artifact file(s) and 0 other file(s)"
      ],
      "text/plain": [
       "<IPython.core.display.HTML object>"
      ]
     },
     "metadata": {},
     "output_type": "display_data"
    },
    {
     "data": {
      "text/html": [
       "Find logs at: <code>./wandb/run-20250512_174357-38v43ubz/logs</code>"
      ],
      "text/plain": [
       "<IPython.core.display.HTML object>"
      ]
     },
     "metadata": {},
     "output_type": "display_data"
    },
    {
     "name": "stdout",
     "output_type": "stream",
     "text": [
      "\n",
      "—— Trial 6/6 : e25_lr1e-06_wd0.005_do0.2_#6 ——\n"
     ]
    },
    {
     "data": {
      "text/html": [
       "Tracking run with wandb version 0.19.9"
      ],
      "text/plain": [
       "<IPython.core.display.HTML object>"
      ]
     },
     "metadata": {},
     "output_type": "display_data"
    },
    {
     "data": {
      "text/html": [
       "Run data is saved locally in <code>/mnt/nfs1/home/yamamoto-hiroto/research/vertebrae/Sakaguchi_file/S_model_learning/wandb/run-20250512_175732-cojdyhoa</code>"
      ],
      "text/plain": [
       "<IPython.core.display.HTML object>"
      ]
     },
     "metadata": {},
     "output_type": "display_data"
    },
    {
     "data": {
      "text/html": [
       "Syncing run <strong><a href='https://wandb.ai/yuya00-university-of-hyogo/vertebrae_axial_bceloss_3/runs/cojdyhoa' target=\"_blank\">e25_lr1e-06_wd0.005_do0.2_#6</a></strong> to <a href='https://wandb.ai/yuya00-university-of-hyogo/vertebrae_axial_bceloss_3' target=\"_blank\">Weights & Biases</a> (<a href='https://wandb.me/developer-guide' target=\"_blank\">docs</a>)<br>"
      ],
      "text/plain": [
       "<IPython.core.display.HTML object>"
      ]
     },
     "metadata": {},
     "output_type": "display_data"
    },
    {
     "data": {
      "text/html": [
       " View project at <a href='https://wandb.ai/yuya00-university-of-hyogo/vertebrae_axial_bceloss_3' target=\"_blank\">https://wandb.ai/yuya00-university-of-hyogo/vertebrae_axial_bceloss_3</a>"
      ],
      "text/plain": [
       "<IPython.core.display.HTML object>"
      ]
     },
     "metadata": {},
     "output_type": "display_data"
    },
    {
     "data": {
      "text/html": [
       " View run at <a href='https://wandb.ai/yuya00-university-of-hyogo/vertebrae_axial_bceloss_3/runs/cojdyhoa' target=\"_blank\">https://wandb.ai/yuya00-university-of-hyogo/vertebrae_axial_bceloss_3/runs/cojdyhoa</a>"
      ],
      "text/plain": [
       "<IPython.core.display.HTML object>"
      ]
     },
     "metadata": {},
     "output_type": "display_data"
    },
    {
     "name": "stderr",
     "output_type": "stream",
     "text": [
      "/mnt/nfs1/home/yamamoto-hiroto/research/vertebrae/.venv/lib/python3.12/site-packages/torch/optim/lr_scheduler.py:60: UserWarning: The verbose parameter is deprecated. Please use get_last_lr() to access the learning rate.\n",
      "  warnings.warn(\n",
      "                                                                           \r"
     ]
    },
    {
     "name": "stdout",
     "output_type": "stream",
     "text": [
      "  ↳ new best PRAUC 0.2615  (model saved)\n"
     ]
    },
    {
     "name": "stderr",
     "output_type": "stream",
     "text": [
      "\u001b[34m\u001b[1mwandb\u001b[0m: \u001b[32m\u001b[41mERROR\u001b[0m The nbformat package was not found. It is required to save notebook history.\n"
     ]
    },
    {
     "name": "stdout",
     "output_type": "stream",
     "text": [
      "Early-stop: no PRAUC gain for 5 epochs\n"
     ]
    },
    {
     "data": {
      "text/html": [],
      "text/plain": [
       "<IPython.core.display.HTML object>"
      ]
     },
     "metadata": {},
     "output_type": "display_data"
    },
    {
     "data": {
      "text/html": [
       "<br>    <style><br>        .wandb-row {<br>            display: flex;<br>            flex-direction: row;<br>            flex-wrap: wrap;<br>            justify-content: flex-start;<br>            width: 100%;<br>        }<br>        .wandb-col {<br>            display: flex;<br>            flex-direction: column;<br>            flex-basis: 100%;<br>            flex: 1;<br>            padding: 10px;<br>        }<br>    </style><br><div class=\"wandb-row\"><div class=\"wandb-col\"><h3>Run history:</h3><br/><table class=\"wandb\"><tr><td>epoch</td><td>▁▂▄▅▇█</td></tr><tr><td>lr</td><td>▁▁▁▁▁▁</td></tr><tr><td>train_loss</td><td>█▄▃▂▁▁</td></tr><tr><td>val_loss</td><td>█▁▁▂▂▄</td></tr><tr><td>val_prauc</td><td>█▄▅▁▆▇</td></tr></table><br/></div><div class=\"wandb-col\"><h3>Run summary:</h3><br/><table class=\"wandb\"><tr><td>best_epoch</td><td>1</td></tr><tr><td>best_prauc</td><td>0.26146</td></tr><tr><td>epoch</td><td>6</td></tr><tr><td>lr</td><td>0.0</td></tr><tr><td>train_loss</td><td>0.0736</td></tr><tr><td>val_loss</td><td>0.26649</td></tr><tr><td>val_prauc</td><td>0.25772</td></tr></table><br/></div></div>"
      ],
      "text/plain": [
       "<IPython.core.display.HTML object>"
      ]
     },
     "metadata": {},
     "output_type": "display_data"
    },
    {
     "data": {
      "text/html": [
       " View run <strong style=\"color:#cdcd00\">e25_lr1e-06_wd0.005_do0.2_#6</strong> at: <a href='https://wandb.ai/yuya00-university-of-hyogo/vertebrae_axial_bceloss_3/runs/cojdyhoa' target=\"_blank\">https://wandb.ai/yuya00-university-of-hyogo/vertebrae_axial_bceloss_3/runs/cojdyhoa</a><br> View project at: <a href='https://wandb.ai/yuya00-university-of-hyogo/vertebrae_axial_bceloss_3' target=\"_blank\">https://wandb.ai/yuya00-university-of-hyogo/vertebrae_axial_bceloss_3</a><br>Synced 5 W&B file(s), 0 media file(s), 0 artifact file(s) and 0 other file(s)"
      ],
      "text/plain": [
       "<IPython.core.display.HTML object>"
      ]
     },
     "metadata": {},
     "output_type": "display_data"
    },
    {
     "data": {
      "text/html": [
       "Find logs at: <code>./wandb/run-20250512_175732-cojdyhoa/logs</code>"
      ],
      "text/plain": [
       "<IPython.core.display.HTML object>"
      ]
     },
     "metadata": {},
     "output_type": "display_data"
    },
    {
     "name": "stdout",
     "output_type": "stream",
     "text": [
      "\n",
      "=========== Grid Search done ===========\n",
      " best PRAUC : 0.4040\n",
      " best config: {'epochs': 25, 'lr': 1e-05, 'wd': 0.005, 'dropout': 0.2, 'batch': 32}\n"
     ]
    }
   ],
   "source": [
    "\n",
    "# — data-augmentation hyper-parameters —\n",
    "AUG_RESIZE_SIZE        = (224, 224)\n",
    "AUG_ROTATION_DEGREES   = 30\n",
    "AUG_TRANSLATE_PERCENT  = (0.1, 0.1)\n",
    "AUG_SCALE_RANGE        = (0.9, 1.1)\n",
    "AUG_GAUSSIAN_NOISE_STD = 0.05\n",
    "AUG_GAUSSIAN_NOISE_PROB= 0.5\n",
    "AUG_NORM_MEAN          = (0.5,)\n",
    "AUG_NORM_STD           = (0.5,)\n",
    "\n",
    "# — training control —\n",
    "EARLY_STOPPING_PATIENCE = 5\n",
    "SCHEDULER_PATIENCE      = 5\n",
    "SCHEDULER_FACTOR        = 0.1\n",
    "EARLY_STOP_MIN_DELTA    = 1e-4   # PRAUC がこれ以上伸びなければ停⽌\n",
    "\n",
    "# ----------------------------------------------------------------------\n",
    "#  transforms / dataset\n",
    "# ----------------------------------------------------------------------\n",
    "class AddGaussianNoise(object):\n",
    "    def __init__(self, std=0.05, p=0.5):\n",
    "        self.std, self.p = std, p\n",
    "    def __call__(self, t):\n",
    "        if torch.rand(1).item() < self.p:\n",
    "            noise = torch.randn_like(t) * self.std\n",
    "            t = t + noise\n",
    "            t.clamp_(0.0, 1.0)\n",
    "        return t\n",
    "    def __repr__(self):\n",
    "        return f\"{self.__class__.__name__}(std={self.std}, p={self.p})\"\n",
    "\n",
    "def get_transforms():\n",
    "    pos_train = transforms.Compose([\n",
    "        transforms.Resize(AUG_RESIZE_SIZE),\n",
    "        transforms.RandomAffine(degrees=AUG_ROTATION_DEGREES,\n",
    "                                translate=AUG_TRANSLATE_PERCENT,\n",
    "                                scale=AUG_SCALE_RANGE),\n",
    "        transforms.ToTensor(),\n",
    "        AddGaussianNoise(std=AUG_GAUSSIAN_NOISE_STD, p=AUG_GAUSSIAN_NOISE_PROB),\n",
    "        transforms.Normalize(AUG_NORM_MEAN, AUG_NORM_STD)\n",
    "    ])\n",
    "    neg_train = transforms.Compose([\n",
    "        transforms.Resize(AUG_RESIZE_SIZE),\n",
    "        transforms.ToTensor(),\n",
    "        transforms.Normalize(AUG_NORM_MEAN, AUG_NORM_STD)\n",
    "    ])\n",
    "    val_tf = transforms.Compose([\n",
    "        transforms.Resize(AUG_RESIZE_SIZE),\n",
    "        transforms.ToTensor(),\n",
    "        transforms.Normalize(AUG_NORM_MEAN, AUG_NORM_STD)\n",
    "    ])\n",
    "    return pos_train, neg_train, val_tf\n",
    "\n",
    "class CTDataset(Dataset):\n",
    "    def __init__(self, csv_path, pos_tf=None, neg_tf=None):\n",
    "        self.df      = pd.read_csv(csv_path)\n",
    "        self.pos_tf  = pos_tf\n",
    "        self.neg_tf  = neg_tf\n",
    "    def __len__(self): return len(self.df)\n",
    "    def _load_slice(self, path):\n",
    "        try:\n",
    "            img = nib.load(path).get_fdata()\n",
    "            if img.ndim == 3:\n",
    "                img = img[:, :, img.shape[2]//2]   # middle slice\n",
    "                \n",
    "            img_min = 100\n",
    "            img_max = 1800\n",
    "            img = np.clip(img, img_min, img_max)\n",
    "            img = ((img-img_min)/(img_max-img_min)*255).astype(np.uint8)\n",
    "            return Image.fromarray(img).convert(\"L\")\n",
    "        except Exception as e:\n",
    "            print(f\"[warn] {e} → black Img\")\n",
    "            return Image.fromarray(np.zeros(AUG_RESIZE_SIZE, np.uint8)).convert(\"L\")\n",
    "    def __getitem__(self, idx):\n",
    "        row   = self.df.iloc[idx]\n",
    "        label = int(row.Fracture_Label)\n",
    "        img   = self._load_slice(row.FullPath)\n",
    "        tf    = self.pos_tf if label==1 else self.neg_tf\n",
    "        if tf is None: tf = self.pos_tf   # fallback\n",
    "        img   = tf(img)\n",
    "        return img, float(label)\n",
    "\n",
    "# ----------------------------------------------------------------------\n",
    "#  sampler\n",
    "# ----------------------------------------------------------------------\n",
    "def create_sampler(labels_np):\n",
    "    counts  = np.bincount(labels_np.astype(int))\n",
    "    if len(counts) < 2:\n",
    "        print(\"[warn] single-class dataset, sampler disabled\")\n",
    "        return None\n",
    "    class_wt = 1.0 / counts\n",
    "    sample_wt = class_wt[labels_np.astype(int)]\n",
    "    return WeightedRandomSampler(sample_wt, len(sample_wt), replacement=True)\n",
    "\n",
    "# ----------------------------------------------------------------------\n",
    "#  model\n",
    "# ----------------------------------------------------------------------\n",
    "class ModifiedResNet(nn.Module):\n",
    "    def __init__(self, dropout_rate=0.5):\n",
    "        super().__init__()\n",
    "        self.base = models.resnet18(weights=models.ResNet18_Weights.DEFAULT)\n",
    "        self.base.conv1 = nn.Conv2d(1, 64, 7, 2, 3, bias=False)\n",
    "        nfeat = self.base.fc.in_features\n",
    "        self.base.fc = nn.Sequential(nn.Dropout(dropout_rate),\n",
    "                                     nn.Linear(nfeat, 1))\n",
    "    def forward(self, x): return self.base(x)\n",
    "\n",
    "# ----------------------------------------------------------------------\n",
    "#  evaluation\n",
    "# ----------------------------------------------------------------------\n",
    "@torch.no_grad()\n",
    "def evaluate(model, loader, criterion):\n",
    "    model.eval()\n",
    "    tot_loss, ys, ps = 0.0, [], []\n",
    "    for x,y in loader:\n",
    "        x,y = x.to(DEVICE), y.to(DEVICE).float().unsqueeze(1)\n",
    "        o   = model(x)\n",
    "        tot_loss += criterion(o, y).item()\n",
    "        ps.append(torch.sigmoid(o).cpu().view(-1))\n",
    "        ys.append(y.cpu().view(-1))\n",
    "    loss = tot_loss / len(loader)\n",
    "    ys   = torch.cat(ys).numpy()\n",
    "    ps   = torch.cat(ps).numpy()\n",
    "    if len(np.unique(ys)) > 1:\n",
    "        prec, rec, thr = precision_recall_curve(ys, ps)\n",
    "        prauc  = auc(rec, prec)\n",
    "        f1     = 2*prec*rec/(prec+rec+1e-8)\n",
    "        best_i = np.nanargmax(f1)\n",
    "        best_t = thr[min(best_i, len(thr)-1)] if len(thr) else 0.5\n",
    "        best_p, best_r = prec[best_i], rec[best_i]\n",
    "    else:\n",
    "        prauc, best_t, best_p, best_r = 0.0, 0.5, 0.0, 0.0\n",
    "    return loss, prauc, best_t, best_p, best_r\n",
    "\n",
    "# ----------------------------------------------------------------------\n",
    "#  training loop (EarlyStop & LR on PRAUC)\n",
    "# ----------------------------------------------------------------------\n",
    "def train_model(model, train_loader, val_loader,\n",
    "                criterion, optimizer, scheduler,\n",
    "                epochs, run_name):\n",
    "\n",
    "    best_prauc, best_epoch, es_counter = -1.0, -1, 0\n",
    "\n",
    "    for ep in range(epochs):\n",
    "        model.train()\n",
    "        prog = tqdm(train_loader, desc=f\"Epoch {ep+1}/{epochs}\", leave=False)\n",
    "        t_loss = 0.0\n",
    "        for x,y in prog:\n",
    "            x,y = x.to(DEVICE), y.to(DEVICE).float().unsqueeze(1)\n",
    "            optimizer.zero_grad()\n",
    "            o = model(x)\n",
    "            loss = criterion(o, y)\n",
    "            loss.backward()\n",
    "            optimizer.step()\n",
    "            t_loss += loss.item()\n",
    "            prog.set_postfix(loss=loss.item())\n",
    "\n",
    "        v_loss, v_prauc, v_thr, _, _ = evaluate(model, val_loader, criterion)\n",
    "\n",
    "        wandb.log({\"epoch\": ep+1,\n",
    "                   \"train_loss\": t_loss/len(train_loader),\n",
    "                   \"val_loss\": v_loss,\n",
    "                   \"val_prauc\": v_prauc,\n",
    "                   \"lr\": optimizer.param_groups[0][\"lr\"]})\n",
    "\n",
    "        improved = v_prauc > best_prauc + EARLY_STOP_MIN_DELTA\n",
    "        if improved:\n",
    "            best_prauc, best_epoch, es_counter = v_prauc, ep+1, 0\n",
    "            torch.save(model.state_dict(),\n",
    "                       os.path.join(MODEL_SAVE_DIR,\n",
    "                                    f\"{run_name}_best.pth\"))\n",
    "            print(f\"  ↳ new best PRAUC {best_prauc:.4f}  (model saved)\")\n",
    "        else:\n",
    "            es_counter += 1\n",
    "\n",
    "        if scheduler: scheduler.step(v_prauc)\n",
    "\n",
    "        if es_counter >= EARLY_STOPPING_PATIENCE:\n",
    "            print(f\"Early-stop: no PRAUC gain for {EARLY_STOPPING_PATIENCE} epochs\")\n",
    "            break\n",
    "\n",
    "    return best_prauc, best_epoch\n",
    "\n",
    "# ----------------------------------------------------------------------\n",
    "#  grid search\n",
    "# ----------------------------------------------------------------------\n",
    "def grid_search_main(train_csv, val_csv):\n",
    "    num_epochs_list      = [25]\n",
    "    lr_list              = [1e-4, 1e-5, 1e-6]\n",
    "    weight_decay_list    = [5e-4, 5e-3]\n",
    "    dropout_rate_list    = [0.2]\n",
    "    batch_size           = 32\n",
    "\n",
    "    pos_tf, neg_tf, val_tf = get_transforms()\n",
    "\n",
    "    # validation loader (pos/neg とも val_tf を適用 ← 重要)\n",
    "    val_ds  = CTDataset(val_csv, pos_tf=val_tf, neg_tf=val_tf)\n",
    "    val_ld  = DataLoader(val_ds, batch_size=batch_size,\n",
    "                         shuffle=False, num_workers=4, pin_memory=True)\n",
    "\n",
    "    best_overall, best_cfg = -1.0, None\n",
    "    combos = list(itertools.product(num_epochs_list, lr_list,\n",
    "                                    weight_decay_list, dropout_rate_list))\n",
    "\n",
    "    print(f\"⏩ Grid Search: {len(combos)} combinations\")\n",
    "    for i,(epochs, lr, wd, dr) in enumerate(combos, 1):\n",
    "        run_name = f\"e{epochs}_lr{lr}_wd{wd}_do{dr}_#{i}\"\n",
    "        print(f\"\\n—— Trial {i}/{len(combos)} : {run_name} ——\")\n",
    "\n",
    "        wandb.init(project=WANDB_PROJECT_NAME, name=run_name,\n",
    "                   config=dict(epochs=epochs, lr=lr, wd=wd,\n",
    "                               dropout=dr, batch=batch_size), reinit=True)\n",
    "\n",
    "        random.seed(SEED+i); np.random.seed(SEED+i)\n",
    "        torch.manual_seed(SEED+i); torch.cuda.manual_seed_all(SEED+i)\n",
    "\n",
    "        model = ModifiedResNet(dr).to(DEVICE)\n",
    "        crit  = nn.BCEWithLogitsLoss().to(DEVICE)\n",
    "        opt   = optim.Adam(model.parameters(), lr=lr, weight_decay=wd)\n",
    "        sched = optim.lr_scheduler.ReduceLROnPlateau(\n",
    "                    opt, mode='max', factor=SCHEDULER_FACTOR,\n",
    "                    patience=SCHEDULER_PATIENCE, verbose=True)\n",
    "\n",
    "        train_ds  = CTDataset(train_csv, pos_tf=pos_tf, neg_tf=neg_tf)\n",
    "        sampler   = create_sampler(train_ds.df.Fracture_Label.values)\n",
    "        train_ld  = DataLoader(train_ds, batch_size=batch_size,\n",
    "                               sampler=sampler if sampler else None,\n",
    "                               shuffle=(sampler is None),\n",
    "                               num_workers=4, pin_memory=True)\n",
    "\n",
    "        best_prauc, best_epoch = train_model(model, train_ld,\n",
    "                                             val_ld, crit, opt,\n",
    "                                             sched, epochs, run_name)\n",
    "\n",
    "        wandb.summary[\"best_prauc\"]  = best_prauc\n",
    "        wandb.summary[\"best_epoch\"]  = best_epoch\n",
    "\n",
    "        if best_prauc > best_overall:\n",
    "            best_overall, best_cfg = best_prauc, wandb.config.as_dict()\n",
    "            print(f\"🎉 new overall best PRAUC {best_overall:.4f}\")\n",
    "            \n",
    "        wandb.finish()\n",
    "\n",
    "    print(\"\\n=========== Grid Search done ===========\")\n",
    "    print(f\" best PRAUC : {best_overall:.4f}\")\n",
    "    print(f\" best config: {best_cfg}\")\n",
    "\n",
    "# ----------------------------------------------------------------------\n",
    "if __name__ == \"__main__\":\n",
    "    try:\n",
    "        wandb.login()\n",
    "    except Exception as e:\n",
    "        print(f\"W&B login failed: {e}\")\n",
    "\n",
    "    grid_search_main(TRAIN_CSV_PATH, VAL_CSV_PATH)\n"
   ]
  }
 ],
 "metadata": {
  "kernelspec": {
   "display_name": "vertebrae",
   "language": "python",
   "name": "python3"
  },
  "language_info": {
   "codemirror_mode": {
    "name": "ipython",
    "version": 3
   },
   "file_extension": ".py",
   "mimetype": "text/x-python",
   "name": "python",
   "nbconvert_exporter": "python",
   "pygments_lexer": "ipython3",
   "version": "3.12.8"
  }
 },
 "nbformat": 4,
 "nbformat_minor": 5
}

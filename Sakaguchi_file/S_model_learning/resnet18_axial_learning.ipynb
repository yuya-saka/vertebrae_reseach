{
 "cells": [
  {
   "cell_type": "code",
   "execution_count": 1,
   "id": "7a94cea8",
   "metadata": {},
   "outputs": [
    {
     "name": "stderr",
     "output_type": "stream",
     "text": [
      "\u001b[34m\u001b[1mwandb\u001b[0m: Using wandb-core as the SDK backend.  Please refer to https://wandb.me/wandb-core for more information.\n",
      "\u001b[34m\u001b[1mwandb\u001b[0m: Currently logged in as: \u001b[33myuya00\u001b[0m (\u001b[33myuya00-university-of-hyogo\u001b[0m) to \u001b[32mhttps://api.wandb.ai\u001b[0m. Use \u001b[1m`wandb login --relogin`\u001b[0m to force relogin\n"
     ]
    },
    {
     "data": {
      "text/plain": [
       "True"
      ]
     },
     "execution_count": 1,
     "metadata": {},
     "output_type": "execute_result"
    }
   ],
   "source": [
    "import os, random, numpy as np, pandas as pd\n",
    "import torch, torch.nn as nn, torch.optim as optim\n",
    "from torch.utils.data import Dataset, DataLoader\n",
    "from torchvision import models, transforms\n",
    "import nibabel as nib\n",
    "from PIL import Image\n",
    "from tqdm.notebook import tqdm\n",
    "from sklearn.metrics import precision_recall_curve, auc\n",
    "import matplotlib.pyplot as plt\n",
    "import wandb\n",
    "from itertools import product\n",
    "from datetime import datetime\n",
    "\n",
    "# wandb 共通設定\n",
    "WANDB_PROJECT = \"vertebrae-augmentation_axial_learning_1\"\n",
    "wandb.login()                     # API キーは環境変数でも可"
   ]
  },
  {
   "cell_type": "markdown",
   "id": "4c440947",
   "metadata": {},
   "source": [
    "# 学習モデル"
   ]
  },
  {
   "cell_type": "code",
   "execution_count": 3,
   "id": "02c48c3b",
   "metadata": {},
   "outputs": [],
   "source": [
    "os.environ[\"CUDA_VISIBLE_DEVICES\"]=\"0\""
   ]
  },
  {
   "cell_type": "code",
   "execution_count": 4,
   "id": "743570c3",
   "metadata": {},
   "outputs": [],
   "source": [
    "# %%\n",
    "# 1. データセットクラス (CTDataset)\n",
    "##############################################\n",
    "class CTDataset(Dataset):\n",
    "    def __init__(self, csv_path, transform=None):\n",
    "        self.data = pd.read_csv(csv_path)\n",
    "        self.transform = transform\n",
    "\n",
    "    def __len__(self):\n",
    "        return len(self.data)\n",
    "\n",
    "    def __getitem__(self, idx):\n",
    "        row = self.data.iloc[idx]\n",
    "        img_path = row[\"FullPath\"]\n",
    "        # CSVの列名が \"Fracture_label\" の場合\n",
    "        # (もし \"Fracture_Label\" や別名であれば修正してください)\n",
    "        label = row[\"Fracture_Label\"]\n",
    "\n",
    "        # ----- 画像読み込み (NIfTI) -----\n",
    "        nifti_obj = nib.load(img_path)\n",
    "        img_arr = nifti_obj.get_fdata()\n",
    "\n",
    "        # 3次元の場合は最初のスライスを使う（軸が違うなら適宜変更）\n",
    "        if len(img_arr.shape) == 3:\n",
    "            img_arr = img_arr[:, :, 0]\n",
    "        elif len(img_arr.shape) != 2:\n",
    "            raise ValueError(f\"Unsupported image shape: {img_arr.shape}\")\n",
    "\n",
    "        # ----- HUウィンドウ (100～2000) 例 -----\n",
    "        img_arr = np.clip(img_arr, 100, 2000)\n",
    "        img_arr = (img_arr - 100) / (2000 - 100)  # 0～1 スケーリング\n",
    "        img_arr = np.uint8(img_arr * 255)\n",
    "\n",
    "        pil_img = Image.fromarray(img_arr).convert(\"L\")\n",
    "\n",
    "        if self.transform:\n",
    "            pil_img = self.transform(pil_img)\n",
    "\n",
    "        return pil_img, float(label)\n",
    "\n",
    "# 2. モデル定義 (ModifiedResNet)\n",
    "##############################################\n",
    "class ModifiedResNet(nn.Module):\n",
    "    def __init__(self, dropout_rate=0.5):\n",
    "        super(ModifiedResNet, self).__init__()\n",
    "        self.resnet = models.resnet18(pretrained=True)\n",
    "        # 1ch入力に変更\n",
    "        self.resnet.conv1 = nn.Conv2d(1, 64, kernel_size=7, stride=2, padding=3, bias=False)\n",
    "        # 出力層を差し替え → 1ユニット (Sigmoid)\n",
    "        num_features = self.resnet.fc.in_features\n",
    "        self.resnet.fc = nn.Sequential(\n",
    "            nn.Dropout(dropout_rate),\n",
    "            nn.Linear(num_features, 1),\n",
    "            nn.Sigmoid()\n",
    "        )\n",
    "\n",
    "    def forward(self, x):\n",
    "        x = self.resnet.conv1(x)\n",
    "        x = self.resnet.bn1(x)\n",
    "        x = self.resnet.relu(x)\n",
    "        x = self.resnet.maxpool(x)\n",
    "\n",
    "        x = self.resnet.layer1(x)\n",
    "        x = self.resnet.layer2(x)\n",
    "        x = self.resnet.layer3(x)\n",
    "        x = self.resnet.layer4(x)\n",
    "\n",
    "        x = self.resnet.avgpool(x)\n",
    "        x = torch.flatten(x, 1)\n",
    "        x = self.resnet.fc(x)\n",
    "        return x\n",
    "\n",
    "\n",
    "# 4. 検証関数 (evaluate_model)\n",
    "##############################################\n",
    "def evaluate_model(model, val_loader, criterion, device=\"cuda\"):\n",
    "    model.eval()\n",
    "    running_loss = 0.0\n",
    "    all_labels = []\n",
    "    all_preds = []\n",
    "\n",
    "    with torch.no_grad():\n",
    "        for images, labels in val_loader:\n",
    "            images = images.to(device, dtype=torch.float32)\n",
    "            labels = labels.to(device, dtype=torch.float32)\n",
    "\n",
    "            outputs = model(images).squeeze()  # shape: (batch,)\n",
    "            loss = criterion(outputs, labels)\n",
    "            running_loss += loss.item()\n",
    "\n",
    "            all_labels.extend(labels.cpu().numpy())\n",
    "            all_preds.extend(outputs.cpu().numpy())\n",
    "\n",
    "    avg_loss = running_loss / len(val_loader)\n",
    "\n",
    "    # Precision-Recall\n",
    "    precision, recall, thresholds = precision_recall_curve(all_labels, all_preds)\n",
    "    prauc = auc(recall, precision)\n",
    "\n",
    "    # F1最大となる閾値を検索\n",
    "    f1_scores = 2 * (precision * recall) / (precision + recall + 1e-8)\n",
    "    best_idx = np.argmax(f1_scores)\n",
    "    best_threshold = thresholds[best_idx] if best_idx < len(thresholds) else 0.5\n",
    "    best_precision = precision[best_idx]\n",
    "    best_recall = recall[best_idx]\n",
    "\n",
    "    return avg_loss, prauc, best_threshold, best_precision, best_recall\n",
    "\n",
    "\n"
   ]
  },
  {
   "cell_type": "code",
   "execution_count": 6,
   "id": "0f456f91",
   "metadata": {},
   "outputs": [],
   "source": [
    "def train_model(model, train_loader, val_loader, criterion, optimizer,\n",
    "                scheduler=None, num_epochs=20, device=\"cuda\"):\n",
    "    run = wandb.init(project=WANDB_PROJECT, reinit=True,\n",
    "                     config=dict(\n",
    "                         epochs=num_epochs,\n",
    "                         lr=optimizer.param_groups[0][\"lr\"],\n",
    "                         weight_decay=optimizer.param_groups[0][\"weight_decay\"],\n",
    "                         dropout=getattr(model.resnet.fc[0], \"p\", None)\n",
    "                     ))\n",
    "    wandb.watch(model, log=\"all\", log_freq=100)\n",
    "\n",
    "    best_prauc = 0.0\n",
    "    for epoch in range(num_epochs):\n",
    "        # ----- Training -----\n",
    "        model.train()\n",
    "        running_loss = 0.0\n",
    "        for images, labels in tqdm(train_loader, desc=f\"[Train] {epoch+1}/{num_epochs}\"):\n",
    "            images = images.to(device, dtype=torch.float32)\n",
    "            labels = labels.to(device, dtype=torch.float32)\n",
    "\n",
    "            optimizer.zero_grad()\n",
    "            outputs = model(images).squeeze()\n",
    "            loss = criterion(outputs, labels)\n",
    "            loss.backward()\n",
    "            optimizer.step()\n",
    "            running_loss += loss.item()\n",
    "\n",
    "        avg_train_loss = running_loss / len(train_loader)\n",
    "\n",
    "        # ----- Validation -----\n",
    "        val_loss, val_prauc, th, prec, rec = evaluate_model(model, val_loader, criterion, device)\n",
    "\n",
    "        # wandb ログ\n",
    "        wandb.log({\n",
    "            \"epoch\": epoch+1,\n",
    "            \"train_loss\": avg_train_loss,\n",
    "            \"val_loss\":   val_loss,\n",
    "            \"val_prauc\":  val_prauc,\n",
    "            \"best_th\":    th,\n",
    "            \"precision\":  prec,\n",
    "            \"recall\":     rec,\n",
    "            \"lr\": optimizer.param_groups[0][\"lr\"]\n",
    "        })\n",
    "\n",
    "        # scheduler\n",
    "        if scheduler is not None:\n",
    "            scheduler.step(val_loss)\n",
    "\n",
    "        # モデル保存\n",
    "        if val_prauc > best_prauc:\n",
    "            best_prauc = val_prauc\n",
    "            timestamp = datetime.now().strftime(\"%Y%m%d_%H%M%S\")  # 例: 20250414_113045\n",
    "            model_path = f\"best_model_{timestamp}.pth\"\n",
    "            torch.save(model.state_dict(), model_path)\n",
    "            wandb.run.summary[\"best_prauc\"] = best_prauc\n",
    "            wandb.run.summary[\"best_epoch\"] = epoch+1\n",
    "            wandb.run.summary[\"saved_model_path\"] = model_path\n",
    "\n",
    "            #使わない\n",
    "            #torch.save(model.state_dict(), \"best_model.pth\")\n",
    "            #wandb.run.summary[\"best_prauc\"] = best_prauc\n",
    "            #wandb.run.summary[\"best_epoch\"] = epoch+1\n",
    "\n",
    "    wandb.finish()\n",
    "    return best_prauc\n",
    "\n",
    "\n",
    "def grid_search(train_loader, val_loader, device=\"cuda\"):\n",
    "    num_epochs_list   = [20, 30]\n",
    "    lr_list           = [1e-5, 3e-5]\n",
    "    weight_decay_list = [1e-3, 1e-2]\n",
    "    dropout_rate_list = [0.3, 0.0]\n",
    "\n",
    "    for (num_epochs, lr, wd, do) in product(num_epochs_list, lr_list, weight_decay_list, dropout_rate_list):\n",
    "        model = ModifiedResNet(dropout_rate=do).to(device)\n",
    "        criterion = nn.BCELoss()\n",
    "        optimizer = optim.Adam(model.parameters(), lr=lr, weight_decay=wd)\n",
    "        scheduler = optim.lr_scheduler.ReduceLROnPlateau(optimizer, mode='min')\n",
    "        best_prauc = train_model(model, train_loader, val_loader, criterion, optimizer,\n",
    "                                 scheduler=scheduler, num_epochs=num_epochs, device=device)\n",
    "        print(f\"Finished: Ep{num_epochs} LR{lr} WD{wd} DO{do} → PRAUC {best_prauc:.4f}\")"
   ]
  },
  {
   "cell_type": "code",
   "execution_count": 7,
   "id": "33a99665",
   "metadata": {},
   "outputs": [
    {
     "name": "stdout",
     "output_type": "stream",
     "text": [
      "Using device: cuda\n"
     ]
    },
    {
     "name": "stderr",
     "output_type": "stream",
     "text": [
      "/mnt/nfs1/home/yamamoto-hiroto/research/vertebrae/.venv/lib/python3.12/site-packages/torchvision/models/_utils.py:208: UserWarning: The parameter 'pretrained' is deprecated since 0.13 and may be removed in the future, please use 'weights' instead.\n",
      "  warnings.warn(\n",
      "/mnt/nfs1/home/yamamoto-hiroto/research/vertebrae/.venv/lib/python3.12/site-packages/torchvision/models/_utils.py:223: UserWarning: Arguments other than a weight enum or `None` for 'weights' are deprecated since 0.13 and may be removed in the future. The current behavior is equivalent to passing `weights=ResNet18_Weights.IMAGENET1K_V1`. You can also use `weights=ResNet18_Weights.DEFAULT` to get the most up-to-date weights.\n",
      "  warnings.warn(msg)\n",
      "\u001b[34m\u001b[1mwandb\u001b[0m: \u001b[33mWARNING\u001b[0m Using a boolean value for 'reinit' is deprecated. Use 'return_previous' or 'finish_previous' instead.\n"
     ]
    },
    {
     "data": {
      "text/html": [
       "Tracking run with wandb version 0.19.9"
      ],
      "text/plain": [
       "<IPython.core.display.HTML object>"
      ]
     },
     "metadata": {},
     "output_type": "display_data"
    },
    {
     "data": {
      "text/html": [
       "Run data is saved locally in <code>/mnt/nfs1/home/yamamoto-hiroto/research/vertebrae/Sakaguchi_file/S_model_learning/wandb/run-20250414_164016-214nwyax</code>"
      ],
      "text/plain": [
       "<IPython.core.display.HTML object>"
      ]
     },
     "metadata": {},
     "output_type": "display_data"
    },
    {
     "data": {
      "text/html": [
       "Syncing run <strong><a href='https://wandb.ai/yuya00-university-of-hyogo/vertebrae-augmentation_axial_learning_1/runs/214nwyax' target=\"_blank\">splendid-sunset-1</a></strong> to <a href='https://wandb.ai/yuya00-university-of-hyogo/vertebrae-augmentation_axial_learning_1' target=\"_blank\">Weights & Biases</a> (<a href='https://wandb.me/developer-guide' target=\"_blank\">docs</a>)<br>"
      ],
      "text/plain": [
       "<IPython.core.display.HTML object>"
      ]
     },
     "metadata": {},
     "output_type": "display_data"
    },
    {
     "data": {
      "text/html": [
       " View project at <a href='https://wandb.ai/yuya00-university-of-hyogo/vertebrae-augmentation_axial_learning_1' target=\"_blank\">https://wandb.ai/yuya00-university-of-hyogo/vertebrae-augmentation_axial_learning_1</a>"
      ],
      "text/plain": [
       "<IPython.core.display.HTML object>"
      ]
     },
     "metadata": {},
     "output_type": "display_data"
    },
    {
     "data": {
      "text/html": [
       " View run at <a href='https://wandb.ai/yuya00-university-of-hyogo/vertebrae-augmentation_axial_learning_1/runs/214nwyax' target=\"_blank\">https://wandb.ai/yuya00-university-of-hyogo/vertebrae-augmentation_axial_learning_1/runs/214nwyax</a>"
      ],
      "text/plain": [
       "<IPython.core.display.HTML object>"
      ]
     },
     "metadata": {},
     "output_type": "display_data"
    },
    {
     "data": {
      "application/vnd.jupyter.widget-view+json": {
       "model_id": "cab8328a6320424aab8d74ef55b34ad3",
       "version_major": 2,
       "version_minor": 0
      },
      "text/plain": [
       "[Train] 1/20:   0%|          | 0/1036 [00:00<?, ?it/s]"
      ]
     },
     "metadata": {},
     "output_type": "display_data"
    },
    {
     "data": {
      "application/vnd.jupyter.widget-view+json": {
       "model_id": "a24d59eaf7534cadbd66d0b9e170752f",
       "version_major": 2,
       "version_minor": 0
      },
      "text/plain": [
       "[Train] 2/20:   0%|          | 0/1036 [00:00<?, ?it/s]"
      ]
     },
     "metadata": {},
     "output_type": "display_data"
    },
    {
     "data": {
      "application/vnd.jupyter.widget-view+json": {
       "model_id": "12fdc449c56d4d018f55e11593e72519",
       "version_major": 2,
       "version_minor": 0
      },
      "text/plain": [
       "[Train] 3/20:   0%|          | 0/1036 [00:00<?, ?it/s]"
      ]
     },
     "metadata": {},
     "output_type": "display_data"
    },
    {
     "data": {
      "application/vnd.jupyter.widget-view+json": {
       "model_id": "18662c58bca3489185c7a6e29ac6f17c",
       "version_major": 2,
       "version_minor": 0
      },
      "text/plain": [
       "[Train] 4/20:   0%|          | 0/1036 [00:00<?, ?it/s]"
      ]
     },
     "metadata": {},
     "output_type": "display_data"
    },
    {
     "data": {
      "application/vnd.jupyter.widget-view+json": {
       "model_id": "acc8366ff85647a49fdc51f41cafedb2",
       "version_major": 2,
       "version_minor": 0
      },
      "text/plain": [
       "[Train] 5/20:   0%|          | 0/1036 [00:00<?, ?it/s]"
      ]
     },
     "metadata": {},
     "output_type": "display_data"
    },
    {
     "data": {
      "application/vnd.jupyter.widget-view+json": {
       "model_id": "4338ea96dfdf4e6a9b838e1480277833",
       "version_major": 2,
       "version_minor": 0
      },
      "text/plain": [
       "[Train] 6/20:   0%|          | 0/1036 [00:00<?, ?it/s]"
      ]
     },
     "metadata": {},
     "output_type": "display_data"
    },
    {
     "data": {
      "application/vnd.jupyter.widget-view+json": {
       "model_id": "938c157711814f249a824926cc225e13",
       "version_major": 2,
       "version_minor": 0
      },
      "text/plain": [
       "[Train] 7/20:   0%|          | 0/1036 [00:00<?, ?it/s]"
      ]
     },
     "metadata": {},
     "output_type": "display_data"
    },
    {
     "data": {
      "application/vnd.jupyter.widget-view+json": {
       "model_id": "3cbaa78846794fba95f0af9f07d796a2",
       "version_major": 2,
       "version_minor": 0
      },
      "text/plain": [
       "[Train] 8/20:   0%|          | 0/1036 [00:00<?, ?it/s]"
      ]
     },
     "metadata": {},
     "output_type": "display_data"
    },
    {
     "data": {
      "application/vnd.jupyter.widget-view+json": {
       "model_id": "39da421773fb44bc9d363fd7d2b6970d",
       "version_major": 2,
       "version_minor": 0
      },
      "text/plain": [
       "[Train] 9/20:   0%|          | 0/1036 [00:00<?, ?it/s]"
      ]
     },
     "metadata": {},
     "output_type": "display_data"
    },
    {
     "data": {
      "application/vnd.jupyter.widget-view+json": {
       "model_id": "e739beb9166f4c23b8ca45fbe91cf74d",
       "version_major": 2,
       "version_minor": 0
      },
      "text/plain": [
       "[Train] 10/20:   0%|          | 0/1036 [00:00<?, ?it/s]"
      ]
     },
     "metadata": {},
     "output_type": "display_data"
    },
    {
     "data": {
      "application/vnd.jupyter.widget-view+json": {
       "model_id": "2fe0d2113150476eafafd9cd13b03315",
       "version_major": 2,
       "version_minor": 0
      },
      "text/plain": [
       "[Train] 11/20:   0%|          | 0/1036 [00:00<?, ?it/s]"
      ]
     },
     "metadata": {},
     "output_type": "display_data"
    },
    {
     "data": {
      "application/vnd.jupyter.widget-view+json": {
       "model_id": "572003daa79c47598104a6a4ad68bbac",
       "version_major": 2,
       "version_minor": 0
      },
      "text/plain": [
       "[Train] 12/20:   0%|          | 0/1036 [00:00<?, ?it/s]"
      ]
     },
     "metadata": {},
     "output_type": "display_data"
    },
    {
     "data": {
      "application/vnd.jupyter.widget-view+json": {
       "model_id": "1d8950f52dee482db2778b8137be4a31",
       "version_major": 2,
       "version_minor": 0
      },
      "text/plain": [
       "[Train] 13/20:   0%|          | 0/1036 [00:00<?, ?it/s]"
      ]
     },
     "metadata": {},
     "output_type": "display_data"
    },
    {
     "data": {
      "application/vnd.jupyter.widget-view+json": {
       "model_id": "31c357fdaa804d778ccdcad2a6eeddd1",
       "version_major": 2,
       "version_minor": 0
      },
      "text/plain": [
       "[Train] 14/20:   0%|          | 0/1036 [00:00<?, ?it/s]"
      ]
     },
     "metadata": {},
     "output_type": "display_data"
    },
    {
     "data": {
      "application/vnd.jupyter.widget-view+json": {
       "model_id": "15318c2efbe34e92bd2f6a3bbc7a2bca",
       "version_major": 2,
       "version_minor": 0
      },
      "text/plain": [
       "[Train] 15/20:   0%|          | 0/1036 [00:00<?, ?it/s]"
      ]
     },
     "metadata": {},
     "output_type": "display_data"
    },
    {
     "data": {
      "application/vnd.jupyter.widget-view+json": {
       "model_id": "5b9a4c3851434221b5e75564ed7f3981",
       "version_major": 2,
       "version_minor": 0
      },
      "text/plain": [
       "[Train] 16/20:   0%|          | 0/1036 [00:00<?, ?it/s]"
      ]
     },
     "metadata": {},
     "output_type": "display_data"
    },
    {
     "data": {
      "application/vnd.jupyter.widget-view+json": {
       "model_id": "0cda5b95d57f4255a17d120557124918",
       "version_major": 2,
       "version_minor": 0
      },
      "text/plain": [
       "[Train] 17/20:   0%|          | 0/1036 [00:00<?, ?it/s]"
      ]
     },
     "metadata": {},
     "output_type": "display_data"
    },
    {
     "data": {
      "application/vnd.jupyter.widget-view+json": {
       "model_id": "c0b249e7c4cc4f87b55f5c7a26d570c6",
       "version_major": 2,
       "version_minor": 0
      },
      "text/plain": [
       "[Train] 18/20:   0%|          | 0/1036 [00:00<?, ?it/s]"
      ]
     },
     "metadata": {},
     "output_type": "display_data"
    },
    {
     "data": {
      "application/vnd.jupyter.widget-view+json": {
       "model_id": "20dfe8e305214f6b8a26c8508019feb8",
       "version_major": 2,
       "version_minor": 0
      },
      "text/plain": [
       "[Train] 19/20:   0%|          | 0/1036 [00:00<?, ?it/s]"
      ]
     },
     "metadata": {},
     "output_type": "display_data"
    },
    {
     "data": {
      "application/vnd.jupyter.widget-view+json": {
       "model_id": "2403f6e0e2964ac182f0f47be2396455",
       "version_major": 2,
       "version_minor": 0
      },
      "text/plain": [
       "[Train] 20/20:   0%|          | 0/1036 [00:00<?, ?it/s]"
      ]
     },
     "metadata": {},
     "output_type": "display_data"
    },
    {
     "name": "stderr",
     "output_type": "stream",
     "text": [
      "\u001b[34m\u001b[1mwandb\u001b[0m: \u001b[32m\u001b[41mERROR\u001b[0m The nbformat package was not found. It is required to save notebook history.\n"
     ]
    },
    {
     "data": {
      "text/html": [],
      "text/plain": [
       "<IPython.core.display.HTML object>"
      ]
     },
     "metadata": {},
     "output_type": "display_data"
    },
    {
     "data": {
      "text/html": [
       "<br>    <style><br>        .wandb-row {<br>            display: flex;<br>            flex-direction: row;<br>            flex-wrap: wrap;<br>            justify-content: flex-start;<br>            width: 100%;<br>        }<br>        .wandb-col {<br>            display: flex;<br>            flex-direction: column;<br>            flex-basis: 100%;<br>            flex: 1;<br>            padding: 10px;<br>        }<br>    </style><br><div class=\"wandb-row\"><div class=\"wandb-col\"><h3>Run history:</h3><br/><table class=\"wandb\"><tr><td>best_th</td><td>▅▄▆▅▅▃▂██▃▅▁▃▃▂▂▂▃▄▂</td></tr><tr><td>epoch</td><td>▁▁▂▂▂▃▃▄▄▄▅▅▅▆▆▇▇▇██</td></tr><tr><td>lr</td><td>████████████▁▁▁▁▁▁▁▁</td></tr><tr><td>precision</td><td>▅▄▁▂▄▄▂█▆▃▄▂▇▅▃▄▄▇▆▄</td></tr><tr><td>recall</td><td>▄▃▅█▆▄▇▁▃▄▄▇▄▅▅▅▄▃▃▄</td></tr><tr><td>train_loss</td><td>█▄▃▂▂▂▂▁▁▁▁▁▁▁▁▁▁▁▁▁</td></tr><tr><td>val_loss</td><td>▁▃▃▃▄▅▆█▇▇▆▇▆▆▇▆▇█▇▇</td></tr><tr><td>val_prauc</td><td>▅▁▁▆▇▄▅▁▃▅▄▆█▇▆▇▆▆▆▆</td></tr></table><br/></div><div class=\"wandb-col\"><h3>Run summary:</h3><br/><table class=\"wandb\"><tr><td>best_epoch</td><td>13</td></tr><tr><td>best_prauc</td><td>0.4068</td></tr><tr><td>best_th</td><td>0.12116</td></tr><tr><td>epoch</td><td>20</td></tr><tr><td>lr</td><td>0.0</td></tr><tr><td>precision</td><td>0.44638</td></tr><tr><td>recall</td><td>0.31907</td></tr><tr><td>saved_model_path</td><td>best_model_20250414_...</td></tr><tr><td>train_loss</td><td>0.00256</td></tr><tr><td>val_loss</td><td>0.36565</td></tr><tr><td>val_prauc</td><td>0.3805</td></tr></table><br/></div></div>"
      ],
      "text/plain": [
       "<IPython.core.display.HTML object>"
      ]
     },
     "metadata": {},
     "output_type": "display_data"
    },
    {
     "data": {
      "text/html": [
       " View run <strong style=\"color:#cdcd00\">splendid-sunset-1</strong> at: <a href='https://wandb.ai/yuya00-university-of-hyogo/vertebrae-augmentation_axial_learning_1/runs/214nwyax' target=\"_blank\">https://wandb.ai/yuya00-university-of-hyogo/vertebrae-augmentation_axial_learning_1/runs/214nwyax</a><br> View project at: <a href='https://wandb.ai/yuya00-university-of-hyogo/vertebrae-augmentation_axial_learning_1' target=\"_blank\">https://wandb.ai/yuya00-university-of-hyogo/vertebrae-augmentation_axial_learning_1</a><br>Synced 5 W&B file(s), 0 media file(s), 0 artifact file(s) and 0 other file(s)"
      ],
      "text/plain": [
       "<IPython.core.display.HTML object>"
      ]
     },
     "metadata": {},
     "output_type": "display_data"
    },
    {
     "data": {
      "text/html": [
       "Find logs at: <code>./wandb/run-20250414_164016-214nwyax/logs</code>"
      ],
      "text/plain": [
       "<IPython.core.display.HTML object>"
      ]
     },
     "metadata": {},
     "output_type": "display_data"
    },
    {
     "name": "stdout",
     "output_type": "stream",
     "text": [
      "Finished: Ep20 LR1e-05 WD0.001 DO0.3 → PRAUC 0.4068\n"
     ]
    },
    {
     "name": "stderr",
     "output_type": "stream",
     "text": [
      "/mnt/nfs1/home/yamamoto-hiroto/research/vertebrae/.venv/lib/python3.12/site-packages/torchvision/models/_utils.py:208: UserWarning: The parameter 'pretrained' is deprecated since 0.13 and may be removed in the future, please use 'weights' instead.\n",
      "  warnings.warn(\n",
      "/mnt/nfs1/home/yamamoto-hiroto/research/vertebrae/.venv/lib/python3.12/site-packages/torchvision/models/_utils.py:223: UserWarning: Arguments other than a weight enum or `None` for 'weights' are deprecated since 0.13 and may be removed in the future. The current behavior is equivalent to passing `weights=ResNet18_Weights.IMAGENET1K_V1`. You can also use `weights=ResNet18_Weights.DEFAULT` to get the most up-to-date weights.\n",
      "  warnings.warn(msg)\n"
     ]
    },
    {
     "data": {
      "text/html": [
       "Tracking run with wandb version 0.19.9"
      ],
      "text/plain": [
       "<IPython.core.display.HTML object>"
      ]
     },
     "metadata": {},
     "output_type": "display_data"
    },
    {
     "data": {
      "text/html": [
       "Run data is saved locally in <code>/mnt/nfs1/home/yamamoto-hiroto/research/vertebrae/Sakaguchi_file/S_model_learning/wandb/run-20250414_165906-rcx699fb</code>"
      ],
      "text/plain": [
       "<IPython.core.display.HTML object>"
      ]
     },
     "metadata": {},
     "output_type": "display_data"
    },
    {
     "data": {
      "text/html": [
       "Syncing run <strong><a href='https://wandb.ai/yuya00-university-of-hyogo/vertebrae-augmentation_axial_learning_1/runs/rcx699fb' target=\"_blank\">skilled-sound-2</a></strong> to <a href='https://wandb.ai/yuya00-university-of-hyogo/vertebrae-augmentation_axial_learning_1' target=\"_blank\">Weights & Biases</a> (<a href='https://wandb.me/developer-guide' target=\"_blank\">docs</a>)<br>"
      ],
      "text/plain": [
       "<IPython.core.display.HTML object>"
      ]
     },
     "metadata": {},
     "output_type": "display_data"
    },
    {
     "data": {
      "text/html": [
       " View project at <a href='https://wandb.ai/yuya00-university-of-hyogo/vertebrae-augmentation_axial_learning_1' target=\"_blank\">https://wandb.ai/yuya00-university-of-hyogo/vertebrae-augmentation_axial_learning_1</a>"
      ],
      "text/plain": [
       "<IPython.core.display.HTML object>"
      ]
     },
     "metadata": {},
     "output_type": "display_data"
    },
    {
     "data": {
      "text/html": [
       " View run at <a href='https://wandb.ai/yuya00-university-of-hyogo/vertebrae-augmentation_axial_learning_1/runs/rcx699fb' target=\"_blank\">https://wandb.ai/yuya00-university-of-hyogo/vertebrae-augmentation_axial_learning_1/runs/rcx699fb</a>"
      ],
      "text/plain": [
       "<IPython.core.display.HTML object>"
      ]
     },
     "metadata": {},
     "output_type": "display_data"
    },
    {
     "data": {
      "application/vnd.jupyter.widget-view+json": {
       "model_id": "d5eef60911564106a42ab05591b2e2a2",
       "version_major": 2,
       "version_minor": 0
      },
      "text/plain": [
       "[Train] 1/20:   0%|          | 0/1036 [00:00<?, ?it/s]"
      ]
     },
     "metadata": {},
     "output_type": "display_data"
    },
    {
     "data": {
      "application/vnd.jupyter.widget-view+json": {
       "model_id": "f91f273c1b6740aba3eef10b2f1fd498",
       "version_major": 2,
       "version_minor": 0
      },
      "text/plain": [
       "[Train] 2/20:   0%|          | 0/1036 [00:00<?, ?it/s]"
      ]
     },
     "metadata": {},
     "output_type": "display_data"
    },
    {
     "data": {
      "application/vnd.jupyter.widget-view+json": {
       "model_id": "38106c3a2d5e4fc0932834fac7b5aabd",
       "version_major": 2,
       "version_minor": 0
      },
      "text/plain": [
       "[Train] 3/20:   0%|          | 0/1036 [00:00<?, ?it/s]"
      ]
     },
     "metadata": {},
     "output_type": "display_data"
    },
    {
     "data": {
      "application/vnd.jupyter.widget-view+json": {
       "model_id": "cefe2d8ff33b4c89ba59445d96b4d18e",
       "version_major": 2,
       "version_minor": 0
      },
      "text/plain": [
       "[Train] 4/20:   0%|          | 0/1036 [00:00<?, ?it/s]"
      ]
     },
     "metadata": {},
     "output_type": "display_data"
    },
    {
     "data": {
      "application/vnd.jupyter.widget-view+json": {
       "model_id": "a78467433e244524badb38360aaf5d0d",
       "version_major": 2,
       "version_minor": 0
      },
      "text/plain": [
       "[Train] 5/20:   0%|          | 0/1036 [00:00<?, ?it/s]"
      ]
     },
     "metadata": {},
     "output_type": "display_data"
    },
    {
     "data": {
      "application/vnd.jupyter.widget-view+json": {
       "model_id": "b8ebcd57f5b348a2854cd812b6a476bc",
       "version_major": 2,
       "version_minor": 0
      },
      "text/plain": [
       "[Train] 6/20:   0%|          | 0/1036 [00:00<?, ?it/s]"
      ]
     },
     "metadata": {},
     "output_type": "display_data"
    },
    {
     "data": {
      "application/vnd.jupyter.widget-view+json": {
       "model_id": "ce35fecfb0304a1280187a7b6f8d020c",
       "version_major": 2,
       "version_minor": 0
      },
      "text/plain": [
       "[Train] 7/20:   0%|          | 0/1036 [00:00<?, ?it/s]"
      ]
     },
     "metadata": {},
     "output_type": "display_data"
    },
    {
     "data": {
      "application/vnd.jupyter.widget-view+json": {
       "model_id": "72c4f80c73a241a99c3414a34268473e",
       "version_major": 2,
       "version_minor": 0
      },
      "text/plain": [
       "[Train] 8/20:   0%|          | 0/1036 [00:00<?, ?it/s]"
      ]
     },
     "metadata": {},
     "output_type": "display_data"
    },
    {
     "data": {
      "application/vnd.jupyter.widget-view+json": {
       "model_id": "c6ed2834b2324d638a981cb8cb211097",
       "version_major": 2,
       "version_minor": 0
      },
      "text/plain": [
       "[Train] 9/20:   0%|          | 0/1036 [00:00<?, ?it/s]"
      ]
     },
     "metadata": {},
     "output_type": "display_data"
    },
    {
     "data": {
      "application/vnd.jupyter.widget-view+json": {
       "model_id": "e059889aca654a6f97715324dacf1b50",
       "version_major": 2,
       "version_minor": 0
      },
      "text/plain": [
       "[Train] 10/20:   0%|          | 0/1036 [00:00<?, ?it/s]"
      ]
     },
     "metadata": {},
     "output_type": "display_data"
    },
    {
     "data": {
      "application/vnd.jupyter.widget-view+json": {
       "model_id": "2a57171bae99449db5a54ab517c6d1c1",
       "version_major": 2,
       "version_minor": 0
      },
      "text/plain": [
       "[Train] 11/20:   0%|          | 0/1036 [00:00<?, ?it/s]"
      ]
     },
     "metadata": {},
     "output_type": "display_data"
    },
    {
     "data": {
      "application/vnd.jupyter.widget-view+json": {
       "model_id": "820a0aa58e344549ba4717dbc045ce97",
       "version_major": 2,
       "version_minor": 0
      },
      "text/plain": [
       "[Train] 12/20:   0%|          | 0/1036 [00:00<?, ?it/s]"
      ]
     },
     "metadata": {},
     "output_type": "display_data"
    },
    {
     "data": {
      "application/vnd.jupyter.widget-view+json": {
       "model_id": "605aae59903744d898ceb901b8eecf34",
       "version_major": 2,
       "version_minor": 0
      },
      "text/plain": [
       "[Train] 13/20:   0%|          | 0/1036 [00:00<?, ?it/s]"
      ]
     },
     "metadata": {},
     "output_type": "display_data"
    },
    {
     "data": {
      "application/vnd.jupyter.widget-view+json": {
       "model_id": "0eff46b7daa9464da48ec13945a3465a",
       "version_major": 2,
       "version_minor": 0
      },
      "text/plain": [
       "[Train] 14/20:   0%|          | 0/1036 [00:00<?, ?it/s]"
      ]
     },
     "metadata": {},
     "output_type": "display_data"
    },
    {
     "data": {
      "application/vnd.jupyter.widget-view+json": {
       "model_id": "8e4ee6f20cd645daaf9351a0721a55e8",
       "version_major": 2,
       "version_minor": 0
      },
      "text/plain": [
       "[Train] 15/20:   0%|          | 0/1036 [00:00<?, ?it/s]"
      ]
     },
     "metadata": {},
     "output_type": "display_data"
    },
    {
     "data": {
      "application/vnd.jupyter.widget-view+json": {
       "model_id": "69bb20ad655744c586ec6e2272803779",
       "version_major": 2,
       "version_minor": 0
      },
      "text/plain": [
       "[Train] 16/20:   0%|          | 0/1036 [00:00<?, ?it/s]"
      ]
     },
     "metadata": {},
     "output_type": "display_data"
    },
    {
     "data": {
      "application/vnd.jupyter.widget-view+json": {
       "model_id": "c6919473a5814c5b8dacf67105e82cdd",
       "version_major": 2,
       "version_minor": 0
      },
      "text/plain": [
       "[Train] 17/20:   0%|          | 0/1036 [00:00<?, ?it/s]"
      ]
     },
     "metadata": {},
     "output_type": "display_data"
    },
    {
     "data": {
      "application/vnd.jupyter.widget-view+json": {
       "model_id": "ce6d5a4891e843138054852656acf02b",
       "version_major": 2,
       "version_minor": 0
      },
      "text/plain": [
       "[Train] 18/20:   0%|          | 0/1036 [00:00<?, ?it/s]"
      ]
     },
     "metadata": {},
     "output_type": "display_data"
    },
    {
     "data": {
      "application/vnd.jupyter.widget-view+json": {
       "model_id": "bbf7d0ad651146a0999b42b19fde3760",
       "version_major": 2,
       "version_minor": 0
      },
      "text/plain": [
       "[Train] 19/20:   0%|          | 0/1036 [00:00<?, ?it/s]"
      ]
     },
     "metadata": {},
     "output_type": "display_data"
    },
    {
     "data": {
      "application/vnd.jupyter.widget-view+json": {
       "model_id": "2511b9b662954ce9aed9ac00cb547203",
       "version_major": 2,
       "version_minor": 0
      },
      "text/plain": [
       "[Train] 20/20:   0%|          | 0/1036 [00:00<?, ?it/s]"
      ]
     },
     "metadata": {},
     "output_type": "display_data"
    },
    {
     "name": "stderr",
     "output_type": "stream",
     "text": [
      "\u001b[34m\u001b[1mwandb\u001b[0m: \u001b[32m\u001b[41mERROR\u001b[0m The nbformat package was not found. It is required to save notebook history.\n"
     ]
    },
    {
     "data": {
      "text/html": [],
      "text/plain": [
       "<IPython.core.display.HTML object>"
      ]
     },
     "metadata": {},
     "output_type": "display_data"
    },
    {
     "data": {
      "text/html": [
       "<br>    <style><br>        .wandb-row {<br>            display: flex;<br>            flex-direction: row;<br>            flex-wrap: wrap;<br>            justify-content: flex-start;<br>            width: 100%;<br>        }<br>        .wandb-col {<br>            display: flex;<br>            flex-direction: column;<br>            flex-basis: 100%;<br>            flex: 1;<br>            padding: 10px;<br>        }<br>    </style><br><div class=\"wandb-row\"><div class=\"wandb-col\"><h3>Run history:</h3><br/><table class=\"wandb\"><tr><td>best_th</td><td>▃▄▅▆▁▆▃▅▃▃▆▇▆▅▆█▆▆█▇</td></tr><tr><td>epoch</td><td>▁▁▂▂▂▃▃▄▄▄▅▅▅▆▆▇▇▇██</td></tr><tr><td>lr</td><td>████████████▁▁▁▁▁▁▁▁</td></tr><tr><td>precision</td><td>▂▁▃▃▂▃▃▄▂▄▃▆▆▆▆▆▆▇▇█</td></tr><tr><td>recall</td><td>▆▆▆▅█▅▄█▅▇▇▁▃▂▂▃▄▂▂▁</td></tr><tr><td>train_loss</td><td>█▄▃▂▂▂▂▁▁▁▁▁▁▁▁▁▁▁▁▁</td></tr><tr><td>val_loss</td><td>▁▂▂▄▄▅▆▅▆▆▇▆▇▇▇▇▇▇██</td></tr><tr><td>val_prauc</td><td>▂▁▄▄▃▅▃█▄▅▄▃▆▄▅▅▅▅▆▅</td></tr></table><br/></div><div class=\"wandb-col\"><h3>Run summary:</h3><br/><table class=\"wandb\"><tr><td>best_epoch</td><td>8</td></tr><tr><td>best_prauc</td><td>0.48072</td></tr><tr><td>best_th</td><td>0.63452</td></tr><tr><td>epoch</td><td>20</td></tr><tr><td>lr</td><td>0.0</td></tr><tr><td>precision</td><td>0.67954</td></tr><tr><td>recall</td><td>0.31373</td></tr><tr><td>saved_model_path</td><td>best_model_20250414_...</td></tr><tr><td>train_loss</td><td>0.00254</td></tr><tr><td>val_loss</td><td>0.35887</td></tr><tr><td>val_prauc</td><td>0.44407</td></tr></table><br/></div></div>"
      ],
      "text/plain": [
       "<IPython.core.display.HTML object>"
      ]
     },
     "metadata": {},
     "output_type": "display_data"
    },
    {
     "data": {
      "text/html": [
       " View run <strong style=\"color:#cdcd00\">skilled-sound-2</strong> at: <a href='https://wandb.ai/yuya00-university-of-hyogo/vertebrae-augmentation_axial_learning_1/runs/rcx699fb' target=\"_blank\">https://wandb.ai/yuya00-university-of-hyogo/vertebrae-augmentation_axial_learning_1/runs/rcx699fb</a><br> View project at: <a href='https://wandb.ai/yuya00-university-of-hyogo/vertebrae-augmentation_axial_learning_1' target=\"_blank\">https://wandb.ai/yuya00-university-of-hyogo/vertebrae-augmentation_axial_learning_1</a><br>Synced 5 W&B file(s), 0 media file(s), 0 artifact file(s) and 0 other file(s)"
      ],
      "text/plain": [
       "<IPython.core.display.HTML object>"
      ]
     },
     "metadata": {},
     "output_type": "display_data"
    },
    {
     "data": {
      "text/html": [
       "Find logs at: <code>./wandb/run-20250414_165906-rcx699fb/logs</code>"
      ],
      "text/plain": [
       "<IPython.core.display.HTML object>"
      ]
     },
     "metadata": {},
     "output_type": "display_data"
    },
    {
     "name": "stdout",
     "output_type": "stream",
     "text": [
      "Finished: Ep20 LR1e-05 WD0.001 DO0.0 → PRAUC 0.4807\n"
     ]
    },
    {
     "name": "stderr",
     "output_type": "stream",
     "text": [
      "/mnt/nfs1/home/yamamoto-hiroto/research/vertebrae/.venv/lib/python3.12/site-packages/torchvision/models/_utils.py:208: UserWarning: The parameter 'pretrained' is deprecated since 0.13 and may be removed in the future, please use 'weights' instead.\n",
      "  warnings.warn(\n",
      "/mnt/nfs1/home/yamamoto-hiroto/research/vertebrae/.venv/lib/python3.12/site-packages/torchvision/models/_utils.py:223: UserWarning: Arguments other than a weight enum or `None` for 'weights' are deprecated since 0.13 and may be removed in the future. The current behavior is equivalent to passing `weights=ResNet18_Weights.IMAGENET1K_V1`. You can also use `weights=ResNet18_Weights.DEFAULT` to get the most up-to-date weights.\n",
      "  warnings.warn(msg)\n"
     ]
    },
    {
     "data": {
      "text/html": [
       "Tracking run with wandb version 0.19.9"
      ],
      "text/plain": [
       "<IPython.core.display.HTML object>"
      ]
     },
     "metadata": {},
     "output_type": "display_data"
    },
    {
     "data": {
      "text/html": [
       "Run data is saved locally in <code>/mnt/nfs1/home/yamamoto-hiroto/research/vertebrae/Sakaguchi_file/S_model_learning/wandb/run-20250414_171756-jsonki17</code>"
      ],
      "text/plain": [
       "<IPython.core.display.HTML object>"
      ]
     },
     "metadata": {},
     "output_type": "display_data"
    },
    {
     "data": {
      "text/html": [
       "Syncing run <strong><a href='https://wandb.ai/yuya00-university-of-hyogo/vertebrae-augmentation_axial_learning_1/runs/jsonki17' target=\"_blank\">pretty-wildflower-3</a></strong> to <a href='https://wandb.ai/yuya00-university-of-hyogo/vertebrae-augmentation_axial_learning_1' target=\"_blank\">Weights & Biases</a> (<a href='https://wandb.me/developer-guide' target=\"_blank\">docs</a>)<br>"
      ],
      "text/plain": [
       "<IPython.core.display.HTML object>"
      ]
     },
     "metadata": {},
     "output_type": "display_data"
    },
    {
     "data": {
      "text/html": [
       " View project at <a href='https://wandb.ai/yuya00-university-of-hyogo/vertebrae-augmentation_axial_learning_1' target=\"_blank\">https://wandb.ai/yuya00-university-of-hyogo/vertebrae-augmentation_axial_learning_1</a>"
      ],
      "text/plain": [
       "<IPython.core.display.HTML object>"
      ]
     },
     "metadata": {},
     "output_type": "display_data"
    },
    {
     "data": {
      "text/html": [
       " View run at <a href='https://wandb.ai/yuya00-university-of-hyogo/vertebrae-augmentation_axial_learning_1/runs/jsonki17' target=\"_blank\">https://wandb.ai/yuya00-university-of-hyogo/vertebrae-augmentation_axial_learning_1/runs/jsonki17</a>"
      ],
      "text/plain": [
       "<IPython.core.display.HTML object>"
      ]
     },
     "metadata": {},
     "output_type": "display_data"
    },
    {
     "data": {
      "application/vnd.jupyter.widget-view+json": {
       "model_id": "6b0d7ec0b1c4457ba045eb2654df2974",
       "version_major": 2,
       "version_minor": 0
      },
      "text/plain": [
       "[Train] 1/20:   0%|          | 0/1036 [00:00<?, ?it/s]"
      ]
     },
     "metadata": {},
     "output_type": "display_data"
    },
    {
     "data": {
      "application/vnd.jupyter.widget-view+json": {
       "model_id": "a6642fea6d594e9ca5d3dc449d5f2228",
       "version_major": 2,
       "version_minor": 0
      },
      "text/plain": [
       "[Train] 2/20:   0%|          | 0/1036 [00:00<?, ?it/s]"
      ]
     },
     "metadata": {},
     "output_type": "display_data"
    },
    {
     "data": {
      "application/vnd.jupyter.widget-view+json": {
       "model_id": "1e999c447e464d41a608d06a9edc47d5",
       "version_major": 2,
       "version_minor": 0
      },
      "text/plain": [
       "[Train] 3/20:   0%|          | 0/1036 [00:00<?, ?it/s]"
      ]
     },
     "metadata": {},
     "output_type": "display_data"
    },
    {
     "data": {
      "application/vnd.jupyter.widget-view+json": {
       "model_id": "e1f6ce5f26a14215a56a80a402166f12",
       "version_major": 2,
       "version_minor": 0
      },
      "text/plain": [
       "[Train] 4/20:   0%|          | 0/1036 [00:00<?, ?it/s]"
      ]
     },
     "metadata": {},
     "output_type": "display_data"
    },
    {
     "data": {
      "application/vnd.jupyter.widget-view+json": {
       "model_id": "6397b20e92ae453aa2fb4b417bc67835",
       "version_major": 2,
       "version_minor": 0
      },
      "text/plain": [
       "[Train] 5/20:   0%|          | 0/1036 [00:00<?, ?it/s]"
      ]
     },
     "metadata": {},
     "output_type": "display_data"
    },
    {
     "data": {
      "application/vnd.jupyter.widget-view+json": {
       "model_id": "01a926095858460d8e0fb17ba013d811",
       "version_major": 2,
       "version_minor": 0
      },
      "text/plain": [
       "[Train] 6/20:   0%|          | 0/1036 [00:00<?, ?it/s]"
      ]
     },
     "metadata": {},
     "output_type": "display_data"
    },
    {
     "data": {
      "application/vnd.jupyter.widget-view+json": {
       "model_id": "dc758b467e5a424b960e3efe3cbb4bee",
       "version_major": 2,
       "version_minor": 0
      },
      "text/plain": [
       "[Train] 7/20:   0%|          | 0/1036 [00:00<?, ?it/s]"
      ]
     },
     "metadata": {},
     "output_type": "display_data"
    },
    {
     "data": {
      "application/vnd.jupyter.widget-view+json": {
       "model_id": "903285af7aa74f99a47fcb1aaaf25035",
       "version_major": 2,
       "version_minor": 0
      },
      "text/plain": [
       "[Train] 8/20:   0%|          | 0/1036 [00:00<?, ?it/s]"
      ]
     },
     "metadata": {},
     "output_type": "display_data"
    },
    {
     "data": {
      "application/vnd.jupyter.widget-view+json": {
       "model_id": "3f91ba6111f7470882be9e65c46fcf30",
       "version_major": 2,
       "version_minor": 0
      },
      "text/plain": [
       "[Train] 9/20:   0%|          | 0/1036 [00:00<?, ?it/s]"
      ]
     },
     "metadata": {},
     "output_type": "display_data"
    },
    {
     "data": {
      "application/vnd.jupyter.widget-view+json": {
       "model_id": "aef44ce27ccb4dacabd96f3b07dd497d",
       "version_major": 2,
       "version_minor": 0
      },
      "text/plain": [
       "[Train] 10/20:   0%|          | 0/1036 [00:00<?, ?it/s]"
      ]
     },
     "metadata": {},
     "output_type": "display_data"
    },
    {
     "data": {
      "application/vnd.jupyter.widget-view+json": {
       "model_id": "accf2f8c2ee04aa9a935aa3f0fd2d5c3",
       "version_major": 2,
       "version_minor": 0
      },
      "text/plain": [
       "[Train] 11/20:   0%|          | 0/1036 [00:00<?, ?it/s]"
      ]
     },
     "metadata": {},
     "output_type": "display_data"
    },
    {
     "data": {
      "application/vnd.jupyter.widget-view+json": {
       "model_id": "d751f81e0ab146f6a86fc1540808ac07",
       "version_major": 2,
       "version_minor": 0
      },
      "text/plain": [
       "[Train] 12/20:   0%|          | 0/1036 [00:00<?, ?it/s]"
      ]
     },
     "metadata": {},
     "output_type": "display_data"
    },
    {
     "data": {
      "application/vnd.jupyter.widget-view+json": {
       "model_id": "68b772cb4ed349f48832675012dd5b93",
       "version_major": 2,
       "version_minor": 0
      },
      "text/plain": [
       "[Train] 13/20:   0%|          | 0/1036 [00:00<?, ?it/s]"
      ]
     },
     "metadata": {},
     "output_type": "display_data"
    },
    {
     "data": {
      "application/vnd.jupyter.widget-view+json": {
       "model_id": "b7e7a713caab4a7fba139f07ddf3c0ec",
       "version_major": 2,
       "version_minor": 0
      },
      "text/plain": [
       "[Train] 14/20:   0%|          | 0/1036 [00:00<?, ?it/s]"
      ]
     },
     "metadata": {},
     "output_type": "display_data"
    },
    {
     "data": {
      "application/vnd.jupyter.widget-view+json": {
       "model_id": "b3926bf820c0412e87bc36444fa2685e",
       "version_major": 2,
       "version_minor": 0
      },
      "text/plain": [
       "[Train] 15/20:   0%|          | 0/1036 [00:00<?, ?it/s]"
      ]
     },
     "metadata": {},
     "output_type": "display_data"
    },
    {
     "data": {
      "application/vnd.jupyter.widget-view+json": {
       "model_id": "4e83541face64fecadade3c832c63527",
       "version_major": 2,
       "version_minor": 0
      },
      "text/plain": [
       "[Train] 16/20:   0%|          | 0/1036 [00:00<?, ?it/s]"
      ]
     },
     "metadata": {},
     "output_type": "display_data"
    },
    {
     "data": {
      "application/vnd.jupyter.widget-view+json": {
       "model_id": "e15cf62ec72f4de6a566b4104519618f",
       "version_major": 2,
       "version_minor": 0
      },
      "text/plain": [
       "[Train] 17/20:   0%|          | 0/1036 [00:00<?, ?it/s]"
      ]
     },
     "metadata": {},
     "output_type": "display_data"
    },
    {
     "data": {
      "application/vnd.jupyter.widget-view+json": {
       "model_id": "5cf2f5990756405b93f50156d9645567",
       "version_major": 2,
       "version_minor": 0
      },
      "text/plain": [
       "[Train] 18/20:   0%|          | 0/1036 [00:00<?, ?it/s]"
      ]
     },
     "metadata": {},
     "output_type": "display_data"
    },
    {
     "data": {
      "application/vnd.jupyter.widget-view+json": {
       "model_id": "52c31027e2144bf7aa0ec5687a535272",
       "version_major": 2,
       "version_minor": 0
      },
      "text/plain": [
       "[Train] 19/20:   0%|          | 0/1036 [00:00<?, ?it/s]"
      ]
     },
     "metadata": {},
     "output_type": "display_data"
    },
    {
     "data": {
      "application/vnd.jupyter.widget-view+json": {
       "model_id": "baa0d35b993045dfa3b7a8b7f9e369bb",
       "version_major": 2,
       "version_minor": 0
      },
      "text/plain": [
       "[Train] 20/20:   0%|          | 0/1036 [00:00<?, ?it/s]"
      ]
     },
     "metadata": {},
     "output_type": "display_data"
    },
    {
     "name": "stderr",
     "output_type": "stream",
     "text": [
      "\u001b[34m\u001b[1mwandb\u001b[0m: \u001b[32m\u001b[41mERROR\u001b[0m The nbformat package was not found. It is required to save notebook history.\n"
     ]
    },
    {
     "data": {
      "text/html": [],
      "text/plain": [
       "<IPython.core.display.HTML object>"
      ]
     },
     "metadata": {},
     "output_type": "display_data"
    },
    {
     "data": {
      "text/html": [
       "<br>    <style><br>        .wandb-row {<br>            display: flex;<br>            flex-direction: row;<br>            flex-wrap: wrap;<br>            justify-content: flex-start;<br>            width: 100%;<br>        }<br>        .wandb-col {<br>            display: flex;<br>            flex-direction: column;<br>            flex-basis: 100%;<br>            flex: 1;<br>            padding: 10px;<br>        }<br>    </style><br><div class=\"wandb-row\"><div class=\"wandb-col\"><h3>Run history:</h3><br/><table class=\"wandb\"><tr><td>best_th</td><td>▄▄▄▁▅▃▂▃▆▅▂▇▄▆▄▆▃█▅▆</td></tr><tr><td>epoch</td><td>▁▁▂▂▂▃▃▄▄▄▅▅▅▆▆▇▇▇██</td></tr><tr><td>lr</td><td>████████████▁▁▁▁▁▁▁▁</td></tr><tr><td>precision</td><td>▄▂▆▄▅▁▃▃▆█▃▂▅█▅▇▅▇▆▆</td></tr><tr><td>recall</td><td>▄▇▅█▂▅▃▂▂▁▃▂▃▁▂▁▂▁▂▂</td></tr><tr><td>train_loss</td><td>█▄▃▂▂▂▂▂▁▁▁▁▁▁▁▁▁▁▁▁</td></tr><tr><td>val_loss</td><td>▁▂▁▄▃▅▇▇▇▅▆▇▆▆▇▇▇█▇▇</td></tr><tr><td>val_prauc</td><td>▅▅██▅▅▄▃▃▅▄▁▅▅▅▅▅▄▄▅</td></tr></table><br/></div><div class=\"wandb-col\"><h3>Run summary:</h3><br/><table class=\"wandb\"><tr><td>best_epoch</td><td>4</td></tr><tr><td>best_prauc</td><td>0.44054</td></tr><tr><td>best_th</td><td>0.68267</td></tr><tr><td>epoch</td><td>20</td></tr><tr><td>lr</td><td>0.0</td></tr><tr><td>precision</td><td>0.51351</td></tr><tr><td>recall</td><td>0.30481</td></tr><tr><td>saved_model_path</td><td>best_model_20250414_...</td></tr><tr><td>train_loss</td><td>0.00286</td></tr><tr><td>val_loss</td><td>0.38761</td></tr><tr><td>val_prauc</td><td>0.3933</td></tr></table><br/></div></div>"
      ],
      "text/plain": [
       "<IPython.core.display.HTML object>"
      ]
     },
     "metadata": {},
     "output_type": "display_data"
    },
    {
     "data": {
      "text/html": [
       " View run <strong style=\"color:#cdcd00\">pretty-wildflower-3</strong> at: <a href='https://wandb.ai/yuya00-university-of-hyogo/vertebrae-augmentation_axial_learning_1/runs/jsonki17' target=\"_blank\">https://wandb.ai/yuya00-university-of-hyogo/vertebrae-augmentation_axial_learning_1/runs/jsonki17</a><br> View project at: <a href='https://wandb.ai/yuya00-university-of-hyogo/vertebrae-augmentation_axial_learning_1' target=\"_blank\">https://wandb.ai/yuya00-university-of-hyogo/vertebrae-augmentation_axial_learning_1</a><br>Synced 5 W&B file(s), 0 media file(s), 0 artifact file(s) and 0 other file(s)"
      ],
      "text/plain": [
       "<IPython.core.display.HTML object>"
      ]
     },
     "metadata": {},
     "output_type": "display_data"
    },
    {
     "data": {
      "text/html": [
       "Find logs at: <code>./wandb/run-20250414_171756-jsonki17/logs</code>"
      ],
      "text/plain": [
       "<IPython.core.display.HTML object>"
      ]
     },
     "metadata": {},
     "output_type": "display_data"
    },
    {
     "name": "stdout",
     "output_type": "stream",
     "text": [
      "Finished: Ep20 LR1e-05 WD0.01 DO0.3 → PRAUC 0.4405\n"
     ]
    },
    {
     "name": "stderr",
     "output_type": "stream",
     "text": [
      "/mnt/nfs1/home/yamamoto-hiroto/research/vertebrae/.venv/lib/python3.12/site-packages/torchvision/models/_utils.py:208: UserWarning: The parameter 'pretrained' is deprecated since 0.13 and may be removed in the future, please use 'weights' instead.\n",
      "  warnings.warn(\n",
      "/mnt/nfs1/home/yamamoto-hiroto/research/vertebrae/.venv/lib/python3.12/site-packages/torchvision/models/_utils.py:223: UserWarning: Arguments other than a weight enum or `None` for 'weights' are deprecated since 0.13 and may be removed in the future. The current behavior is equivalent to passing `weights=ResNet18_Weights.IMAGENET1K_V1`. You can also use `weights=ResNet18_Weights.DEFAULT` to get the most up-to-date weights.\n",
      "  warnings.warn(msg)\n"
     ]
    },
    {
     "data": {
      "text/html": [
       "Tracking run with wandb version 0.19.9"
      ],
      "text/plain": [
       "<IPython.core.display.HTML object>"
      ]
     },
     "metadata": {},
     "output_type": "display_data"
    },
    {
     "data": {
      "text/html": [
       "Run data is saved locally in <code>/mnt/nfs1/home/yamamoto-hiroto/research/vertebrae/Sakaguchi_file/S_model_learning/wandb/run-20250414_174723-xrlcv1af</code>"
      ],
      "text/plain": [
       "<IPython.core.display.HTML object>"
      ]
     },
     "metadata": {},
     "output_type": "display_data"
    },
    {
     "data": {
      "text/html": [
       "Syncing run <strong><a href='https://wandb.ai/yuya00-university-of-hyogo/vertebrae-augmentation_axial_learning_1/runs/xrlcv1af' target=\"_blank\">sparkling-leaf-4</a></strong> to <a href='https://wandb.ai/yuya00-university-of-hyogo/vertebrae-augmentation_axial_learning_1' target=\"_blank\">Weights & Biases</a> (<a href='https://wandb.me/developer-guide' target=\"_blank\">docs</a>)<br>"
      ],
      "text/plain": [
       "<IPython.core.display.HTML object>"
      ]
     },
     "metadata": {},
     "output_type": "display_data"
    },
    {
     "data": {
      "text/html": [
       " View project at <a href='https://wandb.ai/yuya00-university-of-hyogo/vertebrae-augmentation_axial_learning_1' target=\"_blank\">https://wandb.ai/yuya00-university-of-hyogo/vertebrae-augmentation_axial_learning_1</a>"
      ],
      "text/plain": [
       "<IPython.core.display.HTML object>"
      ]
     },
     "metadata": {},
     "output_type": "display_data"
    },
    {
     "data": {
      "text/html": [
       " View run at <a href='https://wandb.ai/yuya00-university-of-hyogo/vertebrae-augmentation_axial_learning_1/runs/xrlcv1af' target=\"_blank\">https://wandb.ai/yuya00-university-of-hyogo/vertebrae-augmentation_axial_learning_1/runs/xrlcv1af</a>"
      ],
      "text/plain": [
       "<IPython.core.display.HTML object>"
      ]
     },
     "metadata": {},
     "output_type": "display_data"
    },
    {
     "data": {
      "application/vnd.jupyter.widget-view+json": {
       "model_id": "c7b912f7cf5946c7be7cb67c29b0be1f",
       "version_major": 2,
       "version_minor": 0
      },
      "text/plain": [
       "[Train] 1/20:   0%|          | 0/1036 [00:00<?, ?it/s]"
      ]
     },
     "metadata": {},
     "output_type": "display_data"
    },
    {
     "data": {
      "application/vnd.jupyter.widget-view+json": {
       "model_id": "bb6f708105434baebfc9f511d676b740",
       "version_major": 2,
       "version_minor": 0
      },
      "text/plain": [
       "[Train] 2/20:   0%|          | 0/1036 [00:00<?, ?it/s]"
      ]
     },
     "metadata": {},
     "output_type": "display_data"
    },
    {
     "data": {
      "application/vnd.jupyter.widget-view+json": {
       "model_id": "18146c509533418b91aa5dc121be400c",
       "version_major": 2,
       "version_minor": 0
      },
      "text/plain": [
       "[Train] 3/20:   0%|          | 0/1036 [00:00<?, ?it/s]"
      ]
     },
     "metadata": {},
     "output_type": "display_data"
    },
    {
     "data": {
      "application/vnd.jupyter.widget-view+json": {
       "model_id": "3735cc83300b425db13c2e3b5c4041c5",
       "version_major": 2,
       "version_minor": 0
      },
      "text/plain": [
       "[Train] 4/20:   0%|          | 0/1036 [00:00<?, ?it/s]"
      ]
     },
     "metadata": {},
     "output_type": "display_data"
    },
    {
     "data": {
      "application/vnd.jupyter.widget-view+json": {
       "model_id": "e724a1f050074d7d807953ce3cc73799",
       "version_major": 2,
       "version_minor": 0
      },
      "text/plain": [
       "[Train] 5/20:   0%|          | 0/1036 [00:00<?, ?it/s]"
      ]
     },
     "metadata": {},
     "output_type": "display_data"
    },
    {
     "data": {
      "application/vnd.jupyter.widget-view+json": {
       "model_id": "915e7ac06c7d4926a80bc17bf3f49f02",
       "version_major": 2,
       "version_minor": 0
      },
      "text/plain": [
       "[Train] 6/20:   0%|          | 0/1036 [00:00<?, ?it/s]"
      ]
     },
     "metadata": {},
     "output_type": "display_data"
    },
    {
     "data": {
      "application/vnd.jupyter.widget-view+json": {
       "model_id": "268d44fda76c4a718ea8a07efc3de448",
       "version_major": 2,
       "version_minor": 0
      },
      "text/plain": [
       "[Train] 7/20:   0%|          | 0/1036 [00:00<?, ?it/s]"
      ]
     },
     "metadata": {},
     "output_type": "display_data"
    },
    {
     "data": {
      "application/vnd.jupyter.widget-view+json": {
       "model_id": "a10b9cf7335e4df8ad882a78db3a5984",
       "version_major": 2,
       "version_minor": 0
      },
      "text/plain": [
       "[Train] 8/20:   0%|          | 0/1036 [00:00<?, ?it/s]"
      ]
     },
     "metadata": {},
     "output_type": "display_data"
    },
    {
     "data": {
      "application/vnd.jupyter.widget-view+json": {
       "model_id": "a2baead96b0c4f62a989cfa9a5bd8ac6",
       "version_major": 2,
       "version_minor": 0
      },
      "text/plain": [
       "[Train] 9/20:   0%|          | 0/1036 [00:00<?, ?it/s]"
      ]
     },
     "metadata": {},
     "output_type": "display_data"
    },
    {
     "data": {
      "application/vnd.jupyter.widget-view+json": {
       "model_id": "d31e1ade343f43a4af7badbdee211795",
       "version_major": 2,
       "version_minor": 0
      },
      "text/plain": [
       "[Train] 10/20:   0%|          | 0/1036 [00:00<?, ?it/s]"
      ]
     },
     "metadata": {},
     "output_type": "display_data"
    },
    {
     "data": {
      "application/vnd.jupyter.widget-view+json": {
       "model_id": "45e184bac96d499b944526c19757c57c",
       "version_major": 2,
       "version_minor": 0
      },
      "text/plain": [
       "[Train] 11/20:   0%|          | 0/1036 [00:00<?, ?it/s]"
      ]
     },
     "metadata": {},
     "output_type": "display_data"
    },
    {
     "data": {
      "application/vnd.jupyter.widget-view+json": {
       "model_id": "be350f248d494678bae878053366fe61",
       "version_major": 2,
       "version_minor": 0
      },
      "text/plain": [
       "[Train] 12/20:   0%|          | 0/1036 [00:00<?, ?it/s]"
      ]
     },
     "metadata": {},
     "output_type": "display_data"
    },
    {
     "data": {
      "application/vnd.jupyter.widget-view+json": {
       "model_id": "b3f4b2a0b07b4deb95b90332572f1d4f",
       "version_major": 2,
       "version_minor": 0
      },
      "text/plain": [
       "[Train] 13/20:   0%|          | 0/1036 [00:00<?, ?it/s]"
      ]
     },
     "metadata": {},
     "output_type": "display_data"
    },
    {
     "data": {
      "application/vnd.jupyter.widget-view+json": {
       "model_id": "a61127aeff75435bac89410535dca922",
       "version_major": 2,
       "version_minor": 0
      },
      "text/plain": [
       "[Train] 14/20:   0%|          | 0/1036 [00:00<?, ?it/s]"
      ]
     },
     "metadata": {},
     "output_type": "display_data"
    },
    {
     "data": {
      "application/vnd.jupyter.widget-view+json": {
       "model_id": "604f161be80f4556bed7d2c6e9471fad",
       "version_major": 2,
       "version_minor": 0
      },
      "text/plain": [
       "[Train] 15/20:   0%|          | 0/1036 [00:00<?, ?it/s]"
      ]
     },
     "metadata": {},
     "output_type": "display_data"
    },
    {
     "data": {
      "application/vnd.jupyter.widget-view+json": {
       "model_id": "c67cf5aaaf114968bd58c300418ca5a8",
       "version_major": 2,
       "version_minor": 0
      },
      "text/plain": [
       "[Train] 16/20:   0%|          | 0/1036 [00:00<?, ?it/s]"
      ]
     },
     "metadata": {},
     "output_type": "display_data"
    },
    {
     "data": {
      "application/vnd.jupyter.widget-view+json": {
       "model_id": "e18c5afc4b164c97aaf8e5551b50ec98",
       "version_major": 2,
       "version_minor": 0
      },
      "text/plain": [
       "[Train] 17/20:   0%|          | 0/1036 [00:00<?, ?it/s]"
      ]
     },
     "metadata": {},
     "output_type": "display_data"
    },
    {
     "data": {
      "application/vnd.jupyter.widget-view+json": {
       "model_id": "5b2f7879c2bc454f9149e3c3f1640acd",
       "version_major": 2,
       "version_minor": 0
      },
      "text/plain": [
       "[Train] 18/20:   0%|          | 0/1036 [00:00<?, ?it/s]"
      ]
     },
     "metadata": {},
     "output_type": "display_data"
    },
    {
     "data": {
      "application/vnd.jupyter.widget-view+json": {
       "model_id": "84f0d7dd58414c11972b3e97fbb42d25",
       "version_major": 2,
       "version_minor": 0
      },
      "text/plain": [
       "[Train] 19/20:   0%|          | 0/1036 [00:00<?, ?it/s]"
      ]
     },
     "metadata": {},
     "output_type": "display_data"
    },
    {
     "data": {
      "application/vnd.jupyter.widget-view+json": {
       "model_id": "3def097f39334bdb9d42e550af4439d9",
       "version_major": 2,
       "version_minor": 0
      },
      "text/plain": [
       "[Train] 20/20:   0%|          | 0/1036 [00:00<?, ?it/s]"
      ]
     },
     "metadata": {},
     "output_type": "display_data"
    },
    {
     "name": "stderr",
     "output_type": "stream",
     "text": [
      "\u001b[34m\u001b[1mwandb\u001b[0m: \u001b[32m\u001b[41mERROR\u001b[0m The nbformat package was not found. It is required to save notebook history.\n"
     ]
    },
    {
     "data": {
      "text/html": [],
      "text/plain": [
       "<IPython.core.display.HTML object>"
      ]
     },
     "metadata": {},
     "output_type": "display_data"
    },
    {
     "data": {
      "text/html": [
       "<br>    <style><br>        .wandb-row {<br>            display: flex;<br>            flex-direction: row;<br>            flex-wrap: wrap;<br>            justify-content: flex-start;<br>            width: 100%;<br>        }<br>        .wandb-col {<br>            display: flex;<br>            flex-direction: column;<br>            flex-basis: 100%;<br>            flex: 1;<br>            padding: 10px;<br>        }<br>    </style><br><div class=\"wandb-row\"><div class=\"wandb-col\"><h3>Run history:</h3><br/><table class=\"wandb\"><tr><td>best_th</td><td>▃▂▃▃▃▆▅▁▆▄▅█▅▃▃▅▅▃▂▁</td></tr><tr><td>epoch</td><td>▁▁▂▂▂▃▃▄▄▄▅▅▅▆▆▇▇▇██</td></tr><tr><td>lr</td><td>████████████▁▁▁▁▁▁▁▁</td></tr><tr><td>precision</td><td>▁▄▂▃▅▂▂▄▄▄▄▂█▆▇▇█▇▅▄</td></tr><tr><td>recall</td><td>█▃▇▅▂▃▇▅▃▃▆▁▃▄▃▃▄▃▅▅</td></tr><tr><td>train_loss</td><td>█▄▃▂▂▂▂▂▂▁▂▁▁▁▁▁▁▁▁▁</td></tr><tr><td>val_loss</td><td>▁▃▃▂▅▅▅▅▅▅▆█▆▅▆▅▆▅▅▇</td></tr><tr><td>val_prauc</td><td>▄▅▆▆▃▄▆▇▄▅▇▁▆▇▇██▇█▇</td></tr></table><br/></div><div class=\"wandb-col\"><h3>Run summary:</h3><br/><table class=\"wandb\"><tr><td>best_epoch</td><td>19</td></tr><tr><td>best_prauc</td><td>0.43534</td></tr><tr><td>best_th</td><td>0.17859</td></tr><tr><td>epoch</td><td>20</td></tr><tr><td>lr</td><td>0.0</td></tr><tr><td>precision</td><td>0.50258</td></tr><tr><td>recall</td><td>0.34759</td></tr><tr><td>saved_model_path</td><td>best_model_20250414_...</td></tr><tr><td>train_loss</td><td>0.00245</td></tr><tr><td>val_loss</td><td>0.35422</td></tr><tr><td>val_prauc</td><td>0.41931</td></tr></table><br/></div></div>"
      ],
      "text/plain": [
       "<IPython.core.display.HTML object>"
      ]
     },
     "metadata": {},
     "output_type": "display_data"
    },
    {
     "data": {
      "text/html": [
       " View run <strong style=\"color:#cdcd00\">sparkling-leaf-4</strong> at: <a href='https://wandb.ai/yuya00-university-of-hyogo/vertebrae-augmentation_axial_learning_1/runs/xrlcv1af' target=\"_blank\">https://wandb.ai/yuya00-university-of-hyogo/vertebrae-augmentation_axial_learning_1/runs/xrlcv1af</a><br> View project at: <a href='https://wandb.ai/yuya00-university-of-hyogo/vertebrae-augmentation_axial_learning_1' target=\"_blank\">https://wandb.ai/yuya00-university-of-hyogo/vertebrae-augmentation_axial_learning_1</a><br>Synced 5 W&B file(s), 0 media file(s), 0 artifact file(s) and 0 other file(s)"
      ],
      "text/plain": [
       "<IPython.core.display.HTML object>"
      ]
     },
     "metadata": {},
     "output_type": "display_data"
    },
    {
     "data": {
      "text/html": [
       "Find logs at: <code>./wandb/run-20250414_174723-xrlcv1af/logs</code>"
      ],
      "text/plain": [
       "<IPython.core.display.HTML object>"
      ]
     },
     "metadata": {},
     "output_type": "display_data"
    },
    {
     "name": "stdout",
     "output_type": "stream",
     "text": [
      "Finished: Ep20 LR1e-05 WD0.01 DO0.0 → PRAUC 0.4353\n"
     ]
    },
    {
     "name": "stderr",
     "output_type": "stream",
     "text": [
      "/mnt/nfs1/home/yamamoto-hiroto/research/vertebrae/.venv/lib/python3.12/site-packages/torchvision/models/_utils.py:208: UserWarning: The parameter 'pretrained' is deprecated since 0.13 and may be removed in the future, please use 'weights' instead.\n",
      "  warnings.warn(\n",
      "/mnt/nfs1/home/yamamoto-hiroto/research/vertebrae/.venv/lib/python3.12/site-packages/torchvision/models/_utils.py:223: UserWarning: Arguments other than a weight enum or `None` for 'weights' are deprecated since 0.13 and may be removed in the future. The current behavior is equivalent to passing `weights=ResNet18_Weights.IMAGENET1K_V1`. You can also use `weights=ResNet18_Weights.DEFAULT` to get the most up-to-date weights.\n",
      "  warnings.warn(msg)\n"
     ]
    },
    {
     "data": {
      "text/html": [
       "Tracking run with wandb version 0.19.9"
      ],
      "text/plain": [
       "<IPython.core.display.HTML object>"
      ]
     },
     "metadata": {},
     "output_type": "display_data"
    },
    {
     "data": {
      "text/html": [
       "Run data is saved locally in <code>/mnt/nfs1/home/yamamoto-hiroto/research/vertebrae/Sakaguchi_file/S_model_learning/wandb/run-20250414_182120-pfiah497</code>"
      ],
      "text/plain": [
       "<IPython.core.display.HTML object>"
      ]
     },
     "metadata": {},
     "output_type": "display_data"
    },
    {
     "data": {
      "text/html": [
       "Syncing run <strong><a href='https://wandb.ai/yuya00-university-of-hyogo/vertebrae-augmentation_axial_learning_1/runs/pfiah497' target=\"_blank\">bumbling-leaf-5</a></strong> to <a href='https://wandb.ai/yuya00-university-of-hyogo/vertebrae-augmentation_axial_learning_1' target=\"_blank\">Weights & Biases</a> (<a href='https://wandb.me/developer-guide' target=\"_blank\">docs</a>)<br>"
      ],
      "text/plain": [
       "<IPython.core.display.HTML object>"
      ]
     },
     "metadata": {},
     "output_type": "display_data"
    },
    {
     "data": {
      "text/html": [
       " View project at <a href='https://wandb.ai/yuya00-university-of-hyogo/vertebrae-augmentation_axial_learning_1' target=\"_blank\">https://wandb.ai/yuya00-university-of-hyogo/vertebrae-augmentation_axial_learning_1</a>"
      ],
      "text/plain": [
       "<IPython.core.display.HTML object>"
      ]
     },
     "metadata": {},
     "output_type": "display_data"
    },
    {
     "data": {
      "text/html": [
       " View run at <a href='https://wandb.ai/yuya00-university-of-hyogo/vertebrae-augmentation_axial_learning_1/runs/pfiah497' target=\"_blank\">https://wandb.ai/yuya00-university-of-hyogo/vertebrae-augmentation_axial_learning_1/runs/pfiah497</a>"
      ],
      "text/plain": [
       "<IPython.core.display.HTML object>"
      ]
     },
     "metadata": {},
     "output_type": "display_data"
    },
    {
     "data": {
      "application/vnd.jupyter.widget-view+json": {
       "model_id": "8d55836bef5149599cabc390d5cc5223",
       "version_major": 2,
       "version_minor": 0
      },
      "text/plain": [
       "[Train] 1/20:   0%|          | 0/1036 [00:00<?, ?it/s]"
      ]
     },
     "metadata": {},
     "output_type": "display_data"
    },
    {
     "data": {
      "application/vnd.jupyter.widget-view+json": {
       "model_id": "f9c50002ad314e85bd13dec2726178cf",
       "version_major": 2,
       "version_minor": 0
      },
      "text/plain": [
       "[Train] 2/20:   0%|          | 0/1036 [00:00<?, ?it/s]"
      ]
     },
     "metadata": {},
     "output_type": "display_data"
    },
    {
     "data": {
      "application/vnd.jupyter.widget-view+json": {
       "model_id": "76b703cdffac44cb88e716722fee3e9b",
       "version_major": 2,
       "version_minor": 0
      },
      "text/plain": [
       "[Train] 3/20:   0%|          | 0/1036 [00:00<?, ?it/s]"
      ]
     },
     "metadata": {},
     "output_type": "display_data"
    },
    {
     "data": {
      "application/vnd.jupyter.widget-view+json": {
       "model_id": "831dea1dbd004eb89571a591d7d7deb0",
       "version_major": 2,
       "version_minor": 0
      },
      "text/plain": [
       "[Train] 4/20:   0%|          | 0/1036 [00:00<?, ?it/s]"
      ]
     },
     "metadata": {},
     "output_type": "display_data"
    },
    {
     "data": {
      "application/vnd.jupyter.widget-view+json": {
       "model_id": "8a7d4df9b5c04250ae723d0004a34981",
       "version_major": 2,
       "version_minor": 0
      },
      "text/plain": [
       "[Train] 5/20:   0%|          | 0/1036 [00:00<?, ?it/s]"
      ]
     },
     "metadata": {},
     "output_type": "display_data"
    },
    {
     "data": {
      "application/vnd.jupyter.widget-view+json": {
       "model_id": "41212fd85caa493088519cdbfe706066",
       "version_major": 2,
       "version_minor": 0
      },
      "text/plain": [
       "[Train] 6/20:   0%|          | 0/1036 [00:00<?, ?it/s]"
      ]
     },
     "metadata": {},
     "output_type": "display_data"
    },
    {
     "data": {
      "application/vnd.jupyter.widget-view+json": {
       "model_id": "a5f994604af04b8cbc36cee511a91b86",
       "version_major": 2,
       "version_minor": 0
      },
      "text/plain": [
       "[Train] 7/20:   0%|          | 0/1036 [00:00<?, ?it/s]"
      ]
     },
     "metadata": {},
     "output_type": "display_data"
    },
    {
     "data": {
      "application/vnd.jupyter.widget-view+json": {
       "model_id": "eeed63fb28564f6ab5a30b6a95806121",
       "version_major": 2,
       "version_minor": 0
      },
      "text/plain": [
       "[Train] 8/20:   0%|          | 0/1036 [00:00<?, ?it/s]"
      ]
     },
     "metadata": {},
     "output_type": "display_data"
    },
    {
     "data": {
      "application/vnd.jupyter.widget-view+json": {
       "model_id": "d5fb84a55c794f57b4ee09cea17393cc",
       "version_major": 2,
       "version_minor": 0
      },
      "text/plain": [
       "[Train] 9/20:   0%|          | 0/1036 [00:00<?, ?it/s]"
      ]
     },
     "metadata": {},
     "output_type": "display_data"
    },
    {
     "data": {
      "application/vnd.jupyter.widget-view+json": {
       "model_id": "70e1aa9f125941bdafb66e7fe88b86c7",
       "version_major": 2,
       "version_minor": 0
      },
      "text/plain": [
       "[Train] 10/20:   0%|          | 0/1036 [00:00<?, ?it/s]"
      ]
     },
     "metadata": {},
     "output_type": "display_data"
    },
    {
     "data": {
      "application/vnd.jupyter.widget-view+json": {
       "model_id": "06919dcbc0a447efbeb02ad82180a523",
       "version_major": 2,
       "version_minor": 0
      },
      "text/plain": [
       "[Train] 11/20:   0%|          | 0/1036 [00:00<?, ?it/s]"
      ]
     },
     "metadata": {},
     "output_type": "display_data"
    },
    {
     "data": {
      "application/vnd.jupyter.widget-view+json": {
       "model_id": "30dd8b851efb42b6b5366e035232337a",
       "version_major": 2,
       "version_minor": 0
      },
      "text/plain": [
       "[Train] 12/20:   0%|          | 0/1036 [00:00<?, ?it/s]"
      ]
     },
     "metadata": {},
     "output_type": "display_data"
    },
    {
     "data": {
      "application/vnd.jupyter.widget-view+json": {
       "model_id": "852b8e4dba6843c2b23bb638ef864710",
       "version_major": 2,
       "version_minor": 0
      },
      "text/plain": [
       "[Train] 13/20:   0%|          | 0/1036 [00:00<?, ?it/s]"
      ]
     },
     "metadata": {},
     "output_type": "display_data"
    },
    {
     "data": {
      "application/vnd.jupyter.widget-view+json": {
       "model_id": "3b4f9b5a6df148d0ab428f6ad29417cc",
       "version_major": 2,
       "version_minor": 0
      },
      "text/plain": [
       "[Train] 14/20:   0%|          | 0/1036 [00:00<?, ?it/s]"
      ]
     },
     "metadata": {},
     "output_type": "display_data"
    },
    {
     "data": {
      "application/vnd.jupyter.widget-view+json": {
       "model_id": "7777276ddbf3481ea75dd0171d781658",
       "version_major": 2,
       "version_minor": 0
      },
      "text/plain": [
       "[Train] 15/20:   0%|          | 0/1036 [00:00<?, ?it/s]"
      ]
     },
     "metadata": {},
     "output_type": "display_data"
    },
    {
     "data": {
      "application/vnd.jupyter.widget-view+json": {
       "model_id": "7a51296f74ad4edfb7f9ec44abf162f8",
       "version_major": 2,
       "version_minor": 0
      },
      "text/plain": [
       "[Train] 16/20:   0%|          | 0/1036 [00:00<?, ?it/s]"
      ]
     },
     "metadata": {},
     "output_type": "display_data"
    },
    {
     "data": {
      "application/vnd.jupyter.widget-view+json": {
       "model_id": "1e2533b661914eaabff62ee45557525d",
       "version_major": 2,
       "version_minor": 0
      },
      "text/plain": [
       "[Train] 17/20:   0%|          | 0/1036 [00:00<?, ?it/s]"
      ]
     },
     "metadata": {},
     "output_type": "display_data"
    },
    {
     "data": {
      "application/vnd.jupyter.widget-view+json": {
       "model_id": "3dcd5dc2bfc74c3e9b38a5ba1fad997d",
       "version_major": 2,
       "version_minor": 0
      },
      "text/plain": [
       "[Train] 18/20:   0%|          | 0/1036 [00:00<?, ?it/s]"
      ]
     },
     "metadata": {},
     "output_type": "display_data"
    },
    {
     "data": {
      "application/vnd.jupyter.widget-view+json": {
       "model_id": "3c866eaa51ac41a9ba45faddb43a47d9",
       "version_major": 2,
       "version_minor": 0
      },
      "text/plain": [
       "[Train] 19/20:   0%|          | 0/1036 [00:00<?, ?it/s]"
      ]
     },
     "metadata": {},
     "output_type": "display_data"
    },
    {
     "data": {
      "application/vnd.jupyter.widget-view+json": {
       "model_id": "985ca77fff694181afb0ff3dabf7eaf6",
       "version_major": 2,
       "version_minor": 0
      },
      "text/plain": [
       "[Train] 20/20:   0%|          | 0/1036 [00:00<?, ?it/s]"
      ]
     },
     "metadata": {},
     "output_type": "display_data"
    },
    {
     "name": "stderr",
     "output_type": "stream",
     "text": [
      "\u001b[34m\u001b[1mwandb\u001b[0m: \u001b[32m\u001b[41mERROR\u001b[0m The nbformat package was not found. It is required to save notebook history.\n"
     ]
    },
    {
     "data": {
      "text/html": [],
      "text/plain": [
       "<IPython.core.display.HTML object>"
      ]
     },
     "metadata": {},
     "output_type": "display_data"
    },
    {
     "data": {
      "text/html": [
       "<br>    <style><br>        .wandb-row {<br>            display: flex;<br>            flex-direction: row;<br>            flex-wrap: wrap;<br>            justify-content: flex-start;<br>            width: 100%;<br>        }<br>        .wandb-col {<br>            display: flex;<br>            flex-direction: column;<br>            flex-basis: 100%;<br>            flex: 1;<br>            padding: 10px;<br>        }<br>    </style><br><div class=\"wandb-row\"><div class=\"wandb-col\"><h3>Run history:</h3><br/><table class=\"wandb\"><tr><td>best_th</td><td>▇▃█▁▂▆▂▅▂▃▂▅▅▂▄▂▁▂▂▂</td></tr><tr><td>epoch</td><td>▁▁▂▂▂▃▃▄▄▄▅▅▅▆▆▇▇▇██</td></tr><tr><td>lr</td><td>████████████▁▁▁▁▁▁▁▁</td></tr><tr><td>precision</td><td>▅▃▃▂▁▆▃▅▃▁▅▄█▃▄▅▇▄▄▄</td></tr><tr><td>recall</td><td>▂█▆▇▆▄▅▆▇▁▆▅▃▆▆▆▇▇█▇</td></tr><tr><td>train_loss</td><td>█▄▃▂▂▂▂▂▂▂▂▂▁▁▁▁▁▁▁▁</td></tr><tr><td>val_loss</td><td>▁▁▃▅▅▄▆▄▄█▄▅▆▆▆▆▆▆▆▆</td></tr><tr><td>val_prauc</td><td>▄▇▅▆▅▅▅▆▇▁▆▆▅▆▆▇█▆▇▇</td></tr></table><br/></div><div class=\"wandb-col\"><h3>Run summary:</h3><br/><table class=\"wandb\"><tr><td>best_epoch</td><td>17</td></tr><tr><td>best_prauc</td><td>0.47864</td></tr><tr><td>best_th</td><td>0.11842</td></tr><tr><td>epoch</td><td>20</td></tr><tr><td>lr</td><td>0.0</td></tr><tr><td>precision</td><td>0.48554</td></tr><tr><td>recall</td><td>0.41889</td></tr><tr><td>saved_model_path</td><td>best_model_20250414_...</td></tr><tr><td>train_loss</td><td>0.00165</td></tr><tr><td>val_loss</td><td>0.36917</td></tr><tr><td>val_prauc</td><td>0.45139</td></tr></table><br/></div></div>"
      ],
      "text/plain": [
       "<IPython.core.display.HTML object>"
      ]
     },
     "metadata": {},
     "output_type": "display_data"
    },
    {
     "data": {
      "text/html": [
       " View run <strong style=\"color:#cdcd00\">bumbling-leaf-5</strong> at: <a href='https://wandb.ai/yuya00-university-of-hyogo/vertebrae-augmentation_axial_learning_1/runs/pfiah497' target=\"_blank\">https://wandb.ai/yuya00-university-of-hyogo/vertebrae-augmentation_axial_learning_1/runs/pfiah497</a><br> View project at: <a href='https://wandb.ai/yuya00-university-of-hyogo/vertebrae-augmentation_axial_learning_1' target=\"_blank\">https://wandb.ai/yuya00-university-of-hyogo/vertebrae-augmentation_axial_learning_1</a><br>Synced 5 W&B file(s), 0 media file(s), 0 artifact file(s) and 0 other file(s)"
      ],
      "text/plain": [
       "<IPython.core.display.HTML object>"
      ]
     },
     "metadata": {},
     "output_type": "display_data"
    },
    {
     "data": {
      "text/html": [
       "Find logs at: <code>./wandb/run-20250414_182120-pfiah497/logs</code>"
      ],
      "text/plain": [
       "<IPython.core.display.HTML object>"
      ]
     },
     "metadata": {},
     "output_type": "display_data"
    },
    {
     "name": "stdout",
     "output_type": "stream",
     "text": [
      "Finished: Ep20 LR3e-05 WD0.001 DO0.3 → PRAUC 0.4786\n"
     ]
    },
    {
     "name": "stderr",
     "output_type": "stream",
     "text": [
      "/mnt/nfs1/home/yamamoto-hiroto/research/vertebrae/.venv/lib/python3.12/site-packages/torchvision/models/_utils.py:208: UserWarning: The parameter 'pretrained' is deprecated since 0.13 and may be removed in the future, please use 'weights' instead.\n",
      "  warnings.warn(\n",
      "/mnt/nfs1/home/yamamoto-hiroto/research/vertebrae/.venv/lib/python3.12/site-packages/torchvision/models/_utils.py:223: UserWarning: Arguments other than a weight enum or `None` for 'weights' are deprecated since 0.13 and may be removed in the future. The current behavior is equivalent to passing `weights=ResNet18_Weights.IMAGENET1K_V1`. You can also use `weights=ResNet18_Weights.DEFAULT` to get the most up-to-date weights.\n",
      "  warnings.warn(msg)\n"
     ]
    },
    {
     "data": {
      "text/html": [
       "Tracking run with wandb version 0.19.9"
      ],
      "text/plain": [
       "<IPython.core.display.HTML object>"
      ]
     },
     "metadata": {},
     "output_type": "display_data"
    },
    {
     "data": {
      "text/html": [
       "Run data is saved locally in <code>/mnt/nfs1/home/yamamoto-hiroto/research/vertebrae/Sakaguchi_file/S_model_learning/wandb/run-20250414_185536-pom7pyc3</code>"
      ],
      "text/plain": [
       "<IPython.core.display.HTML object>"
      ]
     },
     "metadata": {},
     "output_type": "display_data"
    },
    {
     "data": {
      "text/html": [
       "Syncing run <strong><a href='https://wandb.ai/yuya00-university-of-hyogo/vertebrae-augmentation_axial_learning_1/runs/pom7pyc3' target=\"_blank\">clear-feather-6</a></strong> to <a href='https://wandb.ai/yuya00-university-of-hyogo/vertebrae-augmentation_axial_learning_1' target=\"_blank\">Weights & Biases</a> (<a href='https://wandb.me/developer-guide' target=\"_blank\">docs</a>)<br>"
      ],
      "text/plain": [
       "<IPython.core.display.HTML object>"
      ]
     },
     "metadata": {},
     "output_type": "display_data"
    },
    {
     "data": {
      "text/html": [
       " View project at <a href='https://wandb.ai/yuya00-university-of-hyogo/vertebrae-augmentation_axial_learning_1' target=\"_blank\">https://wandb.ai/yuya00-university-of-hyogo/vertebrae-augmentation_axial_learning_1</a>"
      ],
      "text/plain": [
       "<IPython.core.display.HTML object>"
      ]
     },
     "metadata": {},
     "output_type": "display_data"
    },
    {
     "data": {
      "text/html": [
       " View run at <a href='https://wandb.ai/yuya00-university-of-hyogo/vertebrae-augmentation_axial_learning_1/runs/pom7pyc3' target=\"_blank\">https://wandb.ai/yuya00-university-of-hyogo/vertebrae-augmentation_axial_learning_1/runs/pom7pyc3</a>"
      ],
      "text/plain": [
       "<IPython.core.display.HTML object>"
      ]
     },
     "metadata": {},
     "output_type": "display_data"
    },
    {
     "data": {
      "application/vnd.jupyter.widget-view+json": {
       "model_id": "a3d9108f46cd40dfa3b838beaff3ee10",
       "version_major": 2,
       "version_minor": 0
      },
      "text/plain": [
       "[Train] 1/20:   0%|          | 0/1036 [00:00<?, ?it/s]"
      ]
     },
     "metadata": {},
     "output_type": "display_data"
    },
    {
     "data": {
      "application/vnd.jupyter.widget-view+json": {
       "model_id": "3c1381a148114f10afb8d579b85a9469",
       "version_major": 2,
       "version_minor": 0
      },
      "text/plain": [
       "[Train] 2/20:   0%|          | 0/1036 [00:00<?, ?it/s]"
      ]
     },
     "metadata": {},
     "output_type": "display_data"
    },
    {
     "data": {
      "application/vnd.jupyter.widget-view+json": {
       "model_id": "549b306a7cee47acbd347ef82aedc96f",
       "version_major": 2,
       "version_minor": 0
      },
      "text/plain": [
       "[Train] 3/20:   0%|          | 0/1036 [00:00<?, ?it/s]"
      ]
     },
     "metadata": {},
     "output_type": "display_data"
    },
    {
     "data": {
      "application/vnd.jupyter.widget-view+json": {
       "model_id": "d6b76a25e4d64d8583646591def5dbda",
       "version_major": 2,
       "version_minor": 0
      },
      "text/plain": [
       "[Train] 4/20:   0%|          | 0/1036 [00:00<?, ?it/s]"
      ]
     },
     "metadata": {},
     "output_type": "display_data"
    },
    {
     "data": {
      "application/vnd.jupyter.widget-view+json": {
       "model_id": "ca347a1e879e46cb8fcfd7078006d08e",
       "version_major": 2,
       "version_minor": 0
      },
      "text/plain": [
       "[Train] 5/20:   0%|          | 0/1036 [00:00<?, ?it/s]"
      ]
     },
     "metadata": {},
     "output_type": "display_data"
    },
    {
     "data": {
      "application/vnd.jupyter.widget-view+json": {
       "model_id": "ef46629fcb474231a6500d127b595910",
       "version_major": 2,
       "version_minor": 0
      },
      "text/plain": [
       "[Train] 6/20:   0%|          | 0/1036 [00:00<?, ?it/s]"
      ]
     },
     "metadata": {},
     "output_type": "display_data"
    },
    {
     "data": {
      "application/vnd.jupyter.widget-view+json": {
       "model_id": "7186c0a3e9324744b610ac18fe7435ac",
       "version_major": 2,
       "version_minor": 0
      },
      "text/plain": [
       "[Train] 7/20:   0%|          | 0/1036 [00:00<?, ?it/s]"
      ]
     },
     "metadata": {},
     "output_type": "display_data"
    },
    {
     "data": {
      "application/vnd.jupyter.widget-view+json": {
       "model_id": "08c792c38b8f4aea9e63e22f577e3c26",
       "version_major": 2,
       "version_minor": 0
      },
      "text/plain": [
       "[Train] 8/20:   0%|          | 0/1036 [00:00<?, ?it/s]"
      ]
     },
     "metadata": {},
     "output_type": "display_data"
    },
    {
     "data": {
      "application/vnd.jupyter.widget-view+json": {
       "model_id": "4d292354de9247bc9f4486799eb03da3",
       "version_major": 2,
       "version_minor": 0
      },
      "text/plain": [
       "[Train] 9/20:   0%|          | 0/1036 [00:00<?, ?it/s]"
      ]
     },
     "metadata": {},
     "output_type": "display_data"
    },
    {
     "data": {
      "application/vnd.jupyter.widget-view+json": {
       "model_id": "fe9151aff4744b3da7fd92a140c34887",
       "version_major": 2,
       "version_minor": 0
      },
      "text/plain": [
       "[Train] 10/20:   0%|          | 0/1036 [00:00<?, ?it/s]"
      ]
     },
     "metadata": {},
     "output_type": "display_data"
    },
    {
     "data": {
      "application/vnd.jupyter.widget-view+json": {
       "model_id": "912c3d78b457446da8f721d1cd60b586",
       "version_major": 2,
       "version_minor": 0
      },
      "text/plain": [
       "[Train] 11/20:   0%|          | 0/1036 [00:00<?, ?it/s]"
      ]
     },
     "metadata": {},
     "output_type": "display_data"
    },
    {
     "data": {
      "application/vnd.jupyter.widget-view+json": {
       "model_id": "b9a7a7a09c91415abcf84b2bd7159ea8",
       "version_major": 2,
       "version_minor": 0
      },
      "text/plain": [
       "[Train] 12/20:   0%|          | 0/1036 [00:00<?, ?it/s]"
      ]
     },
     "metadata": {},
     "output_type": "display_data"
    },
    {
     "data": {
      "application/vnd.jupyter.widget-view+json": {
       "model_id": "2aa84dfc82c1414aaa1038144d420773",
       "version_major": 2,
       "version_minor": 0
      },
      "text/plain": [
       "[Train] 13/20:   0%|          | 0/1036 [00:00<?, ?it/s]"
      ]
     },
     "metadata": {},
     "output_type": "display_data"
    },
    {
     "data": {
      "application/vnd.jupyter.widget-view+json": {
       "model_id": "0e6c537245614260975cbe6999860bd9",
       "version_major": 2,
       "version_minor": 0
      },
      "text/plain": [
       "[Train] 14/20:   0%|          | 0/1036 [00:00<?, ?it/s]"
      ]
     },
     "metadata": {},
     "output_type": "display_data"
    },
    {
     "data": {
      "application/vnd.jupyter.widget-view+json": {
       "model_id": "3adddfacf25c42d8bbcfcca8641d43d0",
       "version_major": 2,
       "version_minor": 0
      },
      "text/plain": [
       "[Train] 15/20:   0%|          | 0/1036 [00:00<?, ?it/s]"
      ]
     },
     "metadata": {},
     "output_type": "display_data"
    },
    {
     "data": {
      "application/vnd.jupyter.widget-view+json": {
       "model_id": "5feca06f405b49828ecd9ad96bdd38fa",
       "version_major": 2,
       "version_minor": 0
      },
      "text/plain": [
       "[Train] 16/20:   0%|          | 0/1036 [00:00<?, ?it/s]"
      ]
     },
     "metadata": {},
     "output_type": "display_data"
    },
    {
     "data": {
      "application/vnd.jupyter.widget-view+json": {
       "model_id": "f9325b20c8744b88824a3bd3b4dd5947",
       "version_major": 2,
       "version_minor": 0
      },
      "text/plain": [
       "[Train] 17/20:   0%|          | 0/1036 [00:00<?, ?it/s]"
      ]
     },
     "metadata": {},
     "output_type": "display_data"
    },
    {
     "data": {
      "application/vnd.jupyter.widget-view+json": {
       "model_id": "d7a7d88fea4f4c668d8d1a0a5ae99852",
       "version_major": 2,
       "version_minor": 0
      },
      "text/plain": [
       "[Train] 18/20:   0%|          | 0/1036 [00:00<?, ?it/s]"
      ]
     },
     "metadata": {},
     "output_type": "display_data"
    },
    {
     "data": {
      "application/vnd.jupyter.widget-view+json": {
       "model_id": "2d118f8995014094a5d19bac758abe75",
       "version_major": 2,
       "version_minor": 0
      },
      "text/plain": [
       "[Train] 19/20:   0%|          | 0/1036 [00:00<?, ?it/s]"
      ]
     },
     "metadata": {},
     "output_type": "display_data"
    },
    {
     "data": {
      "application/vnd.jupyter.widget-view+json": {
       "model_id": "1029675a39854e819ba9705e36e3d043",
       "version_major": 2,
       "version_minor": 0
      },
      "text/plain": [
       "[Train] 20/20:   0%|          | 0/1036 [00:00<?, ?it/s]"
      ]
     },
     "metadata": {},
     "output_type": "display_data"
    },
    {
     "name": "stderr",
     "output_type": "stream",
     "text": [
      "\u001b[34m\u001b[1mwandb\u001b[0m: \u001b[32m\u001b[41mERROR\u001b[0m The nbformat package was not found. It is required to save notebook history.\n"
     ]
    },
    {
     "data": {
      "text/html": [],
      "text/plain": [
       "<IPython.core.display.HTML object>"
      ]
     },
     "metadata": {},
     "output_type": "display_data"
    },
    {
     "data": {
      "text/html": [
       "<br>    <style><br>        .wandb-row {<br>            display: flex;<br>            flex-direction: row;<br>            flex-wrap: wrap;<br>            justify-content: flex-start;<br>            width: 100%;<br>        }<br>        .wandb-col {<br>            display: flex;<br>            flex-direction: column;<br>            flex-basis: 100%;<br>            flex: 1;<br>            padding: 10px;<br>        }<br>    </style><br><div class=\"wandb-row\"><div class=\"wandb-col\"><h3>Run history:</h3><br/><table class=\"wandb\"><tr><td>best_th</td><td>▂▁▃▂▂▆▄█▅▂▄▂▁▂▁▁▁▁▁▂</td></tr><tr><td>epoch</td><td>▁▁▂▂▂▃▃▄▄▄▅▅▅▆▆▇▇▇██</td></tr><tr><td>lr</td><td>████████████▁▁▁▁▁▁▁▁</td></tr><tr><td>precision</td><td>▃▄▄▃▁███▄▁▄▄▄▅▄▂▃▅▃▆</td></tr><tr><td>recall</td><td>▄▅▅▄▅▂▅▁▄█▅▇▆▅▆▆▆▅▆▄</td></tr><tr><td>train_loss</td><td>█▄▃▂▂▂▂▂▂▂▂▂▁▁▁▁▁▁▁▁</td></tr><tr><td>val_loss</td><td>▁▄▁▅▆▄▅▆▆▅▆▅▆▆▆█▇▇▇▇</td></tr><tr><td>val_prauc</td><td>▃▅▆▄▂▅█▁▃▂▅▆▇▅▆▄▆▅▅▆</td></tr></table><br/></div><div class=\"wandb-col\"><h3>Run summary:</h3><br/><table class=\"wandb\"><tr><td>best_epoch</td><td>7</td></tr><tr><td>best_prauc</td><td>0.50759</td></tr><tr><td>best_th</td><td>0.10031</td></tr><tr><td>epoch</td><td>20</td></tr><tr><td>lr</td><td>0.0</td></tr><tr><td>precision</td><td>0.51954</td></tr><tr><td>recall</td><td>0.40285</td></tr><tr><td>saved_model_path</td><td>best_model_20250414_...</td></tr><tr><td>train_loss</td><td>0.00128</td></tr><tr><td>val_loss</td><td>0.35838</td></tr><tr><td>val_prauc</td><td>0.46973</td></tr></table><br/></div></div>"
      ],
      "text/plain": [
       "<IPython.core.display.HTML object>"
      ]
     },
     "metadata": {},
     "output_type": "display_data"
    },
    {
     "data": {
      "text/html": [
       " View run <strong style=\"color:#cdcd00\">clear-feather-6</strong> at: <a href='https://wandb.ai/yuya00-university-of-hyogo/vertebrae-augmentation_axial_learning_1/runs/pom7pyc3' target=\"_blank\">https://wandb.ai/yuya00-university-of-hyogo/vertebrae-augmentation_axial_learning_1/runs/pom7pyc3</a><br> View project at: <a href='https://wandb.ai/yuya00-university-of-hyogo/vertebrae-augmentation_axial_learning_1' target=\"_blank\">https://wandb.ai/yuya00-university-of-hyogo/vertebrae-augmentation_axial_learning_1</a><br>Synced 5 W&B file(s), 0 media file(s), 0 artifact file(s) and 0 other file(s)"
      ],
      "text/plain": [
       "<IPython.core.display.HTML object>"
      ]
     },
     "metadata": {},
     "output_type": "display_data"
    },
    {
     "data": {
      "text/html": [
       "Find logs at: <code>./wandb/run-20250414_185536-pom7pyc3/logs</code>"
      ],
      "text/plain": [
       "<IPython.core.display.HTML object>"
      ]
     },
     "metadata": {},
     "output_type": "display_data"
    },
    {
     "name": "stdout",
     "output_type": "stream",
     "text": [
      "Finished: Ep20 LR3e-05 WD0.001 DO0.0 → PRAUC 0.5076\n"
     ]
    },
    {
     "name": "stderr",
     "output_type": "stream",
     "text": [
      "/mnt/nfs1/home/yamamoto-hiroto/research/vertebrae/.venv/lib/python3.12/site-packages/torchvision/models/_utils.py:208: UserWarning: The parameter 'pretrained' is deprecated since 0.13 and may be removed in the future, please use 'weights' instead.\n",
      "  warnings.warn(\n",
      "/mnt/nfs1/home/yamamoto-hiroto/research/vertebrae/.venv/lib/python3.12/site-packages/torchvision/models/_utils.py:223: UserWarning: Arguments other than a weight enum or `None` for 'weights' are deprecated since 0.13 and may be removed in the future. The current behavior is equivalent to passing `weights=ResNet18_Weights.IMAGENET1K_V1`. You can also use `weights=ResNet18_Weights.DEFAULT` to get the most up-to-date weights.\n",
      "  warnings.warn(msg)\n"
     ]
    },
    {
     "data": {
      "text/html": [
       "Tracking run with wandb version 0.19.9"
      ],
      "text/plain": [
       "<IPython.core.display.HTML object>"
      ]
     },
     "metadata": {},
     "output_type": "display_data"
    },
    {
     "data": {
      "text/html": [
       "Run data is saved locally in <code>/mnt/nfs1/home/yamamoto-hiroto/research/vertebrae/Sakaguchi_file/S_model_learning/wandb/run-20250414_192925-gd14sznk</code>"
      ],
      "text/plain": [
       "<IPython.core.display.HTML object>"
      ]
     },
     "metadata": {},
     "output_type": "display_data"
    },
    {
     "data": {
      "text/html": [
       "Syncing run <strong><a href='https://wandb.ai/yuya00-university-of-hyogo/vertebrae-augmentation_axial_learning_1/runs/gd14sznk' target=\"_blank\">quiet-donkey-7</a></strong> to <a href='https://wandb.ai/yuya00-university-of-hyogo/vertebrae-augmentation_axial_learning_1' target=\"_blank\">Weights & Biases</a> (<a href='https://wandb.me/developer-guide' target=\"_blank\">docs</a>)<br>"
      ],
      "text/plain": [
       "<IPython.core.display.HTML object>"
      ]
     },
     "metadata": {},
     "output_type": "display_data"
    },
    {
     "data": {
      "text/html": [
       " View project at <a href='https://wandb.ai/yuya00-university-of-hyogo/vertebrae-augmentation_axial_learning_1' target=\"_blank\">https://wandb.ai/yuya00-university-of-hyogo/vertebrae-augmentation_axial_learning_1</a>"
      ],
      "text/plain": [
       "<IPython.core.display.HTML object>"
      ]
     },
     "metadata": {},
     "output_type": "display_data"
    },
    {
     "data": {
      "text/html": [
       " View run at <a href='https://wandb.ai/yuya00-university-of-hyogo/vertebrae-augmentation_axial_learning_1/runs/gd14sznk' target=\"_blank\">https://wandb.ai/yuya00-university-of-hyogo/vertebrae-augmentation_axial_learning_1/runs/gd14sznk</a>"
      ],
      "text/plain": [
       "<IPython.core.display.HTML object>"
      ]
     },
     "metadata": {},
     "output_type": "display_data"
    },
    {
     "data": {
      "application/vnd.jupyter.widget-view+json": {
       "model_id": "446c4ca2305e43c2a5a50cc4f2ce4396",
       "version_major": 2,
       "version_minor": 0
      },
      "text/plain": [
       "[Train] 1/20:   0%|          | 0/1036 [00:00<?, ?it/s]"
      ]
     },
     "metadata": {},
     "output_type": "display_data"
    },
    {
     "data": {
      "application/vnd.jupyter.widget-view+json": {
       "model_id": "49fe67b819f04a9dabe7026d31aad401",
       "version_major": 2,
       "version_minor": 0
      },
      "text/plain": [
       "[Train] 2/20:   0%|          | 0/1036 [00:00<?, ?it/s]"
      ]
     },
     "metadata": {},
     "output_type": "display_data"
    },
    {
     "data": {
      "application/vnd.jupyter.widget-view+json": {
       "model_id": "f9a62a0b8e12449b866982cbee7b9874",
       "version_major": 2,
       "version_minor": 0
      },
      "text/plain": [
       "[Train] 3/20:   0%|          | 0/1036 [00:00<?, ?it/s]"
      ]
     },
     "metadata": {},
     "output_type": "display_data"
    },
    {
     "data": {
      "application/vnd.jupyter.widget-view+json": {
       "model_id": "f983613c4b8648e2b0aa092be65cb79b",
       "version_major": 2,
       "version_minor": 0
      },
      "text/plain": [
       "[Train] 4/20:   0%|          | 0/1036 [00:00<?, ?it/s]"
      ]
     },
     "metadata": {},
     "output_type": "display_data"
    },
    {
     "data": {
      "application/vnd.jupyter.widget-view+json": {
       "model_id": "64d0b282be0642c1b17164caf79683ec",
       "version_major": 2,
       "version_minor": 0
      },
      "text/plain": [
       "[Train] 5/20:   0%|          | 0/1036 [00:00<?, ?it/s]"
      ]
     },
     "metadata": {},
     "output_type": "display_data"
    },
    {
     "data": {
      "application/vnd.jupyter.widget-view+json": {
       "model_id": "4c3b8d5b3cf94a55b0a6dd0dc8fe5402",
       "version_major": 2,
       "version_minor": 0
      },
      "text/plain": [
       "[Train] 6/20:   0%|          | 0/1036 [00:00<?, ?it/s]"
      ]
     },
     "metadata": {},
     "output_type": "display_data"
    },
    {
     "data": {
      "application/vnd.jupyter.widget-view+json": {
       "model_id": "5d66006fc1fb44c785536a9ff10d00c0",
       "version_major": 2,
       "version_minor": 0
      },
      "text/plain": [
       "[Train] 7/20:   0%|          | 0/1036 [00:00<?, ?it/s]"
      ]
     },
     "metadata": {},
     "output_type": "display_data"
    },
    {
     "data": {
      "application/vnd.jupyter.widget-view+json": {
       "model_id": "b05445e8126d4f808fd56e6844bf67e8",
       "version_major": 2,
       "version_minor": 0
      },
      "text/plain": [
       "[Train] 8/20:   0%|          | 0/1036 [00:00<?, ?it/s]"
      ]
     },
     "metadata": {},
     "output_type": "display_data"
    },
    {
     "data": {
      "application/vnd.jupyter.widget-view+json": {
       "model_id": "e1bdfb6e405d4a12a74424721f93faf0",
       "version_major": 2,
       "version_minor": 0
      },
      "text/plain": [
       "[Train] 9/20:   0%|          | 0/1036 [00:00<?, ?it/s]"
      ]
     },
     "metadata": {},
     "output_type": "display_data"
    },
    {
     "data": {
      "application/vnd.jupyter.widget-view+json": {
       "model_id": "337299bbe355404b9ec9988c89c7c882",
       "version_major": 2,
       "version_minor": 0
      },
      "text/plain": [
       "[Train] 10/20:   0%|          | 0/1036 [00:00<?, ?it/s]"
      ]
     },
     "metadata": {},
     "output_type": "display_data"
    },
    {
     "data": {
      "application/vnd.jupyter.widget-view+json": {
       "model_id": "52a9caaaa2c54e0fbd6ee99bf35da9c2",
       "version_major": 2,
       "version_minor": 0
      },
      "text/plain": [
       "[Train] 11/20:   0%|          | 0/1036 [00:00<?, ?it/s]"
      ]
     },
     "metadata": {},
     "output_type": "display_data"
    },
    {
     "data": {
      "application/vnd.jupyter.widget-view+json": {
       "model_id": "9d301aa3e39a4c36ba793a6fdfe6bc8e",
       "version_major": 2,
       "version_minor": 0
      },
      "text/plain": [
       "[Train] 12/20:   0%|          | 0/1036 [00:00<?, ?it/s]"
      ]
     },
     "metadata": {},
     "output_type": "display_data"
    },
    {
     "data": {
      "application/vnd.jupyter.widget-view+json": {
       "model_id": "a38b0349596241c89e4398ccf7e5f61b",
       "version_major": 2,
       "version_minor": 0
      },
      "text/plain": [
       "[Train] 13/20:   0%|          | 0/1036 [00:00<?, ?it/s]"
      ]
     },
     "metadata": {},
     "output_type": "display_data"
    },
    {
     "data": {
      "application/vnd.jupyter.widget-view+json": {
       "model_id": "3fc79558fb7349048b49c9e73dfa64d9",
       "version_major": 2,
       "version_minor": 0
      },
      "text/plain": [
       "[Train] 14/20:   0%|          | 0/1036 [00:00<?, ?it/s]"
      ]
     },
     "metadata": {},
     "output_type": "display_data"
    },
    {
     "data": {
      "application/vnd.jupyter.widget-view+json": {
       "model_id": "db531c806dc2440e94dd5039d36b75e1",
       "version_major": 2,
       "version_minor": 0
      },
      "text/plain": [
       "[Train] 15/20:   0%|          | 0/1036 [00:00<?, ?it/s]"
      ]
     },
     "metadata": {},
     "output_type": "display_data"
    },
    {
     "data": {
      "application/vnd.jupyter.widget-view+json": {
       "model_id": "64be30819d324e9f905e508af2c6db85",
       "version_major": 2,
       "version_minor": 0
      },
      "text/plain": [
       "[Train] 16/20:   0%|          | 0/1036 [00:00<?, ?it/s]"
      ]
     },
     "metadata": {},
     "output_type": "display_data"
    },
    {
     "data": {
      "application/vnd.jupyter.widget-view+json": {
       "model_id": "2da529a9954942e1957edffb929c79b7",
       "version_major": 2,
       "version_minor": 0
      },
      "text/plain": [
       "[Train] 17/20:   0%|          | 0/1036 [00:00<?, ?it/s]"
      ]
     },
     "metadata": {},
     "output_type": "display_data"
    },
    {
     "data": {
      "application/vnd.jupyter.widget-view+json": {
       "model_id": "1e0aa443cdef46c594334d46cbc94cc3",
       "version_major": 2,
       "version_minor": 0
      },
      "text/plain": [
       "[Train] 18/20:   0%|          | 0/1036 [00:00<?, ?it/s]"
      ]
     },
     "metadata": {},
     "output_type": "display_data"
    },
    {
     "data": {
      "application/vnd.jupyter.widget-view+json": {
       "model_id": "53c12bc2adfd4276be2b97be6f1e8a88",
       "version_major": 2,
       "version_minor": 0
      },
      "text/plain": [
       "[Train] 19/20:   0%|          | 0/1036 [00:00<?, ?it/s]"
      ]
     },
     "metadata": {},
     "output_type": "display_data"
    },
    {
     "data": {
      "application/vnd.jupyter.widget-view+json": {
       "model_id": "a963543cafe74a65b3dc0af4d71b2c35",
       "version_major": 2,
       "version_minor": 0
      },
      "text/plain": [
       "[Train] 20/20:   0%|          | 0/1036 [00:00<?, ?it/s]"
      ]
     },
     "metadata": {},
     "output_type": "display_data"
    },
    {
     "name": "stderr",
     "output_type": "stream",
     "text": [
      "\u001b[34m\u001b[1mwandb\u001b[0m: \u001b[32m\u001b[41mERROR\u001b[0m The nbformat package was not found. It is required to save notebook history.\n"
     ]
    },
    {
     "data": {
      "text/html": [],
      "text/plain": [
       "<IPython.core.display.HTML object>"
      ]
     },
     "metadata": {},
     "output_type": "display_data"
    },
    {
     "data": {
      "text/html": [
       "<br>    <style><br>        .wandb-row {<br>            display: flex;<br>            flex-direction: row;<br>            flex-wrap: wrap;<br>            justify-content: flex-start;<br>            width: 100%;<br>        }<br>        .wandb-col {<br>            display: flex;<br>            flex-direction: column;<br>            flex-basis: 100%;<br>            flex: 1;<br>            padding: 10px;<br>        }<br>    </style><br><div class=\"wandb-row\"><div class=\"wandb-col\"><h3>Run history:</h3><br/><table class=\"wandb\"><tr><td>best_th</td><td>▆▅██▇▄▅▂▆▁▄▇▇▁▆▃▃██▁</td></tr><tr><td>epoch</td><td>▁▁▂▂▂▃▃▄▄▄▅▅▅▆▆▇▇▇██</td></tr><tr><td>lr</td><td>▁▁▁▁▁▁▁▁▁▁▁▁▁▁▁▁▁▁▁▁</td></tr><tr><td>precision</td><td>▃▅▃▅▄▄▄▅▆▇█▄▄▃▅▅▆▄▁▃</td></tr><tr><td>recall</td><td>▃▄▅▄▁▆▆▄▄▅▃▂▃▇▅▅▁▄█▄</td></tr><tr><td>train_loss</td><td>█▃▂▂▂▂▂▁▁▁▁▁▁▁▁▁▁▁▁▁</td></tr><tr><td>val_loss</td><td>▂▂▄▄▃▂▁▄▁▂▄▅▄▃▂▂▃▄█▄</td></tr><tr><td>val_prauc</td><td>▂▄▄▃▂▅▆▅▅█▅▁▂▅▅▅▁▃▃▅</td></tr></table><br/></div><div class=\"wandb-col\"><h3>Run summary:</h3><br/><table class=\"wandb\"><tr><td>best_epoch</td><td>10</td></tr><tr><td>best_prauc</td><td>0.49088</td></tr><tr><td>best_th</td><td>0.04487</td></tr><tr><td>epoch</td><td>20</td></tr><tr><td>lr</td><td>3e-05</td></tr><tr><td>precision</td><td>0.4689</td></tr><tr><td>recall</td><td>0.34938</td></tr><tr><td>saved_model_path</td><td>best_model_20250414_...</td></tr><tr><td>train_loss</td><td>0.01842</td></tr><tr><td>val_loss</td><td>0.33241</td></tr><tr><td>val_prauc</td><td>0.41197</td></tr></table><br/></div></div>"
      ],
      "text/plain": [
       "<IPython.core.display.HTML object>"
      ]
     },
     "metadata": {},
     "output_type": "display_data"
    },
    {
     "data": {
      "text/html": [
       " View run <strong style=\"color:#cdcd00\">quiet-donkey-7</strong> at: <a href='https://wandb.ai/yuya00-university-of-hyogo/vertebrae-augmentation_axial_learning_1/runs/gd14sznk' target=\"_blank\">https://wandb.ai/yuya00-university-of-hyogo/vertebrae-augmentation_axial_learning_1/runs/gd14sznk</a><br> View project at: <a href='https://wandb.ai/yuya00-university-of-hyogo/vertebrae-augmentation_axial_learning_1' target=\"_blank\">https://wandb.ai/yuya00-university-of-hyogo/vertebrae-augmentation_axial_learning_1</a><br>Synced 5 W&B file(s), 0 media file(s), 0 artifact file(s) and 0 other file(s)"
      ],
      "text/plain": [
       "<IPython.core.display.HTML object>"
      ]
     },
     "metadata": {},
     "output_type": "display_data"
    },
    {
     "data": {
      "text/html": [
       "Find logs at: <code>./wandb/run-20250414_192925-gd14sznk/logs</code>"
      ],
      "text/plain": [
       "<IPython.core.display.HTML object>"
      ]
     },
     "metadata": {},
     "output_type": "display_data"
    },
    {
     "name": "stdout",
     "output_type": "stream",
     "text": [
      "Finished: Ep20 LR3e-05 WD0.01 DO0.3 → PRAUC 0.4909\n"
     ]
    },
    {
     "name": "stderr",
     "output_type": "stream",
     "text": [
      "/mnt/nfs1/home/yamamoto-hiroto/research/vertebrae/.venv/lib/python3.12/site-packages/torchvision/models/_utils.py:208: UserWarning: The parameter 'pretrained' is deprecated since 0.13 and may be removed in the future, please use 'weights' instead.\n",
      "  warnings.warn(\n",
      "/mnt/nfs1/home/yamamoto-hiroto/research/vertebrae/.venv/lib/python3.12/site-packages/torchvision/models/_utils.py:223: UserWarning: Arguments other than a weight enum or `None` for 'weights' are deprecated since 0.13 and may be removed in the future. The current behavior is equivalent to passing `weights=ResNet18_Weights.IMAGENET1K_V1`. You can also use `weights=ResNet18_Weights.DEFAULT` to get the most up-to-date weights.\n",
      "  warnings.warn(msg)\n"
     ]
    },
    {
     "data": {
      "text/html": [
       "Tracking run with wandb version 0.19.9"
      ],
      "text/plain": [
       "<IPython.core.display.HTML object>"
      ]
     },
     "metadata": {},
     "output_type": "display_data"
    },
    {
     "data": {
      "text/html": [
       "Run data is saved locally in <code>/mnt/nfs1/home/yamamoto-hiroto/research/vertebrae/Sakaguchi_file/S_model_learning/wandb/run-20250414_195000-pyzxcz5m</code>"
      ],
      "text/plain": [
       "<IPython.core.display.HTML object>"
      ]
     },
     "metadata": {},
     "output_type": "display_data"
    },
    {
     "data": {
      "text/html": [
       "Syncing run <strong><a href='https://wandb.ai/yuya00-university-of-hyogo/vertebrae-augmentation_axial_learning_1/runs/pyzxcz5m' target=\"_blank\">unique-dew-8</a></strong> to <a href='https://wandb.ai/yuya00-university-of-hyogo/vertebrae-augmentation_axial_learning_1' target=\"_blank\">Weights & Biases</a> (<a href='https://wandb.me/developer-guide' target=\"_blank\">docs</a>)<br>"
      ],
      "text/plain": [
       "<IPython.core.display.HTML object>"
      ]
     },
     "metadata": {},
     "output_type": "display_data"
    },
    {
     "data": {
      "text/html": [
       " View project at <a href='https://wandb.ai/yuya00-university-of-hyogo/vertebrae-augmentation_axial_learning_1' target=\"_blank\">https://wandb.ai/yuya00-university-of-hyogo/vertebrae-augmentation_axial_learning_1</a>"
      ],
      "text/plain": [
       "<IPython.core.display.HTML object>"
      ]
     },
     "metadata": {},
     "output_type": "display_data"
    },
    {
     "data": {
      "text/html": [
       " View run at <a href='https://wandb.ai/yuya00-university-of-hyogo/vertebrae-augmentation_axial_learning_1/runs/pyzxcz5m' target=\"_blank\">https://wandb.ai/yuya00-university-of-hyogo/vertebrae-augmentation_axial_learning_1/runs/pyzxcz5m</a>"
      ],
      "text/plain": [
       "<IPython.core.display.HTML object>"
      ]
     },
     "metadata": {},
     "output_type": "display_data"
    },
    {
     "data": {
      "application/vnd.jupyter.widget-view+json": {
       "model_id": "aeb7b1abf06d408f9ba5cc1f59e4bc65",
       "version_major": 2,
       "version_minor": 0
      },
      "text/plain": [
       "[Train] 1/20:   0%|          | 0/1036 [00:00<?, ?it/s]"
      ]
     },
     "metadata": {},
     "output_type": "display_data"
    },
    {
     "data": {
      "application/vnd.jupyter.widget-view+json": {
       "model_id": "32b55d870b9a44d88428787ceb09b478",
       "version_major": 2,
       "version_minor": 0
      },
      "text/plain": [
       "[Train] 2/20:   0%|          | 0/1036 [00:00<?, ?it/s]"
      ]
     },
     "metadata": {},
     "output_type": "display_data"
    },
    {
     "data": {
      "application/vnd.jupyter.widget-view+json": {
       "model_id": "c9715e3b99814edb933a5bf6b3fbde28",
       "version_major": 2,
       "version_minor": 0
      },
      "text/plain": [
       "[Train] 3/20:   0%|          | 0/1036 [00:00<?, ?it/s]"
      ]
     },
     "metadata": {},
     "output_type": "display_data"
    },
    {
     "data": {
      "application/vnd.jupyter.widget-view+json": {
       "model_id": "51601cfa46c3442690efb7fd47941093",
       "version_major": 2,
       "version_minor": 0
      },
      "text/plain": [
       "[Train] 4/20:   0%|          | 0/1036 [00:00<?, ?it/s]"
      ]
     },
     "metadata": {},
     "output_type": "display_data"
    },
    {
     "data": {
      "application/vnd.jupyter.widget-view+json": {
       "model_id": "1067e141f9f4453e8b936b2e99331e59",
       "version_major": 2,
       "version_minor": 0
      },
      "text/plain": [
       "[Train] 5/20:   0%|          | 0/1036 [00:00<?, ?it/s]"
      ]
     },
     "metadata": {},
     "output_type": "display_data"
    },
    {
     "data": {
      "application/vnd.jupyter.widget-view+json": {
       "model_id": "d59edbb347e84cbcbd187b25ac83332d",
       "version_major": 2,
       "version_minor": 0
      },
      "text/plain": [
       "[Train] 6/20:   0%|          | 0/1036 [00:00<?, ?it/s]"
      ]
     },
     "metadata": {},
     "output_type": "display_data"
    },
    {
     "data": {
      "application/vnd.jupyter.widget-view+json": {
       "model_id": "d54ecad75a6d487a9faee0e2bcab437b",
       "version_major": 2,
       "version_minor": 0
      },
      "text/plain": [
       "[Train] 7/20:   0%|          | 0/1036 [00:00<?, ?it/s]"
      ]
     },
     "metadata": {},
     "output_type": "display_data"
    },
    {
     "data": {
      "application/vnd.jupyter.widget-view+json": {
       "model_id": "c09d1ce706d24d7a8bb8a3d36689ce6f",
       "version_major": 2,
       "version_minor": 0
      },
      "text/plain": [
       "[Train] 8/20:   0%|          | 0/1036 [00:00<?, ?it/s]"
      ]
     },
     "metadata": {},
     "output_type": "display_data"
    },
    {
     "data": {
      "application/vnd.jupyter.widget-view+json": {
       "model_id": "c17a596dc18744a482f24c236215b98a",
       "version_major": 2,
       "version_minor": 0
      },
      "text/plain": [
       "[Train] 9/20:   0%|          | 0/1036 [00:00<?, ?it/s]"
      ]
     },
     "metadata": {},
     "output_type": "display_data"
    },
    {
     "data": {
      "application/vnd.jupyter.widget-view+json": {
       "model_id": "c7a02ea3d3c04bca808ff53483f97209",
       "version_major": 2,
       "version_minor": 0
      },
      "text/plain": [
       "[Train] 10/20:   0%|          | 0/1036 [00:00<?, ?it/s]"
      ]
     },
     "metadata": {},
     "output_type": "display_data"
    },
    {
     "data": {
      "application/vnd.jupyter.widget-view+json": {
       "model_id": "b0570c7dae1a4e18ae1ef924d8fa18df",
       "version_major": 2,
       "version_minor": 0
      },
      "text/plain": [
       "[Train] 11/20:   0%|          | 0/1036 [00:00<?, ?it/s]"
      ]
     },
     "metadata": {},
     "output_type": "display_data"
    },
    {
     "data": {
      "application/vnd.jupyter.widget-view+json": {
       "model_id": "2ab0d3066f8f4e6e882dc6053098c8ca",
       "version_major": 2,
       "version_minor": 0
      },
      "text/plain": [
       "[Train] 12/20:   0%|          | 0/1036 [00:00<?, ?it/s]"
      ]
     },
     "metadata": {},
     "output_type": "display_data"
    },
    {
     "data": {
      "application/vnd.jupyter.widget-view+json": {
       "model_id": "91aa5893c36843318a885753fe7c1e87",
       "version_major": 2,
       "version_minor": 0
      },
      "text/plain": [
       "[Train] 13/20:   0%|          | 0/1036 [00:00<?, ?it/s]"
      ]
     },
     "metadata": {},
     "output_type": "display_data"
    },
    {
     "data": {
      "application/vnd.jupyter.widget-view+json": {
       "model_id": "6d76ac2b0bde4ddba5c47ec0b7f6745b",
       "version_major": 2,
       "version_minor": 0
      },
      "text/plain": [
       "[Train] 14/20:   0%|          | 0/1036 [00:00<?, ?it/s]"
      ]
     },
     "metadata": {},
     "output_type": "display_data"
    },
    {
     "data": {
      "application/vnd.jupyter.widget-view+json": {
       "model_id": "ba9cdecdcc5942aa9124e505b9fad15d",
       "version_major": 2,
       "version_minor": 0
      },
      "text/plain": [
       "[Train] 15/20:   0%|          | 0/1036 [00:00<?, ?it/s]"
      ]
     },
     "metadata": {},
     "output_type": "display_data"
    },
    {
     "data": {
      "application/vnd.jupyter.widget-view+json": {
       "model_id": "a5ff72ecf2f1453dbf3713b2b8194c05",
       "version_major": 2,
       "version_minor": 0
      },
      "text/plain": [
       "[Train] 16/20:   0%|          | 0/1036 [00:00<?, ?it/s]"
      ]
     },
     "metadata": {},
     "output_type": "display_data"
    },
    {
     "data": {
      "application/vnd.jupyter.widget-view+json": {
       "model_id": "4a057a99871a43149a5af5dd48a8e61b",
       "version_major": 2,
       "version_minor": 0
      },
      "text/plain": [
       "[Train] 17/20:   0%|          | 0/1036 [00:00<?, ?it/s]"
      ]
     },
     "metadata": {},
     "output_type": "display_data"
    },
    {
     "data": {
      "application/vnd.jupyter.widget-view+json": {
       "model_id": "9eadef9342d54feea40878e2b58538ce",
       "version_major": 2,
       "version_minor": 0
      },
      "text/plain": [
       "[Train] 18/20:   0%|          | 0/1036 [00:00<?, ?it/s]"
      ]
     },
     "metadata": {},
     "output_type": "display_data"
    },
    {
     "data": {
      "application/vnd.jupyter.widget-view+json": {
       "model_id": "b4051e60ceac472c8c733f6dd1a59a9c",
       "version_major": 2,
       "version_minor": 0
      },
      "text/plain": [
       "[Train] 19/20:   0%|          | 0/1036 [00:00<?, ?it/s]"
      ]
     },
     "metadata": {},
     "output_type": "display_data"
    },
    {
     "data": {
      "application/vnd.jupyter.widget-view+json": {
       "model_id": "44371c357c5244aebe53d658a7f4273a",
       "version_major": 2,
       "version_minor": 0
      },
      "text/plain": [
       "[Train] 20/20:   0%|          | 0/1036 [00:00<?, ?it/s]"
      ]
     },
     "metadata": {},
     "output_type": "display_data"
    },
    {
     "name": "stderr",
     "output_type": "stream",
     "text": [
      "\u001b[34m\u001b[1mwandb\u001b[0m: \u001b[32m\u001b[41mERROR\u001b[0m The nbformat package was not found. It is required to save notebook history.\n"
     ]
    },
    {
     "data": {
      "text/html": [],
      "text/plain": [
       "<IPython.core.display.HTML object>"
      ]
     },
     "metadata": {},
     "output_type": "display_data"
    },
    {
     "data": {
      "text/html": [
       "<br>    <style><br>        .wandb-row {<br>            display: flex;<br>            flex-direction: row;<br>            flex-wrap: wrap;<br>            justify-content: flex-start;<br>            width: 100%;<br>        }<br>        .wandb-col {<br>            display: flex;<br>            flex-direction: column;<br>            flex-basis: 100%;<br>            flex: 1;<br>            padding: 10px;<br>        }<br>    </style><br><div class=\"wandb-row\"><div class=\"wandb-col\"><h3>Run history:</h3><br/><table class=\"wandb\"><tr><td>best_th</td><td>▄▂▅▅▁▇█▂▁▁▅▂▂▁▁▄▃▂▂▁</td></tr><tr><td>epoch</td><td>▁▁▂▂▂▃▃▄▄▄▅▅▅▆▆▇▇▇██</td></tr><tr><td>lr</td><td>████████████▁▁▁▁▁▁▁▁</td></tr><tr><td>precision</td><td>▄▂▅▂▁▇█▁▁▂▆▃▄▃▂▄▅▃▄▄</td></tr><tr><td>recall</td><td>▂█▃▄▄▃▂▅▁▂▄▄▃▅▆▂▄▃▃▃</td></tr><tr><td>train_loss</td><td>█▄▃▃▃▂▂▂▂▂▂▂▁▁▁▁▁▁▁▁</td></tr><tr><td>val_loss</td><td>▁▂▃▄▅▂▅▅█▅▂▄▄▅▅▅▄▅▅▅</td></tr><tr><td>val_prauc</td><td>▄▅▄▃▂█▆▂▁▃▆▃▄▄▃▃▅▂▄▄</td></tr></table><br/></div><div class=\"wandb-col\"><h3>Run summary:</h3><br/><table class=\"wandb\"><tr><td>best_epoch</td><td>6</td></tr><tr><td>best_prauc</td><td>0.50374</td></tr><tr><td>best_th</td><td>0.05669</td></tr><tr><td>epoch</td><td>20</td></tr><tr><td>lr</td><td>0.0</td></tr><tr><td>precision</td><td>0.4292</td></tr><tr><td>recall</td><td>0.34581</td></tr><tr><td>saved_model_path</td><td>best_model_20250414_...</td></tr><tr><td>train_loss</td><td>0.00276</td></tr><tr><td>val_loss</td><td>0.35567</td></tr><tr><td>val_prauc</td><td>0.38131</td></tr></table><br/></div></div>"
      ],
      "text/plain": [
       "<IPython.core.display.HTML object>"
      ]
     },
     "metadata": {},
     "output_type": "display_data"
    },
    {
     "data": {
      "text/html": [
       " View run <strong style=\"color:#cdcd00\">unique-dew-8</strong> at: <a href='https://wandb.ai/yuya00-university-of-hyogo/vertebrae-augmentation_axial_learning_1/runs/pyzxcz5m' target=\"_blank\">https://wandb.ai/yuya00-university-of-hyogo/vertebrae-augmentation_axial_learning_1/runs/pyzxcz5m</a><br> View project at: <a href='https://wandb.ai/yuya00-university-of-hyogo/vertebrae-augmentation_axial_learning_1' target=\"_blank\">https://wandb.ai/yuya00-university-of-hyogo/vertebrae-augmentation_axial_learning_1</a><br>Synced 5 W&B file(s), 0 media file(s), 0 artifact file(s) and 0 other file(s)"
      ],
      "text/plain": [
       "<IPython.core.display.HTML object>"
      ]
     },
     "metadata": {},
     "output_type": "display_data"
    },
    {
     "data": {
      "text/html": [
       "Find logs at: <code>./wandb/run-20250414_195000-pyzxcz5m/logs</code>"
      ],
      "text/plain": [
       "<IPython.core.display.HTML object>"
      ]
     },
     "metadata": {},
     "output_type": "display_data"
    },
    {
     "name": "stdout",
     "output_type": "stream",
     "text": [
      "Finished: Ep20 LR3e-05 WD0.01 DO0.0 → PRAUC 0.5037\n"
     ]
    },
    {
     "name": "stderr",
     "output_type": "stream",
     "text": [
      "/mnt/nfs1/home/yamamoto-hiroto/research/vertebrae/.venv/lib/python3.12/site-packages/torchvision/models/_utils.py:208: UserWarning: The parameter 'pretrained' is deprecated since 0.13 and may be removed in the future, please use 'weights' instead.\n",
      "  warnings.warn(\n",
      "/mnt/nfs1/home/yamamoto-hiroto/research/vertebrae/.venv/lib/python3.12/site-packages/torchvision/models/_utils.py:223: UserWarning: Arguments other than a weight enum or `None` for 'weights' are deprecated since 0.13 and may be removed in the future. The current behavior is equivalent to passing `weights=ResNet18_Weights.IMAGENET1K_V1`. You can also use `weights=ResNet18_Weights.DEFAULT` to get the most up-to-date weights.\n",
      "  warnings.warn(msg)\n"
     ]
    },
    {
     "data": {
      "text/html": [
       "Tracking run with wandb version 0.19.9"
      ],
      "text/plain": [
       "<IPython.core.display.HTML object>"
      ]
     },
     "metadata": {},
     "output_type": "display_data"
    },
    {
     "data": {
      "text/html": [
       "Run data is saved locally in <code>/mnt/nfs1/home/yamamoto-hiroto/research/vertebrae/Sakaguchi_file/S_model_learning/wandb/run-20250414_200822-2nczxw04</code>"
      ],
      "text/plain": [
       "<IPython.core.display.HTML object>"
      ]
     },
     "metadata": {},
     "output_type": "display_data"
    },
    {
     "data": {
      "text/html": [
       "Syncing run <strong><a href='https://wandb.ai/yuya00-university-of-hyogo/vertebrae-augmentation_axial_learning_1/runs/2nczxw04' target=\"_blank\">legendary-wildflower-9</a></strong> to <a href='https://wandb.ai/yuya00-university-of-hyogo/vertebrae-augmentation_axial_learning_1' target=\"_blank\">Weights & Biases</a> (<a href='https://wandb.me/developer-guide' target=\"_blank\">docs</a>)<br>"
      ],
      "text/plain": [
       "<IPython.core.display.HTML object>"
      ]
     },
     "metadata": {},
     "output_type": "display_data"
    },
    {
     "data": {
      "text/html": [
       " View project at <a href='https://wandb.ai/yuya00-university-of-hyogo/vertebrae-augmentation_axial_learning_1' target=\"_blank\">https://wandb.ai/yuya00-university-of-hyogo/vertebrae-augmentation_axial_learning_1</a>"
      ],
      "text/plain": [
       "<IPython.core.display.HTML object>"
      ]
     },
     "metadata": {},
     "output_type": "display_data"
    },
    {
     "data": {
      "text/html": [
       " View run at <a href='https://wandb.ai/yuya00-university-of-hyogo/vertebrae-augmentation_axial_learning_1/runs/2nczxw04' target=\"_blank\">https://wandb.ai/yuya00-university-of-hyogo/vertebrae-augmentation_axial_learning_1/runs/2nczxw04</a>"
      ],
      "text/plain": [
       "<IPython.core.display.HTML object>"
      ]
     },
     "metadata": {},
     "output_type": "display_data"
    },
    {
     "data": {
      "application/vnd.jupyter.widget-view+json": {
       "model_id": "a80957165b314430ad282bd7c4b6b79c",
       "version_major": 2,
       "version_minor": 0
      },
      "text/plain": [
       "[Train] 1/30:   0%|          | 0/1036 [00:00<?, ?it/s]"
      ]
     },
     "metadata": {},
     "output_type": "display_data"
    },
    {
     "data": {
      "application/vnd.jupyter.widget-view+json": {
       "model_id": "41587aa53de74ed1a49cbce0756d460a",
       "version_major": 2,
       "version_minor": 0
      },
      "text/plain": [
       "[Train] 2/30:   0%|          | 0/1036 [00:00<?, ?it/s]"
      ]
     },
     "metadata": {},
     "output_type": "display_data"
    },
    {
     "data": {
      "application/vnd.jupyter.widget-view+json": {
       "model_id": "38a21e914432487e9bc73253a26de2ee",
       "version_major": 2,
       "version_minor": 0
      },
      "text/plain": [
       "[Train] 3/30:   0%|          | 0/1036 [00:00<?, ?it/s]"
      ]
     },
     "metadata": {},
     "output_type": "display_data"
    },
    {
     "data": {
      "application/vnd.jupyter.widget-view+json": {
       "model_id": "7950de2f55d94ea4b9338974902125d4",
       "version_major": 2,
       "version_minor": 0
      },
      "text/plain": [
       "[Train] 4/30:   0%|          | 0/1036 [00:00<?, ?it/s]"
      ]
     },
     "metadata": {},
     "output_type": "display_data"
    },
    {
     "data": {
      "application/vnd.jupyter.widget-view+json": {
       "model_id": "8797ff324359456d95fda411890c5d98",
       "version_major": 2,
       "version_minor": 0
      },
      "text/plain": [
       "[Train] 5/30:   0%|          | 0/1036 [00:00<?, ?it/s]"
      ]
     },
     "metadata": {},
     "output_type": "display_data"
    },
    {
     "data": {
      "application/vnd.jupyter.widget-view+json": {
       "model_id": "39a0acf6e974457383d21a59202550bf",
       "version_major": 2,
       "version_minor": 0
      },
      "text/plain": [
       "[Train] 6/30:   0%|          | 0/1036 [00:00<?, ?it/s]"
      ]
     },
     "metadata": {},
     "output_type": "display_data"
    },
    {
     "data": {
      "application/vnd.jupyter.widget-view+json": {
       "model_id": "14faa9a7c58d4123a48271080f3e4d4d",
       "version_major": 2,
       "version_minor": 0
      },
      "text/plain": [
       "[Train] 7/30:   0%|          | 0/1036 [00:00<?, ?it/s]"
      ]
     },
     "metadata": {},
     "output_type": "display_data"
    },
    {
     "data": {
      "application/vnd.jupyter.widget-view+json": {
       "model_id": "5412195e8e1a45fdbb6c84c304e4283b",
       "version_major": 2,
       "version_minor": 0
      },
      "text/plain": [
       "[Train] 8/30:   0%|          | 0/1036 [00:00<?, ?it/s]"
      ]
     },
     "metadata": {},
     "output_type": "display_data"
    },
    {
     "data": {
      "application/vnd.jupyter.widget-view+json": {
       "model_id": "47375bc3f62d426c9c5353b61d8ceaed",
       "version_major": 2,
       "version_minor": 0
      },
      "text/plain": [
       "[Train] 9/30:   0%|          | 0/1036 [00:00<?, ?it/s]"
      ]
     },
     "metadata": {},
     "output_type": "display_data"
    },
    {
     "data": {
      "application/vnd.jupyter.widget-view+json": {
       "model_id": "1cee6bf7e8fe4145adff5acf4a6de0fb",
       "version_major": 2,
       "version_minor": 0
      },
      "text/plain": [
       "[Train] 10/30:   0%|          | 0/1036 [00:00<?, ?it/s]"
      ]
     },
     "metadata": {},
     "output_type": "display_data"
    },
    {
     "data": {
      "application/vnd.jupyter.widget-view+json": {
       "model_id": "e2d7b4348d9942eb8e1f5427776255c2",
       "version_major": 2,
       "version_minor": 0
      },
      "text/plain": [
       "[Train] 11/30:   0%|          | 0/1036 [00:00<?, ?it/s]"
      ]
     },
     "metadata": {},
     "output_type": "display_data"
    },
    {
     "data": {
      "application/vnd.jupyter.widget-view+json": {
       "model_id": "8c151fa0b5fc4a65b65ac6f388b1f5e6",
       "version_major": 2,
       "version_minor": 0
      },
      "text/plain": [
       "[Train] 12/30:   0%|          | 0/1036 [00:00<?, ?it/s]"
      ]
     },
     "metadata": {},
     "output_type": "display_data"
    },
    {
     "data": {
      "application/vnd.jupyter.widget-view+json": {
       "model_id": "f264b174685e446594ae3dcf9edf8334",
       "version_major": 2,
       "version_minor": 0
      },
      "text/plain": [
       "[Train] 13/30:   0%|          | 0/1036 [00:00<?, ?it/s]"
      ]
     },
     "metadata": {},
     "output_type": "display_data"
    },
    {
     "data": {
      "application/vnd.jupyter.widget-view+json": {
       "model_id": "76ddb8814b00496fb68e4f28edc89d35",
       "version_major": 2,
       "version_minor": 0
      },
      "text/plain": [
       "[Train] 14/30:   0%|          | 0/1036 [00:00<?, ?it/s]"
      ]
     },
     "metadata": {},
     "output_type": "display_data"
    },
    {
     "data": {
      "application/vnd.jupyter.widget-view+json": {
       "model_id": "a31ed50b09c248f09326fc9f3694cebf",
       "version_major": 2,
       "version_minor": 0
      },
      "text/plain": [
       "[Train] 15/30:   0%|          | 0/1036 [00:00<?, ?it/s]"
      ]
     },
     "metadata": {},
     "output_type": "display_data"
    },
    {
     "data": {
      "application/vnd.jupyter.widget-view+json": {
       "model_id": "d5deb98d11cf4206bb81f9efd5cd0e10",
       "version_major": 2,
       "version_minor": 0
      },
      "text/plain": [
       "[Train] 16/30:   0%|          | 0/1036 [00:00<?, ?it/s]"
      ]
     },
     "metadata": {},
     "output_type": "display_data"
    },
    {
     "data": {
      "application/vnd.jupyter.widget-view+json": {
       "model_id": "16dba6fe3e0843928ba5a9892eb67a6b",
       "version_major": 2,
       "version_minor": 0
      },
      "text/plain": [
       "[Train] 17/30:   0%|          | 0/1036 [00:00<?, ?it/s]"
      ]
     },
     "metadata": {},
     "output_type": "display_data"
    },
    {
     "data": {
      "application/vnd.jupyter.widget-view+json": {
       "model_id": "bcba4b61179b43b4b1ea671f63ac5978",
       "version_major": 2,
       "version_minor": 0
      },
      "text/plain": [
       "[Train] 18/30:   0%|          | 0/1036 [00:00<?, ?it/s]"
      ]
     },
     "metadata": {},
     "output_type": "display_data"
    },
    {
     "data": {
      "application/vnd.jupyter.widget-view+json": {
       "model_id": "998d868cf0ba4915ab9e1ec7e8f60d95",
       "version_major": 2,
       "version_minor": 0
      },
      "text/plain": [
       "[Train] 19/30:   0%|          | 0/1036 [00:00<?, ?it/s]"
      ]
     },
     "metadata": {},
     "output_type": "display_data"
    },
    {
     "data": {
      "application/vnd.jupyter.widget-view+json": {
       "model_id": "371b49169c1249de86da7107e5a8828d",
       "version_major": 2,
       "version_minor": 0
      },
      "text/plain": [
       "[Train] 20/30:   0%|          | 0/1036 [00:00<?, ?it/s]"
      ]
     },
     "metadata": {},
     "output_type": "display_data"
    },
    {
     "data": {
      "application/vnd.jupyter.widget-view+json": {
       "model_id": "f2295c5860f54ed9ba3d5b2e5cb2ad89",
       "version_major": 2,
       "version_minor": 0
      },
      "text/plain": [
       "[Train] 21/30:   0%|          | 0/1036 [00:00<?, ?it/s]"
      ]
     },
     "metadata": {},
     "output_type": "display_data"
    },
    {
     "data": {
      "application/vnd.jupyter.widget-view+json": {
       "model_id": "c78d33d09714431cb3169c03d59e4472",
       "version_major": 2,
       "version_minor": 0
      },
      "text/plain": [
       "[Train] 22/30:   0%|          | 0/1036 [00:00<?, ?it/s]"
      ]
     },
     "metadata": {},
     "output_type": "display_data"
    },
    {
     "data": {
      "application/vnd.jupyter.widget-view+json": {
       "model_id": "443a98a5031246e1bc7639a7c9940a4b",
       "version_major": 2,
       "version_minor": 0
      },
      "text/plain": [
       "[Train] 23/30:   0%|          | 0/1036 [00:00<?, ?it/s]"
      ]
     },
     "metadata": {},
     "output_type": "display_data"
    },
    {
     "data": {
      "application/vnd.jupyter.widget-view+json": {
       "model_id": "c88ec839e2f747bd9a728a00dfdbec5a",
       "version_major": 2,
       "version_minor": 0
      },
      "text/plain": [
       "[Train] 24/30:   0%|          | 0/1036 [00:00<?, ?it/s]"
      ]
     },
     "metadata": {},
     "output_type": "display_data"
    },
    {
     "data": {
      "application/vnd.jupyter.widget-view+json": {
       "model_id": "85c4bfe9358c45d59de019eef1718624",
       "version_major": 2,
       "version_minor": 0
      },
      "text/plain": [
       "[Train] 25/30:   0%|          | 0/1036 [00:00<?, ?it/s]"
      ]
     },
     "metadata": {},
     "output_type": "display_data"
    },
    {
     "data": {
      "application/vnd.jupyter.widget-view+json": {
       "model_id": "a5d4be82e0134bcab46b074a54a9ac68",
       "version_major": 2,
       "version_minor": 0
      },
      "text/plain": [
       "[Train] 26/30:   0%|          | 0/1036 [00:00<?, ?it/s]"
      ]
     },
     "metadata": {},
     "output_type": "display_data"
    },
    {
     "data": {
      "application/vnd.jupyter.widget-view+json": {
       "model_id": "6b4f68a3f919442dbb1122ba460aec6d",
       "version_major": 2,
       "version_minor": 0
      },
      "text/plain": [
       "[Train] 27/30:   0%|          | 0/1036 [00:00<?, ?it/s]"
      ]
     },
     "metadata": {},
     "output_type": "display_data"
    },
    {
     "data": {
      "application/vnd.jupyter.widget-view+json": {
       "model_id": "7d6ad3a870cf45cbb7b155c05185b1d5",
       "version_major": 2,
       "version_minor": 0
      },
      "text/plain": [
       "[Train] 28/30:   0%|          | 0/1036 [00:00<?, ?it/s]"
      ]
     },
     "metadata": {},
     "output_type": "display_data"
    },
    {
     "data": {
      "application/vnd.jupyter.widget-view+json": {
       "model_id": "1282acb16f1042579eb36bced40deafc",
       "version_major": 2,
       "version_minor": 0
      },
      "text/plain": [
       "[Train] 29/30:   0%|          | 0/1036 [00:00<?, ?it/s]"
      ]
     },
     "metadata": {},
     "output_type": "display_data"
    },
    {
     "data": {
      "application/vnd.jupyter.widget-view+json": {
       "model_id": "e33d4222b134446693bf55b03857f1b1",
       "version_major": 2,
       "version_minor": 0
      },
      "text/plain": [
       "[Train] 30/30:   0%|          | 0/1036 [00:00<?, ?it/s]"
      ]
     },
     "metadata": {},
     "output_type": "display_data"
    },
    {
     "name": "stderr",
     "output_type": "stream",
     "text": [
      "\u001b[34m\u001b[1mwandb\u001b[0m: \u001b[32m\u001b[41mERROR\u001b[0m The nbformat package was not found. It is required to save notebook history.\n"
     ]
    },
    {
     "data": {
      "text/html": [],
      "text/plain": [
       "<IPython.core.display.HTML object>"
      ]
     },
     "metadata": {},
     "output_type": "display_data"
    },
    {
     "data": {
      "text/html": [
       "<br>    <style><br>        .wandb-row {<br>            display: flex;<br>            flex-direction: row;<br>            flex-wrap: wrap;<br>            justify-content: flex-start;<br>            width: 100%;<br>        }<br>        .wandb-col {<br>            display: flex;<br>            flex-direction: column;<br>            flex-basis: 100%;<br>            flex: 1;<br>            padding: 10px;<br>        }<br>    </style><br><div class=\"wandb-row\"><div class=\"wandb-col\"><h3>Run history:</h3><br/><table class=\"wandb\"><tr><td>best_th</td><td>▃▆▄▃▅▃▅▄▃▆▂█▁▁▄▁▂▂▄▂▂▅▂▃▃▂▄▃▃▄</td></tr><tr><td>epoch</td><td>▁▁▁▂▂▂▂▃▃▃▃▄▄▄▄▅▅▅▅▆▆▆▆▇▇▇▇███</td></tr><tr><td>lr</td><td>████████████▂▂▂▂▂▂▂▂▂▂▂▁▁▁▁▁▁▁</td></tr><tr><td>precision</td><td>▆▆▅▁▆▆▄▆▂▅▂█▃▂▅▂▃▃▄▄▃▆▃▄▄▄▆▄▃▄</td></tr><tr><td>recall</td><td>█▄▅▇▅▃▅▂▅▃▂▁▅▆▂▆▄▄▂▃▄▂▄▃▃▃▂▃▃▃</td></tr><tr><td>train_loss</td><td>█▄▃▂▂▂▂▁▁▁▁▁▁▁▁▁▁▁▁▁▁▁▁▁▁▁▁▁▁▁</td></tr><tr><td>val_loss</td><td>▁▂▂▄▄▅▅▇▆▆▇▆▇▇▇▇▇▇▇▇██████▇█▇█</td></tr><tr><td>val_prauc</td><td>█▅▆▃▅▄▃▂▂▃▁▄▃▃▃▃▄▃▃▃▃▃▃▃▃▃▃▃▃▃</td></tr></table><br/></div><div class=\"wandb-col\"><h3>Run summary:</h3><br/><table class=\"wandb\"><tr><td>best_epoch</td><td>1</td></tr><tr><td>best_prauc</td><td>0.45583</td></tr><tr><td>best_th</td><td>0.37989</td></tr><tr><td>epoch</td><td>30</td></tr><tr><td>lr</td><td>0.0</td></tr><tr><td>precision</td><td>0.43921</td></tr><tr><td>recall</td><td>0.31551</td></tr><tr><td>saved_model_path</td><td>best_model_20250414_...</td></tr><tr><td>train_loss</td><td>0.00191</td></tr><tr><td>val_loss</td><td>0.42279</td></tr><tr><td>val_prauc</td><td>0.37606</td></tr></table><br/></div></div>"
      ],
      "text/plain": [
       "<IPython.core.display.HTML object>"
      ]
     },
     "metadata": {},
     "output_type": "display_data"
    },
    {
     "data": {
      "text/html": [
       " View run <strong style=\"color:#cdcd00\">legendary-wildflower-9</strong> at: <a href='https://wandb.ai/yuya00-university-of-hyogo/vertebrae-augmentation_axial_learning_1/runs/2nczxw04' target=\"_blank\">https://wandb.ai/yuya00-university-of-hyogo/vertebrae-augmentation_axial_learning_1/runs/2nczxw04</a><br> View project at: <a href='https://wandb.ai/yuya00-university-of-hyogo/vertebrae-augmentation_axial_learning_1' target=\"_blank\">https://wandb.ai/yuya00-university-of-hyogo/vertebrae-augmentation_axial_learning_1</a><br>Synced 5 W&B file(s), 0 media file(s), 0 artifact file(s) and 0 other file(s)"
      ],
      "text/plain": [
       "<IPython.core.display.HTML object>"
      ]
     },
     "metadata": {},
     "output_type": "display_data"
    },
    {
     "data": {
      "text/html": [
       "Find logs at: <code>./wandb/run-20250414_200822-2nczxw04/logs</code>"
      ],
      "text/plain": [
       "<IPython.core.display.HTML object>"
      ]
     },
     "metadata": {},
     "output_type": "display_data"
    },
    {
     "name": "stdout",
     "output_type": "stream",
     "text": [
      "Finished: Ep30 LR1e-05 WD0.001 DO0.3 → PRAUC 0.4558\n"
     ]
    },
    {
     "name": "stderr",
     "output_type": "stream",
     "text": [
      "/mnt/nfs1/home/yamamoto-hiroto/research/vertebrae/.venv/lib/python3.12/site-packages/torchvision/models/_utils.py:208: UserWarning: The parameter 'pretrained' is deprecated since 0.13 and may be removed in the future, please use 'weights' instead.\n",
      "  warnings.warn(\n",
      "/mnt/nfs1/home/yamamoto-hiroto/research/vertebrae/.venv/lib/python3.12/site-packages/torchvision/models/_utils.py:223: UserWarning: Arguments other than a weight enum or `None` for 'weights' are deprecated since 0.13 and may be removed in the future. The current behavior is equivalent to passing `weights=ResNet18_Weights.IMAGENET1K_V1`. You can also use `weights=ResNet18_Weights.DEFAULT` to get the most up-to-date weights.\n",
      "  warnings.warn(msg)\n"
     ]
    },
    {
     "data": {
      "text/html": [
       "Tracking run with wandb version 0.19.9"
      ],
      "text/plain": [
       "<IPython.core.display.HTML object>"
      ]
     },
     "metadata": {},
     "output_type": "display_data"
    },
    {
     "data": {
      "text/html": [
       "Run data is saved locally in <code>/mnt/nfs1/home/yamamoto-hiroto/research/vertebrae/Sakaguchi_file/S_model_learning/wandb/run-20250414_203546-4t9ngb6b</code>"
      ],
      "text/plain": [
       "<IPython.core.display.HTML object>"
      ]
     },
     "metadata": {},
     "output_type": "display_data"
    },
    {
     "data": {
      "text/html": [
       "Syncing run <strong><a href='https://wandb.ai/yuya00-university-of-hyogo/vertebrae-augmentation_axial_learning_1/runs/4t9ngb6b' target=\"_blank\">different-firebrand-10</a></strong> to <a href='https://wandb.ai/yuya00-university-of-hyogo/vertebrae-augmentation_axial_learning_1' target=\"_blank\">Weights & Biases</a> (<a href='https://wandb.me/developer-guide' target=\"_blank\">docs</a>)<br>"
      ],
      "text/plain": [
       "<IPython.core.display.HTML object>"
      ]
     },
     "metadata": {},
     "output_type": "display_data"
    },
    {
     "data": {
      "text/html": [
       " View project at <a href='https://wandb.ai/yuya00-university-of-hyogo/vertebrae-augmentation_axial_learning_1' target=\"_blank\">https://wandb.ai/yuya00-university-of-hyogo/vertebrae-augmentation_axial_learning_1</a>"
      ],
      "text/plain": [
       "<IPython.core.display.HTML object>"
      ]
     },
     "metadata": {},
     "output_type": "display_data"
    },
    {
     "data": {
      "text/html": [
       " View run at <a href='https://wandb.ai/yuya00-university-of-hyogo/vertebrae-augmentation_axial_learning_1/runs/4t9ngb6b' target=\"_blank\">https://wandb.ai/yuya00-university-of-hyogo/vertebrae-augmentation_axial_learning_1/runs/4t9ngb6b</a>"
      ],
      "text/plain": [
       "<IPython.core.display.HTML object>"
      ]
     },
     "metadata": {},
     "output_type": "display_data"
    },
    {
     "data": {
      "application/vnd.jupyter.widget-view+json": {
       "model_id": "1bdda0756d9e4434b3156c1c57c8bf7c",
       "version_major": 2,
       "version_minor": 0
      },
      "text/plain": [
       "[Train] 1/30:   0%|          | 0/1036 [00:00<?, ?it/s]"
      ]
     },
     "metadata": {},
     "output_type": "display_data"
    },
    {
     "data": {
      "application/vnd.jupyter.widget-view+json": {
       "model_id": "e2e0bf9e522143d49aaa2525567b974f",
       "version_major": 2,
       "version_minor": 0
      },
      "text/plain": [
       "[Train] 2/30:   0%|          | 0/1036 [00:00<?, ?it/s]"
      ]
     },
     "metadata": {},
     "output_type": "display_data"
    },
    {
     "data": {
      "application/vnd.jupyter.widget-view+json": {
       "model_id": "af9c7f2f097744e6a219b02097917fc8",
       "version_major": 2,
       "version_minor": 0
      },
      "text/plain": [
       "[Train] 3/30:   0%|          | 0/1036 [00:00<?, ?it/s]"
      ]
     },
     "metadata": {},
     "output_type": "display_data"
    },
    {
     "data": {
      "application/vnd.jupyter.widget-view+json": {
       "model_id": "82d1ebbd59a04a1fbe06553df8981fb5",
       "version_major": 2,
       "version_minor": 0
      },
      "text/plain": [
       "[Train] 4/30:   0%|          | 0/1036 [00:00<?, ?it/s]"
      ]
     },
     "metadata": {},
     "output_type": "display_data"
    },
    {
     "data": {
      "application/vnd.jupyter.widget-view+json": {
       "model_id": "8f80e385de0d483e983ffb40f83f9d9c",
       "version_major": 2,
       "version_minor": 0
      },
      "text/plain": [
       "[Train] 5/30:   0%|          | 0/1036 [00:00<?, ?it/s]"
      ]
     },
     "metadata": {},
     "output_type": "display_data"
    },
    {
     "data": {
      "application/vnd.jupyter.widget-view+json": {
       "model_id": "7be601283d4a4104982670ab0be329a1",
       "version_major": 2,
       "version_minor": 0
      },
      "text/plain": [
       "[Train] 6/30:   0%|          | 0/1036 [00:00<?, ?it/s]"
      ]
     },
     "metadata": {},
     "output_type": "display_data"
    },
    {
     "data": {
      "application/vnd.jupyter.widget-view+json": {
       "model_id": "3827fb52b04b4b16aba46cf325096516",
       "version_major": 2,
       "version_minor": 0
      },
      "text/plain": [
       "[Train] 7/30:   0%|          | 0/1036 [00:00<?, ?it/s]"
      ]
     },
     "metadata": {},
     "output_type": "display_data"
    },
    {
     "data": {
      "application/vnd.jupyter.widget-view+json": {
       "model_id": "af5ec24d2fbc48e985082cc9bdb5c24a",
       "version_major": 2,
       "version_minor": 0
      },
      "text/plain": [
       "[Train] 8/30:   0%|          | 0/1036 [00:00<?, ?it/s]"
      ]
     },
     "metadata": {},
     "output_type": "display_data"
    },
    {
     "data": {
      "application/vnd.jupyter.widget-view+json": {
       "model_id": "7b1804dd7e3f4bdbbe1bd065f986dc3b",
       "version_major": 2,
       "version_minor": 0
      },
      "text/plain": [
       "[Train] 9/30:   0%|          | 0/1036 [00:00<?, ?it/s]"
      ]
     },
     "metadata": {},
     "output_type": "display_data"
    },
    {
     "data": {
      "application/vnd.jupyter.widget-view+json": {
       "model_id": "d40bb4287a884fac99b4350d402d3534",
       "version_major": 2,
       "version_minor": 0
      },
      "text/plain": [
       "[Train] 10/30:   0%|          | 0/1036 [00:00<?, ?it/s]"
      ]
     },
     "metadata": {},
     "output_type": "display_data"
    },
    {
     "data": {
      "application/vnd.jupyter.widget-view+json": {
       "model_id": "0b43c660c79f4efdb68b48289dfe92e1",
       "version_major": 2,
       "version_minor": 0
      },
      "text/plain": [
       "[Train] 11/30:   0%|          | 0/1036 [00:00<?, ?it/s]"
      ]
     },
     "metadata": {},
     "output_type": "display_data"
    },
    {
     "data": {
      "application/vnd.jupyter.widget-view+json": {
       "model_id": "9a8ad163f8d046aab129b12cc94cabca",
       "version_major": 2,
       "version_minor": 0
      },
      "text/plain": [
       "[Train] 12/30:   0%|          | 0/1036 [00:00<?, ?it/s]"
      ]
     },
     "metadata": {},
     "output_type": "display_data"
    },
    {
     "data": {
      "application/vnd.jupyter.widget-view+json": {
       "model_id": "e51ceb4eff2542619bc6138f8a27ebff",
       "version_major": 2,
       "version_minor": 0
      },
      "text/plain": [
       "[Train] 13/30:   0%|          | 0/1036 [00:00<?, ?it/s]"
      ]
     },
     "metadata": {},
     "output_type": "display_data"
    },
    {
     "data": {
      "application/vnd.jupyter.widget-view+json": {
       "model_id": "e2e9a307f00d47448790dc28ccf3705b",
       "version_major": 2,
       "version_minor": 0
      },
      "text/plain": [
       "[Train] 14/30:   0%|          | 0/1036 [00:00<?, ?it/s]"
      ]
     },
     "metadata": {},
     "output_type": "display_data"
    },
    {
     "data": {
      "application/vnd.jupyter.widget-view+json": {
       "model_id": "42e82d1584374dc4b5b075556dadd640",
       "version_major": 2,
       "version_minor": 0
      },
      "text/plain": [
       "[Train] 15/30:   0%|          | 0/1036 [00:00<?, ?it/s]"
      ]
     },
     "metadata": {},
     "output_type": "display_data"
    },
    {
     "data": {
      "application/vnd.jupyter.widget-view+json": {
       "model_id": "1b90383899d74bd9b7b90ddfa8c68dbd",
       "version_major": 2,
       "version_minor": 0
      },
      "text/plain": [
       "[Train] 16/30:   0%|          | 0/1036 [00:00<?, ?it/s]"
      ]
     },
     "metadata": {},
     "output_type": "display_data"
    },
    {
     "data": {
      "application/vnd.jupyter.widget-view+json": {
       "model_id": "448d919096984d19a0ab24aa223b39c7",
       "version_major": 2,
       "version_minor": 0
      },
      "text/plain": [
       "[Train] 17/30:   0%|          | 0/1036 [00:00<?, ?it/s]"
      ]
     },
     "metadata": {},
     "output_type": "display_data"
    },
    {
     "data": {
      "application/vnd.jupyter.widget-view+json": {
       "model_id": "c5c043d5d66d4f0f853a7d94d20c46bb",
       "version_major": 2,
       "version_minor": 0
      },
      "text/plain": [
       "[Train] 18/30:   0%|          | 0/1036 [00:00<?, ?it/s]"
      ]
     },
     "metadata": {},
     "output_type": "display_data"
    },
    {
     "data": {
      "application/vnd.jupyter.widget-view+json": {
       "model_id": "c3e24ffef5304c06af4a7b31dbca1b00",
       "version_major": 2,
       "version_minor": 0
      },
      "text/plain": [
       "[Train] 19/30:   0%|          | 0/1036 [00:00<?, ?it/s]"
      ]
     },
     "metadata": {},
     "output_type": "display_data"
    },
    {
     "data": {
      "application/vnd.jupyter.widget-view+json": {
       "model_id": "822ba606dc2241f19797b251efee98ab",
       "version_major": 2,
       "version_minor": 0
      },
      "text/plain": [
       "[Train] 20/30:   0%|          | 0/1036 [00:00<?, ?it/s]"
      ]
     },
     "metadata": {},
     "output_type": "display_data"
    },
    {
     "data": {
      "application/vnd.jupyter.widget-view+json": {
       "model_id": "f3086057b93e4990bc6abdf78fee89dd",
       "version_major": 2,
       "version_minor": 0
      },
      "text/plain": [
       "[Train] 21/30:   0%|          | 0/1036 [00:00<?, ?it/s]"
      ]
     },
     "metadata": {},
     "output_type": "display_data"
    },
    {
     "data": {
      "application/vnd.jupyter.widget-view+json": {
       "model_id": "f790cd0096e849f7bc0aa6d6e50485fa",
       "version_major": 2,
       "version_minor": 0
      },
      "text/plain": [
       "[Train] 22/30:   0%|          | 0/1036 [00:00<?, ?it/s]"
      ]
     },
     "metadata": {},
     "output_type": "display_data"
    },
    {
     "data": {
      "application/vnd.jupyter.widget-view+json": {
       "model_id": "db5ac2b3b7ea464495be05a95a2c6d91",
       "version_major": 2,
       "version_minor": 0
      },
      "text/plain": [
       "[Train] 23/30:   0%|          | 0/1036 [00:00<?, ?it/s]"
      ]
     },
     "metadata": {},
     "output_type": "display_data"
    },
    {
     "data": {
      "application/vnd.jupyter.widget-view+json": {
       "model_id": "404a94e7054f492db70bc48f319e959e",
       "version_major": 2,
       "version_minor": 0
      },
      "text/plain": [
       "[Train] 24/30:   0%|          | 0/1036 [00:00<?, ?it/s]"
      ]
     },
     "metadata": {},
     "output_type": "display_data"
    },
    {
     "data": {
      "application/vnd.jupyter.widget-view+json": {
       "model_id": "a7fa1bbb1f20487d88fc375b813982e3",
       "version_major": 2,
       "version_minor": 0
      },
      "text/plain": [
       "[Train] 25/30:   0%|          | 0/1036 [00:00<?, ?it/s]"
      ]
     },
     "metadata": {},
     "output_type": "display_data"
    },
    {
     "data": {
      "application/vnd.jupyter.widget-view+json": {
       "model_id": "cf97bc41b66b4114ab54e109a4fa4653",
       "version_major": 2,
       "version_minor": 0
      },
      "text/plain": [
       "[Train] 26/30:   0%|          | 0/1036 [00:00<?, ?it/s]"
      ]
     },
     "metadata": {},
     "output_type": "display_data"
    },
    {
     "data": {
      "application/vnd.jupyter.widget-view+json": {
       "model_id": "d8a8728075cc4b66b0ff6baca4fa5b3f",
       "version_major": 2,
       "version_minor": 0
      },
      "text/plain": [
       "[Train] 27/30:   0%|          | 0/1036 [00:00<?, ?it/s]"
      ]
     },
     "metadata": {},
     "output_type": "display_data"
    },
    {
     "data": {
      "application/vnd.jupyter.widget-view+json": {
       "model_id": "6ec5a705800443b8b1c8290d1ed8be7f",
       "version_major": 2,
       "version_minor": 0
      },
      "text/plain": [
       "[Train] 28/30:   0%|          | 0/1036 [00:00<?, ?it/s]"
      ]
     },
     "metadata": {},
     "output_type": "display_data"
    },
    {
     "data": {
      "application/vnd.jupyter.widget-view+json": {
       "model_id": "0d575cd580da419dac3d4b718278ca0a",
       "version_major": 2,
       "version_minor": 0
      },
      "text/plain": [
       "[Train] 29/30:   0%|          | 0/1036 [00:00<?, ?it/s]"
      ]
     },
     "metadata": {},
     "output_type": "display_data"
    },
    {
     "data": {
      "application/vnd.jupyter.widget-view+json": {
       "model_id": "79f8768991e844749fee01b29d48b129",
       "version_major": 2,
       "version_minor": 0
      },
      "text/plain": [
       "[Train] 30/30:   0%|          | 0/1036 [00:00<?, ?it/s]"
      ]
     },
     "metadata": {},
     "output_type": "display_data"
    },
    {
     "name": "stderr",
     "output_type": "stream",
     "text": [
      "\u001b[34m\u001b[1mwandb\u001b[0m: \u001b[32m\u001b[41mERROR\u001b[0m The nbformat package was not found. It is required to save notebook history.\n"
     ]
    },
    {
     "data": {
      "text/html": [],
      "text/plain": [
       "<IPython.core.display.HTML object>"
      ]
     },
     "metadata": {},
     "output_type": "display_data"
    },
    {
     "data": {
      "text/html": [
       "<br>    <style><br>        .wandb-row {<br>            display: flex;<br>            flex-direction: row;<br>            flex-wrap: wrap;<br>            justify-content: flex-start;<br>            width: 100%;<br>        }<br>        .wandb-col {<br>            display: flex;<br>            flex-direction: column;<br>            flex-basis: 100%;<br>            flex: 1;<br>            padding: 10px;<br>        }<br>    </style><br><div class=\"wandb-row\"><div class=\"wandb-col\"><h3>Run history:</h3><br/><table class=\"wandb\"><tr><td>best_th</td><td>▃▃█▅▄▃▃▁▂▅▃▃▂▆▂▄▃▂▁▁▂▂▁▄▃▃▄▄▆▃</td></tr><tr><td>epoch</td><td>▁▁▁▂▂▂▂▃▃▃▃▄▄▄▄▅▅▅▅▆▆▆▆▇▇▇▇███</td></tr><tr><td>lr</td><td>████████████▂▂▂▂▂▂▂▂▂▂▂▁▁▁▁▁▁▁</td></tr><tr><td>precision</td><td>▁▂▇▄▃▄▇▅▅▅█▅▆█▅▆▇▆▄▄▅▄▅▇▇▇█▇█▇</td></tr><tr><td>recall</td><td>█▆▁▅▄▃▂▃▅▃▂▅▅▄▅▄▄▅▇▆▆▆▆▄▄▃▃▃▃▄</td></tr><tr><td>train_loss</td><td>█▄▃▂▂▂▂▁▁▁▁▁▁▁▁▁▁▁▁▁▁▁▁▁▁▁▁▁▁▁</td></tr><tr><td>val_loss</td><td>▁▂▂▃▄▅▆▇▆▆▆▆▆▆▇▆▇▇▆▇▇▇▇▇▇██▇▇▇</td></tr><tr><td>val_prauc</td><td>▁▃▃▃▂▄▃▄▆▃▅▇██▇▇▆▇▇▆▆▆▇▆▆▆▆▆▆▆</td></tr></table><br/></div><div class=\"wandb-col\"><h3>Run summary:</h3><br/><table class=\"wandb\"><tr><td>best_epoch</td><td>14</td></tr><tr><td>best_prauc</td><td>0.41741</td></tr><tr><td>best_th</td><td>0.20999</td></tr><tr><td>epoch</td><td>30</td></tr><tr><td>lr</td><td>0.0</td></tr><tr><td>precision</td><td>0.5375</td></tr><tr><td>recall</td><td>0.3066</td></tr><tr><td>saved_model_path</td><td>best_model_20250414_...</td></tr><tr><td>train_loss</td><td>0.00185</td></tr><tr><td>val_loss</td><td>0.39896</td></tr><tr><td>val_prauc</td><td>0.39638</td></tr></table><br/></div></div>"
      ],
      "text/plain": [
       "<IPython.core.display.HTML object>"
      ]
     },
     "metadata": {},
     "output_type": "display_data"
    },
    {
     "data": {
      "text/html": [
       " View run <strong style=\"color:#cdcd00\">different-firebrand-10</strong> at: <a href='https://wandb.ai/yuya00-university-of-hyogo/vertebrae-augmentation_axial_learning_1/runs/4t9ngb6b' target=\"_blank\">https://wandb.ai/yuya00-university-of-hyogo/vertebrae-augmentation_axial_learning_1/runs/4t9ngb6b</a><br> View project at: <a href='https://wandb.ai/yuya00-university-of-hyogo/vertebrae-augmentation_axial_learning_1' target=\"_blank\">https://wandb.ai/yuya00-university-of-hyogo/vertebrae-augmentation_axial_learning_1</a><br>Synced 5 W&B file(s), 0 media file(s), 0 artifact file(s) and 0 other file(s)"
      ],
      "text/plain": [
       "<IPython.core.display.HTML object>"
      ]
     },
     "metadata": {},
     "output_type": "display_data"
    },
    {
     "data": {
      "text/html": [
       "Find logs at: <code>./wandb/run-20250414_203546-4t9ngb6b/logs</code>"
      ],
      "text/plain": [
       "<IPython.core.display.HTML object>"
      ]
     },
     "metadata": {},
     "output_type": "display_data"
    },
    {
     "name": "stdout",
     "output_type": "stream",
     "text": [
      "Finished: Ep30 LR1e-05 WD0.001 DO0.0 → PRAUC 0.4174\n"
     ]
    },
    {
     "name": "stderr",
     "output_type": "stream",
     "text": [
      "/mnt/nfs1/home/yamamoto-hiroto/research/vertebrae/.venv/lib/python3.12/site-packages/torchvision/models/_utils.py:208: UserWarning: The parameter 'pretrained' is deprecated since 0.13 and may be removed in the future, please use 'weights' instead.\n",
      "  warnings.warn(\n",
      "/mnt/nfs1/home/yamamoto-hiroto/research/vertebrae/.venv/lib/python3.12/site-packages/torchvision/models/_utils.py:223: UserWarning: Arguments other than a weight enum or `None` for 'weights' are deprecated since 0.13 and may be removed in the future. The current behavior is equivalent to passing `weights=ResNet18_Weights.IMAGENET1K_V1`. You can also use `weights=ResNet18_Weights.DEFAULT` to get the most up-to-date weights.\n",
      "  warnings.warn(msg)\n"
     ]
    },
    {
     "data": {
      "text/html": [
       "Tracking run with wandb version 0.19.9"
      ],
      "text/plain": [
       "<IPython.core.display.HTML object>"
      ]
     },
     "metadata": {},
     "output_type": "display_data"
    },
    {
     "data": {
      "text/html": [
       "Run data is saved locally in <code>/mnt/nfs1/home/yamamoto-hiroto/research/vertebrae/Sakaguchi_file/S_model_learning/wandb/run-20250414_210309-wvsjewyb</code>"
      ],
      "text/plain": [
       "<IPython.core.display.HTML object>"
      ]
     },
     "metadata": {},
     "output_type": "display_data"
    },
    {
     "data": {
      "text/html": [
       "Syncing run <strong><a href='https://wandb.ai/yuya00-university-of-hyogo/vertebrae-augmentation_axial_learning_1/runs/wvsjewyb' target=\"_blank\">misunderstood-eon-11</a></strong> to <a href='https://wandb.ai/yuya00-university-of-hyogo/vertebrae-augmentation_axial_learning_1' target=\"_blank\">Weights & Biases</a> (<a href='https://wandb.me/developer-guide' target=\"_blank\">docs</a>)<br>"
      ],
      "text/plain": [
       "<IPython.core.display.HTML object>"
      ]
     },
     "metadata": {},
     "output_type": "display_data"
    },
    {
     "data": {
      "text/html": [
       " View project at <a href='https://wandb.ai/yuya00-university-of-hyogo/vertebrae-augmentation_axial_learning_1' target=\"_blank\">https://wandb.ai/yuya00-university-of-hyogo/vertebrae-augmentation_axial_learning_1</a>"
      ],
      "text/plain": [
       "<IPython.core.display.HTML object>"
      ]
     },
     "metadata": {},
     "output_type": "display_data"
    },
    {
     "data": {
      "text/html": [
       " View run at <a href='https://wandb.ai/yuya00-university-of-hyogo/vertebrae-augmentation_axial_learning_1/runs/wvsjewyb' target=\"_blank\">https://wandb.ai/yuya00-university-of-hyogo/vertebrae-augmentation_axial_learning_1/runs/wvsjewyb</a>"
      ],
      "text/plain": [
       "<IPython.core.display.HTML object>"
      ]
     },
     "metadata": {},
     "output_type": "display_data"
    },
    {
     "data": {
      "application/vnd.jupyter.widget-view+json": {
       "model_id": "662d3e3cafa24be69d0df684566148e6",
       "version_major": 2,
       "version_minor": 0
      },
      "text/plain": [
       "[Train] 1/30:   0%|          | 0/1036 [00:00<?, ?it/s]"
      ]
     },
     "metadata": {},
     "output_type": "display_data"
    },
    {
     "data": {
      "application/vnd.jupyter.widget-view+json": {
       "model_id": "8fa44a6761f74e8bb4979e6ebb62d381",
       "version_major": 2,
       "version_minor": 0
      },
      "text/plain": [
       "[Train] 2/30:   0%|          | 0/1036 [00:00<?, ?it/s]"
      ]
     },
     "metadata": {},
     "output_type": "display_data"
    },
    {
     "data": {
      "application/vnd.jupyter.widget-view+json": {
       "model_id": "be5a42d510e64287ae93bb79cb5abc43",
       "version_major": 2,
       "version_minor": 0
      },
      "text/plain": [
       "[Train] 3/30:   0%|          | 0/1036 [00:00<?, ?it/s]"
      ]
     },
     "metadata": {},
     "output_type": "display_data"
    },
    {
     "data": {
      "application/vnd.jupyter.widget-view+json": {
       "model_id": "4a9715f4168f4c1fba2a9fda6e44a6ac",
       "version_major": 2,
       "version_minor": 0
      },
      "text/plain": [
       "[Train] 4/30:   0%|          | 0/1036 [00:00<?, ?it/s]"
      ]
     },
     "metadata": {},
     "output_type": "display_data"
    },
    {
     "data": {
      "application/vnd.jupyter.widget-view+json": {
       "model_id": "2b486691510f453b85b5eb2fc40ede47",
       "version_major": 2,
       "version_minor": 0
      },
      "text/plain": [
       "[Train] 5/30:   0%|          | 0/1036 [00:00<?, ?it/s]"
      ]
     },
     "metadata": {},
     "output_type": "display_data"
    },
    {
     "data": {
      "application/vnd.jupyter.widget-view+json": {
       "model_id": "d2305b3da26d40ba9913a2fd76a1d182",
       "version_major": 2,
       "version_minor": 0
      },
      "text/plain": [
       "[Train] 6/30:   0%|          | 0/1036 [00:00<?, ?it/s]"
      ]
     },
     "metadata": {},
     "output_type": "display_data"
    },
    {
     "data": {
      "application/vnd.jupyter.widget-view+json": {
       "model_id": "5500fbe35a9b44479ab31d4f0603ebad",
       "version_major": 2,
       "version_minor": 0
      },
      "text/plain": [
       "[Train] 7/30:   0%|          | 0/1036 [00:00<?, ?it/s]"
      ]
     },
     "metadata": {},
     "output_type": "display_data"
    },
    {
     "data": {
      "application/vnd.jupyter.widget-view+json": {
       "model_id": "9f1fc7e6d15f4d8dba72672ef53548f7",
       "version_major": 2,
       "version_minor": 0
      },
      "text/plain": [
       "[Train] 8/30:   0%|          | 0/1036 [00:00<?, ?it/s]"
      ]
     },
     "metadata": {},
     "output_type": "display_data"
    },
    {
     "data": {
      "application/vnd.jupyter.widget-view+json": {
       "model_id": "635e3eca7cf64456bb2b75cbcf583fe3",
       "version_major": 2,
       "version_minor": 0
      },
      "text/plain": [
       "[Train] 9/30:   0%|          | 0/1036 [00:00<?, ?it/s]"
      ]
     },
     "metadata": {},
     "output_type": "display_data"
    },
    {
     "data": {
      "application/vnd.jupyter.widget-view+json": {
       "model_id": "f3cea21cb4a04fd497097d1caa8e73b1",
       "version_major": 2,
       "version_minor": 0
      },
      "text/plain": [
       "[Train] 10/30:   0%|          | 0/1036 [00:00<?, ?it/s]"
      ]
     },
     "metadata": {},
     "output_type": "display_data"
    },
    {
     "data": {
      "application/vnd.jupyter.widget-view+json": {
       "model_id": "07b8fbf9617f4db4bdd2dc966d392eed",
       "version_major": 2,
       "version_minor": 0
      },
      "text/plain": [
       "[Train] 11/30:   0%|          | 0/1036 [00:00<?, ?it/s]"
      ]
     },
     "metadata": {},
     "output_type": "display_data"
    },
    {
     "data": {
      "application/vnd.jupyter.widget-view+json": {
       "model_id": "fd3aaf10a25043f38e528ad65f885529",
       "version_major": 2,
       "version_minor": 0
      },
      "text/plain": [
       "[Train] 12/30:   0%|          | 0/1036 [00:00<?, ?it/s]"
      ]
     },
     "metadata": {},
     "output_type": "display_data"
    },
    {
     "data": {
      "application/vnd.jupyter.widget-view+json": {
       "model_id": "05af86fb766544dea37a7b9969f32b79",
       "version_major": 2,
       "version_minor": 0
      },
      "text/plain": [
       "[Train] 13/30:   0%|          | 0/1036 [00:00<?, ?it/s]"
      ]
     },
     "metadata": {},
     "output_type": "display_data"
    },
    {
     "data": {
      "application/vnd.jupyter.widget-view+json": {
       "model_id": "fbb5354e2b7047cf86974202b5dc5caa",
       "version_major": 2,
       "version_minor": 0
      },
      "text/plain": [
       "[Train] 14/30:   0%|          | 0/1036 [00:00<?, ?it/s]"
      ]
     },
     "metadata": {},
     "output_type": "display_data"
    },
    {
     "data": {
      "application/vnd.jupyter.widget-view+json": {
       "model_id": "e9f528fa1fa84f6eb73c62a57c2d8309",
       "version_major": 2,
       "version_minor": 0
      },
      "text/plain": [
       "[Train] 15/30:   0%|          | 0/1036 [00:00<?, ?it/s]"
      ]
     },
     "metadata": {},
     "output_type": "display_data"
    },
    {
     "data": {
      "application/vnd.jupyter.widget-view+json": {
       "model_id": "115233e721eb434c8f02c929582e23b6",
       "version_major": 2,
       "version_minor": 0
      },
      "text/plain": [
       "[Train] 16/30:   0%|          | 0/1036 [00:00<?, ?it/s]"
      ]
     },
     "metadata": {},
     "output_type": "display_data"
    },
    {
     "data": {
      "application/vnd.jupyter.widget-view+json": {
       "model_id": "383bd6ded0b3473fb47b7205d8ceffd6",
       "version_major": 2,
       "version_minor": 0
      },
      "text/plain": [
       "[Train] 17/30:   0%|          | 0/1036 [00:00<?, ?it/s]"
      ]
     },
     "metadata": {},
     "output_type": "display_data"
    },
    {
     "data": {
      "application/vnd.jupyter.widget-view+json": {
       "model_id": "7661587151414451876d1b0136a3d2ca",
       "version_major": 2,
       "version_minor": 0
      },
      "text/plain": [
       "[Train] 18/30:   0%|          | 0/1036 [00:00<?, ?it/s]"
      ]
     },
     "metadata": {},
     "output_type": "display_data"
    },
    {
     "data": {
      "application/vnd.jupyter.widget-view+json": {
       "model_id": "f5482d8e0b1a45d097e13db7af144003",
       "version_major": 2,
       "version_minor": 0
      },
      "text/plain": [
       "[Train] 19/30:   0%|          | 0/1036 [00:00<?, ?it/s]"
      ]
     },
     "metadata": {},
     "output_type": "display_data"
    },
    {
     "data": {
      "application/vnd.jupyter.widget-view+json": {
       "model_id": "fc8e46c9bc4f4b1ab7b829dae4234d3c",
       "version_major": 2,
       "version_minor": 0
      },
      "text/plain": [
       "[Train] 20/30:   0%|          | 0/1036 [00:00<?, ?it/s]"
      ]
     },
     "metadata": {},
     "output_type": "display_data"
    },
    {
     "data": {
      "application/vnd.jupyter.widget-view+json": {
       "model_id": "7ab0a36e55124dd3ac32496edb18cf33",
       "version_major": 2,
       "version_minor": 0
      },
      "text/plain": [
       "[Train] 21/30:   0%|          | 0/1036 [00:00<?, ?it/s]"
      ]
     },
     "metadata": {},
     "output_type": "display_data"
    },
    {
     "data": {
      "application/vnd.jupyter.widget-view+json": {
       "model_id": "c0bc91148d0f4ac880911e22ad24a468",
       "version_major": 2,
       "version_minor": 0
      },
      "text/plain": [
       "[Train] 22/30:   0%|          | 0/1036 [00:00<?, ?it/s]"
      ]
     },
     "metadata": {},
     "output_type": "display_data"
    },
    {
     "data": {
      "application/vnd.jupyter.widget-view+json": {
       "model_id": "dff56d1398ee4ee1b0616cc5a36b1d8d",
       "version_major": 2,
       "version_minor": 0
      },
      "text/plain": [
       "[Train] 23/30:   0%|          | 0/1036 [00:00<?, ?it/s]"
      ]
     },
     "metadata": {},
     "output_type": "display_data"
    },
    {
     "data": {
      "application/vnd.jupyter.widget-view+json": {
       "model_id": "cf8a420a74be4087861a508a402ae0f8",
       "version_major": 2,
       "version_minor": 0
      },
      "text/plain": [
       "[Train] 24/30:   0%|          | 0/1036 [00:00<?, ?it/s]"
      ]
     },
     "metadata": {},
     "output_type": "display_data"
    },
    {
     "data": {
      "application/vnd.jupyter.widget-view+json": {
       "model_id": "6ec46d41f09348919f8fc79f1ef5532c",
       "version_major": 2,
       "version_minor": 0
      },
      "text/plain": [
       "[Train] 25/30:   0%|          | 0/1036 [00:00<?, ?it/s]"
      ]
     },
     "metadata": {},
     "output_type": "display_data"
    },
    {
     "data": {
      "application/vnd.jupyter.widget-view+json": {
       "model_id": "caeb3f2ef38d4adb863d7e4f4709e603",
       "version_major": 2,
       "version_minor": 0
      },
      "text/plain": [
       "[Train] 26/30:   0%|          | 0/1036 [00:00<?, ?it/s]"
      ]
     },
     "metadata": {},
     "output_type": "display_data"
    },
    {
     "data": {
      "application/vnd.jupyter.widget-view+json": {
       "model_id": "5469d91ecd0d4c62bbb3fecf9364be74",
       "version_major": 2,
       "version_minor": 0
      },
      "text/plain": [
       "[Train] 27/30:   0%|          | 0/1036 [00:00<?, ?it/s]"
      ]
     },
     "metadata": {},
     "output_type": "display_data"
    },
    {
     "data": {
      "application/vnd.jupyter.widget-view+json": {
       "model_id": "8c4730778f224975b9120f5effa3d833",
       "version_major": 2,
       "version_minor": 0
      },
      "text/plain": [
       "[Train] 28/30:   0%|          | 0/1036 [00:00<?, ?it/s]"
      ]
     },
     "metadata": {},
     "output_type": "display_data"
    },
    {
     "data": {
      "application/vnd.jupyter.widget-view+json": {
       "model_id": "96f11358c3cd45c186b72df2a971180a",
       "version_major": 2,
       "version_minor": 0
      },
      "text/plain": [
       "[Train] 29/30:   0%|          | 0/1036 [00:00<?, ?it/s]"
      ]
     },
     "metadata": {},
     "output_type": "display_data"
    },
    {
     "data": {
      "application/vnd.jupyter.widget-view+json": {
       "model_id": "221ea94d25dc4850850c962a6f3b4503",
       "version_major": 2,
       "version_minor": 0
      },
      "text/plain": [
       "[Train] 30/30:   0%|          | 0/1036 [00:00<?, ?it/s]"
      ]
     },
     "metadata": {},
     "output_type": "display_data"
    },
    {
     "name": "stderr",
     "output_type": "stream",
     "text": [
      "\u001b[34m\u001b[1mwandb\u001b[0m: \u001b[32m\u001b[41mERROR\u001b[0m The nbformat package was not found. It is required to save notebook history.\n"
     ]
    },
    {
     "data": {
      "text/html": [],
      "text/plain": [
       "<IPython.core.display.HTML object>"
      ]
     },
     "metadata": {},
     "output_type": "display_data"
    },
    {
     "data": {
      "text/html": [
       "<br>    <style><br>        .wandb-row {<br>            display: flex;<br>            flex-direction: row;<br>            flex-wrap: wrap;<br>            justify-content: flex-start;<br>            width: 100%;<br>        }<br>        .wandb-col {<br>            display: flex;<br>            flex-direction: column;<br>            flex-basis: 100%;<br>            flex: 1;<br>            padding: 10px;<br>        }<br>    </style><br><div class=\"wandb-row\"><div class=\"wandb-col\"><h3>Run history:</h3><br/><table class=\"wandb\"><tr><td>best_th</td><td>▅▅▆▄▃▃▄▂█▂▁▂▄▃▇▄▅▅▃▃▄▅▂▄▂▃▄▃▃▃</td></tr><tr><td>epoch</td><td>▁▁▁▂▂▂▂▃▃▃▃▄▄▄▄▅▅▅▅▆▆▆▆▇▇▇▇███</td></tr><tr><td>lr</td><td>█████████████▂▂▂▂▂▂▂▂▂▂▂▁▁▁▁▁▁</td></tr><tr><td>precision</td><td>▁▄▃▂▄▂▄▂▂▃▃▃▆▄█▆▇▄▅▅▄▇▄▄▄▅▅▅▅▅</td></tr><tr><td>recall</td><td>▄▄▃▁▅▇▁▃▄█▇▂▃▅▂▃▃▄▅▄▅▂▄▅▅▄▄▄▄▃</td></tr><tr><td>train_loss</td><td>█▄▃▂▂▂▂▂▂▂▁▁▁▁▁▁▁▁▁▁▁▁▁▁▁▁▁▁▁▁</td></tr><tr><td>val_loss</td><td>▁▁▂▄▄▅▆▆▆▆▅█▆▆▆▆▆▆▆▆▆▆▆▆▆▆▆▇▆▇</td></tr><tr><td>val_prauc</td><td>▁▆▅▂▆▅▂▂▃▇▆▂▇█▇▇▆▇█▇▇▆▆▇▇▆▆▆▆▆</td></tr></table><br/></div><div class=\"wandb-col\"><h3>Run summary:</h3><br/><table class=\"wandb\"><tr><td>best_epoch</td><td>19</td></tr><tr><td>best_prauc</td><td>0.39599</td></tr><tr><td>best_th</td><td>0.25693</td></tr><tr><td>epoch</td><td>30</td></tr><tr><td>lr</td><td>0.0</td></tr><tr><td>precision</td><td>0.51402</td></tr><tr><td>recall</td><td>0.29412</td></tr><tr><td>saved_model_path</td><td>best_model_20250414_...</td></tr><tr><td>train_loss</td><td>0.0016</td></tr><tr><td>val_loss</td><td>0.39924</td></tr><tr><td>val_prauc</td><td>0.36855</td></tr></table><br/></div></div>"
      ],
      "text/plain": [
       "<IPython.core.display.HTML object>"
      ]
     },
     "metadata": {},
     "output_type": "display_data"
    },
    {
     "data": {
      "text/html": [
       " View run <strong style=\"color:#cdcd00\">misunderstood-eon-11</strong> at: <a href='https://wandb.ai/yuya00-university-of-hyogo/vertebrae-augmentation_axial_learning_1/runs/wvsjewyb' target=\"_blank\">https://wandb.ai/yuya00-university-of-hyogo/vertebrae-augmentation_axial_learning_1/runs/wvsjewyb</a><br> View project at: <a href='https://wandb.ai/yuya00-university-of-hyogo/vertebrae-augmentation_axial_learning_1' target=\"_blank\">https://wandb.ai/yuya00-university-of-hyogo/vertebrae-augmentation_axial_learning_1</a><br>Synced 5 W&B file(s), 0 media file(s), 0 artifact file(s) and 0 other file(s)"
      ],
      "text/plain": [
       "<IPython.core.display.HTML object>"
      ]
     },
     "metadata": {},
     "output_type": "display_data"
    },
    {
     "data": {
      "text/html": [
       "Find logs at: <code>./wandb/run-20250414_210309-wvsjewyb/logs</code>"
      ],
      "text/plain": [
       "<IPython.core.display.HTML object>"
      ]
     },
     "metadata": {},
     "output_type": "display_data"
    },
    {
     "name": "stdout",
     "output_type": "stream",
     "text": [
      "Finished: Ep30 LR1e-05 WD0.01 DO0.3 → PRAUC 0.3960\n"
     ]
    },
    {
     "name": "stderr",
     "output_type": "stream",
     "text": [
      "/mnt/nfs1/home/yamamoto-hiroto/research/vertebrae/.venv/lib/python3.12/site-packages/torchvision/models/_utils.py:208: UserWarning: The parameter 'pretrained' is deprecated since 0.13 and may be removed in the future, please use 'weights' instead.\n",
      "  warnings.warn(\n",
      "/mnt/nfs1/home/yamamoto-hiroto/research/vertebrae/.venv/lib/python3.12/site-packages/torchvision/models/_utils.py:223: UserWarning: Arguments other than a weight enum or `None` for 'weights' are deprecated since 0.13 and may be removed in the future. The current behavior is equivalent to passing `weights=ResNet18_Weights.IMAGENET1K_V1`. You can also use `weights=ResNet18_Weights.DEFAULT` to get the most up-to-date weights.\n",
      "  warnings.warn(msg)\n"
     ]
    },
    {
     "data": {
      "text/html": [
       "Tracking run with wandb version 0.19.9"
      ],
      "text/plain": [
       "<IPython.core.display.HTML object>"
      ]
     },
     "metadata": {},
     "output_type": "display_data"
    },
    {
     "data": {
      "text/html": [
       "Run data is saved locally in <code>/mnt/nfs1/home/yamamoto-hiroto/research/vertebrae/Sakaguchi_file/S_model_learning/wandb/run-20250414_213028-uiuhjhw2</code>"
      ],
      "text/plain": [
       "<IPython.core.display.HTML object>"
      ]
     },
     "metadata": {},
     "output_type": "display_data"
    },
    {
     "data": {
      "text/html": [
       "Syncing run <strong><a href='https://wandb.ai/yuya00-university-of-hyogo/vertebrae-augmentation_axial_learning_1/runs/uiuhjhw2' target=\"_blank\">pretty-armadillo-12</a></strong> to <a href='https://wandb.ai/yuya00-university-of-hyogo/vertebrae-augmentation_axial_learning_1' target=\"_blank\">Weights & Biases</a> (<a href='https://wandb.me/developer-guide' target=\"_blank\">docs</a>)<br>"
      ],
      "text/plain": [
       "<IPython.core.display.HTML object>"
      ]
     },
     "metadata": {},
     "output_type": "display_data"
    },
    {
     "data": {
      "text/html": [
       " View project at <a href='https://wandb.ai/yuya00-university-of-hyogo/vertebrae-augmentation_axial_learning_1' target=\"_blank\">https://wandb.ai/yuya00-university-of-hyogo/vertebrae-augmentation_axial_learning_1</a>"
      ],
      "text/plain": [
       "<IPython.core.display.HTML object>"
      ]
     },
     "metadata": {},
     "output_type": "display_data"
    },
    {
     "data": {
      "text/html": [
       " View run at <a href='https://wandb.ai/yuya00-university-of-hyogo/vertebrae-augmentation_axial_learning_1/runs/uiuhjhw2' target=\"_blank\">https://wandb.ai/yuya00-university-of-hyogo/vertebrae-augmentation_axial_learning_1/runs/uiuhjhw2</a>"
      ],
      "text/plain": [
       "<IPython.core.display.HTML object>"
      ]
     },
     "metadata": {},
     "output_type": "display_data"
    },
    {
     "data": {
      "application/vnd.jupyter.widget-view+json": {
       "model_id": "6289098b031647b8a0f6ac9f53163d41",
       "version_major": 2,
       "version_minor": 0
      },
      "text/plain": [
       "[Train] 1/30:   0%|          | 0/1036 [00:00<?, ?it/s]"
      ]
     },
     "metadata": {},
     "output_type": "display_data"
    },
    {
     "data": {
      "application/vnd.jupyter.widget-view+json": {
       "model_id": "278605b51a2646239d0a397ee75a88b3",
       "version_major": 2,
       "version_minor": 0
      },
      "text/plain": [
       "[Train] 2/30:   0%|          | 0/1036 [00:00<?, ?it/s]"
      ]
     },
     "metadata": {},
     "output_type": "display_data"
    },
    {
     "data": {
      "application/vnd.jupyter.widget-view+json": {
       "model_id": "8316a61fbdc043fa8be1b73d095a4725",
       "version_major": 2,
       "version_minor": 0
      },
      "text/plain": [
       "[Train] 3/30:   0%|          | 0/1036 [00:00<?, ?it/s]"
      ]
     },
     "metadata": {},
     "output_type": "display_data"
    },
    {
     "data": {
      "application/vnd.jupyter.widget-view+json": {
       "model_id": "0fe9707ec1cc4a3882d798fcce5fdcc8",
       "version_major": 2,
       "version_minor": 0
      },
      "text/plain": [
       "[Train] 4/30:   0%|          | 0/1036 [00:00<?, ?it/s]"
      ]
     },
     "metadata": {},
     "output_type": "display_data"
    },
    {
     "data": {
      "application/vnd.jupyter.widget-view+json": {
       "model_id": "4f231ac349ee49078e36d3fde554ae9c",
       "version_major": 2,
       "version_minor": 0
      },
      "text/plain": [
       "[Train] 5/30:   0%|          | 0/1036 [00:00<?, ?it/s]"
      ]
     },
     "metadata": {},
     "output_type": "display_data"
    },
    {
     "data": {
      "application/vnd.jupyter.widget-view+json": {
       "model_id": "2c0dbdb6cafd45119cc2d955cdcf946c",
       "version_major": 2,
       "version_minor": 0
      },
      "text/plain": [
       "[Train] 6/30:   0%|          | 0/1036 [00:00<?, ?it/s]"
      ]
     },
     "metadata": {},
     "output_type": "display_data"
    },
    {
     "data": {
      "application/vnd.jupyter.widget-view+json": {
       "model_id": "48cf56c61b4749c3b5f5309d94d5e8fb",
       "version_major": 2,
       "version_minor": 0
      },
      "text/plain": [
       "[Train] 7/30:   0%|          | 0/1036 [00:00<?, ?it/s]"
      ]
     },
     "metadata": {},
     "output_type": "display_data"
    },
    {
     "data": {
      "application/vnd.jupyter.widget-view+json": {
       "model_id": "f90c9689e94d49b39692d04832e7e489",
       "version_major": 2,
       "version_minor": 0
      },
      "text/plain": [
       "[Train] 8/30:   0%|          | 0/1036 [00:00<?, ?it/s]"
      ]
     },
     "metadata": {},
     "output_type": "display_data"
    },
    {
     "data": {
      "application/vnd.jupyter.widget-view+json": {
       "model_id": "2f26acb6c8da4faeb1bbc48bbaa1faee",
       "version_major": 2,
       "version_minor": 0
      },
      "text/plain": [
       "[Train] 9/30:   0%|          | 0/1036 [00:00<?, ?it/s]"
      ]
     },
     "metadata": {},
     "output_type": "display_data"
    },
    {
     "data": {
      "application/vnd.jupyter.widget-view+json": {
       "model_id": "0054a44133f049fea537bbff2ee80934",
       "version_major": 2,
       "version_minor": 0
      },
      "text/plain": [
       "[Train] 10/30:   0%|          | 0/1036 [00:00<?, ?it/s]"
      ]
     },
     "metadata": {},
     "output_type": "display_data"
    },
    {
     "data": {
      "application/vnd.jupyter.widget-view+json": {
       "model_id": "a4f49686022b423a9f7695f17108e64d",
       "version_major": 2,
       "version_minor": 0
      },
      "text/plain": [
       "[Train] 11/30:   0%|          | 0/1036 [00:00<?, ?it/s]"
      ]
     },
     "metadata": {},
     "output_type": "display_data"
    },
    {
     "data": {
      "application/vnd.jupyter.widget-view+json": {
       "model_id": "e96896b331614cf4ba56cf95ef5729e9",
       "version_major": 2,
       "version_minor": 0
      },
      "text/plain": [
       "[Train] 12/30:   0%|          | 0/1036 [00:00<?, ?it/s]"
      ]
     },
     "metadata": {},
     "output_type": "display_data"
    },
    {
     "data": {
      "application/vnd.jupyter.widget-view+json": {
       "model_id": "e810568e53694976913fc6b6e8c82c61",
       "version_major": 2,
       "version_minor": 0
      },
      "text/plain": [
       "[Train] 13/30:   0%|          | 0/1036 [00:00<?, ?it/s]"
      ]
     },
     "metadata": {},
     "output_type": "display_data"
    },
    {
     "data": {
      "application/vnd.jupyter.widget-view+json": {
       "model_id": "a5900808c07241bc89518597528f2979",
       "version_major": 2,
       "version_minor": 0
      },
      "text/plain": [
       "[Train] 14/30:   0%|          | 0/1036 [00:00<?, ?it/s]"
      ]
     },
     "metadata": {},
     "output_type": "display_data"
    },
    {
     "data": {
      "application/vnd.jupyter.widget-view+json": {
       "model_id": "d33663b4c5324017afc96941445f4c97",
       "version_major": 2,
       "version_minor": 0
      },
      "text/plain": [
       "[Train] 15/30:   0%|          | 0/1036 [00:00<?, ?it/s]"
      ]
     },
     "metadata": {},
     "output_type": "display_data"
    },
    {
     "data": {
      "application/vnd.jupyter.widget-view+json": {
       "model_id": "5568b06682f54c5ea11e357a0ef8587a",
       "version_major": 2,
       "version_minor": 0
      },
      "text/plain": [
       "[Train] 16/30:   0%|          | 0/1036 [00:00<?, ?it/s]"
      ]
     },
     "metadata": {},
     "output_type": "display_data"
    },
    {
     "data": {
      "application/vnd.jupyter.widget-view+json": {
       "model_id": "dc04824dc00f49e18acd141a532e4aa6",
       "version_major": 2,
       "version_minor": 0
      },
      "text/plain": [
       "[Train] 17/30:   0%|          | 0/1036 [00:00<?, ?it/s]"
      ]
     },
     "metadata": {},
     "output_type": "display_data"
    },
    {
     "data": {
      "application/vnd.jupyter.widget-view+json": {
       "model_id": "1b0fc0eb272448bd9e2d0fda48374977",
       "version_major": 2,
       "version_minor": 0
      },
      "text/plain": [
       "[Train] 18/30:   0%|          | 0/1036 [00:00<?, ?it/s]"
      ]
     },
     "metadata": {},
     "output_type": "display_data"
    },
    {
     "data": {
      "application/vnd.jupyter.widget-view+json": {
       "model_id": "22a51512611c44888ebefca2f25a79ff",
       "version_major": 2,
       "version_minor": 0
      },
      "text/plain": [
       "[Train] 19/30:   0%|          | 0/1036 [00:00<?, ?it/s]"
      ]
     },
     "metadata": {},
     "output_type": "display_data"
    },
    {
     "data": {
      "application/vnd.jupyter.widget-view+json": {
       "model_id": "84cf0b8acea44e169b5bde88a148dbf1",
       "version_major": 2,
       "version_minor": 0
      },
      "text/plain": [
       "[Train] 20/30:   0%|          | 0/1036 [00:00<?, ?it/s]"
      ]
     },
     "metadata": {},
     "output_type": "display_data"
    },
    {
     "data": {
      "application/vnd.jupyter.widget-view+json": {
       "model_id": "52558493efe045ddbe83034527be6dc8",
       "version_major": 2,
       "version_minor": 0
      },
      "text/plain": [
       "[Train] 21/30:   0%|          | 0/1036 [00:00<?, ?it/s]"
      ]
     },
     "metadata": {},
     "output_type": "display_data"
    },
    {
     "data": {
      "application/vnd.jupyter.widget-view+json": {
       "model_id": "b9e6f094d65c42aeb901214b7a22709e",
       "version_major": 2,
       "version_minor": 0
      },
      "text/plain": [
       "[Train] 22/30:   0%|          | 0/1036 [00:00<?, ?it/s]"
      ]
     },
     "metadata": {},
     "output_type": "display_data"
    },
    {
     "data": {
      "application/vnd.jupyter.widget-view+json": {
       "model_id": "74cf2f1e9aa34b1e9d8c61c4ad0965ec",
       "version_major": 2,
       "version_minor": 0
      },
      "text/plain": [
       "[Train] 23/30:   0%|          | 0/1036 [00:00<?, ?it/s]"
      ]
     },
     "metadata": {},
     "output_type": "display_data"
    },
    {
     "data": {
      "application/vnd.jupyter.widget-view+json": {
       "model_id": "70c402a43a70440e8c7b5e0ee0048680",
       "version_major": 2,
       "version_minor": 0
      },
      "text/plain": [
       "[Train] 24/30:   0%|          | 0/1036 [00:00<?, ?it/s]"
      ]
     },
     "metadata": {},
     "output_type": "display_data"
    },
    {
     "data": {
      "application/vnd.jupyter.widget-view+json": {
       "model_id": "9c2f0e047a8347df8761c171236723b6",
       "version_major": 2,
       "version_minor": 0
      },
      "text/plain": [
       "[Train] 25/30:   0%|          | 0/1036 [00:00<?, ?it/s]"
      ]
     },
     "metadata": {},
     "output_type": "display_data"
    },
    {
     "data": {
      "application/vnd.jupyter.widget-view+json": {
       "model_id": "2d51bef9700243caa4af73b216af893b",
       "version_major": 2,
       "version_minor": 0
      },
      "text/plain": [
       "[Train] 26/30:   0%|          | 0/1036 [00:00<?, ?it/s]"
      ]
     },
     "metadata": {},
     "output_type": "display_data"
    },
    {
     "data": {
      "application/vnd.jupyter.widget-view+json": {
       "model_id": "2a46a8cd94ae443c96dd9989bf985551",
       "version_major": 2,
       "version_minor": 0
      },
      "text/plain": [
       "[Train] 27/30:   0%|          | 0/1036 [00:00<?, ?it/s]"
      ]
     },
     "metadata": {},
     "output_type": "display_data"
    },
    {
     "data": {
      "application/vnd.jupyter.widget-view+json": {
       "model_id": "40dce041d81b44f0b0971dd72d6f0b06",
       "version_major": 2,
       "version_minor": 0
      },
      "text/plain": [
       "[Train] 28/30:   0%|          | 0/1036 [00:00<?, ?it/s]"
      ]
     },
     "metadata": {},
     "output_type": "display_data"
    },
    {
     "data": {
      "application/vnd.jupyter.widget-view+json": {
       "model_id": "226557dbe86d4d93bd9d47d70ea5d4f9",
       "version_major": 2,
       "version_minor": 0
      },
      "text/plain": [
       "[Train] 29/30:   0%|          | 0/1036 [00:00<?, ?it/s]"
      ]
     },
     "metadata": {},
     "output_type": "display_data"
    },
    {
     "data": {
      "application/vnd.jupyter.widget-view+json": {
       "model_id": "55a2aa4a59724d1e8b94826470b604ab",
       "version_major": 2,
       "version_minor": 0
      },
      "text/plain": [
       "[Train] 30/30:   0%|          | 0/1036 [00:00<?, ?it/s]"
      ]
     },
     "metadata": {},
     "output_type": "display_data"
    },
    {
     "name": "stderr",
     "output_type": "stream",
     "text": [
      "\u001b[34m\u001b[1mwandb\u001b[0m: \u001b[32m\u001b[41mERROR\u001b[0m The nbformat package was not found. It is required to save notebook history.\n"
     ]
    },
    {
     "data": {
      "text/html": [],
      "text/plain": [
       "<IPython.core.display.HTML object>"
      ]
     },
     "metadata": {},
     "output_type": "display_data"
    },
    {
     "data": {
      "text/html": [
       "<br>    <style><br>        .wandb-row {<br>            display: flex;<br>            flex-direction: row;<br>            flex-wrap: wrap;<br>            justify-content: flex-start;<br>            width: 100%;<br>        }<br>        .wandb-col {<br>            display: flex;<br>            flex-direction: column;<br>            flex-basis: 100%;<br>            flex: 1;<br>            padding: 10px;<br>        }<br>    </style><br><div class=\"wandb-row\"><div class=\"wandb-col\"><h3>Run history:</h3><br/><table class=\"wandb\"><tr><td>best_th</td><td>▃▂▃▃▂▂▅▁▁▅█▆▃▂▂▄▄▁▁▂▂▁▂▃▁▁▃▂▃▃</td></tr><tr><td>epoch</td><td>▁▁▁▂▂▂▂▃▃▃▃▄▄▄▄▅▅▅▅▆▆▆▆▇▇▇▇███</td></tr><tr><td>lr</td><td>████████████▂▂▂▂▂▂▂▂▂▂▂▁▁▁▁▁▁▁</td></tr><tr><td>precision</td><td>▁▂▁▁▂▃▆▆▃▃█▅▅▄▃▃▆▄▂▃▄▄▄▄▃▃▅▅▅▅</td></tr><tr><td>recall</td><td>█▄▄█▆▁▁▅▃▅▃▂▃▃▇▄▂▄▄▇▄▃▄▄▆▆▃▃▃▃</td></tr><tr><td>train_loss</td><td>█▄▃▂▂▂▂▂▂▂▂▁▁▁▁▁▁▁▁▁▁▁▁▁▁▁▁▁▁▁</td></tr><tr><td>val_loss</td><td>▁▃▃▃▃▆▅█▆▆▅▅▄▆▅▆▆▆▆▆▇█▇▇▇▇▇▇▇▇</td></tr><tr><td>val_prauc</td><td>▂▁▂▃▄▁▃▆▃▄█▅▆▅▅▃▅▆▃▆▅▄▄▄▄▄▄▄▄▄</td></tr></table><br/></div><div class=\"wandb-col\"><h3>Run summary:</h3><br/><table class=\"wandb\"><tr><td>best_epoch</td><td>11</td></tr><tr><td>best_prauc</td><td>0.45035</td></tr><tr><td>best_th</td><td>0.31027</td></tr><tr><td>epoch</td><td>30</td></tr><tr><td>lr</td><td>0.0</td></tr><tr><td>precision</td><td>0.51622</td></tr><tr><td>recall</td><td>0.34046</td></tr><tr><td>saved_model_path</td><td>best_model_20250414_...</td></tr><tr><td>train_loss</td><td>0.00157</td></tr><tr><td>val_loss</td><td>0.37805</td></tr><tr><td>val_prauc</td><td>0.39264</td></tr></table><br/></div></div>"
      ],
      "text/plain": [
       "<IPython.core.display.HTML object>"
      ]
     },
     "metadata": {},
     "output_type": "display_data"
    },
    {
     "data": {
      "text/html": [
       " View run <strong style=\"color:#cdcd00\">pretty-armadillo-12</strong> at: <a href='https://wandb.ai/yuya00-university-of-hyogo/vertebrae-augmentation_axial_learning_1/runs/uiuhjhw2' target=\"_blank\">https://wandb.ai/yuya00-university-of-hyogo/vertebrae-augmentation_axial_learning_1/runs/uiuhjhw2</a><br> View project at: <a href='https://wandb.ai/yuya00-university-of-hyogo/vertebrae-augmentation_axial_learning_1' target=\"_blank\">https://wandb.ai/yuya00-university-of-hyogo/vertebrae-augmentation_axial_learning_1</a><br>Synced 5 W&B file(s), 0 media file(s), 0 artifact file(s) and 0 other file(s)"
      ],
      "text/plain": [
       "<IPython.core.display.HTML object>"
      ]
     },
     "metadata": {},
     "output_type": "display_data"
    },
    {
     "data": {
      "text/html": [
       "Find logs at: <code>./wandb/run-20250414_213028-uiuhjhw2/logs</code>"
      ],
      "text/plain": [
       "<IPython.core.display.HTML object>"
      ]
     },
     "metadata": {},
     "output_type": "display_data"
    },
    {
     "name": "stdout",
     "output_type": "stream",
     "text": [
      "Finished: Ep30 LR1e-05 WD0.01 DO0.0 → PRAUC 0.4504\n"
     ]
    },
    {
     "name": "stderr",
     "output_type": "stream",
     "text": [
      "/mnt/nfs1/home/yamamoto-hiroto/research/vertebrae/.venv/lib/python3.12/site-packages/torchvision/models/_utils.py:208: UserWarning: The parameter 'pretrained' is deprecated since 0.13 and may be removed in the future, please use 'weights' instead.\n",
      "  warnings.warn(\n",
      "/mnt/nfs1/home/yamamoto-hiroto/research/vertebrae/.venv/lib/python3.12/site-packages/torchvision/models/_utils.py:223: UserWarning: Arguments other than a weight enum or `None` for 'weights' are deprecated since 0.13 and may be removed in the future. The current behavior is equivalent to passing `weights=ResNet18_Weights.IMAGENET1K_V1`. You can also use `weights=ResNet18_Weights.DEFAULT` to get the most up-to-date weights.\n",
      "  warnings.warn(msg)\n"
     ]
    },
    {
     "data": {
      "text/html": [
       "Tracking run with wandb version 0.19.9"
      ],
      "text/plain": [
       "<IPython.core.display.HTML object>"
      ]
     },
     "metadata": {},
     "output_type": "display_data"
    },
    {
     "data": {
      "text/html": [
       "Run data is saved locally in <code>/mnt/nfs1/home/yamamoto-hiroto/research/vertebrae/Sakaguchi_file/S_model_learning/wandb/run-20250414_215741-kpeshjcp</code>"
      ],
      "text/plain": [
       "<IPython.core.display.HTML object>"
      ]
     },
     "metadata": {},
     "output_type": "display_data"
    },
    {
     "data": {
      "text/html": [
       "Syncing run <strong><a href='https://wandb.ai/yuya00-university-of-hyogo/vertebrae-augmentation_axial_learning_1/runs/kpeshjcp' target=\"_blank\">silvery-morning-13</a></strong> to <a href='https://wandb.ai/yuya00-university-of-hyogo/vertebrae-augmentation_axial_learning_1' target=\"_blank\">Weights & Biases</a> (<a href='https://wandb.me/developer-guide' target=\"_blank\">docs</a>)<br>"
      ],
      "text/plain": [
       "<IPython.core.display.HTML object>"
      ]
     },
     "metadata": {},
     "output_type": "display_data"
    },
    {
     "data": {
      "text/html": [
       " View project at <a href='https://wandb.ai/yuya00-university-of-hyogo/vertebrae-augmentation_axial_learning_1' target=\"_blank\">https://wandb.ai/yuya00-university-of-hyogo/vertebrae-augmentation_axial_learning_1</a>"
      ],
      "text/plain": [
       "<IPython.core.display.HTML object>"
      ]
     },
     "metadata": {},
     "output_type": "display_data"
    },
    {
     "data": {
      "text/html": [
       " View run at <a href='https://wandb.ai/yuya00-university-of-hyogo/vertebrae-augmentation_axial_learning_1/runs/kpeshjcp' target=\"_blank\">https://wandb.ai/yuya00-university-of-hyogo/vertebrae-augmentation_axial_learning_1/runs/kpeshjcp</a>"
      ],
      "text/plain": [
       "<IPython.core.display.HTML object>"
      ]
     },
     "metadata": {},
     "output_type": "display_data"
    },
    {
     "data": {
      "application/vnd.jupyter.widget-view+json": {
       "model_id": "97d0f1b0c7844976b270cda2fba3549d",
       "version_major": 2,
       "version_minor": 0
      },
      "text/plain": [
       "[Train] 1/30:   0%|          | 0/1036 [00:00<?, ?it/s]"
      ]
     },
     "metadata": {},
     "output_type": "display_data"
    },
    {
     "data": {
      "application/vnd.jupyter.widget-view+json": {
       "model_id": "f4250ab7bc674320af6a84d7567732f0",
       "version_major": 2,
       "version_minor": 0
      },
      "text/plain": [
       "[Train] 2/30:   0%|          | 0/1036 [00:00<?, ?it/s]"
      ]
     },
     "metadata": {},
     "output_type": "display_data"
    },
    {
     "data": {
      "application/vnd.jupyter.widget-view+json": {
       "model_id": "bdf214ef6765422488a54a6ef7be1fc5",
       "version_major": 2,
       "version_minor": 0
      },
      "text/plain": [
       "[Train] 3/30:   0%|          | 0/1036 [00:00<?, ?it/s]"
      ]
     },
     "metadata": {},
     "output_type": "display_data"
    },
    {
     "data": {
      "application/vnd.jupyter.widget-view+json": {
       "model_id": "e0ad5de52c5944a8b4063ba2bda9b6a3",
       "version_major": 2,
       "version_minor": 0
      },
      "text/plain": [
       "[Train] 4/30:   0%|          | 0/1036 [00:00<?, ?it/s]"
      ]
     },
     "metadata": {},
     "output_type": "display_data"
    },
    {
     "data": {
      "application/vnd.jupyter.widget-view+json": {
       "model_id": "d7416b8a2615441681a12ef333b658ac",
       "version_major": 2,
       "version_minor": 0
      },
      "text/plain": [
       "[Train] 5/30:   0%|          | 0/1036 [00:00<?, ?it/s]"
      ]
     },
     "metadata": {},
     "output_type": "display_data"
    },
    {
     "data": {
      "application/vnd.jupyter.widget-view+json": {
       "model_id": "09ed3f42b425497ca5852cfea88adebe",
       "version_major": 2,
       "version_minor": 0
      },
      "text/plain": [
       "[Train] 6/30:   0%|          | 0/1036 [00:00<?, ?it/s]"
      ]
     },
     "metadata": {},
     "output_type": "display_data"
    },
    {
     "data": {
      "application/vnd.jupyter.widget-view+json": {
       "model_id": "be992df79a954da0a545110ae4292baa",
       "version_major": 2,
       "version_minor": 0
      },
      "text/plain": [
       "[Train] 7/30:   0%|          | 0/1036 [00:00<?, ?it/s]"
      ]
     },
     "metadata": {},
     "output_type": "display_data"
    },
    {
     "data": {
      "application/vnd.jupyter.widget-view+json": {
       "model_id": "4d957f5a297f4e17a568039ccbd695ca",
       "version_major": 2,
       "version_minor": 0
      },
      "text/plain": [
       "[Train] 8/30:   0%|          | 0/1036 [00:00<?, ?it/s]"
      ]
     },
     "metadata": {},
     "output_type": "display_data"
    },
    {
     "data": {
      "application/vnd.jupyter.widget-view+json": {
       "model_id": "dc50ab095bfa40a4a8c2009460b6b5bc",
       "version_major": 2,
       "version_minor": 0
      },
      "text/plain": [
       "[Train] 9/30:   0%|          | 0/1036 [00:00<?, ?it/s]"
      ]
     },
     "metadata": {},
     "output_type": "display_data"
    },
    {
     "data": {
      "application/vnd.jupyter.widget-view+json": {
       "model_id": "469f4bd79f6b4d7dab07b68f63da8ceb",
       "version_major": 2,
       "version_minor": 0
      },
      "text/plain": [
       "[Train] 10/30:   0%|          | 0/1036 [00:00<?, ?it/s]"
      ]
     },
     "metadata": {},
     "output_type": "display_data"
    },
    {
     "data": {
      "application/vnd.jupyter.widget-view+json": {
       "model_id": "324de0d9c51e490ab1d36ee7e1a6c73c",
       "version_major": 2,
       "version_minor": 0
      },
      "text/plain": [
       "[Train] 11/30:   0%|          | 0/1036 [00:00<?, ?it/s]"
      ]
     },
     "metadata": {},
     "output_type": "display_data"
    },
    {
     "data": {
      "application/vnd.jupyter.widget-view+json": {
       "model_id": "d03d546219b34cf08ca317e962119140",
       "version_major": 2,
       "version_minor": 0
      },
      "text/plain": [
       "[Train] 12/30:   0%|          | 0/1036 [00:00<?, ?it/s]"
      ]
     },
     "metadata": {},
     "output_type": "display_data"
    },
    {
     "data": {
      "application/vnd.jupyter.widget-view+json": {
       "model_id": "d1db15779c9942598dd32faa2f60a3f3",
       "version_major": 2,
       "version_minor": 0
      },
      "text/plain": [
       "[Train] 13/30:   0%|          | 0/1036 [00:00<?, ?it/s]"
      ]
     },
     "metadata": {},
     "output_type": "display_data"
    },
    {
     "data": {
      "application/vnd.jupyter.widget-view+json": {
       "model_id": "252de41274144831b91330414c7bfeb0",
       "version_major": 2,
       "version_minor": 0
      },
      "text/plain": [
       "[Train] 14/30:   0%|          | 0/1036 [00:00<?, ?it/s]"
      ]
     },
     "metadata": {},
     "output_type": "display_data"
    },
    {
     "data": {
      "application/vnd.jupyter.widget-view+json": {
       "model_id": "35876d1a99f544a48401def009abd49d",
       "version_major": 2,
       "version_minor": 0
      },
      "text/plain": [
       "[Train] 15/30:   0%|          | 0/1036 [00:00<?, ?it/s]"
      ]
     },
     "metadata": {},
     "output_type": "display_data"
    },
    {
     "data": {
      "application/vnd.jupyter.widget-view+json": {
       "model_id": "47c21a95c1274b7589bbed9ed35d37dc",
       "version_major": 2,
       "version_minor": 0
      },
      "text/plain": [
       "[Train] 16/30:   0%|          | 0/1036 [00:00<?, ?it/s]"
      ]
     },
     "metadata": {},
     "output_type": "display_data"
    },
    {
     "data": {
      "application/vnd.jupyter.widget-view+json": {
       "model_id": "57f152e1c9f84be989af490a6fe65c74",
       "version_major": 2,
       "version_minor": 0
      },
      "text/plain": [
       "[Train] 17/30:   0%|          | 0/1036 [00:00<?, ?it/s]"
      ]
     },
     "metadata": {},
     "output_type": "display_data"
    },
    {
     "data": {
      "application/vnd.jupyter.widget-view+json": {
       "model_id": "61cc039f070f40bfb315aaa49c07bfbc",
       "version_major": 2,
       "version_minor": 0
      },
      "text/plain": [
       "[Train] 18/30:   0%|          | 0/1036 [00:00<?, ?it/s]"
      ]
     },
     "metadata": {},
     "output_type": "display_data"
    },
    {
     "data": {
      "application/vnd.jupyter.widget-view+json": {
       "model_id": "6c7d0bed3e794eeebfb799ee366d10fe",
       "version_major": 2,
       "version_minor": 0
      },
      "text/plain": [
       "[Train] 19/30:   0%|          | 0/1036 [00:00<?, ?it/s]"
      ]
     },
     "metadata": {},
     "output_type": "display_data"
    },
    {
     "data": {
      "application/vnd.jupyter.widget-view+json": {
       "model_id": "b18335c6fa1b4923a2c86ed53222b282",
       "version_major": 2,
       "version_minor": 0
      },
      "text/plain": [
       "[Train] 20/30:   0%|          | 0/1036 [00:00<?, ?it/s]"
      ]
     },
     "metadata": {},
     "output_type": "display_data"
    },
    {
     "data": {
      "application/vnd.jupyter.widget-view+json": {
       "model_id": "d60244cd50d54a8284d3545c7fe3f3fa",
       "version_major": 2,
       "version_minor": 0
      },
      "text/plain": [
       "[Train] 21/30:   0%|          | 0/1036 [00:00<?, ?it/s]"
      ]
     },
     "metadata": {},
     "output_type": "display_data"
    },
    {
     "data": {
      "application/vnd.jupyter.widget-view+json": {
       "model_id": "77e1efac6f544e539284064849003ba7",
       "version_major": 2,
       "version_minor": 0
      },
      "text/plain": [
       "[Train] 22/30:   0%|          | 0/1036 [00:00<?, ?it/s]"
      ]
     },
     "metadata": {},
     "output_type": "display_data"
    },
    {
     "data": {
      "application/vnd.jupyter.widget-view+json": {
       "model_id": "c42b61126d324047a9502719ee719ae2",
       "version_major": 2,
       "version_minor": 0
      },
      "text/plain": [
       "[Train] 23/30:   0%|          | 0/1036 [00:00<?, ?it/s]"
      ]
     },
     "metadata": {},
     "output_type": "display_data"
    },
    {
     "data": {
      "application/vnd.jupyter.widget-view+json": {
       "model_id": "586214a50c4444e7ae971baecca266d3",
       "version_major": 2,
       "version_minor": 0
      },
      "text/plain": [
       "[Train] 24/30:   0%|          | 0/1036 [00:00<?, ?it/s]"
      ]
     },
     "metadata": {},
     "output_type": "display_data"
    },
    {
     "data": {
      "application/vnd.jupyter.widget-view+json": {
       "model_id": "97b930cdb91146dbbd6a4037c4ef76b1",
       "version_major": 2,
       "version_minor": 0
      },
      "text/plain": [
       "[Train] 25/30:   0%|          | 0/1036 [00:00<?, ?it/s]"
      ]
     },
     "metadata": {},
     "output_type": "display_data"
    },
    {
     "data": {
      "application/vnd.jupyter.widget-view+json": {
       "model_id": "d4ee63aba1af4cfbb5f22d7ae2d8e577",
       "version_major": 2,
       "version_minor": 0
      },
      "text/plain": [
       "[Train] 26/30:   0%|          | 0/1036 [00:00<?, ?it/s]"
      ]
     },
     "metadata": {},
     "output_type": "display_data"
    },
    {
     "data": {
      "application/vnd.jupyter.widget-view+json": {
       "model_id": "75843c9cfda04f93ab7b2eb633f59a72",
       "version_major": 2,
       "version_minor": 0
      },
      "text/plain": [
       "[Train] 27/30:   0%|          | 0/1036 [00:00<?, ?it/s]"
      ]
     },
     "metadata": {},
     "output_type": "display_data"
    },
    {
     "data": {
      "application/vnd.jupyter.widget-view+json": {
       "model_id": "0a99b09bdb3041dfbf9b1c23fd76a029",
       "version_major": 2,
       "version_minor": 0
      },
      "text/plain": [
       "[Train] 28/30:   0%|          | 0/1036 [00:00<?, ?it/s]"
      ]
     },
     "metadata": {},
     "output_type": "display_data"
    },
    {
     "data": {
      "application/vnd.jupyter.widget-view+json": {
       "model_id": "784fe5a3381044289dce57472358c775",
       "version_major": 2,
       "version_minor": 0
      },
      "text/plain": [
       "[Train] 29/30:   0%|          | 0/1036 [00:00<?, ?it/s]"
      ]
     },
     "metadata": {},
     "output_type": "display_data"
    },
    {
     "data": {
      "application/vnd.jupyter.widget-view+json": {
       "model_id": "affc52b99b3c43f69366cb6c76aad345",
       "version_major": 2,
       "version_minor": 0
      },
      "text/plain": [
       "[Train] 30/30:   0%|          | 0/1036 [00:00<?, ?it/s]"
      ]
     },
     "metadata": {},
     "output_type": "display_data"
    },
    {
     "name": "stderr",
     "output_type": "stream",
     "text": [
      "\u001b[34m\u001b[1mwandb\u001b[0m: \u001b[32m\u001b[41mERROR\u001b[0m The nbformat package was not found. It is required to save notebook history.\n"
     ]
    },
    {
     "data": {
      "text/html": [],
      "text/plain": [
       "<IPython.core.display.HTML object>"
      ]
     },
     "metadata": {},
     "output_type": "display_data"
    },
    {
     "data": {
      "text/html": [
       "<br>    <style><br>        .wandb-row {<br>            display: flex;<br>            flex-direction: row;<br>            flex-wrap: wrap;<br>            justify-content: flex-start;<br>            width: 100%;<br>        }<br>        .wandb-col {<br>            display: flex;<br>            flex-direction: column;<br>            flex-basis: 100%;<br>            flex: 1;<br>            padding: 10px;<br>        }<br>    </style><br><div class=\"wandb-row\"><div class=\"wandb-col\"><h3>Run history:</h3><br/><table class=\"wandb\"><tr><td>best_th</td><td>▃▂▄▇▄▅▁▆▆█▄▃▂▂▅▃▆▅▇▆▆▅▄▄▆▆▅█▅▅</td></tr><tr><td>epoch</td><td>▁▁▁▂▂▂▂▃▃▃▃▄▄▄▄▅▅▅▅▆▆▆▆▇▇▇▇███</td></tr><tr><td>lr</td><td>████████████▂▂▂▂▂▂▂▂▂▂▂▁▁▁▁▁▁▁</td></tr><tr><td>precision</td><td>▃▄▄▅▃▅▁▆▅▃▅▆▅▆▆▆▇█▇▇▇▇▆▅▆▆▆▇▅▆</td></tr><tr><td>recall</td><td>▄█▇▃▂▃▆▅▃▅▃▃▆▃▁▂▁▁▁▁▁▂▂▃▂▂▂▂▂▂</td></tr><tr><td>train_loss</td><td>█▄▃▂▂▂▂▂▂▂▂▂▁▁▁▁▁▁▁▁▁▁▁▁▁▁▁▁▁▁</td></tr><tr><td>val_loss</td><td>▁▁▂▃▅▄▄▄▆█▅▄▃▄▆▅▅▅▆▆▆▆▆▆▆▆▆▆▆▆</td></tr><tr><td>val_prauc</td><td>▃██▆▁▅▁▆▄▄▅▆█▇▅▅▅▅▅▄▅▅▆▅▆▆▆▆▅▆</td></tr></table><br/></div><div class=\"wandb-col\"><h3>Run summary:</h3><br/><table class=\"wandb\"><tr><td>best_epoch</td><td>3</td></tr><tr><td>best_prauc</td><td>0.474</td></tr><tr><td>best_th</td><td>0.58478</td></tr><tr><td>epoch</td><td>30</td></tr><tr><td>lr</td><td>0.0</td></tr><tr><td>precision</td><td>0.62456</td></tr><tr><td>recall</td><td>0.31729</td></tr><tr><td>saved_model_path</td><td>best_model_20250414_...</td></tr><tr><td>train_loss</td><td>0.00056</td></tr><tr><td>val_loss</td><td>0.41783</td></tr><tr><td>val_prauc</td><td>0.42649</td></tr></table><br/></div></div>"
      ],
      "text/plain": [
       "<IPython.core.display.HTML object>"
      ]
     },
     "metadata": {},
     "output_type": "display_data"
    },
    {
     "data": {
      "text/html": [
       " View run <strong style=\"color:#cdcd00\">silvery-morning-13</strong> at: <a href='https://wandb.ai/yuya00-university-of-hyogo/vertebrae-augmentation_axial_learning_1/runs/kpeshjcp' target=\"_blank\">https://wandb.ai/yuya00-university-of-hyogo/vertebrae-augmentation_axial_learning_1/runs/kpeshjcp</a><br> View project at: <a href='https://wandb.ai/yuya00-university-of-hyogo/vertebrae-augmentation_axial_learning_1' target=\"_blank\">https://wandb.ai/yuya00-university-of-hyogo/vertebrae-augmentation_axial_learning_1</a><br>Synced 5 W&B file(s), 0 media file(s), 0 artifact file(s) and 0 other file(s)"
      ],
      "text/plain": [
       "<IPython.core.display.HTML object>"
      ]
     },
     "metadata": {},
     "output_type": "display_data"
    },
    {
     "data": {
      "text/html": [
       "Find logs at: <code>./wandb/run-20250414_215741-kpeshjcp/logs</code>"
      ],
      "text/plain": [
       "<IPython.core.display.HTML object>"
      ]
     },
     "metadata": {},
     "output_type": "display_data"
    },
    {
     "name": "stdout",
     "output_type": "stream",
     "text": [
      "Finished: Ep30 LR3e-05 WD0.001 DO0.3 → PRAUC 0.4740\n"
     ]
    },
    {
     "name": "stderr",
     "output_type": "stream",
     "text": [
      "/mnt/nfs1/home/yamamoto-hiroto/research/vertebrae/.venv/lib/python3.12/site-packages/torchvision/models/_utils.py:208: UserWarning: The parameter 'pretrained' is deprecated since 0.13 and may be removed in the future, please use 'weights' instead.\n",
      "  warnings.warn(\n",
      "/mnt/nfs1/home/yamamoto-hiroto/research/vertebrae/.venv/lib/python3.12/site-packages/torchvision/models/_utils.py:223: UserWarning: Arguments other than a weight enum or `None` for 'weights' are deprecated since 0.13 and may be removed in the future. The current behavior is equivalent to passing `weights=ResNet18_Weights.IMAGENET1K_V1`. You can also use `weights=ResNet18_Weights.DEFAULT` to get the most up-to-date weights.\n",
      "  warnings.warn(msg)\n"
     ]
    },
    {
     "data": {
      "text/html": [
       "Tracking run with wandb version 0.19.9"
      ],
      "text/plain": [
       "<IPython.core.display.HTML object>"
      ]
     },
     "metadata": {},
     "output_type": "display_data"
    },
    {
     "data": {
      "text/html": [
       "Run data is saved locally in <code>/mnt/nfs1/home/yamamoto-hiroto/research/vertebrae/Sakaguchi_file/S_model_learning/wandb/run-20250414_222444-cgg0qe2j</code>"
      ],
      "text/plain": [
       "<IPython.core.display.HTML object>"
      ]
     },
     "metadata": {},
     "output_type": "display_data"
    },
    {
     "data": {
      "text/html": [
       "Syncing run <strong><a href='https://wandb.ai/yuya00-university-of-hyogo/vertebrae-augmentation_axial_learning_1/runs/cgg0qe2j' target=\"_blank\">magic-sun-14</a></strong> to <a href='https://wandb.ai/yuya00-university-of-hyogo/vertebrae-augmentation_axial_learning_1' target=\"_blank\">Weights & Biases</a> (<a href='https://wandb.me/developer-guide' target=\"_blank\">docs</a>)<br>"
      ],
      "text/plain": [
       "<IPython.core.display.HTML object>"
      ]
     },
     "metadata": {},
     "output_type": "display_data"
    },
    {
     "data": {
      "text/html": [
       " View project at <a href='https://wandb.ai/yuya00-university-of-hyogo/vertebrae-augmentation_axial_learning_1' target=\"_blank\">https://wandb.ai/yuya00-university-of-hyogo/vertebrae-augmentation_axial_learning_1</a>"
      ],
      "text/plain": [
       "<IPython.core.display.HTML object>"
      ]
     },
     "metadata": {},
     "output_type": "display_data"
    },
    {
     "data": {
      "text/html": [
       " View run at <a href='https://wandb.ai/yuya00-university-of-hyogo/vertebrae-augmentation_axial_learning_1/runs/cgg0qe2j' target=\"_blank\">https://wandb.ai/yuya00-university-of-hyogo/vertebrae-augmentation_axial_learning_1/runs/cgg0qe2j</a>"
      ],
      "text/plain": [
       "<IPython.core.display.HTML object>"
      ]
     },
     "metadata": {},
     "output_type": "display_data"
    },
    {
     "data": {
      "application/vnd.jupyter.widget-view+json": {
       "model_id": "63611d7f67624a658cc2622362d6ebf7",
       "version_major": 2,
       "version_minor": 0
      },
      "text/plain": [
       "[Train] 1/30:   0%|          | 0/1036 [00:00<?, ?it/s]"
      ]
     },
     "metadata": {},
     "output_type": "display_data"
    },
    {
     "data": {
      "application/vnd.jupyter.widget-view+json": {
       "model_id": "c8e6785eb7104c4d921be581cb7cf7de",
       "version_major": 2,
       "version_minor": 0
      },
      "text/plain": [
       "[Train] 2/30:   0%|          | 0/1036 [00:00<?, ?it/s]"
      ]
     },
     "metadata": {},
     "output_type": "display_data"
    },
    {
     "data": {
      "application/vnd.jupyter.widget-view+json": {
       "model_id": "28fa681c022b4661ba10df0e01a122f1",
       "version_major": 2,
       "version_minor": 0
      },
      "text/plain": [
       "[Train] 3/30:   0%|          | 0/1036 [00:00<?, ?it/s]"
      ]
     },
     "metadata": {},
     "output_type": "display_data"
    },
    {
     "data": {
      "application/vnd.jupyter.widget-view+json": {
       "model_id": "af3f4a9b9b0e4d8dba094aef8e332d03",
       "version_major": 2,
       "version_minor": 0
      },
      "text/plain": [
       "[Train] 4/30:   0%|          | 0/1036 [00:00<?, ?it/s]"
      ]
     },
     "metadata": {},
     "output_type": "display_data"
    },
    {
     "data": {
      "application/vnd.jupyter.widget-view+json": {
       "model_id": "45bd49f7df30432fb2bcc6ebb4030c7a",
       "version_major": 2,
       "version_minor": 0
      },
      "text/plain": [
       "[Train] 5/30:   0%|          | 0/1036 [00:00<?, ?it/s]"
      ]
     },
     "metadata": {},
     "output_type": "display_data"
    },
    {
     "data": {
      "application/vnd.jupyter.widget-view+json": {
       "model_id": "03aba7dc4e1649419bb107499c700af4",
       "version_major": 2,
       "version_minor": 0
      },
      "text/plain": [
       "[Train] 6/30:   0%|          | 0/1036 [00:00<?, ?it/s]"
      ]
     },
     "metadata": {},
     "output_type": "display_data"
    },
    {
     "data": {
      "application/vnd.jupyter.widget-view+json": {
       "model_id": "11fe822e46b74fe4a24ea9e05a2456c2",
       "version_major": 2,
       "version_minor": 0
      },
      "text/plain": [
       "[Train] 7/30:   0%|          | 0/1036 [00:00<?, ?it/s]"
      ]
     },
     "metadata": {},
     "output_type": "display_data"
    },
    {
     "data": {
      "application/vnd.jupyter.widget-view+json": {
       "model_id": "23b89c9d879842b9b5330cb2069228d1",
       "version_major": 2,
       "version_minor": 0
      },
      "text/plain": [
       "[Train] 8/30:   0%|          | 0/1036 [00:00<?, ?it/s]"
      ]
     },
     "metadata": {},
     "output_type": "display_data"
    },
    {
     "data": {
      "application/vnd.jupyter.widget-view+json": {
       "model_id": "013ed936d38e4b8d90c994d05ddbbb11",
       "version_major": 2,
       "version_minor": 0
      },
      "text/plain": [
       "[Train] 9/30:   0%|          | 0/1036 [00:00<?, ?it/s]"
      ]
     },
     "metadata": {},
     "output_type": "display_data"
    },
    {
     "data": {
      "application/vnd.jupyter.widget-view+json": {
       "model_id": "5d16963a9baf4d13af7616e55c9de4d5",
       "version_major": 2,
       "version_minor": 0
      },
      "text/plain": [
       "[Train] 10/30:   0%|          | 0/1036 [00:00<?, ?it/s]"
      ]
     },
     "metadata": {},
     "output_type": "display_data"
    },
    {
     "data": {
      "application/vnd.jupyter.widget-view+json": {
       "model_id": "cbfa84ddb75f4241a419ccbe483bc564",
       "version_major": 2,
       "version_minor": 0
      },
      "text/plain": [
       "[Train] 11/30:   0%|          | 0/1036 [00:00<?, ?it/s]"
      ]
     },
     "metadata": {},
     "output_type": "display_data"
    },
    {
     "data": {
      "application/vnd.jupyter.widget-view+json": {
       "model_id": "be7320d5860c44b3bbceb24de3742876",
       "version_major": 2,
       "version_minor": 0
      },
      "text/plain": [
       "[Train] 12/30:   0%|          | 0/1036 [00:00<?, ?it/s]"
      ]
     },
     "metadata": {},
     "output_type": "display_data"
    },
    {
     "data": {
      "application/vnd.jupyter.widget-view+json": {
       "model_id": "5a752a4f5a864c64ad562f29b313886f",
       "version_major": 2,
       "version_minor": 0
      },
      "text/plain": [
       "[Train] 13/30:   0%|          | 0/1036 [00:00<?, ?it/s]"
      ]
     },
     "metadata": {},
     "output_type": "display_data"
    },
    {
     "data": {
      "application/vnd.jupyter.widget-view+json": {
       "model_id": "d72dd893f37649cc82c2a50dc34f8a73",
       "version_major": 2,
       "version_minor": 0
      },
      "text/plain": [
       "[Train] 14/30:   0%|          | 0/1036 [00:00<?, ?it/s]"
      ]
     },
     "metadata": {},
     "output_type": "display_data"
    },
    {
     "data": {
      "application/vnd.jupyter.widget-view+json": {
       "model_id": "641fbf51da1546b7a17e08c339cbe467",
       "version_major": 2,
       "version_minor": 0
      },
      "text/plain": [
       "[Train] 15/30:   0%|          | 0/1036 [00:00<?, ?it/s]"
      ]
     },
     "metadata": {},
     "output_type": "display_data"
    },
    {
     "data": {
      "application/vnd.jupyter.widget-view+json": {
       "model_id": "81c0a821e9504d47af80012ba3abc415",
       "version_major": 2,
       "version_minor": 0
      },
      "text/plain": [
       "[Train] 16/30:   0%|          | 0/1036 [00:00<?, ?it/s]"
      ]
     },
     "metadata": {},
     "output_type": "display_data"
    },
    {
     "data": {
      "application/vnd.jupyter.widget-view+json": {
       "model_id": "390837d6e9814cd3be30a6ffe1fd9715",
       "version_major": 2,
       "version_minor": 0
      },
      "text/plain": [
       "[Train] 17/30:   0%|          | 0/1036 [00:00<?, ?it/s]"
      ]
     },
     "metadata": {},
     "output_type": "display_data"
    },
    {
     "data": {
      "application/vnd.jupyter.widget-view+json": {
       "model_id": "d45fcb3271f1493e983bbe92cecc65fa",
       "version_major": 2,
       "version_minor": 0
      },
      "text/plain": [
       "[Train] 18/30:   0%|          | 0/1036 [00:00<?, ?it/s]"
      ]
     },
     "metadata": {},
     "output_type": "display_data"
    },
    {
     "data": {
      "application/vnd.jupyter.widget-view+json": {
       "model_id": "4520d518053c4026b159067f47c8c93d",
       "version_major": 2,
       "version_minor": 0
      },
      "text/plain": [
       "[Train] 19/30:   0%|          | 0/1036 [00:00<?, ?it/s]"
      ]
     },
     "metadata": {},
     "output_type": "display_data"
    },
    {
     "data": {
      "application/vnd.jupyter.widget-view+json": {
       "model_id": "99e9308f6ad84dea9d75985060e9ec10",
       "version_major": 2,
       "version_minor": 0
      },
      "text/plain": [
       "[Train] 20/30:   0%|          | 0/1036 [00:00<?, ?it/s]"
      ]
     },
     "metadata": {},
     "output_type": "display_data"
    },
    {
     "data": {
      "application/vnd.jupyter.widget-view+json": {
       "model_id": "bd1df91613094b2998c3dc7342ff695f",
       "version_major": 2,
       "version_minor": 0
      },
      "text/plain": [
       "[Train] 21/30:   0%|          | 0/1036 [00:00<?, ?it/s]"
      ]
     },
     "metadata": {},
     "output_type": "display_data"
    },
    {
     "data": {
      "application/vnd.jupyter.widget-view+json": {
       "model_id": "4f0472a00e9b492fbdd89d51f809b194",
       "version_major": 2,
       "version_minor": 0
      },
      "text/plain": [
       "[Train] 22/30:   0%|          | 0/1036 [00:00<?, ?it/s]"
      ]
     },
     "metadata": {},
     "output_type": "display_data"
    },
    {
     "data": {
      "application/vnd.jupyter.widget-view+json": {
       "model_id": "e248cb7eb61c49f58ba94f262c99529f",
       "version_major": 2,
       "version_minor": 0
      },
      "text/plain": [
       "[Train] 23/30:   0%|          | 0/1036 [00:00<?, ?it/s]"
      ]
     },
     "metadata": {},
     "output_type": "display_data"
    },
    {
     "data": {
      "application/vnd.jupyter.widget-view+json": {
       "model_id": "b3a07064ac3241c09680a74f68284127",
       "version_major": 2,
       "version_minor": 0
      },
      "text/plain": [
       "[Train] 24/30:   0%|          | 0/1036 [00:00<?, ?it/s]"
      ]
     },
     "metadata": {},
     "output_type": "display_data"
    },
    {
     "data": {
      "application/vnd.jupyter.widget-view+json": {
       "model_id": "6f13a978e4114414bd85f0d05cdc5651",
       "version_major": 2,
       "version_minor": 0
      },
      "text/plain": [
       "[Train] 25/30:   0%|          | 0/1036 [00:00<?, ?it/s]"
      ]
     },
     "metadata": {},
     "output_type": "display_data"
    },
    {
     "data": {
      "application/vnd.jupyter.widget-view+json": {
       "model_id": "4407eca35cfa4913a857a80148166125",
       "version_major": 2,
       "version_minor": 0
      },
      "text/plain": [
       "[Train] 26/30:   0%|          | 0/1036 [00:00<?, ?it/s]"
      ]
     },
     "metadata": {},
     "output_type": "display_data"
    },
    {
     "data": {
      "application/vnd.jupyter.widget-view+json": {
       "model_id": "7cc879774102415ea6dd9735283d94e6",
       "version_major": 2,
       "version_minor": 0
      },
      "text/plain": [
       "[Train] 27/30:   0%|          | 0/1036 [00:00<?, ?it/s]"
      ]
     },
     "metadata": {},
     "output_type": "display_data"
    },
    {
     "data": {
      "application/vnd.jupyter.widget-view+json": {
       "model_id": "cd94bf941c8643928252e29a7f96909d",
       "version_major": 2,
       "version_minor": 0
      },
      "text/plain": [
       "[Train] 28/30:   0%|          | 0/1036 [00:00<?, ?it/s]"
      ]
     },
     "metadata": {},
     "output_type": "display_data"
    },
    {
     "data": {
      "application/vnd.jupyter.widget-view+json": {
       "model_id": "e3d31422573b4f439e4be347f0cd6025",
       "version_major": 2,
       "version_minor": 0
      },
      "text/plain": [
       "[Train] 29/30:   0%|          | 0/1036 [00:00<?, ?it/s]"
      ]
     },
     "metadata": {},
     "output_type": "display_data"
    },
    {
     "data": {
      "application/vnd.jupyter.widget-view+json": {
       "model_id": "35bdb621a1b1452698545056a384a023",
       "version_major": 2,
       "version_minor": 0
      },
      "text/plain": [
       "[Train] 30/30:   0%|          | 0/1036 [00:00<?, ?it/s]"
      ]
     },
     "metadata": {},
     "output_type": "display_data"
    },
    {
     "name": "stderr",
     "output_type": "stream",
     "text": [
      "\u001b[34m\u001b[1mwandb\u001b[0m: \u001b[32m\u001b[41mERROR\u001b[0m The nbformat package was not found. It is required to save notebook history.\n"
     ]
    },
    {
     "data": {
      "text/html": [],
      "text/plain": [
       "<IPython.core.display.HTML object>"
      ]
     },
     "metadata": {},
     "output_type": "display_data"
    },
    {
     "data": {
      "text/html": [
       "<br>    <style><br>        .wandb-row {<br>            display: flex;<br>            flex-direction: row;<br>            flex-wrap: wrap;<br>            justify-content: flex-start;<br>            width: 100%;<br>        }<br>        .wandb-col {<br>            display: flex;<br>            flex-direction: column;<br>            flex-basis: 100%;<br>            flex: 1;<br>            padding: 10px;<br>        }<br>    </style><br><div class=\"wandb-row\"><div class=\"wandb-col\"><h3>Run history:</h3><br/><table class=\"wandb\"><tr><td>best_th</td><td>▃▂▂█▁▃█▃▃▁▂▁▃▃▄▂▃▄▅▃▁▂▂▃▂▆▄▄▆▆</td></tr><tr><td>epoch</td><td>▁▁▁▂▂▂▂▃▃▃▃▄▄▄▄▅▅▅▅▆▆▆▆▇▇▇▇███</td></tr><tr><td>lr</td><td>█████████████▂▂▂▂▂▂▂▂▂▂▂▁▁▁▁▁▁</td></tr><tr><td>precision</td><td>▂▄▁▇▂▃▅▄▆▃▄▁▆▅▆▄▄▆▇▇▄▆▆▇▇██▇██</td></tr><tr><td>recall</td><td>█▆▃▂▅▆▅▁▇▅▁▆▃▄▂▃▂▁▁▁▅▃▃▁▂▁▁▁▁▁</td></tr><tr><td>train_loss</td><td>█▃▃▂▂▂▂▂▂▂▂▂▂▁▁▁▁▁▁▁▁▁▁▁▁▁▁▁▁▁</td></tr><tr><td>val_loss</td><td>▁▁▄▂▇▂▂▅▂▅▆▇▇▄▅▅▇█▆█▆▇▇▇█▇█▇▇▇</td></tr><tr><td>val_prauc</td><td>▄▇▁▆▂▅▇▃█▆▃▃▅▆▅▅▄▄▅▅▆▆▆▅▅▅▅▅▅▅</td></tr></table><br/></div><div class=\"wandb-col\"><h3>Run summary:</h3><br/><table class=\"wandb\"><tr><td>best_epoch</td><td>9</td></tr><tr><td>best_prauc</td><td>0.48878</td></tr><tr><td>best_th</td><td>0.54364</td></tr><tr><td>epoch</td><td>30</td></tr><tr><td>lr</td><td>0.0</td></tr><tr><td>precision</td><td>0.65417</td></tr><tr><td>recall</td><td>0.27986</td></tr><tr><td>saved_model_path</td><td>best_model_20250414_...</td></tr><tr><td>train_loss</td><td>0.00047</td></tr><tr><td>val_loss</td><td>0.41611</td></tr><tr><td>val_prauc</td><td>0.40259</td></tr></table><br/></div></div>"
      ],
      "text/plain": [
       "<IPython.core.display.HTML object>"
      ]
     },
     "metadata": {},
     "output_type": "display_data"
    },
    {
     "data": {
      "text/html": [
       " View run <strong style=\"color:#cdcd00\">magic-sun-14</strong> at: <a href='https://wandb.ai/yuya00-university-of-hyogo/vertebrae-augmentation_axial_learning_1/runs/cgg0qe2j' target=\"_blank\">https://wandb.ai/yuya00-university-of-hyogo/vertebrae-augmentation_axial_learning_1/runs/cgg0qe2j</a><br> View project at: <a href='https://wandb.ai/yuya00-university-of-hyogo/vertebrae-augmentation_axial_learning_1' target=\"_blank\">https://wandb.ai/yuya00-university-of-hyogo/vertebrae-augmentation_axial_learning_1</a><br>Synced 5 W&B file(s), 0 media file(s), 0 artifact file(s) and 0 other file(s)"
      ],
      "text/plain": [
       "<IPython.core.display.HTML object>"
      ]
     },
     "metadata": {},
     "output_type": "display_data"
    },
    {
     "data": {
      "text/html": [
       "Find logs at: <code>./wandb/run-20250414_222444-cgg0qe2j/logs</code>"
      ],
      "text/plain": [
       "<IPython.core.display.HTML object>"
      ]
     },
     "metadata": {},
     "output_type": "display_data"
    },
    {
     "name": "stdout",
     "output_type": "stream",
     "text": [
      "Finished: Ep30 LR3e-05 WD0.001 DO0.0 → PRAUC 0.4888\n"
     ]
    },
    {
     "name": "stderr",
     "output_type": "stream",
     "text": [
      "/mnt/nfs1/home/yamamoto-hiroto/research/vertebrae/.venv/lib/python3.12/site-packages/torchvision/models/_utils.py:208: UserWarning: The parameter 'pretrained' is deprecated since 0.13 and may be removed in the future, please use 'weights' instead.\n",
      "  warnings.warn(\n",
      "/mnt/nfs1/home/yamamoto-hiroto/research/vertebrae/.venv/lib/python3.12/site-packages/torchvision/models/_utils.py:223: UserWarning: Arguments other than a weight enum or `None` for 'weights' are deprecated since 0.13 and may be removed in the future. The current behavior is equivalent to passing `weights=ResNet18_Weights.IMAGENET1K_V1`. You can also use `weights=ResNet18_Weights.DEFAULT` to get the most up-to-date weights.\n",
      "  warnings.warn(msg)\n"
     ]
    },
    {
     "data": {
      "text/html": [
       "Tracking run with wandb version 0.19.9"
      ],
      "text/plain": [
       "<IPython.core.display.HTML object>"
      ]
     },
     "metadata": {},
     "output_type": "display_data"
    },
    {
     "data": {
      "text/html": [
       "Run data is saved locally in <code>/mnt/nfs1/home/yamamoto-hiroto/research/vertebrae/Sakaguchi_file/S_model_learning/wandb/run-20250414_225144-pvmuh8dn</code>"
      ],
      "text/plain": [
       "<IPython.core.display.HTML object>"
      ]
     },
     "metadata": {},
     "output_type": "display_data"
    },
    {
     "data": {
      "text/html": [
       "Syncing run <strong><a href='https://wandb.ai/yuya00-university-of-hyogo/vertebrae-augmentation_axial_learning_1/runs/pvmuh8dn' target=\"_blank\">celestial-capybara-15</a></strong> to <a href='https://wandb.ai/yuya00-university-of-hyogo/vertebrae-augmentation_axial_learning_1' target=\"_blank\">Weights & Biases</a> (<a href='https://wandb.me/developer-guide' target=\"_blank\">docs</a>)<br>"
      ],
      "text/plain": [
       "<IPython.core.display.HTML object>"
      ]
     },
     "metadata": {},
     "output_type": "display_data"
    },
    {
     "data": {
      "text/html": [
       " View project at <a href='https://wandb.ai/yuya00-university-of-hyogo/vertebrae-augmentation_axial_learning_1' target=\"_blank\">https://wandb.ai/yuya00-university-of-hyogo/vertebrae-augmentation_axial_learning_1</a>"
      ],
      "text/plain": [
       "<IPython.core.display.HTML object>"
      ]
     },
     "metadata": {},
     "output_type": "display_data"
    },
    {
     "data": {
      "text/html": [
       " View run at <a href='https://wandb.ai/yuya00-university-of-hyogo/vertebrae-augmentation_axial_learning_1/runs/pvmuh8dn' target=\"_blank\">https://wandb.ai/yuya00-university-of-hyogo/vertebrae-augmentation_axial_learning_1/runs/pvmuh8dn</a>"
      ],
      "text/plain": [
       "<IPython.core.display.HTML object>"
      ]
     },
     "metadata": {},
     "output_type": "display_data"
    },
    {
     "data": {
      "application/vnd.jupyter.widget-view+json": {
       "model_id": "aa6c9242401046a8a22649f9dee07f4b",
       "version_major": 2,
       "version_minor": 0
      },
      "text/plain": [
       "[Train] 1/30:   0%|          | 0/1036 [00:00<?, ?it/s]"
      ]
     },
     "metadata": {},
     "output_type": "display_data"
    },
    {
     "data": {
      "application/vnd.jupyter.widget-view+json": {
       "model_id": "4d324a0f141346ca8096162b388588f7",
       "version_major": 2,
       "version_minor": 0
      },
      "text/plain": [
       "[Train] 2/30:   0%|          | 0/1036 [00:00<?, ?it/s]"
      ]
     },
     "metadata": {},
     "output_type": "display_data"
    },
    {
     "data": {
      "application/vnd.jupyter.widget-view+json": {
       "model_id": "28881212e59c4727a354ebde9ae30887",
       "version_major": 2,
       "version_minor": 0
      },
      "text/plain": [
       "[Train] 3/30:   0%|          | 0/1036 [00:00<?, ?it/s]"
      ]
     },
     "metadata": {},
     "output_type": "display_data"
    },
    {
     "data": {
      "application/vnd.jupyter.widget-view+json": {
       "model_id": "44a2faecbc9a4c418d49d3a4254c73f8",
       "version_major": 2,
       "version_minor": 0
      },
      "text/plain": [
       "[Train] 4/30:   0%|          | 0/1036 [00:00<?, ?it/s]"
      ]
     },
     "metadata": {},
     "output_type": "display_data"
    },
    {
     "data": {
      "application/vnd.jupyter.widget-view+json": {
       "model_id": "5085e33ba2a846ea9846ada6ed6020db",
       "version_major": 2,
       "version_minor": 0
      },
      "text/plain": [
       "[Train] 5/30:   0%|          | 0/1036 [00:00<?, ?it/s]"
      ]
     },
     "metadata": {},
     "output_type": "display_data"
    },
    {
     "data": {
      "application/vnd.jupyter.widget-view+json": {
       "model_id": "dfffefd468384640a38b9754cdd33e03",
       "version_major": 2,
       "version_minor": 0
      },
      "text/plain": [
       "[Train] 6/30:   0%|          | 0/1036 [00:00<?, ?it/s]"
      ]
     },
     "metadata": {},
     "output_type": "display_data"
    },
    {
     "data": {
      "application/vnd.jupyter.widget-view+json": {
       "model_id": "3506c38bdfdf4ea184efbd69dae39d6f",
       "version_major": 2,
       "version_minor": 0
      },
      "text/plain": [
       "[Train] 7/30:   0%|          | 0/1036 [00:00<?, ?it/s]"
      ]
     },
     "metadata": {},
     "output_type": "display_data"
    },
    {
     "data": {
      "application/vnd.jupyter.widget-view+json": {
       "model_id": "dcf5a7bb102740a9acdc5e6845c8b285",
       "version_major": 2,
       "version_minor": 0
      },
      "text/plain": [
       "[Train] 8/30:   0%|          | 0/1036 [00:00<?, ?it/s]"
      ]
     },
     "metadata": {},
     "output_type": "display_data"
    },
    {
     "data": {
      "application/vnd.jupyter.widget-view+json": {
       "model_id": "096be0a6a8e349a98fd870e9016c458b",
       "version_major": 2,
       "version_minor": 0
      },
      "text/plain": [
       "[Train] 9/30:   0%|          | 0/1036 [00:00<?, ?it/s]"
      ]
     },
     "metadata": {},
     "output_type": "display_data"
    },
    {
     "data": {
      "application/vnd.jupyter.widget-view+json": {
       "model_id": "08f808def8b347b3bd7af2ca02f37b6c",
       "version_major": 2,
       "version_minor": 0
      },
      "text/plain": [
       "[Train] 10/30:   0%|          | 0/1036 [00:00<?, ?it/s]"
      ]
     },
     "metadata": {},
     "output_type": "display_data"
    },
    {
     "data": {
      "application/vnd.jupyter.widget-view+json": {
       "model_id": "228fbc2f51e34e198201d844572704b1",
       "version_major": 2,
       "version_minor": 0
      },
      "text/plain": [
       "[Train] 11/30:   0%|          | 0/1036 [00:00<?, ?it/s]"
      ]
     },
     "metadata": {},
     "output_type": "display_data"
    },
    {
     "data": {
      "application/vnd.jupyter.widget-view+json": {
       "model_id": "e8a242d2e27442f1b856e6f5aeccd48e",
       "version_major": 2,
       "version_minor": 0
      },
      "text/plain": [
       "[Train] 12/30:   0%|          | 0/1036 [00:00<?, ?it/s]"
      ]
     },
     "metadata": {},
     "output_type": "display_data"
    },
    {
     "data": {
      "application/vnd.jupyter.widget-view+json": {
       "model_id": "ab02ecdb9fa84a2c9cd908397ba4578b",
       "version_major": 2,
       "version_minor": 0
      },
      "text/plain": [
       "[Train] 13/30:   0%|          | 0/1036 [00:00<?, ?it/s]"
      ]
     },
     "metadata": {},
     "output_type": "display_data"
    },
    {
     "data": {
      "application/vnd.jupyter.widget-view+json": {
       "model_id": "9b421069937a43afb4d17f03c9ff0c63",
       "version_major": 2,
       "version_minor": 0
      },
      "text/plain": [
       "[Train] 14/30:   0%|          | 0/1036 [00:00<?, ?it/s]"
      ]
     },
     "metadata": {},
     "output_type": "display_data"
    },
    {
     "data": {
      "application/vnd.jupyter.widget-view+json": {
       "model_id": "9838e0a7336d417591c0dd17becbc6c1",
       "version_major": 2,
       "version_minor": 0
      },
      "text/plain": [
       "[Train] 15/30:   0%|          | 0/1036 [00:00<?, ?it/s]"
      ]
     },
     "metadata": {},
     "output_type": "display_data"
    },
    {
     "data": {
      "application/vnd.jupyter.widget-view+json": {
       "model_id": "dbc54779de804ae5a17141b53f119e5a",
       "version_major": 2,
       "version_minor": 0
      },
      "text/plain": [
       "[Train] 16/30:   0%|          | 0/1036 [00:00<?, ?it/s]"
      ]
     },
     "metadata": {},
     "output_type": "display_data"
    },
    {
     "data": {
      "application/vnd.jupyter.widget-view+json": {
       "model_id": "b85f44bda90b454994cb3950e8869bc3",
       "version_major": 2,
       "version_minor": 0
      },
      "text/plain": [
       "[Train] 17/30:   0%|          | 0/1036 [00:00<?, ?it/s]"
      ]
     },
     "metadata": {},
     "output_type": "display_data"
    },
    {
     "data": {
      "application/vnd.jupyter.widget-view+json": {
       "model_id": "ef31808b6dfc4d468176fc12c348147c",
       "version_major": 2,
       "version_minor": 0
      },
      "text/plain": [
       "[Train] 18/30:   0%|          | 0/1036 [00:00<?, ?it/s]"
      ]
     },
     "metadata": {},
     "output_type": "display_data"
    },
    {
     "data": {
      "application/vnd.jupyter.widget-view+json": {
       "model_id": "d660f10f97f84d1ab9494df90db71709",
       "version_major": 2,
       "version_minor": 0
      },
      "text/plain": [
       "[Train] 19/30:   0%|          | 0/1036 [00:00<?, ?it/s]"
      ]
     },
     "metadata": {},
     "output_type": "display_data"
    },
    {
     "data": {
      "application/vnd.jupyter.widget-view+json": {
       "model_id": "ab14415e830e47c6a9e7f82599a2d22b",
       "version_major": 2,
       "version_minor": 0
      },
      "text/plain": [
       "[Train] 20/30:   0%|          | 0/1036 [00:00<?, ?it/s]"
      ]
     },
     "metadata": {},
     "output_type": "display_data"
    },
    {
     "data": {
      "application/vnd.jupyter.widget-view+json": {
       "model_id": "93ea9c1889ca4a22a913a72f7591e8aa",
       "version_major": 2,
       "version_minor": 0
      },
      "text/plain": [
       "[Train] 21/30:   0%|          | 0/1036 [00:00<?, ?it/s]"
      ]
     },
     "metadata": {},
     "output_type": "display_data"
    },
    {
     "data": {
      "application/vnd.jupyter.widget-view+json": {
       "model_id": "debfb522ceb440b8bb8dd7c2738def54",
       "version_major": 2,
       "version_minor": 0
      },
      "text/plain": [
       "[Train] 22/30:   0%|          | 0/1036 [00:00<?, ?it/s]"
      ]
     },
     "metadata": {},
     "output_type": "display_data"
    },
    {
     "data": {
      "application/vnd.jupyter.widget-view+json": {
       "model_id": "d62f4662420c42acb7a2f7d299ba150a",
       "version_major": 2,
       "version_minor": 0
      },
      "text/plain": [
       "[Train] 23/30:   0%|          | 0/1036 [00:00<?, ?it/s]"
      ]
     },
     "metadata": {},
     "output_type": "display_data"
    },
    {
     "data": {
      "application/vnd.jupyter.widget-view+json": {
       "model_id": "7491e83764a94f4b80340f4181d1a093",
       "version_major": 2,
       "version_minor": 0
      },
      "text/plain": [
       "[Train] 24/30:   0%|          | 0/1036 [00:00<?, ?it/s]"
      ]
     },
     "metadata": {},
     "output_type": "display_data"
    },
    {
     "data": {
      "application/vnd.jupyter.widget-view+json": {
       "model_id": "337e576efbb84d49b806856d9b99eab2",
       "version_major": 2,
       "version_minor": 0
      },
      "text/plain": [
       "[Train] 25/30:   0%|          | 0/1036 [00:00<?, ?it/s]"
      ]
     },
     "metadata": {},
     "output_type": "display_data"
    },
    {
     "data": {
      "application/vnd.jupyter.widget-view+json": {
       "model_id": "bb41ff5f55a54690ae96246a5f61e27b",
       "version_major": 2,
       "version_minor": 0
      },
      "text/plain": [
       "[Train] 26/30:   0%|          | 0/1036 [00:00<?, ?it/s]"
      ]
     },
     "metadata": {},
     "output_type": "display_data"
    },
    {
     "data": {
      "application/vnd.jupyter.widget-view+json": {
       "model_id": "0e2e03696a554174abddf76535f37f1e",
       "version_major": 2,
       "version_minor": 0
      },
      "text/plain": [
       "[Train] 27/30:   0%|          | 0/1036 [00:00<?, ?it/s]"
      ]
     },
     "metadata": {},
     "output_type": "display_data"
    },
    {
     "data": {
      "application/vnd.jupyter.widget-view+json": {
       "model_id": "06da7d01b24b4878a75d15cb241c8492",
       "version_major": 2,
       "version_minor": 0
      },
      "text/plain": [
       "[Train] 28/30:   0%|          | 0/1036 [00:00<?, ?it/s]"
      ]
     },
     "metadata": {},
     "output_type": "display_data"
    },
    {
     "data": {
      "application/vnd.jupyter.widget-view+json": {
       "model_id": "bfa259ccd09f470db099e4161f8d045c",
       "version_major": 2,
       "version_minor": 0
      },
      "text/plain": [
       "[Train] 29/30:   0%|          | 0/1036 [00:00<?, ?it/s]"
      ]
     },
     "metadata": {},
     "output_type": "display_data"
    },
    {
     "data": {
      "application/vnd.jupyter.widget-view+json": {
       "model_id": "92d8732e7ea04e268b58321fe001dca3",
       "version_major": 2,
       "version_minor": 0
      },
      "text/plain": [
       "[Train] 30/30:   0%|          | 0/1036 [00:00<?, ?it/s]"
      ]
     },
     "metadata": {},
     "output_type": "display_data"
    },
    {
     "name": "stderr",
     "output_type": "stream",
     "text": [
      "\u001b[34m\u001b[1mwandb\u001b[0m: \u001b[32m\u001b[41mERROR\u001b[0m The nbformat package was not found. It is required to save notebook history.\n"
     ]
    },
    {
     "data": {
      "text/html": [],
      "text/plain": [
       "<IPython.core.display.HTML object>"
      ]
     },
     "metadata": {},
     "output_type": "display_data"
    },
    {
     "data": {
      "text/html": [
       "<br>    <style><br>        .wandb-row {<br>            display: flex;<br>            flex-direction: row;<br>            flex-wrap: wrap;<br>            justify-content: flex-start;<br>            width: 100%;<br>        }<br>        .wandb-col {<br>            display: flex;<br>            flex-direction: column;<br>            flex-basis: 100%;<br>            flex: 1;<br>            padding: 10px;<br>        }<br>    </style><br><div class=\"wandb-row\"><div class=\"wandb-col\"><h3>Run history:</h3><br/><table class=\"wandb\"><tr><td>best_th</td><td>▃▂█▄▃▂▄▂▅▅▆▄▆▂▁▂▂▁▂▁▁▁▁▁▁▁▁▁▁▁</td></tr><tr><td>epoch</td><td>▁▁▁▂▂▂▂▃▃▃▃▄▄▄▄▅▅▅▅▆▆▆▆▇▇▇▇███</td></tr><tr><td>lr</td><td>██████████████████▂▂▂▂▂▂▂▂▂▂▂▁</td></tr><tr><td>precision</td><td>▃▄█▁▅▄▅▃▅▄▅▇▅▇▄▅▇▂▅▅▆▅▇▅▅▆▅▅▄▅</td></tr><tr><td>recall</td><td>▄▆▃▄▄▅▆▇▃▄▁▅▅▄▄▅▇█▆█▇▇▅▆▄▆▆▅▆▆</td></tr><tr><td>train_loss</td><td>█▄▃▃▃▃▃▂▂▂▂▂▂▂▂▂▂▂▁▁▁▁▁▁▁▁▁▁▁▁</td></tr><tr><td>val_loss</td><td>▄▄▃▇▅▅▁▄▄▆▇▅▃██▄▃▇▄▅▅▅▆▇█▆▆▇▆▇</td></tr><tr><td>val_prauc</td><td>▄▆▆▁▆▅▇▅▅▆▃▆▆▆▅▆█▅▇▇▇▇▇▆▅▇▆▆▅▆</td></tr></table><br/></div><div class=\"wandb-col\"><h3>Run summary:</h3><br/><table class=\"wandb\"><tr><td>best_epoch</td><td>17</td></tr><tr><td>best_prauc</td><td>0.49746</td></tr><tr><td>best_th</td><td>0.01702</td></tr><tr><td>epoch</td><td>30</td></tr><tr><td>lr</td><td>0.0</td></tr><tr><td>precision</td><td>0.47316</td></tr><tr><td>recall</td><td>0.42424</td></tr><tr><td>saved_model_path</td><td>best_model_20250414_...</td></tr><tr><td>train_loss</td><td>0.00181</td></tr><tr><td>val_loss</td><td>0.32037</td></tr><tr><td>val_prauc</td><td>0.43271</td></tr></table><br/></div></div>"
      ],
      "text/plain": [
       "<IPython.core.display.HTML object>"
      ]
     },
     "metadata": {},
     "output_type": "display_data"
    },
    {
     "data": {
      "text/html": [
       " View run <strong style=\"color:#cdcd00\">celestial-capybara-15</strong> at: <a href='https://wandb.ai/yuya00-university-of-hyogo/vertebrae-augmentation_axial_learning_1/runs/pvmuh8dn' target=\"_blank\">https://wandb.ai/yuya00-university-of-hyogo/vertebrae-augmentation_axial_learning_1/runs/pvmuh8dn</a><br> View project at: <a href='https://wandb.ai/yuya00-university-of-hyogo/vertebrae-augmentation_axial_learning_1' target=\"_blank\">https://wandb.ai/yuya00-university-of-hyogo/vertebrae-augmentation_axial_learning_1</a><br>Synced 5 W&B file(s), 0 media file(s), 0 artifact file(s) and 0 other file(s)"
      ],
      "text/plain": [
       "<IPython.core.display.HTML object>"
      ]
     },
     "metadata": {},
     "output_type": "display_data"
    },
    {
     "data": {
      "text/html": [
       "Find logs at: <code>./wandb/run-20250414_225144-pvmuh8dn/logs</code>"
      ],
      "text/plain": [
       "<IPython.core.display.HTML object>"
      ]
     },
     "metadata": {},
     "output_type": "display_data"
    },
    {
     "name": "stdout",
     "output_type": "stream",
     "text": [
      "Finished: Ep30 LR3e-05 WD0.01 DO0.3 → PRAUC 0.4975\n"
     ]
    },
    {
     "name": "stderr",
     "output_type": "stream",
     "text": [
      "/mnt/nfs1/home/yamamoto-hiroto/research/vertebrae/.venv/lib/python3.12/site-packages/torchvision/models/_utils.py:208: UserWarning: The parameter 'pretrained' is deprecated since 0.13 and may be removed in the future, please use 'weights' instead.\n",
      "  warnings.warn(\n",
      "/mnt/nfs1/home/yamamoto-hiroto/research/vertebrae/.venv/lib/python3.12/site-packages/torchvision/models/_utils.py:223: UserWarning: Arguments other than a weight enum or `None` for 'weights' are deprecated since 0.13 and may be removed in the future. The current behavior is equivalent to passing `weights=ResNet18_Weights.IMAGENET1K_V1`. You can also use `weights=ResNet18_Weights.DEFAULT` to get the most up-to-date weights.\n",
      "  warnings.warn(msg)\n"
     ]
    },
    {
     "data": {
      "text/html": [
       "Tracking run with wandb version 0.19.9"
      ],
      "text/plain": [
       "<IPython.core.display.HTML object>"
      ]
     },
     "metadata": {},
     "output_type": "display_data"
    },
    {
     "data": {
      "text/html": [
       "Run data is saved locally in <code>/mnt/nfs1/home/yamamoto-hiroto/research/vertebrae/Sakaguchi_file/S_model_learning/wandb/run-20250414_231844-3hahiwnw</code>"
      ],
      "text/plain": [
       "<IPython.core.display.HTML object>"
      ]
     },
     "metadata": {},
     "output_type": "display_data"
    },
    {
     "data": {
      "text/html": [
       "Syncing run <strong><a href='https://wandb.ai/yuya00-university-of-hyogo/vertebrae-augmentation_axial_learning_1/runs/3hahiwnw' target=\"_blank\">eager-aardvark-16</a></strong> to <a href='https://wandb.ai/yuya00-university-of-hyogo/vertebrae-augmentation_axial_learning_1' target=\"_blank\">Weights & Biases</a> (<a href='https://wandb.me/developer-guide' target=\"_blank\">docs</a>)<br>"
      ],
      "text/plain": [
       "<IPython.core.display.HTML object>"
      ]
     },
     "metadata": {},
     "output_type": "display_data"
    },
    {
     "data": {
      "text/html": [
       " View project at <a href='https://wandb.ai/yuya00-university-of-hyogo/vertebrae-augmentation_axial_learning_1' target=\"_blank\">https://wandb.ai/yuya00-university-of-hyogo/vertebrae-augmentation_axial_learning_1</a>"
      ],
      "text/plain": [
       "<IPython.core.display.HTML object>"
      ]
     },
     "metadata": {},
     "output_type": "display_data"
    },
    {
     "data": {
      "text/html": [
       " View run at <a href='https://wandb.ai/yuya00-university-of-hyogo/vertebrae-augmentation_axial_learning_1/runs/3hahiwnw' target=\"_blank\">https://wandb.ai/yuya00-university-of-hyogo/vertebrae-augmentation_axial_learning_1/runs/3hahiwnw</a>"
      ],
      "text/plain": [
       "<IPython.core.display.HTML object>"
      ]
     },
     "metadata": {},
     "output_type": "display_data"
    },
    {
     "data": {
      "application/vnd.jupyter.widget-view+json": {
       "model_id": "96b002f8fdcd4694a6b0d0fdf01dbcd0",
       "version_major": 2,
       "version_minor": 0
      },
      "text/plain": [
       "[Train] 1/30:   0%|          | 0/1036 [00:00<?, ?it/s]"
      ]
     },
     "metadata": {},
     "output_type": "display_data"
    },
    {
     "data": {
      "application/vnd.jupyter.widget-view+json": {
       "model_id": "5332f78191964419825f68896745786b",
       "version_major": 2,
       "version_minor": 0
      },
      "text/plain": [
       "[Train] 2/30:   0%|          | 0/1036 [00:00<?, ?it/s]"
      ]
     },
     "metadata": {},
     "output_type": "display_data"
    },
    {
     "data": {
      "application/vnd.jupyter.widget-view+json": {
       "model_id": "0a1395b4171b493fb98d5bbf22cf612a",
       "version_major": 2,
       "version_minor": 0
      },
      "text/plain": [
       "[Train] 3/30:   0%|          | 0/1036 [00:00<?, ?it/s]"
      ]
     },
     "metadata": {},
     "output_type": "display_data"
    },
    {
     "data": {
      "application/vnd.jupyter.widget-view+json": {
       "model_id": "30df0c11e92b478588682a238526a001",
       "version_major": 2,
       "version_minor": 0
      },
      "text/plain": [
       "[Train] 4/30:   0%|          | 0/1036 [00:00<?, ?it/s]"
      ]
     },
     "metadata": {},
     "output_type": "display_data"
    },
    {
     "data": {
      "application/vnd.jupyter.widget-view+json": {
       "model_id": "4db9c71cc1f246cca91cfae693369653",
       "version_major": 2,
       "version_minor": 0
      },
      "text/plain": [
       "[Train] 5/30:   0%|          | 0/1036 [00:00<?, ?it/s]"
      ]
     },
     "metadata": {},
     "output_type": "display_data"
    },
    {
     "data": {
      "application/vnd.jupyter.widget-view+json": {
       "model_id": "b266491c4a2647acad4b852fa7509285",
       "version_major": 2,
       "version_minor": 0
      },
      "text/plain": [
       "[Train] 6/30:   0%|          | 0/1036 [00:00<?, ?it/s]"
      ]
     },
     "metadata": {},
     "output_type": "display_data"
    },
    {
     "data": {
      "application/vnd.jupyter.widget-view+json": {
       "model_id": "833dbf48c1484c8bbb6a3c747757a8a8",
       "version_major": 2,
       "version_minor": 0
      },
      "text/plain": [
       "[Train] 7/30:   0%|          | 0/1036 [00:00<?, ?it/s]"
      ]
     },
     "metadata": {},
     "output_type": "display_data"
    },
    {
     "data": {
      "application/vnd.jupyter.widget-view+json": {
       "model_id": "4de45597db14410c8f31a3ca85a84461",
       "version_major": 2,
       "version_minor": 0
      },
      "text/plain": [
       "[Train] 8/30:   0%|          | 0/1036 [00:00<?, ?it/s]"
      ]
     },
     "metadata": {},
     "output_type": "display_data"
    },
    {
     "data": {
      "application/vnd.jupyter.widget-view+json": {
       "model_id": "ca02d8d0c5ad44758eb3cf385e247ee5",
       "version_major": 2,
       "version_minor": 0
      },
      "text/plain": [
       "[Train] 9/30:   0%|          | 0/1036 [00:00<?, ?it/s]"
      ]
     },
     "metadata": {},
     "output_type": "display_data"
    },
    {
     "data": {
      "application/vnd.jupyter.widget-view+json": {
       "model_id": "709c14b37483429c990e4324cf782a16",
       "version_major": 2,
       "version_minor": 0
      },
      "text/plain": [
       "[Train] 10/30:   0%|          | 0/1036 [00:00<?, ?it/s]"
      ]
     },
     "metadata": {},
     "output_type": "display_data"
    },
    {
     "data": {
      "application/vnd.jupyter.widget-view+json": {
       "model_id": "07e3578a04904d6d93507a6a683d510c",
       "version_major": 2,
       "version_minor": 0
      },
      "text/plain": [
       "[Train] 11/30:   0%|          | 0/1036 [00:00<?, ?it/s]"
      ]
     },
     "metadata": {},
     "output_type": "display_data"
    },
    {
     "data": {
      "application/vnd.jupyter.widget-view+json": {
       "model_id": "0828082bdd1041cda2d058ca5e9ff6d4",
       "version_major": 2,
       "version_minor": 0
      },
      "text/plain": [
       "[Train] 12/30:   0%|          | 0/1036 [00:00<?, ?it/s]"
      ]
     },
     "metadata": {},
     "output_type": "display_data"
    },
    {
     "data": {
      "application/vnd.jupyter.widget-view+json": {
       "model_id": "3ecfb796deb9458480a315229d3af719",
       "version_major": 2,
       "version_minor": 0
      },
      "text/plain": [
       "[Train] 13/30:   0%|          | 0/1036 [00:00<?, ?it/s]"
      ]
     },
     "metadata": {},
     "output_type": "display_data"
    },
    {
     "data": {
      "application/vnd.jupyter.widget-view+json": {
       "model_id": "9e7278d3a8864cabb3f63db7a05e3497",
       "version_major": 2,
       "version_minor": 0
      },
      "text/plain": [
       "[Train] 14/30:   0%|          | 0/1036 [00:00<?, ?it/s]"
      ]
     },
     "metadata": {},
     "output_type": "display_data"
    },
    {
     "data": {
      "application/vnd.jupyter.widget-view+json": {
       "model_id": "a88619414f4f4a95b244f138a8a6f2d3",
       "version_major": 2,
       "version_minor": 0
      },
      "text/plain": [
       "[Train] 15/30:   0%|          | 0/1036 [00:00<?, ?it/s]"
      ]
     },
     "metadata": {},
     "output_type": "display_data"
    },
    {
     "data": {
      "application/vnd.jupyter.widget-view+json": {
       "model_id": "390d5020f481401181922878ba83e7a0",
       "version_major": 2,
       "version_minor": 0
      },
      "text/plain": [
       "[Train] 16/30:   0%|          | 0/1036 [00:00<?, ?it/s]"
      ]
     },
     "metadata": {},
     "output_type": "display_data"
    },
    {
     "data": {
      "application/vnd.jupyter.widget-view+json": {
       "model_id": "24142c1b9c4a4158ba61add607c80578",
       "version_major": 2,
       "version_minor": 0
      },
      "text/plain": [
       "[Train] 17/30:   0%|          | 0/1036 [00:00<?, ?it/s]"
      ]
     },
     "metadata": {},
     "output_type": "display_data"
    },
    {
     "data": {
      "application/vnd.jupyter.widget-view+json": {
       "model_id": "730b31e8b55849639e61bbe253415b47",
       "version_major": 2,
       "version_minor": 0
      },
      "text/plain": [
       "[Train] 18/30:   0%|          | 0/1036 [00:00<?, ?it/s]"
      ]
     },
     "metadata": {},
     "output_type": "display_data"
    },
    {
     "data": {
      "application/vnd.jupyter.widget-view+json": {
       "model_id": "997201b5f7a5471283e886b6a9750368",
       "version_major": 2,
       "version_minor": 0
      },
      "text/plain": [
       "[Train] 19/30:   0%|          | 0/1036 [00:00<?, ?it/s]"
      ]
     },
     "metadata": {},
     "output_type": "display_data"
    },
    {
     "data": {
      "application/vnd.jupyter.widget-view+json": {
       "model_id": "281128acf6244afd870eba9cd4207bec",
       "version_major": 2,
       "version_minor": 0
      },
      "text/plain": [
       "[Train] 20/30:   0%|          | 0/1036 [00:00<?, ?it/s]"
      ]
     },
     "metadata": {},
     "output_type": "display_data"
    },
    {
     "data": {
      "application/vnd.jupyter.widget-view+json": {
       "model_id": "f9b6dd2fec3d4a479a26867f5db16d62",
       "version_major": 2,
       "version_minor": 0
      },
      "text/plain": [
       "[Train] 21/30:   0%|          | 0/1036 [00:00<?, ?it/s]"
      ]
     },
     "metadata": {},
     "output_type": "display_data"
    },
    {
     "data": {
      "application/vnd.jupyter.widget-view+json": {
       "model_id": "ab8361fb99e240d49c306f0bbcc9bc0e",
       "version_major": 2,
       "version_minor": 0
      },
      "text/plain": [
       "[Train] 22/30:   0%|          | 0/1036 [00:00<?, ?it/s]"
      ]
     },
     "metadata": {},
     "output_type": "display_data"
    },
    {
     "data": {
      "application/vnd.jupyter.widget-view+json": {
       "model_id": "d4839cc4fa864ff485522c32e4a91429",
       "version_major": 2,
       "version_minor": 0
      },
      "text/plain": [
       "[Train] 23/30:   0%|          | 0/1036 [00:00<?, ?it/s]"
      ]
     },
     "metadata": {},
     "output_type": "display_data"
    },
    {
     "data": {
      "application/vnd.jupyter.widget-view+json": {
       "model_id": "79438d253e8e4f368b02fef75324f09e",
       "version_major": 2,
       "version_minor": 0
      },
      "text/plain": [
       "[Train] 24/30:   0%|          | 0/1036 [00:00<?, ?it/s]"
      ]
     },
     "metadata": {},
     "output_type": "display_data"
    },
    {
     "data": {
      "application/vnd.jupyter.widget-view+json": {
       "model_id": "6842642394b648658c4074f809db66f9",
       "version_major": 2,
       "version_minor": 0
      },
      "text/plain": [
       "[Train] 25/30:   0%|          | 0/1036 [00:00<?, ?it/s]"
      ]
     },
     "metadata": {},
     "output_type": "display_data"
    },
    {
     "data": {
      "application/vnd.jupyter.widget-view+json": {
       "model_id": "95089edfeff741de987edee4ebea3d49",
       "version_major": 2,
       "version_minor": 0
      },
      "text/plain": [
       "[Train] 26/30:   0%|          | 0/1036 [00:00<?, ?it/s]"
      ]
     },
     "metadata": {},
     "output_type": "display_data"
    },
    {
     "data": {
      "application/vnd.jupyter.widget-view+json": {
       "model_id": "ddb934defadd4be889bb405010386832",
       "version_major": 2,
       "version_minor": 0
      },
      "text/plain": [
       "[Train] 27/30:   0%|          | 0/1036 [00:00<?, ?it/s]"
      ]
     },
     "metadata": {},
     "output_type": "display_data"
    },
    {
     "data": {
      "application/vnd.jupyter.widget-view+json": {
       "model_id": "f72e6238f9324af2b5857550455d7417",
       "version_major": 2,
       "version_minor": 0
      },
      "text/plain": [
       "[Train] 28/30:   0%|          | 0/1036 [00:00<?, ?it/s]"
      ]
     },
     "metadata": {},
     "output_type": "display_data"
    },
    {
     "data": {
      "application/vnd.jupyter.widget-view+json": {
       "model_id": "ea6ec11b9baa49ca9dbcdce9cb566e34",
       "version_major": 2,
       "version_minor": 0
      },
      "text/plain": [
       "[Train] 29/30:   0%|          | 0/1036 [00:00<?, ?it/s]"
      ]
     },
     "metadata": {},
     "output_type": "display_data"
    },
    {
     "data": {
      "application/vnd.jupyter.widget-view+json": {
       "model_id": "9997e2e8f23a41468c3b8a4541692d6c",
       "version_major": 2,
       "version_minor": 0
      },
      "text/plain": [
       "[Train] 30/30:   0%|          | 0/1036 [00:00<?, ?it/s]"
      ]
     },
     "metadata": {},
     "output_type": "display_data"
    },
    {
     "name": "stderr",
     "output_type": "stream",
     "text": [
      "\u001b[34m\u001b[1mwandb\u001b[0m: \u001b[32m\u001b[41mERROR\u001b[0m The nbformat package was not found. It is required to save notebook history.\n"
     ]
    },
    {
     "data": {
      "text/html": [],
      "text/plain": [
       "<IPython.core.display.HTML object>"
      ]
     },
     "metadata": {},
     "output_type": "display_data"
    },
    {
     "data": {
      "text/html": [
       "<br>    <style><br>        .wandb-row {<br>            display: flex;<br>            flex-direction: row;<br>            flex-wrap: wrap;<br>            justify-content: flex-start;<br>            width: 100%;<br>        }<br>        .wandb-col {<br>            display: flex;<br>            flex-direction: column;<br>            flex-basis: 100%;<br>            flex: 1;<br>            padding: 10px;<br>        }<br>    </style><br><div class=\"wandb-row\"><div class=\"wandb-col\"><h3>Run history:</h3><br/><table class=\"wandb\"><tr><td>best_th</td><td>▂▂▇▂▄▅▄▂▁▁██▆▃▃▄▁▂▃▂▃▄▃▂▂▁▁▂▁▂</td></tr><tr><td>epoch</td><td>▁▁▁▂▂▂▂▃▃▃▃▄▄▄▄▅▅▅▅▆▆▆▆▇▇▇▇███</td></tr><tr><td>lr</td><td>███████████████▂▂▂▂▂▂▂▂▂▂▂▁▁▁▁</td></tr><tr><td>precision</td><td>▅▅▄▄▂▂▆▆▅▄█▆▁▂▃▄▂▄▅▃▆█▆▇▄▄▃▄▄▅</td></tr><tr><td>recall</td><td>▃▃▅▆▁▆▃▁▃▅▃▂▂▄█▆▇▇▆▆▄▃▄▄▄▅▆▆▆▅</td></tr><tr><td>train_loss</td><td>█▄▃▃▃▃▃▂▂▂▂▂▂▂▂▁▁▁▁▁▁▁▁▁▁▁▁▁▁▁</td></tr><tr><td>val_loss</td><td>▂▂▂▁▃▄▂▅▅▄▂▃█▂▂▂▄▃▃▅▃▃▃▃▄▃▃▃▃▃</td></tr><tr><td>val_prauc</td><td>▆▇▆█▃▃▅▄▆▇▇▅▁▄▇▇▆█▇▅▇▇▆█▆▆▆▇▆▇</td></tr></table><br/></div><div class=\"wandb-col\"><h3>Run summary:</h3><br/><table class=\"wandb\"><tr><td>best_epoch</td><td>24</td></tr><tr><td>best_prauc</td><td>0.44112</td></tr><tr><td>best_th</td><td>0.12574</td></tr><tr><td>epoch</td><td>30</td></tr><tr><td>lr</td><td>0.0</td></tr><tr><td>precision</td><td>0.44646</td></tr><tr><td>recall</td><td>0.39394</td></tr><tr><td>saved_model_path</td><td>best_model_20250414_...</td></tr><tr><td>train_loss</td><td>0.0014</td></tr><tr><td>val_loss</td><td>0.33532</td></tr><tr><td>val_prauc</td><td>0.4044</td></tr></table><br/></div></div>"
      ],
      "text/plain": [
       "<IPython.core.display.HTML object>"
      ]
     },
     "metadata": {},
     "output_type": "display_data"
    },
    {
     "data": {
      "text/html": [
       " View run <strong style=\"color:#cdcd00\">eager-aardvark-16</strong> at: <a href='https://wandb.ai/yuya00-university-of-hyogo/vertebrae-augmentation_axial_learning_1/runs/3hahiwnw' target=\"_blank\">https://wandb.ai/yuya00-university-of-hyogo/vertebrae-augmentation_axial_learning_1/runs/3hahiwnw</a><br> View project at: <a href='https://wandb.ai/yuya00-university-of-hyogo/vertebrae-augmentation_axial_learning_1' target=\"_blank\">https://wandb.ai/yuya00-university-of-hyogo/vertebrae-augmentation_axial_learning_1</a><br>Synced 5 W&B file(s), 0 media file(s), 0 artifact file(s) and 0 other file(s)"
      ],
      "text/plain": [
       "<IPython.core.display.HTML object>"
      ]
     },
     "metadata": {},
     "output_type": "display_data"
    },
    {
     "data": {
      "text/html": [
       "Find logs at: <code>./wandb/run-20250414_231844-3hahiwnw/logs</code>"
      ],
      "text/plain": [
       "<IPython.core.display.HTML object>"
      ]
     },
     "metadata": {},
     "output_type": "display_data"
    },
    {
     "name": "stdout",
     "output_type": "stream",
     "text": [
      "Finished: Ep30 LR3e-05 WD0.01 DO0.0 → PRAUC 0.4411\n"
     ]
    }
   ],
   "source": [
    "##############################################\n",
    "# 7. メイン関数 (main)\n",
    "device = \"cuda\" if torch.cuda.is_available() else \"cpu\"\n",
    "print(f\"Using device: {device}\")\n",
    "\n",
    "    # ----- CSV 指定 -----\n",
    "train_csv = \"/mnt/nfs1/home/yamamoto-hiroto/research/vertebrae/Sakaguchi_file/slice_train_augmentation/axial/augumentation_labels_axial.csv\"\n",
    "val_csv   = \"/mnt/nfs1/home/yamamoto-hiroto/research/vertebrae/Sakaguchi_file/slice_val/axial/val_labels_axial.csv\"\n",
    "\n",
    "    # ----- Data Augmentation -----\n",
    "transform_train = transforms.Compose([\n",
    "        transforms.Resize((224, 224)),\n",
    "        transforms.RandomHorizontalFlip(),\n",
    "        transforms.RandomRotation(15),\n",
    "        transforms.ToTensor(),\n",
    "        transforms.Normalize([0.5], [0.5])  # グレースケールの正規化\n",
    "    ])\n",
    "transform_val = transforms.Compose([\n",
    "        transforms.Resize((224, 224)),\n",
    "        transforms.ToTensor(),\n",
    "        transforms.Normalize([0.5], [0.5])\n",
    "    ])\n",
    "\n",
    "    # ----- Dataset & DataLoader -----\n",
    "batch_size = 64\n",
    "train_dataset = CTDataset(train_csv, transform=transform_train)\n",
    "val_dataset   = CTDataset(val_csv,   transform=transform_val)\n",
    "train_loader  = DataLoader(train_dataset, batch_size=batch_size, shuffle=True,  num_workers=4)\n",
    "val_loader    = DataLoader(val_dataset,   batch_size=batch_size, shuffle=False, num_workers=4)\n",
    "\n",
    "    # ----- グリッドサーチでベストモデル探索 -----\n",
    "grid_search(train_loader, val_loader, device=device)"
   ]
  },
  {
   "cell_type": "markdown",
   "id": "54242878",
   "metadata": {},
   "source": [
    "# 可視化"
   ]
  },
  {
   "cell_type": "code",
   "execution_count": 11,
   "id": "5a1762b4",
   "metadata": {},
   "outputs": [],
   "source": [
    "os.environ[\"CUDA_VISIBLE_DEVICES\"]=\"2\""
   ]
  },
  {
   "cell_type": "code",
   "execution_count": null,
   "id": "cf1d1c67",
   "metadata": {},
   "outputs": [
    {
     "name": "stderr",
     "output_type": "stream",
     "text": [
      "/mnt/nfs1/home/yamamoto-hiroto/research/vertebrae/.venv/lib/python3.12/site-packages/torchvision/models/_utils.py:208: UserWarning: The parameter 'pretrained' is deprecated since 0.13 and may be removed in the future, please use 'weights' instead.\n",
      "  warnings.warn(\n",
      "/mnt/nfs1/home/yamamoto-hiroto/research/vertebrae/.venv/lib/python3.12/site-packages/torchvision/models/_utils.py:223: UserWarning: Arguments other than a weight enum or `None` for 'weights' are deprecated since 0.13 and may be removed in the future. The current behavior is equivalent to passing `weights=ResNet18_Weights.IMAGENET1K_V1`. You can also use `weights=ResNet18_Weights.DEFAULT` to get the most up-to-date weights.\n",
      "  warnings.warn(msg)\n"
     ]
    },
    {
     "name": "stdout",
     "output_type": "stream",
     "text": [
      "[1/30] Train 0.1168 | Val 0.2386 | PRAUC 0.4006\n",
      "[2/30] Train 0.0502 | Val 0.3115 | PRAUC 0.3434\n",
      "[3/30] Train 0.0369 | Val 0.3423 | PRAUC 0.3215\n",
      "[4/30] Train 0.0317 | Val 0.3018 | PRAUC 0.3811\n",
      "[5/30] Train 0.0282 | Val 0.4220 | PRAUC 0.3352\n",
      "[6/30] Train 0.0266 | Val 0.3028 | PRAUC 0.3355\n",
      "[7/30] Train 0.0258 | Val 0.3019 | PRAUC 0.3266\n",
      "[8/30] Train 0.0253 | Val 0.3064 | PRAUC 0.3485\n",
      "[9/30] Train 0.0229 | Val 0.3100 | PRAUC 0.3681\n",
      "[10/30] Train 0.0247 | Val 0.4675 | PRAUC 0.2142\n",
      "[11/30] Train 0.0222 | Val 0.3317 | PRAUC 0.3937\n",
      "[12/30] Train 0.0231 | Val 0.2108 | PRAUC 0.5088\n",
      "[13/30] Train 0.0211 | Val 0.2034 | PRAUC 0.5521\n",
      "[14/30] Train 0.0220 | Val 0.2895 | PRAUC 0.4180\n",
      "[15/30] Train 0.0215 | Val 0.2609 | PRAUC 0.4651\n",
      "[16/30] Train 0.0199 | Val 0.3208 | PRAUC 0.4300\n",
      "[17/30] Train 0.0194 | Val 0.2756 | PRAUC 0.3836\n",
      "[18/30] Train 0.0183 | Val 0.2921 | PRAUC 0.4245\n",
      "[19/30] Train 0.0188 | Val 0.5780 | PRAUC 0.1806\n",
      "[20/30] Train 0.0184 | Val 0.2634 | PRAUC 0.4935\n",
      "[21/30] Train 0.0169 | Val 0.2476 | PRAUC 0.4475\n",
      "[22/30] Train 0.0175 | Val 0.3264 | PRAUC 0.3516\n",
      "[23/30] Train 0.0175 | Val 0.3927 | PRAUC 0.2571\n",
      "[24/30] Train 0.0163 | Val 0.3134 | PRAUC 0.4126\n",
      "[25/30] Train 0.0067 | Val 0.2760 | PRAUC 0.4644\n",
      "[26/30] Train 0.0044 | Val 0.2733 | PRAUC 0.4672\n",
      "[27/30] Train 0.0033 | Val 0.2918 | PRAUC 0.4686\n",
      "[28/30] Train 0.0033 | Val 0.2632 | PRAUC 0.5012\n",
      "[29/30] Train 0.0031 | Val 0.2755 | PRAUC 0.4848\n",
      "[30/30] Train 0.0029 | Val 0.2886 | PRAUC 0.4504\n"
     ]
    },
    {
     "data": {
      "image/png": "[encoded data removed]",
      "text/plain": [
       "<Figure size 1200x400 with 2 Axes>"
      ]
     },
     "metadata": {},
     "output_type": "display_data"
    },
    {
     "ename": "",
     "evalue": "",
     "output_type": "error",
     "traceback": [
      "\u001b[1;31m現在のセルまたは前のセルでコードを実行中に、カーネル (Kernel) がクラッシュしました。\n",
      "\u001b[1;31mエラーの原因を特定するには、セル内のコードを確認してください。\n",
      "\u001b[1;31m詳細については<a href='https://aka.ms/vscodeJupyterKernelCrash'>こちら</a>をクリックします。\n",
      "\u001b[1;31m詳細については、Jupyter <a href='command:jupyter.viewOutput'>ログ</a> を参照してください。"
     ]
    }
   ],
   "source": [
    "# ----- CSV 指定 -----\n",
    "train_csv = \"/mnt/nfs1/home/yamamoto-hiroto/research/vertebrae/Sakaguchi_file/slice_train_augmentation/axial/augumentation_labels_axial.csv\"\n",
    "val_csv   = \"/mnt/nfs1/home/yamamoto-hiroto/research/vertebrae/Sakaguchi_file/slice_val/axial/val_labels_axial.csv\"\n",
    "\n",
    "    # ----- Data Augmentation -----\n",
    "transform_train = transforms.Compose([\n",
    "        transforms.Resize((224, 224)),\n",
    "        transforms.RandomHorizontalFlip(),\n",
    "        transforms.RandomRotation(15),\n",
    "        transforms.ToTensor(),\n",
    "        transforms.Normalize([0.5], [0.5])  # グレースケールの正規化\n",
    "    ])\n",
    "transform_val = transforms.Compose([\n",
    "        transforms.Resize((224, 224)),\n",
    "        transforms.ToTensor(),\n",
    "        transforms.Normalize([0.5], [0.5])\n",
    "    ])\n",
    "\n",
    "# ----- Dataset & DataLoader -----\n",
    "batch_size = 64\n",
    "train_dataset = CTDataset(train_csv, transform=transform_train)\n",
    "val_dataset   = CTDataset(val_csv,   transform=transform_val)\n",
    "train_loader  = DataLoader(train_dataset, batch_size=batch_size, shuffle=True,  num_workers=4)\n",
    "val_loader    = DataLoader(val_dataset,   batch_size=batch_size, shuffle=False, num_workers=4)\n",
    "\n",
    "# ---------- 1. ベストハイパラを手入力 (CSV を見て書き換え) ----------\n",
    "best_num_epochs = 30\n",
    "best_lr         = 3e-5\n",
    "best_wd         = 1e-2\n",
    "best_dropout    = 0.0\n",
    "\n",
    "# ---------- 2. DataLoader の再利用 ----------\n",
    "# train_loader, val_loader はすでに作ってある前提\n",
    "device = \"cuda\" if torch.cuda.is_available() else \"cpu\"\n",
    "\n",
    "# ---------- 3. モデル・オプティマイザ ----------\n",
    "model = ModifiedResNet(dropout_rate=best_dropout).to(device)\n",
    "criterion = nn.BCELoss()\n",
    "optimizer = optim.Adam(model.parameters(), lr=best_lr, weight_decay=best_wd)\n",
    "scheduler = optim.lr_scheduler.ReduceLROnPlateau(optimizer, mode='min')\n",
    "\n",
    "# ---------- 4. 学習 (履歴を取りつつ) ----------\n",
    "train_losses = []\n",
    "val_losses   = []\n",
    "val_praucs   = []\n",
    "\n",
    "for epoch in range(best_num_epochs):\n",
    "    # ---- Train ----\n",
    "    model.train()\n",
    "    running = 0.0\n",
    "    for imgs, labels in train_loader:\n",
    "        imgs   = imgs.to(device, dtype=torch.float32)\n",
    "        labels = labels.to(device, dtype=torch.float32)\n",
    "        optimizer.zero_grad()\n",
    "        out = model(imgs).squeeze()\n",
    "        loss = criterion(out, labels)\n",
    "        loss.backward()\n",
    "        optimizer.step()\n",
    "        running += loss.item()\n",
    "    train_losses.append(running / len(train_loader))\n",
    "\n",
    "    # ---- Val ----\n",
    "    v_loss, v_prauc, *_ = evaluate_model(model, val_loader, criterion, device)\n",
    "    val_losses.append(v_loss)\n",
    "    val_praucs.append(v_prauc)\n",
    "    scheduler.step(v_loss)\n",
    "\n",
    "    print(f\"[{epoch+1}/{best_num_epochs}] Train {train_losses[-1]:.4f} | \"\n",
    "          f\"Val {v_loss:.4f} | PRAUC {v_prauc:.4f}\")\n",
    "\n",
    "# ---------- 5. 可視化 ----------\n",
    "import matplotlib.pyplot as plt\n",
    "\n",
    "fig, ax = plt.subplots(1, 2, figsize=(12, 4))\n",
    "\n",
    "# Loss\n",
    "ax[0].plot(train_losses, label=\"Train Loss\", marker='o')\n",
    "ax[0].plot(val_losses,   label=\"Val Loss\",   marker='o')\n",
    "ax[0].set_xlabel(\"Epoch\"); ax[0].set_ylabel(\"Loss\"); ax[0].set_title(\"Loss Curve\")\n",
    "ax[0].legend(); ax[0].grid(True)\n",
    "\n",
    "# PRAUC\n",
    "ax[1].plot(val_praucs, marker='o')\n",
    "ax[1].set_xlabel(\"Epoch\"); ax[1].set_ylabel(\"PRAUC\"); ax[1].set_title(\"Validation PRAUC\")\n",
    "ax[1].grid(True)\n",
    "\n",
    "plt.tight_layout()\n",
    "plt.show()\n"
   ]
  },
  {
   "cell_type": "markdown",
   "id": "4951bce5",
   "metadata": {},
   "source": [
    "# 推論"
   ]
  },
  {
   "cell_type": "code",
   "execution_count": null,
   "id": "1980e3cc",
   "metadata": {},
   "outputs": [],
   "source": [
    "os.environ[\"CUDA_VISIBLE_DEVICES\"]=\"2\""
   ]
  },
  {
   "cell_type": "code",
   "execution_count": null,
   "id": "0e9df1bb",
   "metadata": {},
   "outputs": [],
   "source": [
    "from PIL import Image\n",
    "from sklearn.metrics import (precision_recall_curve, auc, roc_curve, \n",
    "                             accuracy_score, precision_score, recall_score, f1_score, confusion_matrix)"
   ]
  },
  {
   "cell_type": "code",
   "execution_count": null,
   "id": "3e03e30e",
   "metadata": {},
   "outputs": [
    {
     "name": "stderr",
     "output_type": "stream",
     "text": [
      "/mnt/nfs1/home/yamamoto-hiroto/research/vertebrae/.venv/lib/python3.12/site-packages/torchvision/models/_utils.py:208: UserWarning: The parameter 'pretrained' is deprecated since 0.13 and may be removed in the future, please use 'weights' instead.\n",
      "  warnings.warn(\n",
      "/mnt/nfs1/home/yamamoto-hiroto/research/vertebrae/.venv/lib/python3.12/site-packages/torchvision/models/_utils.py:223: UserWarning: Arguments other than a weight enum or `None` for 'weights' are deprecated since 0.13 and may be removed in the future. The current behavior is equivalent to passing `weights=ResNet18_Weights.IMAGENET1K_V1`. You can also use `weights=ResNet18_Weights.DEFAULT` to get the most up-to-date weights.\n",
      "  warnings.warn(msg)\n",
      "/tmp/ipykernel_3450384/1347469006.py:41: FutureWarning: You are using `torch.load` with `weights_only=False` (the current default value), which uses the default pickle module implicitly. It is possible to construct malicious pickle data which will execute arbitrary code during unpickling (See https://github.com/pytorch/pytorch/blob/main/SECURITY.md#untrusted-models for more details). In a future release, the default value for `weights_only` will be flipped to `True`. This limits the functions that could be executed during unpickling. Arbitrary objects will no longer be allowed to be loaded via this mode unless they are explicitly allowlisted by the user via `torch.serialization.add_safe_globals`. We recommend you start setting `weights_only=True` for any use case where you don't have full control of the loaded file. Please open an issue on GitHub for any issues related to this experimental feature.\n",
      "  model.load_state_dict(torch.load(\"S_best_model_grid_1.pth\", map_location=device))\n"
     ]
    },
    {
     "name": "stdout",
     "output_type": "stream",
     "text": [
      "PRAUC         : 0.4881\n",
      "ROC AUC       : 0.8217\n",
      "Best Th (F1)  : 0.112\n",
      "Accuracy      : 0.9241\n",
      "Precision     : 0.5449\n",
      "Recall        : 0.4437\n",
      "F1            : 0.4892\n",
      "Confusion Matrix\n",
      " [[11857   405]\n",
      " [  608   485]]\n"
     ]
    }
   ],
   "source": [
    "class CTDataset(Dataset):\n",
    "    def __init__(self, csv_path, transform=None):\n",
    "        self.df = pd.read_csv(csv_path)\n",
    "        self.transform = transform\n",
    "\n",
    "    def __len__(self):\n",
    "        return len(self.df)\n",
    "\n",
    "    def __getitem__(self, idx):\n",
    "        row   = self.df.iloc[idx]\n",
    "        img_p = row[\"FullPath\"]\n",
    "        label = float(row[\"Fracture_Label\"])\n",
    "\n",
    "        img = nib.load(img_p).get_fdata()\n",
    "        if img.ndim == 3:\n",
    "            img = img[:, :, 0]\n",
    "        img = np.clip(img, 100, 2000)\n",
    "        img = np.uint8((img - 100)/(2000-100) * 255)\n",
    "        pil = Image.fromarray(img).convert(\"L\")\n",
    "\n",
    "        if self.transform:\n",
    "            pil = self.transform(pil)\n",
    "        return pil, label\n",
    "    \n",
    "test_csv = \"/mnt/nfs1/home/yamamoto-hiroto/research/vertebrae/Sakaguchi_file/slice_test/axial/test_labels_axial.csv\"\n",
    "\n",
    "transform_test = transforms.Compose([\n",
    "    transforms.Resize((224, 224)),\n",
    "    transforms.ToTensor(),\n",
    "    transforms.Normalize([0.5], [0.5])\n",
    "])\n",
    "\n",
    "test_loader = DataLoader(\n",
    "    CTDataset(test_csv, transform=transform_test),\n",
    "    batch_size=64, shuffle=False, num_workers=4\n",
    ")\n",
    "\n",
    "device = \"cuda\" if torch.cuda.is_available() else \"cpu\"\n",
    "\n",
    "model = ModifiedResNet(dropout_rate=0.0).to(device)   # dropout は学習時の値\n",
    "model.load_state_dict(torch.load(\"S_best_model_grid_1.pth\", map_location=device))\n",
    "model.eval()\n",
    "\n",
    "y_true, y_prob = [], []\n",
    "\n",
    "with torch.no_grad():\n",
    "    for imgs, labels in test_loader:\n",
    "        imgs   = imgs.to(device, dtype=torch.float32)\n",
    "        labels = labels.to(device, dtype=torch.float32)\n",
    "\n",
    "        probs  = model(imgs).squeeze()        # 0–1 の確率\n",
    "        y_true.extend(labels.cpu().numpy())\n",
    "        y_prob.extend(probs.cpu().numpy())\n",
    "\n",
    "y_true = np.array(y_true)\n",
    "y_prob = np.array(y_prob)\n",
    "\n",
    "# ---------- PRAUC ----------\n",
    "prec, rec, th = precision_recall_curve(y_true, y_prob)\n",
    "prauc = auc(rec, prec)\n",
    "\n",
    "# ---------- ROC AUC ----------\n",
    "fpr, tpr, _ = roc_curve(y_true, y_prob)\n",
    "roc_auc = auc(fpr, tpr)\n",
    "\n",
    "# ---------- 最適閾値（F1 最大） ----------\n",
    "f1s = 2*(prec*rec)/(prec+rec+1e-8)\n",
    "best_idx = np.argmax(f1s)\n",
    "best_th  = th[best_idx] if best_idx < len(th) else 0.5\n",
    "\n",
    "# ---------- 2値化 ----------\n",
    "y_pred = (y_prob >= best_th).astype(int)\n",
    "\n",
    "# ---------- 各種指標 ----------\n",
    "acc  = accuracy_score (y_true, y_pred)\n",
    "prec_bin = precision_score(y_true, y_pred, zero_division=0)\n",
    "rec_bin  = recall_score   (y_true, y_pred, zero_division=0)\n",
    "f1   = f1_score       (y_true, y_pred, zero_division=0)\n",
    "cm   = confusion_matrix(y_true, y_pred)\n",
    "\n",
    "print(f\"PRAUC         : {prauc:.4f}\")\n",
    "print(f\"ROC AUC       : {roc_auc:.4f}\")\n",
    "print(f\"Best Th (F1)  : {best_th:.3f}\")\n",
    "print(f\"Accuracy      : {acc:.4f}\")\n",
    "print(f\"Precision     : {prec_bin:.4f}\")\n",
    "print(f\"Recall        : {rec_bin:.4f}\")\n",
    "print(f\"F1            : {f1:.4f}\")\n",
    "print(\"Confusion Matrix\\n\", cm)"
   ]
  },
  {
   "cell_type": "code",
   "execution_count": null,
   "id": "f7316c54",
   "metadata": {},
   "outputs": [
    {
     "data": {
      "image/png": "[encoded data removed]",
      "text/plain": [
       "<Figure size 1800x500 with 4 Axes>"
      ]
     },
     "metadata": {},
     "output_type": "display_data"
    }
   ],
   "source": [
    "fig, ax = plt.subplots(1, 3, figsize=(18,5))\n",
    "\n",
    "# PR Curve\n",
    "ax[0].plot(rec, prec, label=f\"PRAUC={prauc:.3f}\")\n",
    "ax[0].set_xlabel(\"Recall\"); ax[0].set_ylabel(\"Precision\")\n",
    "ax[0].set_title(\"Precision-Recall Curve\"); ax[0].grid(); ax[0].legend()\n",
    "\n",
    "# ROC Curve\n",
    "ax[1].plot(fpr, tpr, label=f\"AUC={roc_auc:.3f}\")\n",
    "ax[1].plot([0,1],[0,1],'--',color='gray')\n",
    "ax[1].set_xlabel(\"FPR\"); ax[1].set_ylabel(\"TPR\")\n",
    "ax[1].set_title(\"ROC Curve\"); ax[1].grid(); ax[1].legend()\n",
    "\n",
    "# Confusion Matrix\n",
    "im = ax[2].imshow(cm, cmap='Blues')\n",
    "for i in range(2):\n",
    "    for j in range(2):\n",
    "        ax[2].text(j, i, cm[i, j], ha='center', va='center', color='black')\n",
    "ax[2].set_xticks([0,1]); ax[2].set_yticks([0,1])\n",
    "ax[2].set_xlabel(\"Predicted\"); ax[2].set_ylabel(\"Actual\")\n",
    "ax[2].set_title(\"Confusion Matrix\")\n",
    "fig.colorbar(im, ax=ax[2])\n",
    "\n",
    "plt.tight_layout(); plt.show()\n"
   ]
  }
 ],
 "metadata": {
  "kernelspec": {
   "display_name": ".venv",
   "language": "python",
   "name": "python3"
  },
  "language_info": {
   "codemirror_mode": {
    "name": "ipython",
    "version": 3
   },
   "file_extension": ".py",
   "mimetype": "text/x-python",
   "name": "python",
   "nbconvert_exporter": "python",
   "pygments_lexer": "ipython3",
   "version": "3.12.8"
  }
 },
 "nbformat": 4,
 "nbformat_minor": 5
}

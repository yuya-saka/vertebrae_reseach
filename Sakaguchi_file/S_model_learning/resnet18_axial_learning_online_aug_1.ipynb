{
 "cells": [
  {
   "cell_type": "markdown",
   "id": "5d4550ac",
   "metadata": {},
   "source": [
    "# %% [markdown]\n",
    "# # 椎体骨折検出モデル（陽性オンライン拡張＋不均衡サンプラ対応）\n",
    "# * TorchVision / MONAI 不要の軽量実装\n",
    "# * 陽性クラスにだけ強めのオンライン Data Augmentation\n",
    "# * `WeightedRandomSampler` で 1:1 に近いバランスで学習\n",
    "# \n",
    "# **事前準備**\n",
    "# * `pip install nibabel pandas scikit-learn matplotlib wandb`\n",
    "# * W&B の API キーは `wandb login` で保存 or 環境変数に設定\n",
    "# * CSV は以下カラムを想定  \n",
    "#   * `FullPath` : NIfTI ファイルパス  \n",
    "#   * `Fracture_Label` : 1 (骨折) / 0 (健常)"
   ]
  },
  {
   "cell_type": "code",
   "execution_count": 1,
   "id": "04dc5845",
   "metadata": {},
   "outputs": [
    {
     "name": "stderr",
     "output_type": "stream",
     "text": [
      "\u001b[34m\u001b[1mwandb\u001b[0m: Using wandb-core as the SDK backend.  Please refer to https://wandb.me/wandb-core for more information.\n",
      "\u001b[34m\u001b[1mwandb\u001b[0m: Currently logged in as: \u001b[33myuya00\u001b[0m (\u001b[33myuya00-university-of-hyogo\u001b[0m) to \u001b[32mhttps://api.wandb.ai\u001b[0m. Use \u001b[1m`wandb login --relogin`\u001b[0m to force relogin\n"
     ]
    },
    {
     "data": {
      "text/plain": [
       "True"
      ]
     },
     "execution_count": 1,
     "metadata": {},
     "output_type": "execute_result"
    }
   ],
   "source": [
    "import os, copy, random, numpy as np, pandas as pd\n",
    "import torch, torch.nn as nn, torch.optim as optim\n",
    "from torch.utils.data import Dataset, DataLoader, WeightedRandomSampler\n",
    "from torchvision import models, transforms as T\n",
    "import torch.nn.functional as F\n",
    "import nibabel as nib\n",
    "from PIL import Image\n",
    "from tqdm.notebook import tqdm\n",
    "from sklearn.metrics import precision_recall_curve, auc\n",
    "import wandb\n",
    "from datetime import datetime\n",
    "from itertools import product\n",
    "\n",
    "WANDB_PROJECT = \"vertebrae-online_aug_axial_learning_3-3(α=0.8,gamma=1.0)\"\n",
    "wandb.login()  "
   ]
  },
  {
   "cell_type": "markdown",
   "id": "d2a3829c",
   "metadata": {},
   "source": [
    "# 学習モデル"
   ]
  },
  {
   "cell_type": "code",
   "execution_count": 2,
   "id": "1a1b61eb",
   "metadata": {},
   "outputs": [
    {
     "name": "stdout",
     "output_type": "stream",
     "text": [
      "Using device: cuda\n"
     ]
    }
   ],
   "source": [
    "os.environ[\"CUDA_VISIBLE_DEVICES\"] = \"0\"\n",
    "device = \"cuda\" if torch.cuda.is_available() else \"cpu\"\n",
    "print(\"Using device:\", device)"
   ]
  },
  {
   "cell_type": "code",
   "execution_count": 3,
   "id": "c9d62371",
   "metadata": {},
   "outputs": [],
   "source": [
    "#2. FocalLoss：alpha自動設定\n",
    "############################\n",
    "class FocalLoss(nn.Module):\n",
    "    def __init__(self, pos_weight, gamma=1.0, reduction=\"mean\"):\n",
    "        super().__init__()\n",
    "        self.alpha = pos_weight         # pos:neg 比から計算\n",
    "        self.gamma, self.reduction = gamma, reduction\n",
    "\n",
    "    def forward(self, logits, targets):\n",
    "        ce = F.binary_cross_entropy_with_logits(logits, targets,\n",
    "                                                reduction=\"none\")\n",
    "        p_t = torch.exp(-ce)            # = σ(logits) if y=1 else 1-σ\n",
    "        alpha_t = self.alpha*targets + (1-self.alpha)*(1-targets)\n",
    "        loss = alpha_t * (1 - p_t) ** self.gamma * ce\n",
    "        return loss.mean() if self.reduction == \"mean\" else loss.sum()"
   ]
  },
  {
   "cell_type": "code",
   "execution_count": 4,
   "id": "d256e4e6",
   "metadata": {},
   "outputs": [],
   "source": [
    "def build_transforms():\n",
    "    resize = T.Resize((224, 224))\n",
    "    to_tensor = T.ToTensor()\n",
    "    norm = T.Normalize([0.5], [0.5])\n",
    "\n",
    "    # --- 陽性 ---\n",
    "    geom = T.RandomApply([\n",
    "            T.RandomRotation(20),\n",
    "            T.RandomAffine(\n",
    "                degrees=0,\n",
    "                translate=(0.07, 0.07),\n",
    "                scale=(0.9, 1.1),\n",
    "                shear=5)], p=0.7)\n",
    "\n",
    "    intensity = T.RandomApply([\n",
    "            T.ColorJitter(brightness=0.1, contrast=0.15)], p=0.5)\n",
    "\n",
    "    # ★ ノイズは Tensor 化のあと ★\n",
    "    noise = T.RandomApply([\n",
    "            lambda x: x + 0.05 * torch.randn_like(x)], p=0.3)\n",
    "\n",
    "    pos_tf = T.Compose([resize, geom, intensity,\n",
    "                        to_tensor,       # Tensor 変換\n",
    "                        noise,           # ← 順序をここに\n",
    "                        norm])\n",
    "\n",
    "    # --- 陰性 ---\n",
    "    neg_tf = T.Compose([resize,\n",
    "                        T.RandomHorizontalFlip(0.2),\n",
    "                        to_tensor,\n",
    "                        norm])\n",
    "\n",
    "    # --- 検証 ---\n",
    "    val_tf = T.Compose([resize, to_tensor, norm])\n",
    "    return pos_tf, neg_tf, val_tf\n",
    "\n",
    "# 呼び出し例\n",
    "pos_tf, neg_tf, val_tf = build_transforms()"
   ]
  },
  {
   "cell_type": "code",
   "execution_count": 5,
   "id": "70e993c0",
   "metadata": {},
   "outputs": [],
   "source": [
    "# ## 2. Dataset\n",
    "# %%\n",
    "class CTDataset(Dataset):\n",
    "    def __init__(self, csv_path, pos_tf=None, neg_tf=None):\n",
    "        self.data   = pd.read_csv(csv_path)\n",
    "        self.pos_tf = pos_tf\n",
    "        self.neg_tf = neg_tf\n",
    "\n",
    "    def __len__(self):\n",
    "        return len(self.data)\n",
    "\n",
    "    def _load_nifti(self, path):\n",
    "        img = nib.load(path).get_fdata()\n",
    "        if img.ndim == 3:\n",
    "            img = img[:, :, 0]      # 1 枚目スライス\n",
    "        img_min = 100\n",
    "        img_max = 2000\n",
    "        img = np.clip(img, img_min, img_max)  # 100-2000\n",
    "        img = (img - img_min) / (img_max - img_min)                # 0-1\n",
    "        img = (img * 255).astype(np.uint8)\n",
    "        return Image.fromarray(img).convert(\"L\")\n",
    "\n",
    "    def __getitem__(self, idx):\n",
    "        r      = self.data.iloc[idx]\n",
    "        label  = int(r[\"Fracture_Label\"])\n",
    "        img    = self._load_nifti(r[\"FullPath\"])\n",
    "        img_tf = self.pos_tf if label == 1 else self.neg_tf\n",
    "        if img_tf:\n",
    "            img = img_tf(img)\n",
    "        return img, float(label)\n",
    "\n",
    "# %% [markdown]\n",
    "# ## 3. モデル\n",
    "# %%\n",
    "class ModifiedResNet(nn.Module):\n",
    "    def __init__(self, drop=0.5):\n",
    "        super().__init__()\n",
    "        self.backbone = models.resnet18(weights=\"IMAGENET1K_V1\")\n",
    "        self.backbone.conv1 = nn.Conv2d(1, 64, 7, 2, 3, bias=False)\n",
    "        n = self.backbone.fc.in_features\n",
    "        self.backbone.fc = nn.Sequential(\n",
    "            nn.Dropout(drop), nn.Linear(n, 1))   #nn.Sigmoid()はfocal_lossのとき外す\n",
    "        \n",
    "\n",
    "    def forward(self, x):\n",
    "        return self.backbone(x).squeeze(1)\n",
    "\n",
    "# %% [markdown]\n",
    "# ## 4. 評価関数\n",
    "# %%\n",
    "def evaluate(model, loader, criterion):\n",
    "    model.eval()\n",
    "    loss_sum, y_true, y_pred = 0.0, [], []\n",
    "    with torch.no_grad():\n",
    "        for x, y in loader:\n",
    "            x, y = x.to(device, torch.float32), y.to(device, torch.float32)\n",
    "            out  = model(x)\n",
    "            loss_sum += criterion(out, y).item()\n",
    "            y_true.extend(y.cpu().numpy())\n",
    "            #y_pred.extend(out.cpu().numpy()) \n",
    "            y_pred.extend(torch.sigmoid(out).cpu().numpy())   # ← logits → σ に変換 #focal_lossのときsigmoidは外す\n",
    "    val_loss = loss_sum / len(loader)\n",
    "    prec, rec, thr = precision_recall_curve(y_true, y_pred)\n",
    "    prauc = auc(rec, prec)\n",
    "    f1 = 2 * prec * rec / (prec + rec + 1e-8)\n",
    "    idx = f1.argmax()\n",
    "    best = dict(th=thr[idx] if idx < len(thr) else 0.5,\n",
    "                prec=prec[idx], rec=rec[idx])\n",
    "    return val_loss, prauc, best\n"
   ]
  },
  {
   "cell_type": "code",
   "execution_count": 6,
   "id": "33e787f5",
   "metadata": {},
   "outputs": [],
   "source": [
    "# -------------------- 5. 早期停止付き学習ループ --------------------\n",
    "def train_model(model, tr_loader, val_loader,\n",
    "                criterion, optimizer, #scheduler,\n",
    "                epochs=30, early_stop_patience=5,\n",
    "                log_wandb=True):\n",
    "    \n",
    "     # ❷ One-CycleLR をここで生成\n",
    "    scheduler = optim.lr_scheduler.OneCycleLR(\n",
    "        optimizer,\n",
    "        max_lr=optimizer.param_groups[0]['lr'],  # (=1e-3)\n",
    "        steps_per_epoch=len(tr_loader),\n",
    "        epochs=epochs,\n",
    "        pct_start=0.1           # 最初の 10 % がウォームアップ\n",
    "    )\n",
    "    \n",
    "    if log_wandb:\n",
    "        run = wandb.init(project=WANDB_PROJECT, reinit=True,\n",
    "                         config=dict(epochs=epochs,\n",
    "                                     lr=optimizer.param_groups[0]['lr'],\n",
    "                                     wd=optimizer.param_groups[0]['weight_decay'],\n",
    "                                     dropout=getattr(model.backbone.fc[0], 'p', None)))\n",
    "        wandb.watch(model, log=\"all\", log_freq=50)\n",
    "\n",
    "    best_prauc, best_state = 0.0, None\n",
    "    no_improve = 0\n",
    "\n",
    "    for ep in range(epochs):\n",
    "        # ---------- train ----------\n",
    "        model.train(); tr_loss = 0.0\n",
    "        for x, y in tr_loader:\n",
    "            x, y = x.to(device, torch.float32), y.to(device, torch.float32)\n",
    "            optimizer.zero_grad()\n",
    "            loss = criterion(model(x), y)\n",
    "            loss.backward(); optimizer.step()\n",
    "            scheduler.step()           # ← 毎バッチ学習率を更新\n",
    "            tr_loss += loss.detach().item()\n",
    "\n",
    "        # ---------- val ----------\n",
    "        v_loss, v_prauc, _ = evaluate(model, val_loader, criterion)\n",
    "        #scheduler.step(v_loss)\n",
    "\n",
    "        if log_wandb:\n",
    "            wandb.log({\"epoch\": ep+1,\n",
    "                       \"train_loss\": tr_loss/len(tr_loader),\n",
    "                       \"val_loss\": v_loss,\n",
    "                       \"val_prauc\": v_prauc,\n",
    "                       \"lr\": optimizer.param_groups[0]['lr']})\n",
    "\n",
    "        # ---- early-stop 判定 ----\n",
    "        if v_prauc > best_prauc:\n",
    "            best_prauc  = v_prauc\n",
    "            best_state  = copy.deepcopy(model.state_dict())\n",
    "            no_improve  = 0\n",
    "        else:\n",
    "            no_improve += 1\n",
    "            if no_improve >= early_stop_patience:\n",
    "                break     # ← 打ち切り\n",
    "\n",
    "    if log_wandb:\n",
    "        wandb.finish()\n",
    "    return best_prauc, best_state\n"
   ]
  },
  {
   "cell_type": "markdown",
   "id": "aaf22f7e",
   "metadata": {},
   "source": [
    "## BCE_lossのときつかう"
   ]
  },
  {
   "cell_type": "code",
   "execution_count": null,
   "id": "79d13323",
   "metadata": {},
   "outputs": [],
   "source": [
    "# -------------------- 6. 高速 2-ステージ grid_search --------------------\n",
    "def grid_search(tr_loader, val_loader,\n",
    "                quick_epochs=4, full_epochs=20,\n",
    "                top_k=3, max_trials=None, seed=42):\n",
    "    \"\"\"\n",
    "    quick_epochs : Stage-1 で回す短いエポック数\n",
    "    full_epochs  : Stage-2 で回す本番エポック数\n",
    "    top_k        : Stage-2 に進める上位構成数\n",
    "    max_trials   : ランダム探索の最大試行数（None なら全組み合わせ）\n",
    "    \"\"\"\n",
    "    # ----- ハイパラ候補 -----\n",
    "    EPOCHS_dummy = [0]                  # Stage-1/2 で上書きするのでダミー\n",
    "    LRS     = [1e-5, 3e-5, 1e-4]\n",
    "    WDECAY  = [1e-3, 1e-2]\n",
    "    DROPOUT = [0.0, 0.3]\n",
    "\n",
    "    # すべての組み合わせ\n",
    "    from itertools import product\n",
    "    all_params = list(product(LRS, WDECAY, DROPOUT))\n",
    "    random.seed(seed); random.shuffle(all_params)   # ランダム順にすると偏りが出にくい\n",
    "    if max_trials:\n",
    "        all_params = all_params[:max_trials]\n",
    "\n",
    "    results_stage1 = []\n",
    "\n",
    "    # ===== Stage-1 : ざっくり評価 (quick_epochs) =====\n",
    "    print(f\"\\n▶ Stage-1  ( {len(all_params)} trials × {quick_epochs} epochs )\")\n",
    "    for (lr, wd, do) in all_params:\n",
    "        model = ModifiedResNet(do).to(device)\n",
    "        crit  = nn.BCELoss()\n",
    "        opt   = optim.Adam(model.parameters(), lr=lr, weight_decay=wd)\n",
    "        sch   = optim.lr_scheduler.ReduceLROnPlateau(opt, mode='min')\n",
    "\n",
    "        prauc, _ = train_model(model, tr_loader, val_loader,\n",
    "                               crit, opt, sch,\n",
    "                               epochs=quick_epochs,\n",
    "                               early_stop_patience=2,\n",
    "                               log_wandb=True)\n",
    "        results_stage1.append(((lr, wd, do), prauc))\n",
    "        print(f\" quick  lr={lr:.0e} wd={wd:.0e} do={do} → PRAUC {prauc:.4f}\")\n",
    "\n",
    "    # 上位 top_k を選抜\n",
    "    results_stage1.sort(key=lambda x: x[1], reverse=True)\n",
    "    top_params = results_stage1[:top_k]\n",
    "    print(\"\\n★ Stage-1 TOP:\")\n",
    "    for p, s in top_params:\n",
    "        print(f\"  {p}  PRAUC={s:.4f}\")\n",
    "\n",
    "    # ===== Stage-2 : 本命学習 (full_epochs) =====\n",
    "    best_score, best_state, best_hp = 0.0, None, None\n",
    "    print(f\"\\n▶ Stage-2  ( {len(top_params)} trials × {full_epochs} epochs )\")\n",
    "    for (lr, wd, do), _ in top_params:\n",
    "        model = ModifiedResNet(do).to(device)\n",
    "        crit  = nn.BCELoss()\n",
    "        opt   = optim.Adam(model.parameters(), lr=lr, weight_decay=wd)\n",
    "        sch   = optim.lr_scheduler.ReduceLROnPlateau(opt, mode='min')\n",
    "\n",
    "        prauc, state = train_model(model, tr_loader, val_loader,\n",
    "                                   crit, opt, sch,\n",
    "                                   epochs=full_epochs,\n",
    "                                   early_stop_patience=4,\n",
    "                                   log_wandb=True)         # ← ここは詳細ログ\n",
    "\n",
    "        print(f\" full  lr={lr:.0e} wd={wd:.0e} do={do} → PRAUC {prauc:.4f}\")\n",
    "        if prauc > best_score:\n",
    "            best_score, best_state = prauc, state\n",
    "            best_hp = dict(lr=lr, wd=wd, dropout=do)\n",
    "\n",
    "    # ----- 最高モデルだけ保存 -----\n",
    "    torch.save(best_state, \"best_model_online_aug_1.pth\")\n",
    "    print(f\"\\n✅ Saved best_model.pth  (PRAUC {best_score:.4f})\")\n",
    "    print(\"   Best hyper-parameters:\", best_hp)\n"
   ]
  },
  {
   "cell_type": "markdown",
   "id": "a0de857e",
   "metadata": {},
   "source": [
    "## focal_loss"
   ]
  },
  {
   "cell_type": "code",
   "execution_count": 7,
   "id": "b52a87d1",
   "metadata": {},
   "outputs": [],
   "source": [
    "def grid_search(tr_loader, val_loader, pos_weight,\n",
    "                quick_epochs=4, full_epochs=30,\n",
    "                top_k=4, seed=42):\n",
    "\n",
    "    LRS      = [1e-5, 1e-4]\n",
    "    WDECAY   = [1e-3, 1e-2]\n",
    "    DROPOUT  = [0.0, 0.3]\n",
    "    GAMMAS   = [1.0, 2.0]\n",
    "\n",
    "    from itertools import product\n",
    "    all_params = list(product(LRS, WDECAY, DROPOUT, GAMMAS))\n",
    "\n",
    "    # ---------- Stage-1 ----------\n",
    "    results = []\n",
    "    for i, (lr, wd, do, g) in enumerate(all_params, 1):\n",
    "        model = ModifiedResNet(drop=do).to(device)\n",
    "        crit  = FocalLoss(pos_weight=pos_weight, gamma=g)\n",
    "        opt   = optim.Adam(model.parameters(), lr=lr, weight_decay=wd)\n",
    "\n",
    "        prauc, _ = train_model(model, tr_loader, val_loader,\n",
    "                               crit, opt,\n",
    "                               epochs=quick_epochs,\n",
    "                               early_stop_patience=2)\n",
    "        results.append(((lr, wd, do, g), prauc))\n",
    "\n",
    "    results.sort(key=lambda x: x[1], reverse=True)\n",
    "    top_params = results[:top_k]\n",
    "\n",
    "    # ---------- Stage-2 ----------\n",
    "    best_score, best_state, best_hp = 0.0, None, None\n",
    "    for rank, ((lr, wd, do, g), _) in enumerate(top_params, 1):\n",
    "        model = ModifiedResNet(drop=do).to(device)\n",
    "        crit  = FocalLoss(pos_weight=pos_weight, gamma=g)\n",
    "        opt   = optim.Adam(model.parameters(), lr=lr, weight_decay=wd)\n",
    "\n",
    "        prauc, state = train_model(model, tr_loader, val_loader,\n",
    "                                   crit, opt,\n",
    "                                   epochs=full_epochs,\n",
    "                                   early_stop_patience=6)\n",
    "\n",
    "        if prauc > best_score:\n",
    "            best_score, best_state = prauc, state\n",
    "            best_hp = dict(lr=lr, wd=wd, dropout=do, gamma=g)\n",
    "\n",
    "    torch.save(best_state, \"best_model_online_aug_2.pth\")\n",
    "    print(f\"✅ saved best_model.pth   PRAUC={best_score:.4f}\")\n",
    "    print(\"   hyper-params:\", best_hp)\n"
   ]
  },
  {
   "cell_type": "code",
   "execution_count": 8,
   "id": "b2ca61a5",
   "metadata": {},
   "outputs": [
    {
     "name": "stdout",
     "output_type": "stream",
     "text": [
      "pos_weight (alpha) = 0.800\n",
      "Train: 37737 (neg 33142, pos 4595)\n"
     ]
    },
    {
     "name": "stderr",
     "output_type": "stream",
     "text": [
      "\u001b[34m\u001b[1mwandb\u001b[0m: \u001b[33mWARNING\u001b[0m Using a boolean value for 'reinit' is deprecated. Use 'return_previous' or 'finish_previous' instead.\n"
     ]
    },
    {
     "data": {
      "text/html": [
       "Tracking run with wandb version 0.19.9"
      ],
      "text/plain": [
       "<IPython.core.display.HTML object>"
      ]
     },
     "metadata": {},
     "output_type": "display_data"
    },
    {
     "data": {
      "text/html": [
       "Run data is saved locally in <code>/mnt/nfs1/home/yamamoto-hiroto/research/vertebrae/Sakaguchi_file/S_model_learning/wandb/run-20250506_224728-o540gt2r</code>"
      ],
      "text/plain": [
       "<IPython.core.display.HTML object>"
      ]
     },
     "metadata": {},
     "output_type": "display_data"
    },
    {
     "data": {
      "text/html": [
       "Syncing run <strong><a href='https://wandb.ai/yuya00-university-of-hyogo/vertebrae-online_aug_axial_learning_3-3%28%CE%B1%3D0.8%2Cgamma%3D1.0%29/runs/o540gt2r' target=\"_blank\">lunar-tree-1</a></strong> to <a href='https://wandb.ai/yuya00-university-of-hyogo/vertebrae-online_aug_axial_learning_3-3%28%CE%B1%3D0.8%2Cgamma%3D1.0%29' target=\"_blank\">Weights & Biases</a> (<a href='https://wandb.me/developer-guide' target=\"_blank\">docs</a>)<br>"
      ],
      "text/plain": [
       "<IPython.core.display.HTML object>"
      ]
     },
     "metadata": {},
     "output_type": "display_data"
    },
    {
     "data": {
      "text/html": [
       " View project at <a href='https://wandb.ai/yuya00-university-of-hyogo/vertebrae-online_aug_axial_learning_3-3%28%CE%B1%3D0.8%2Cgamma%3D1.0%29' target=\"_blank\">https://wandb.ai/yuya00-university-of-hyogo/vertebrae-online_aug_axial_learning_3-3%28%CE%B1%3D0.8%2Cgamma%3D1.0%29</a>"
      ],
      "text/plain": [
       "<IPython.core.display.HTML object>"
      ]
     },
     "metadata": {},
     "output_type": "display_data"
    },
    {
     "data": {
      "text/html": [
       " View run at <a href='https://wandb.ai/yuya00-university-of-hyogo/vertebrae-online_aug_axial_learning_3-3%28%CE%B1%3D0.8%2Cgamma%3D1.0%29/runs/o540gt2r' target=\"_blank\">https://wandb.ai/yuya00-university-of-hyogo/vertebrae-online_aug_axial_learning_3-3%28%CE%B1%3D0.8%2Cgamma%3D1.0%29/runs/o540gt2r</a>"
      ],
      "text/plain": [
       "<IPython.core.display.HTML object>"
      ]
     },
     "metadata": {},
     "output_type": "display_data"
    },
    {
     "name": "stderr",
     "output_type": "stream",
     "text": [
      "\u001b[34m\u001b[1mwandb\u001b[0m: \u001b[32m\u001b[41mERROR\u001b[0m The nbformat package was not found. It is required to save notebook history.\n"
     ]
    },
    {
     "data": {
      "text/html": [],
      "text/plain": [
       "<IPython.core.display.HTML object>"
      ]
     },
     "metadata": {},
     "output_type": "display_data"
    },
    {
     "data": {
      "text/html": [
       "<br>    <style><br>        .wandb-row {<br>            display: flex;<br>            flex-direction: row;<br>            flex-wrap: wrap;<br>            justify-content: flex-start;<br>            width: 100%;<br>        }<br>        .wandb-col {<br>            display: flex;<br>            flex-direction: column;<br>            flex-basis: 100%;<br>            flex: 1;<br>            padding: 10px;<br>        }<br>    </style><br><div class=\"wandb-row\"><div class=\"wandb-col\"><h3>Run history:</h3><br/><table class=\"wandb\"><tr><td>epoch</td><td>▁▃▆█</td></tr><tr><td>lr</td><td>█▅▂▁</td></tr><tr><td>train_loss</td><td>█▂▁▁</td></tr><tr><td>val_loss</td><td>█▁▆▅</td></tr><tr><td>val_prauc</td><td>▁█▇█</td></tr></table><br/></div><div class=\"wandb-col\"><h3>Run summary:</h3><br/><table class=\"wandb\"><tr><td>epoch</td><td>4</td></tr><tr><td>lr</td><td>0.0</td></tr><tr><td>train_loss</td><td>0.00832</td></tr><tr><td>val_loss</td><td>0.07578</td></tr><tr><td>val_prauc</td><td>0.31681</td></tr></table><br/></div></div>"
      ],
      "text/plain": [
       "<IPython.core.display.HTML object>"
      ]
     },
     "metadata": {},
     "output_type": "display_data"
    },
    {
     "data": {
      "text/html": [
       " View run <strong style=\"color:#cdcd00\">lunar-tree-1</strong> at: <a href='https://wandb.ai/yuya00-university-of-hyogo/vertebrae-online_aug_axial_learning_3-3%28%CE%B1%3D0.8%2Cgamma%3D1.0%29/runs/o540gt2r' target=\"_blank\">https://wandb.ai/yuya00-university-of-hyogo/vertebrae-online_aug_axial_learning_3-3%28%CE%B1%3D0.8%2Cgamma%3D1.0%29/runs/o540gt2r</a><br> View project at: <a href='https://wandb.ai/yuya00-university-of-hyogo/vertebrae-online_aug_axial_learning_3-3%28%CE%B1%3D0.8%2Cgamma%3D1.0%29' target=\"_blank\">https://wandb.ai/yuya00-university-of-hyogo/vertebrae-online_aug_axial_learning_3-3%28%CE%B1%3D0.8%2Cgamma%3D1.0%29</a><br>Synced 5 W&B file(s), 0 media file(s), 0 artifact file(s) and 0 other file(s)"
      ],
      "text/plain": [
       "<IPython.core.display.HTML object>"
      ]
     },
     "metadata": {},
     "output_type": "display_data"
    },
    {
     "data": {
      "text/html": [
       "Find logs at: <code>./wandb/run-20250506_224728-o540gt2r/logs</code>"
      ],
      "text/plain": [
       "<IPython.core.display.HTML object>"
      ]
     },
     "metadata": {},
     "output_type": "display_data"
    },
    {
     "data": {
      "text/html": [
       "Tracking run with wandb version 0.19.9"
      ],
      "text/plain": [
       "<IPython.core.display.HTML object>"
      ]
     },
     "metadata": {},
     "output_type": "display_data"
    },
    {
     "data": {
      "text/html": [
       "Run data is saved locally in <code>/mnt/nfs1/home/yamamoto-hiroto/research/vertebrae/Sakaguchi_file/S_model_learning/wandb/run-20250506_224941-fb1bdmdr</code>"
      ],
      "text/plain": [
       "<IPython.core.display.HTML object>"
      ]
     },
     "metadata": {},
     "output_type": "display_data"
    },
    {
     "data": {
      "text/html": [
       "Syncing run <strong><a href='https://wandb.ai/yuya00-university-of-hyogo/vertebrae-online_aug_axial_learning_3-3%28%CE%B1%3D0.8%2Cgamma%3D1.0%29/runs/fb1bdmdr' target=\"_blank\">deft-donkey-2</a></strong> to <a href='https://wandb.ai/yuya00-university-of-hyogo/vertebrae-online_aug_axial_learning_3-3%28%CE%B1%3D0.8%2Cgamma%3D1.0%29' target=\"_blank\">Weights & Biases</a> (<a href='https://wandb.me/developer-guide' target=\"_blank\">docs</a>)<br>"
      ],
      "text/plain": [
       "<IPython.core.display.HTML object>"
      ]
     },
     "metadata": {},
     "output_type": "display_data"
    },
    {
     "data": {
      "text/html": [
       " View project at <a href='https://wandb.ai/yuya00-university-of-hyogo/vertebrae-online_aug_axial_learning_3-3%28%CE%B1%3D0.8%2Cgamma%3D1.0%29' target=\"_blank\">https://wandb.ai/yuya00-university-of-hyogo/vertebrae-online_aug_axial_learning_3-3%28%CE%B1%3D0.8%2Cgamma%3D1.0%29</a>"
      ],
      "text/plain": [
       "<IPython.core.display.HTML object>"
      ]
     },
     "metadata": {},
     "output_type": "display_data"
    },
    {
     "data": {
      "text/html": [
       " View run at <a href='https://wandb.ai/yuya00-university-of-hyogo/vertebrae-online_aug_axial_learning_3-3%28%CE%B1%3D0.8%2Cgamma%3D1.0%29/runs/fb1bdmdr' target=\"_blank\">https://wandb.ai/yuya00-university-of-hyogo/vertebrae-online_aug_axial_learning_3-3%28%CE%B1%3D0.8%2Cgamma%3D1.0%29/runs/fb1bdmdr</a>"
      ],
      "text/plain": [
       "<IPython.core.display.HTML object>"
      ]
     },
     "metadata": {},
     "output_type": "display_data"
    },
    {
     "name": "stderr",
     "output_type": "stream",
     "text": [
      "\u001b[34m\u001b[1mwandb\u001b[0m: \u001b[32m\u001b[41mERROR\u001b[0m The nbformat package was not found. It is required to save notebook history.\n"
     ]
    },
    {
     "data": {
      "text/html": [],
      "text/plain": [
       "<IPython.core.display.HTML object>"
      ]
     },
     "metadata": {},
     "output_type": "display_data"
    },
    {
     "data": {
      "text/html": [
       "<br>    <style><br>        .wandb-row {<br>            display: flex;<br>            flex-direction: row;<br>            flex-wrap: wrap;<br>            justify-content: flex-start;<br>            width: 100%;<br>        }<br>        .wandb-col {<br>            display: flex;<br>            flex-direction: column;<br>            flex-basis: 100%;<br>            flex: 1;<br>            padding: 10px;<br>        }<br>    </style><br><div class=\"wandb-row\"><div class=\"wandb-col\"><h3>Run history:</h3><br/><table class=\"wandb\"><tr><td>epoch</td><td>▁▃▆█</td></tr><tr><td>lr</td><td>█▅▂▁</td></tr><tr><td>train_loss</td><td>█▂▁▁</td></tr><tr><td>val_loss</td><td>▁▆▇█</td></tr><tr><td>val_prauc</td><td>▁▆▇█</td></tr></table><br/></div><div class=\"wandb-col\"><h3>Run summary:</h3><br/><table class=\"wandb\"><tr><td>epoch</td><td>4</td></tr><tr><td>lr</td><td>0.0</td></tr><tr><td>train_loss</td><td>0.00661</td></tr><tr><td>val_loss</td><td>0.04309</td></tr><tr><td>val_prauc</td><td>0.30208</td></tr></table><br/></div></div>"
      ],
      "text/plain": [
       "<IPython.core.display.HTML object>"
      ]
     },
     "metadata": {},
     "output_type": "display_data"
    },
    {
     "data": {
      "text/html": [
       " View run <strong style=\"color:#cdcd00\">deft-donkey-2</strong> at: <a href='https://wandb.ai/yuya00-university-of-hyogo/vertebrae-online_aug_axial_learning_3-3%28%CE%B1%3D0.8%2Cgamma%3D1.0%29/runs/fb1bdmdr' target=\"_blank\">https://wandb.ai/yuya00-university-of-hyogo/vertebrae-online_aug_axial_learning_3-3%28%CE%B1%3D0.8%2Cgamma%3D1.0%29/runs/fb1bdmdr</a><br> View project at: <a href='https://wandb.ai/yuya00-university-of-hyogo/vertebrae-online_aug_axial_learning_3-3%28%CE%B1%3D0.8%2Cgamma%3D1.0%29' target=\"_blank\">https://wandb.ai/yuya00-university-of-hyogo/vertebrae-online_aug_axial_learning_3-3%28%CE%B1%3D0.8%2Cgamma%3D1.0%29</a><br>Synced 5 W&B file(s), 0 media file(s), 0 artifact file(s) and 0 other file(s)"
      ],
      "text/plain": [
       "<IPython.core.display.HTML object>"
      ]
     },
     "metadata": {},
     "output_type": "display_data"
    },
    {
     "data": {
      "text/html": [
       "Find logs at: <code>./wandb/run-20250506_224941-fb1bdmdr/logs</code>"
      ],
      "text/plain": [
       "<IPython.core.display.HTML object>"
      ]
     },
     "metadata": {},
     "output_type": "display_data"
    },
    {
     "data": {
      "text/html": [
       "Tracking run with wandb version 0.19.9"
      ],
      "text/plain": [
       "<IPython.core.display.HTML object>"
      ]
     },
     "metadata": {},
     "output_type": "display_data"
    },
    {
     "data": {
      "text/html": [
       "Run data is saved locally in <code>/mnt/nfs1/home/yamamoto-hiroto/research/vertebrae/Sakaguchi_file/S_model_learning/wandb/run-20250506_225154-8tnpoyxq</code>"
      ],
      "text/plain": [
       "<IPython.core.display.HTML object>"
      ]
     },
     "metadata": {},
     "output_type": "display_data"
    },
    {
     "data": {
      "text/html": [
       "Syncing run <strong><a href='https://wandb.ai/yuya00-university-of-hyogo/vertebrae-online_aug_axial_learning_3-3%28%CE%B1%3D0.8%2Cgamma%3D1.0%29/runs/8tnpoyxq' target=\"_blank\">easy-valley-3</a></strong> to <a href='https://wandb.ai/yuya00-university-of-hyogo/vertebrae-online_aug_axial_learning_3-3%28%CE%B1%3D0.8%2Cgamma%3D1.0%29' target=\"_blank\">Weights & Biases</a> (<a href='https://wandb.me/developer-guide' target=\"_blank\">docs</a>)<br>"
      ],
      "text/plain": [
       "<IPython.core.display.HTML object>"
      ]
     },
     "metadata": {},
     "output_type": "display_data"
    },
    {
     "data": {
      "text/html": [
       " View project at <a href='https://wandb.ai/yuya00-university-of-hyogo/vertebrae-online_aug_axial_learning_3-3%28%CE%B1%3D0.8%2Cgamma%3D1.0%29' target=\"_blank\">https://wandb.ai/yuya00-university-of-hyogo/vertebrae-online_aug_axial_learning_3-3%28%CE%B1%3D0.8%2Cgamma%3D1.0%29</a>"
      ],
      "text/plain": [
       "<IPython.core.display.HTML object>"
      ]
     },
     "metadata": {},
     "output_type": "display_data"
    },
    {
     "data": {
      "text/html": [
       " View run at <a href='https://wandb.ai/yuya00-university-of-hyogo/vertebrae-online_aug_axial_learning_3-3%28%CE%B1%3D0.8%2Cgamma%3D1.0%29/runs/8tnpoyxq' target=\"_blank\">https://wandb.ai/yuya00-university-of-hyogo/vertebrae-online_aug_axial_learning_3-3%28%CE%B1%3D0.8%2Cgamma%3D1.0%29/runs/8tnpoyxq</a>"
      ],
      "text/plain": [
       "<IPython.core.display.HTML object>"
      ]
     },
     "metadata": {},
     "output_type": "display_data"
    },
    {
     "name": "stderr",
     "output_type": "stream",
     "text": [
      "\u001b[34m\u001b[1mwandb\u001b[0m: \u001b[32m\u001b[41mERROR\u001b[0m The nbformat package was not found. It is required to save notebook history.\n"
     ]
    },
    {
     "data": {
      "text/html": [],
      "text/plain": [
       "<IPython.core.display.HTML object>"
      ]
     },
     "metadata": {},
     "output_type": "display_data"
    },
    {
     "data": {
      "text/html": [
       "<br>    <style><br>        .wandb-row {<br>            display: flex;<br>            flex-direction: row;<br>            flex-wrap: wrap;<br>            justify-content: flex-start;<br>            width: 100%;<br>        }<br>        .wandb-col {<br>            display: flex;<br>            flex-direction: column;<br>            flex-basis: 100%;<br>            flex: 1;<br>            padding: 10px;<br>        }<br>    </style><br><div class=\"wandb-row\"><div class=\"wandb-col\"><h3>Run history:</h3><br/><table class=\"wandb\"><tr><td>epoch</td><td>▁▃▆█</td></tr><tr><td>lr</td><td>█▅▂▁</td></tr><tr><td>train_loss</td><td>█▂▁▁</td></tr><tr><td>val_loss</td><td>▁▅██</td></tr><tr><td>val_prauc</td><td>▁▄▃█</td></tr></table><br/></div><div class=\"wandb-col\"><h3>Run summary:</h3><br/><table class=\"wandb\"><tr><td>epoch</td><td>4</td></tr><tr><td>lr</td><td>0.0</td></tr><tr><td>train_loss</td><td>0.01264</td></tr><tr><td>val_loss</td><td>0.06704</td></tr><tr><td>val_prauc</td><td>0.31271</td></tr></table><br/></div></div>"
      ],
      "text/plain": [
       "<IPython.core.display.HTML object>"
      ]
     },
     "metadata": {},
     "output_type": "display_data"
    },
    {
     "data": {
      "text/html": [
       " View run <strong style=\"color:#cdcd00\">easy-valley-3</strong> at: <a href='https://wandb.ai/yuya00-university-of-hyogo/vertebrae-online_aug_axial_learning_3-3%28%CE%B1%3D0.8%2Cgamma%3D1.0%29/runs/8tnpoyxq' target=\"_blank\">https://wandb.ai/yuya00-university-of-hyogo/vertebrae-online_aug_axial_learning_3-3%28%CE%B1%3D0.8%2Cgamma%3D1.0%29/runs/8tnpoyxq</a><br> View project at: <a href='https://wandb.ai/yuya00-university-of-hyogo/vertebrae-online_aug_axial_learning_3-3%28%CE%B1%3D0.8%2Cgamma%3D1.0%29' target=\"_blank\">https://wandb.ai/yuya00-university-of-hyogo/vertebrae-online_aug_axial_learning_3-3%28%CE%B1%3D0.8%2Cgamma%3D1.0%29</a><br>Synced 5 W&B file(s), 0 media file(s), 0 artifact file(s) and 0 other file(s)"
      ],
      "text/plain": [
       "<IPython.core.display.HTML object>"
      ]
     },
     "metadata": {},
     "output_type": "display_data"
    },
    {
     "data": {
      "text/html": [
       "Find logs at: <code>./wandb/run-20250506_225154-8tnpoyxq/logs</code>"
      ],
      "text/plain": [
       "<IPython.core.display.HTML object>"
      ]
     },
     "metadata": {},
     "output_type": "display_data"
    },
    {
     "data": {
      "text/html": [
       "Tracking run with wandb version 0.19.9"
      ],
      "text/plain": [
       "<IPython.core.display.HTML object>"
      ]
     },
     "metadata": {},
     "output_type": "display_data"
    },
    {
     "data": {
      "text/html": [
       "Run data is saved locally in <code>/mnt/nfs1/home/yamamoto-hiroto/research/vertebrae/Sakaguchi_file/S_model_learning/wandb/run-20250506_225406-3ddr6tso</code>"
      ],
      "text/plain": [
       "<IPython.core.display.HTML object>"
      ]
     },
     "metadata": {},
     "output_type": "display_data"
    },
    {
     "data": {
      "text/html": [
       "Syncing run <strong><a href='https://wandb.ai/yuya00-university-of-hyogo/vertebrae-online_aug_axial_learning_3-3%28%CE%B1%3D0.8%2Cgamma%3D1.0%29/runs/3ddr6tso' target=\"_blank\">wise-vortex-4</a></strong> to <a href='https://wandb.ai/yuya00-university-of-hyogo/vertebrae-online_aug_axial_learning_3-3%28%CE%B1%3D0.8%2Cgamma%3D1.0%29' target=\"_blank\">Weights & Biases</a> (<a href='https://wandb.me/developer-guide' target=\"_blank\">docs</a>)<br>"
      ],
      "text/plain": [
       "<IPython.core.display.HTML object>"
      ]
     },
     "metadata": {},
     "output_type": "display_data"
    },
    {
     "data": {
      "text/html": [
       " View project at <a href='https://wandb.ai/yuya00-university-of-hyogo/vertebrae-online_aug_axial_learning_3-3%28%CE%B1%3D0.8%2Cgamma%3D1.0%29' target=\"_blank\">https://wandb.ai/yuya00-university-of-hyogo/vertebrae-online_aug_axial_learning_3-3%28%CE%B1%3D0.8%2Cgamma%3D1.0%29</a>"
      ],
      "text/plain": [
       "<IPython.core.display.HTML object>"
      ]
     },
     "metadata": {},
     "output_type": "display_data"
    },
    {
     "data": {
      "text/html": [
       " View run at <a href='https://wandb.ai/yuya00-university-of-hyogo/vertebrae-online_aug_axial_learning_3-3%28%CE%B1%3D0.8%2Cgamma%3D1.0%29/runs/3ddr6tso' target=\"_blank\">https://wandb.ai/yuya00-university-of-hyogo/vertebrae-online_aug_axial_learning_3-3%28%CE%B1%3D0.8%2Cgamma%3D1.0%29/runs/3ddr6tso</a>"
      ],
      "text/plain": [
       "<IPython.core.display.HTML object>"
      ]
     },
     "metadata": {},
     "output_type": "display_data"
    },
    {
     "name": "stderr",
     "output_type": "stream",
     "text": [
      "\u001b[34m\u001b[1mwandb\u001b[0m: \u001b[32m\u001b[41mERROR\u001b[0m The nbformat package was not found. It is required to save notebook history.\n"
     ]
    },
    {
     "data": {
      "text/html": [],
      "text/plain": [
       "<IPython.core.display.HTML object>"
      ]
     },
     "metadata": {},
     "output_type": "display_data"
    },
    {
     "data": {
      "text/html": [
       "<br>    <style><br>        .wandb-row {<br>            display: flex;<br>            flex-direction: row;<br>            flex-wrap: wrap;<br>            justify-content: flex-start;<br>            width: 100%;<br>        }<br>        .wandb-col {<br>            display: flex;<br>            flex-direction: column;<br>            flex-basis: 100%;<br>            flex: 1;<br>            padding: 10px;<br>        }<br>    </style><br><div class=\"wandb-row\"><div class=\"wandb-col\"><h3>Run history:</h3><br/><table class=\"wandb\"><tr><td>epoch</td><td>▁▃▆█</td></tr><tr><td>lr</td><td>█▅▂▁</td></tr><tr><td>train_loss</td><td>█▂▁▁</td></tr><tr><td>val_loss</td><td>▁▂█▅</td></tr><tr><td>val_prauc</td><td>▄█▁█</td></tr></table><br/></div><div class=\"wandb-col\"><h3>Run summary:</h3><br/><table class=\"wandb\"><tr><td>epoch</td><td>4</td></tr><tr><td>lr</td><td>0.0</td></tr><tr><td>train_loss</td><td>0.00605</td></tr><tr><td>val_loss</td><td>0.04363</td></tr><tr><td>val_prauc</td><td>0.2779</td></tr></table><br/></div></div>"
      ],
      "text/plain": [
       "<IPython.core.display.HTML object>"
      ]
     },
     "metadata": {},
     "output_type": "display_data"
    },
    {
     "data": {
      "text/html": [
       " View run <strong style=\"color:#cdcd00\">wise-vortex-4</strong> at: <a href='https://wandb.ai/yuya00-university-of-hyogo/vertebrae-online_aug_axial_learning_3-3%28%CE%B1%3D0.8%2Cgamma%3D1.0%29/runs/3ddr6tso' target=\"_blank\">https://wandb.ai/yuya00-university-of-hyogo/vertebrae-online_aug_axial_learning_3-3%28%CE%B1%3D0.8%2Cgamma%3D1.0%29/runs/3ddr6tso</a><br> View project at: <a href='https://wandb.ai/yuya00-university-of-hyogo/vertebrae-online_aug_axial_learning_3-3%28%CE%B1%3D0.8%2Cgamma%3D1.0%29' target=\"_blank\">https://wandb.ai/yuya00-university-of-hyogo/vertebrae-online_aug_axial_learning_3-3%28%CE%B1%3D0.8%2Cgamma%3D1.0%29</a><br>Synced 5 W&B file(s), 0 media file(s), 0 artifact file(s) and 0 other file(s)"
      ],
      "text/plain": [
       "<IPython.core.display.HTML object>"
      ]
     },
     "metadata": {},
     "output_type": "display_data"
    },
    {
     "data": {
      "text/html": [
       "Find logs at: <code>./wandb/run-20250506_225406-3ddr6tso/logs</code>"
      ],
      "text/plain": [
       "<IPython.core.display.HTML object>"
      ]
     },
     "metadata": {},
     "output_type": "display_data"
    },
    {
     "data": {
      "text/html": [
       "Tracking run with wandb version 0.19.9"
      ],
      "text/plain": [
       "<IPython.core.display.HTML object>"
      ]
     },
     "metadata": {},
     "output_type": "display_data"
    },
    {
     "data": {
      "text/html": [
       "Run data is saved locally in <code>/mnt/nfs1/home/yamamoto-hiroto/research/vertebrae/Sakaguchi_file/S_model_learning/wandb/run-20250506_225618-29pxth04</code>"
      ],
      "text/plain": [
       "<IPython.core.display.HTML object>"
      ]
     },
     "metadata": {},
     "output_type": "display_data"
    },
    {
     "data": {
      "text/html": [
       "Syncing run <strong><a href='https://wandb.ai/yuya00-university-of-hyogo/vertebrae-online_aug_axial_learning_3-3%28%CE%B1%3D0.8%2Cgamma%3D1.0%29/runs/29pxth04' target=\"_blank\">mild-feather-5</a></strong> to <a href='https://wandb.ai/yuya00-university-of-hyogo/vertebrae-online_aug_axial_learning_3-3%28%CE%B1%3D0.8%2Cgamma%3D1.0%29' target=\"_blank\">Weights & Biases</a> (<a href='https://wandb.me/developer-guide' target=\"_blank\">docs</a>)<br>"
      ],
      "text/plain": [
       "<IPython.core.display.HTML object>"
      ]
     },
     "metadata": {},
     "output_type": "display_data"
    },
    {
     "data": {
      "text/html": [
       " View project at <a href='https://wandb.ai/yuya00-university-of-hyogo/vertebrae-online_aug_axial_learning_3-3%28%CE%B1%3D0.8%2Cgamma%3D1.0%29' target=\"_blank\">https://wandb.ai/yuya00-university-of-hyogo/vertebrae-online_aug_axial_learning_3-3%28%CE%B1%3D0.8%2Cgamma%3D1.0%29</a>"
      ],
      "text/plain": [
       "<IPython.core.display.HTML object>"
      ]
     },
     "metadata": {},
     "output_type": "display_data"
    },
    {
     "data": {
      "text/html": [
       " View run at <a href='https://wandb.ai/yuya00-university-of-hyogo/vertebrae-online_aug_axial_learning_3-3%28%CE%B1%3D0.8%2Cgamma%3D1.0%29/runs/29pxth04' target=\"_blank\">https://wandb.ai/yuya00-university-of-hyogo/vertebrae-online_aug_axial_learning_3-3%28%CE%B1%3D0.8%2Cgamma%3D1.0%29/runs/29pxth04</a>"
      ],
      "text/plain": [
       "<IPython.core.display.HTML object>"
      ]
     },
     "metadata": {},
     "output_type": "display_data"
    },
    {
     "name": "stderr",
     "output_type": "stream",
     "text": [
      "\u001b[34m\u001b[1mwandb\u001b[0m: \u001b[32m\u001b[41mERROR\u001b[0m The nbformat package was not found. It is required to save notebook history.\n"
     ]
    },
    {
     "data": {
      "text/html": [],
      "text/plain": [
       "<IPython.core.display.HTML object>"
      ]
     },
     "metadata": {},
     "output_type": "display_data"
    },
    {
     "data": {
      "text/html": [
       "<br>    <style><br>        .wandb-row {<br>            display: flex;<br>            flex-direction: row;<br>            flex-wrap: wrap;<br>            justify-content: flex-start;<br>            width: 100%;<br>        }<br>        .wandb-col {<br>            display: flex;<br>            flex-direction: column;<br>            flex-basis: 100%;<br>            flex: 1;<br>            padding: 10px;<br>        }<br>    </style><br><div class=\"wandb-row\"><div class=\"wandb-col\"><h3>Run history:</h3><br/><table class=\"wandb\"><tr><td>epoch</td><td>▁▃▆█</td></tr><tr><td>lr</td><td>█▅▂▁</td></tr><tr><td>train_loss</td><td>█▂▁▁</td></tr><tr><td>val_loss</td><td>▁▄██</td></tr><tr><td>val_prauc</td><td>▁▆██</td></tr></table><br/></div><div class=\"wandb-col\"><h3>Run summary:</h3><br/><table class=\"wandb\"><tr><td>epoch</td><td>4</td></tr><tr><td>lr</td><td>0.0</td></tr><tr><td>train_loss</td><td>0.01168</td></tr><tr><td>val_loss</td><td>0.06911</td></tr><tr><td>val_prauc</td><td>0.31907</td></tr></table><br/></div></div>"
      ],
      "text/plain": [
       "<IPython.core.display.HTML object>"
      ]
     },
     "metadata": {},
     "output_type": "display_data"
    },
    {
     "data": {
      "text/html": [
       " View run <strong style=\"color:#cdcd00\">mild-feather-5</strong> at: <a href='https://wandb.ai/yuya00-university-of-hyogo/vertebrae-online_aug_axial_learning_3-3%28%CE%B1%3D0.8%2Cgamma%3D1.0%29/runs/29pxth04' target=\"_blank\">https://wandb.ai/yuya00-university-of-hyogo/vertebrae-online_aug_axial_learning_3-3%28%CE%B1%3D0.8%2Cgamma%3D1.0%29/runs/29pxth04</a><br> View project at: <a href='https://wandb.ai/yuya00-university-of-hyogo/vertebrae-online_aug_axial_learning_3-3%28%CE%B1%3D0.8%2Cgamma%3D1.0%29' target=\"_blank\">https://wandb.ai/yuya00-university-of-hyogo/vertebrae-online_aug_axial_learning_3-3%28%CE%B1%3D0.8%2Cgamma%3D1.0%29</a><br>Synced 5 W&B file(s), 0 media file(s), 0 artifact file(s) and 0 other file(s)"
      ],
      "text/plain": [
       "<IPython.core.display.HTML object>"
      ]
     },
     "metadata": {},
     "output_type": "display_data"
    },
    {
     "data": {
      "text/html": [
       "Find logs at: <code>./wandb/run-20250506_225618-29pxth04/logs</code>"
      ],
      "text/plain": [
       "<IPython.core.display.HTML object>"
      ]
     },
     "metadata": {},
     "output_type": "display_data"
    },
    {
     "data": {
      "text/html": [
       "Tracking run with wandb version 0.19.9"
      ],
      "text/plain": [
       "<IPython.core.display.HTML object>"
      ]
     },
     "metadata": {},
     "output_type": "display_data"
    },
    {
     "data": {
      "text/html": [
       "Run data is saved locally in <code>/mnt/nfs1/home/yamamoto-hiroto/research/vertebrae/Sakaguchi_file/S_model_learning/wandb/run-20250506_225830-cxu1vdml</code>"
      ],
      "text/plain": [
       "<IPython.core.display.HTML object>"
      ]
     },
     "metadata": {},
     "output_type": "display_data"
    },
    {
     "data": {
      "text/html": [
       "Syncing run <strong><a href='https://wandb.ai/yuya00-university-of-hyogo/vertebrae-online_aug_axial_learning_3-3%28%CE%B1%3D0.8%2Cgamma%3D1.0%29/runs/cxu1vdml' target=\"_blank\">grateful-pyramid-6</a></strong> to <a href='https://wandb.ai/yuya00-university-of-hyogo/vertebrae-online_aug_axial_learning_3-3%28%CE%B1%3D0.8%2Cgamma%3D1.0%29' target=\"_blank\">Weights & Biases</a> (<a href='https://wandb.me/developer-guide' target=\"_blank\">docs</a>)<br>"
      ],
      "text/plain": [
       "<IPython.core.display.HTML object>"
      ]
     },
     "metadata": {},
     "output_type": "display_data"
    },
    {
     "data": {
      "text/html": [
       " View project at <a href='https://wandb.ai/yuya00-university-of-hyogo/vertebrae-online_aug_axial_learning_3-3%28%CE%B1%3D0.8%2Cgamma%3D1.0%29' target=\"_blank\">https://wandb.ai/yuya00-university-of-hyogo/vertebrae-online_aug_axial_learning_3-3%28%CE%B1%3D0.8%2Cgamma%3D1.0%29</a>"
      ],
      "text/plain": [
       "<IPython.core.display.HTML object>"
      ]
     },
     "metadata": {},
     "output_type": "display_data"
    },
    {
     "data": {
      "text/html": [
       " View run at <a href='https://wandb.ai/yuya00-university-of-hyogo/vertebrae-online_aug_axial_learning_3-3%28%CE%B1%3D0.8%2Cgamma%3D1.0%29/runs/cxu1vdml' target=\"_blank\">https://wandb.ai/yuya00-university-of-hyogo/vertebrae-online_aug_axial_learning_3-3%28%CE%B1%3D0.8%2Cgamma%3D1.0%29/runs/cxu1vdml</a>"
      ],
      "text/plain": [
       "<IPython.core.display.HTML object>"
      ]
     },
     "metadata": {},
     "output_type": "display_data"
    },
    {
     "name": "stderr",
     "output_type": "stream",
     "text": [
      "\u001b[34m\u001b[1mwandb\u001b[0m: \u001b[32m\u001b[41mERROR\u001b[0m The nbformat package was not found. It is required to save notebook history.\n"
     ]
    },
    {
     "data": {
      "text/html": [],
      "text/plain": [
       "<IPython.core.display.HTML object>"
      ]
     },
     "metadata": {},
     "output_type": "display_data"
    },
    {
     "data": {
      "text/html": [
       "<br>    <style><br>        .wandb-row {<br>            display: flex;<br>            flex-direction: row;<br>            flex-wrap: wrap;<br>            justify-content: flex-start;<br>            width: 100%;<br>        }<br>        .wandb-col {<br>            display: flex;<br>            flex-direction: column;<br>            flex-basis: 100%;<br>            flex: 1;<br>            padding: 10px;<br>        }<br>    </style><br><div class=\"wandb-row\"><div class=\"wandb-col\"><h3>Run history:</h3><br/><table class=\"wandb\"><tr><td>epoch</td><td>▁▃▆█</td></tr><tr><td>lr</td><td>█▅▂▁</td></tr><tr><td>train_loss</td><td>█▂▁▁</td></tr><tr><td>val_loss</td><td>█▁▂▂</td></tr><tr><td>val_prauc</td><td>▁▅██</td></tr></table><br/></div><div class=\"wandb-col\"><h3>Run summary:</h3><br/><table class=\"wandb\"><tr><td>epoch</td><td>4</td></tr><tr><td>lr</td><td>0.0</td></tr><tr><td>train_loss</td><td>0.0062</td></tr><tr><td>val_loss</td><td>0.03858</td></tr><tr><td>val_prauc</td><td>0.28156</td></tr></table><br/></div></div>"
      ],
      "text/plain": [
       "<IPython.core.display.HTML object>"
      ]
     },
     "metadata": {},
     "output_type": "display_data"
    },
    {
     "data": {
      "text/html": [
       " View run <strong style=\"color:#cdcd00\">grateful-pyramid-6</strong> at: <a href='https://wandb.ai/yuya00-university-of-hyogo/vertebrae-online_aug_axial_learning_3-3%28%CE%B1%3D0.8%2Cgamma%3D1.0%29/runs/cxu1vdml' target=\"_blank\">https://wandb.ai/yuya00-university-of-hyogo/vertebrae-online_aug_axial_learning_3-3%28%CE%B1%3D0.8%2Cgamma%3D1.0%29/runs/cxu1vdml</a><br> View project at: <a href='https://wandb.ai/yuya00-university-of-hyogo/vertebrae-online_aug_axial_learning_3-3%28%CE%B1%3D0.8%2Cgamma%3D1.0%29' target=\"_blank\">https://wandb.ai/yuya00-university-of-hyogo/vertebrae-online_aug_axial_learning_3-3%28%CE%B1%3D0.8%2Cgamma%3D1.0%29</a><br>Synced 5 W&B file(s), 0 media file(s), 0 artifact file(s) and 0 other file(s)"
      ],
      "text/plain": [
       "<IPython.core.display.HTML object>"
      ]
     },
     "metadata": {},
     "output_type": "display_data"
    },
    {
     "data": {
      "text/html": [
       "Find logs at: <code>./wandb/run-20250506_225830-cxu1vdml/logs</code>"
      ],
      "text/plain": [
       "<IPython.core.display.HTML object>"
      ]
     },
     "metadata": {},
     "output_type": "display_data"
    },
    {
     "data": {
      "text/html": [
       "Tracking run with wandb version 0.19.9"
      ],
      "text/plain": [
       "<IPython.core.display.HTML object>"
      ]
     },
     "metadata": {},
     "output_type": "display_data"
    },
    {
     "data": {
      "text/html": [
       "Run data is saved locally in <code>/mnt/nfs1/home/yamamoto-hiroto/research/vertebrae/Sakaguchi_file/S_model_learning/wandb/run-20250506_230042-1md9yotq</code>"
      ],
      "text/plain": [
       "<IPython.core.display.HTML object>"
      ]
     },
     "metadata": {},
     "output_type": "display_data"
    },
    {
     "data": {
      "text/html": [
       "Syncing run <strong><a href='https://wandb.ai/yuya00-university-of-hyogo/vertebrae-online_aug_axial_learning_3-3%28%CE%B1%3D0.8%2Cgamma%3D1.0%29/runs/1md9yotq' target=\"_blank\">upbeat-serenity-7</a></strong> to <a href='https://wandb.ai/yuya00-university-of-hyogo/vertebrae-online_aug_axial_learning_3-3%28%CE%B1%3D0.8%2Cgamma%3D1.0%29' target=\"_blank\">Weights & Biases</a> (<a href='https://wandb.me/developer-guide' target=\"_blank\">docs</a>)<br>"
      ],
      "text/plain": [
       "<IPython.core.display.HTML object>"
      ]
     },
     "metadata": {},
     "output_type": "display_data"
    },
    {
     "data": {
      "text/html": [
       " View project at <a href='https://wandb.ai/yuya00-university-of-hyogo/vertebrae-online_aug_axial_learning_3-3%28%CE%B1%3D0.8%2Cgamma%3D1.0%29' target=\"_blank\">https://wandb.ai/yuya00-university-of-hyogo/vertebrae-online_aug_axial_learning_3-3%28%CE%B1%3D0.8%2Cgamma%3D1.0%29</a>"
      ],
      "text/plain": [
       "<IPython.core.display.HTML object>"
      ]
     },
     "metadata": {},
     "output_type": "display_data"
    },
    {
     "data": {
      "text/html": [
       " View run at <a href='https://wandb.ai/yuya00-university-of-hyogo/vertebrae-online_aug_axial_learning_3-3%28%CE%B1%3D0.8%2Cgamma%3D1.0%29/runs/1md9yotq' target=\"_blank\">https://wandb.ai/yuya00-university-of-hyogo/vertebrae-online_aug_axial_learning_3-3%28%CE%B1%3D0.8%2Cgamma%3D1.0%29/runs/1md9yotq</a>"
      ],
      "text/plain": [
       "<IPython.core.display.HTML object>"
      ]
     },
     "metadata": {},
     "output_type": "display_data"
    },
    {
     "name": "stderr",
     "output_type": "stream",
     "text": [
      "\u001b[34m\u001b[1mwandb\u001b[0m: \u001b[32m\u001b[41mERROR\u001b[0m The nbformat package was not found. It is required to save notebook history.\n"
     ]
    },
    {
     "data": {
      "text/html": [],
      "text/plain": [
       "<IPython.core.display.HTML object>"
      ]
     },
     "metadata": {},
     "output_type": "display_data"
    },
    {
     "data": {
      "text/html": [
       "<br>    <style><br>        .wandb-row {<br>            display: flex;<br>            flex-direction: row;<br>            flex-wrap: wrap;<br>            justify-content: flex-start;<br>            width: 100%;<br>        }<br>        .wandb-col {<br>            display: flex;<br>            flex-direction: column;<br>            flex-basis: 100%;<br>            flex: 1;<br>            padding: 10px;<br>        }<br>    </style><br><div class=\"wandb-row\"><div class=\"wandb-col\"><h3>Run history:</h3><br/><table class=\"wandb\"><tr><td>epoch</td><td>▁▃▆█</td></tr><tr><td>lr</td><td>█▅▂▁</td></tr><tr><td>train_loss</td><td>█▂▁▁</td></tr><tr><td>val_loss</td><td>█▁▇▅</td></tr><tr><td>val_prauc</td><td>▁█▆▇</td></tr></table><br/></div><div class=\"wandb-col\"><h3>Run summary:</h3><br/><table class=\"wandb\"><tr><td>epoch</td><td>4</td></tr><tr><td>lr</td><td>0.0</td></tr><tr><td>train_loss</td><td>0.01314</td></tr><tr><td>val_loss</td><td>0.06462</td></tr><tr><td>val_prauc</td><td>0.32355</td></tr></table><br/></div></div>"
      ],
      "text/plain": [
       "<IPython.core.display.HTML object>"
      ]
     },
     "metadata": {},
     "output_type": "display_data"
    },
    {
     "data": {
      "text/html": [
       " View run <strong style=\"color:#cdcd00\">upbeat-serenity-7</strong> at: <a href='https://wandb.ai/yuya00-university-of-hyogo/vertebrae-online_aug_axial_learning_3-3%28%CE%B1%3D0.8%2Cgamma%3D1.0%29/runs/1md9yotq' target=\"_blank\">https://wandb.ai/yuya00-university-of-hyogo/vertebrae-online_aug_axial_learning_3-3%28%CE%B1%3D0.8%2Cgamma%3D1.0%29/runs/1md9yotq</a><br> View project at: <a href='https://wandb.ai/yuya00-university-of-hyogo/vertebrae-online_aug_axial_learning_3-3%28%CE%B1%3D0.8%2Cgamma%3D1.0%29' target=\"_blank\">https://wandb.ai/yuya00-university-of-hyogo/vertebrae-online_aug_axial_learning_3-3%28%CE%B1%3D0.8%2Cgamma%3D1.0%29</a><br>Synced 5 W&B file(s), 0 media file(s), 0 artifact file(s) and 0 other file(s)"
      ],
      "text/plain": [
       "<IPython.core.display.HTML object>"
      ]
     },
     "metadata": {},
     "output_type": "display_data"
    },
    {
     "data": {
      "text/html": [
       "Find logs at: <code>./wandb/run-20250506_230042-1md9yotq/logs</code>"
      ],
      "text/plain": [
       "<IPython.core.display.HTML object>"
      ]
     },
     "metadata": {},
     "output_type": "display_data"
    },
    {
     "data": {
      "text/html": [
       "Tracking run with wandb version 0.19.9"
      ],
      "text/plain": [
       "<IPython.core.display.HTML object>"
      ]
     },
     "metadata": {},
     "output_type": "display_data"
    },
    {
     "data": {
      "text/html": [
       "Run data is saved locally in <code>/mnt/nfs1/home/yamamoto-hiroto/research/vertebrae/Sakaguchi_file/S_model_learning/wandb/run-20250506_230255-3fi2qx15</code>"
      ],
      "text/plain": [
       "<IPython.core.display.HTML object>"
      ]
     },
     "metadata": {},
     "output_type": "display_data"
    },
    {
     "data": {
      "text/html": [
       "Syncing run <strong><a href='https://wandb.ai/yuya00-university-of-hyogo/vertebrae-online_aug_axial_learning_3-3%28%CE%B1%3D0.8%2Cgamma%3D1.0%29/runs/3fi2qx15' target=\"_blank\">hopeful-rain-8</a></strong> to <a href='https://wandb.ai/yuya00-university-of-hyogo/vertebrae-online_aug_axial_learning_3-3%28%CE%B1%3D0.8%2Cgamma%3D1.0%29' target=\"_blank\">Weights & Biases</a> (<a href='https://wandb.me/developer-guide' target=\"_blank\">docs</a>)<br>"
      ],
      "text/plain": [
       "<IPython.core.display.HTML object>"
      ]
     },
     "metadata": {},
     "output_type": "display_data"
    },
    {
     "data": {
      "text/html": [
       " View project at <a href='https://wandb.ai/yuya00-university-of-hyogo/vertebrae-online_aug_axial_learning_3-3%28%CE%B1%3D0.8%2Cgamma%3D1.0%29' target=\"_blank\">https://wandb.ai/yuya00-university-of-hyogo/vertebrae-online_aug_axial_learning_3-3%28%CE%B1%3D0.8%2Cgamma%3D1.0%29</a>"
      ],
      "text/plain": [
       "<IPython.core.display.HTML object>"
      ]
     },
     "metadata": {},
     "output_type": "display_data"
    },
    {
     "data": {
      "text/html": [
       " View run at <a href='https://wandb.ai/yuya00-university-of-hyogo/vertebrae-online_aug_axial_learning_3-3%28%CE%B1%3D0.8%2Cgamma%3D1.0%29/runs/3fi2qx15' target=\"_blank\">https://wandb.ai/yuya00-university-of-hyogo/vertebrae-online_aug_axial_learning_3-3%28%CE%B1%3D0.8%2Cgamma%3D1.0%29/runs/3fi2qx15</a>"
      ],
      "text/plain": [
       "<IPython.core.display.HTML object>"
      ]
     },
     "metadata": {},
     "output_type": "display_data"
    },
    {
     "name": "stderr",
     "output_type": "stream",
     "text": [
      "\u001b[34m\u001b[1mwandb\u001b[0m: \u001b[32m\u001b[41mERROR\u001b[0m The nbformat package was not found. It is required to save notebook history.\n"
     ]
    },
    {
     "data": {
      "text/html": [],
      "text/plain": [
       "<IPython.core.display.HTML object>"
      ]
     },
     "metadata": {},
     "output_type": "display_data"
    },
    {
     "data": {
      "text/html": [
       "<br>    <style><br>        .wandb-row {<br>            display: flex;<br>            flex-direction: row;<br>            flex-wrap: wrap;<br>            justify-content: flex-start;<br>            width: 100%;<br>        }<br>        .wandb-col {<br>            display: flex;<br>            flex-direction: column;<br>            flex-basis: 100%;<br>            flex: 1;<br>            padding: 10px;<br>        }<br>    </style><br><div class=\"wandb-row\"><div class=\"wandb-col\"><h3>Run history:</h3><br/><table class=\"wandb\"><tr><td>epoch</td><td>▁▃▆█</td></tr><tr><td>lr</td><td>█▅▂▁</td></tr><tr><td>train_loss</td><td>█▃▁▁</td></tr><tr><td>val_loss</td><td>█▁▂▃</td></tr><tr><td>val_prauc</td><td>▁█▆▇</td></tr></table><br/></div><div class=\"wandb-col\"><h3>Run summary:</h3><br/><table class=\"wandb\"><tr><td>epoch</td><td>4</td></tr><tr><td>lr</td><td>0.0</td></tr><tr><td>train_loss</td><td>0.0088</td></tr><tr><td>val_loss</td><td>0.0336</td></tr><tr><td>val_prauc</td><td>0.32556</td></tr></table><br/></div></div>"
      ],
      "text/plain": [
       "<IPython.core.display.HTML object>"
      ]
     },
     "metadata": {},
     "output_type": "display_data"
    },
    {
     "data": {
      "text/html": [
       " View run <strong style=\"color:#cdcd00\">hopeful-rain-8</strong> at: <a href='https://wandb.ai/yuya00-university-of-hyogo/vertebrae-online_aug_axial_learning_3-3%28%CE%B1%3D0.8%2Cgamma%3D1.0%29/runs/3fi2qx15' target=\"_blank\">https://wandb.ai/yuya00-university-of-hyogo/vertebrae-online_aug_axial_learning_3-3%28%CE%B1%3D0.8%2Cgamma%3D1.0%29/runs/3fi2qx15</a><br> View project at: <a href='https://wandb.ai/yuya00-university-of-hyogo/vertebrae-online_aug_axial_learning_3-3%28%CE%B1%3D0.8%2Cgamma%3D1.0%29' target=\"_blank\">https://wandb.ai/yuya00-university-of-hyogo/vertebrae-online_aug_axial_learning_3-3%28%CE%B1%3D0.8%2Cgamma%3D1.0%29</a><br>Synced 5 W&B file(s), 0 media file(s), 0 artifact file(s) and 0 other file(s)"
      ],
      "text/plain": [
       "<IPython.core.display.HTML object>"
      ]
     },
     "metadata": {},
     "output_type": "display_data"
    },
    {
     "data": {
      "text/html": [
       "Find logs at: <code>./wandb/run-20250506_230255-3fi2qx15/logs</code>"
      ],
      "text/plain": [
       "<IPython.core.display.HTML object>"
      ]
     },
     "metadata": {},
     "output_type": "display_data"
    },
    {
     "data": {
      "text/html": [
       "Tracking run with wandb version 0.19.9"
      ],
      "text/plain": [
       "<IPython.core.display.HTML object>"
      ]
     },
     "metadata": {},
     "output_type": "display_data"
    },
    {
     "data": {
      "text/html": [
       "Run data is saved locally in <code>/mnt/nfs1/home/yamamoto-hiroto/research/vertebrae/Sakaguchi_file/S_model_learning/wandb/run-20250506_230507-moj4ra0d</code>"
      ],
      "text/plain": [
       "<IPython.core.display.HTML object>"
      ]
     },
     "metadata": {},
     "output_type": "display_data"
    },
    {
     "data": {
      "text/html": [
       "Syncing run <strong><a href='https://wandb.ai/yuya00-university-of-hyogo/vertebrae-online_aug_axial_learning_3-3%28%CE%B1%3D0.8%2Cgamma%3D1.0%29/runs/moj4ra0d' target=\"_blank\">super-deluge-9</a></strong> to <a href='https://wandb.ai/yuya00-university-of-hyogo/vertebrae-online_aug_axial_learning_3-3%28%CE%B1%3D0.8%2Cgamma%3D1.0%29' target=\"_blank\">Weights & Biases</a> (<a href='https://wandb.me/developer-guide' target=\"_blank\">docs</a>)<br>"
      ],
      "text/plain": [
       "<IPython.core.display.HTML object>"
      ]
     },
     "metadata": {},
     "output_type": "display_data"
    },
    {
     "data": {
      "text/html": [
       " View project at <a href='https://wandb.ai/yuya00-university-of-hyogo/vertebrae-online_aug_axial_learning_3-3%28%CE%B1%3D0.8%2Cgamma%3D1.0%29' target=\"_blank\">https://wandb.ai/yuya00-university-of-hyogo/vertebrae-online_aug_axial_learning_3-3%28%CE%B1%3D0.8%2Cgamma%3D1.0%29</a>"
      ],
      "text/plain": [
       "<IPython.core.display.HTML object>"
      ]
     },
     "metadata": {},
     "output_type": "display_data"
    },
    {
     "data": {
      "text/html": [
       " View run at <a href='https://wandb.ai/yuya00-university-of-hyogo/vertebrae-online_aug_axial_learning_3-3%28%CE%B1%3D0.8%2Cgamma%3D1.0%29/runs/moj4ra0d' target=\"_blank\">https://wandb.ai/yuya00-university-of-hyogo/vertebrae-online_aug_axial_learning_3-3%28%CE%B1%3D0.8%2Cgamma%3D1.0%29/runs/moj4ra0d</a>"
      ],
      "text/plain": [
       "<IPython.core.display.HTML object>"
      ]
     },
     "metadata": {},
     "output_type": "display_data"
    },
    {
     "name": "stderr",
     "output_type": "stream",
     "text": [
      "\u001b[34m\u001b[1mwandb\u001b[0m: \u001b[32m\u001b[41mERROR\u001b[0m The nbformat package was not found. It is required to save notebook history.\n"
     ]
    },
    {
     "data": {
      "text/html": [],
      "text/plain": [
       "<IPython.core.display.HTML object>"
      ]
     },
     "metadata": {},
     "output_type": "display_data"
    },
    {
     "data": {
      "text/html": [
       "<br>    <style><br>        .wandb-row {<br>            display: flex;<br>            flex-direction: row;<br>            flex-wrap: wrap;<br>            justify-content: flex-start;<br>            width: 100%;<br>        }<br>        .wandb-col {<br>            display: flex;<br>            flex-direction: column;<br>            flex-basis: 100%;<br>            flex: 1;<br>            padding: 10px;<br>        }<br>    </style><br><div class=\"wandb-row\"><div class=\"wandb-col\"><h3>Run history:</h3><br/><table class=\"wandb\"><tr><td>epoch</td><td>▁▅█</td></tr><tr><td>lr</td><td>█▅▁</td></tr><tr><td>train_loss</td><td>█▂▁</td></tr><tr><td>val_loss</td><td>▁▆█</td></tr><tr><td>val_prauc</td><td>█▁█</td></tr></table><br/></div><div class=\"wandb-col\"><h3>Run summary:</h3><br/><table class=\"wandb\"><tr><td>epoch</td><td>3</td></tr><tr><td>lr</td><td>2e-05</td></tr><tr><td>train_loss</td><td>0.00308</td></tr><tr><td>val_loss</td><td>0.11986</td></tr><tr><td>val_prauc</td><td>0.40747</td></tr></table><br/></div></div>"
      ],
      "text/plain": [
       "<IPython.core.display.HTML object>"
      ]
     },
     "metadata": {},
     "output_type": "display_data"
    },
    {
     "data": {
      "text/html": [
       " View run <strong style=\"color:#cdcd00\">super-deluge-9</strong> at: <a href='https://wandb.ai/yuya00-university-of-hyogo/vertebrae-online_aug_axial_learning_3-3%28%CE%B1%3D0.8%2Cgamma%3D1.0%29/runs/moj4ra0d' target=\"_blank\">https://wandb.ai/yuya00-university-of-hyogo/vertebrae-online_aug_axial_learning_3-3%28%CE%B1%3D0.8%2Cgamma%3D1.0%29/runs/moj4ra0d</a><br> View project at: <a href='https://wandb.ai/yuya00-university-of-hyogo/vertebrae-online_aug_axial_learning_3-3%28%CE%B1%3D0.8%2Cgamma%3D1.0%29' target=\"_blank\">https://wandb.ai/yuya00-university-of-hyogo/vertebrae-online_aug_axial_learning_3-3%28%CE%B1%3D0.8%2Cgamma%3D1.0%29</a><br>Synced 5 W&B file(s), 0 media file(s), 0 artifact file(s) and 0 other file(s)"
      ],
      "text/plain": [
       "<IPython.core.display.HTML object>"
      ]
     },
     "metadata": {},
     "output_type": "display_data"
    },
    {
     "data": {
      "text/html": [
       "Find logs at: <code>./wandb/run-20250506_230507-moj4ra0d/logs</code>"
      ],
      "text/plain": [
       "<IPython.core.display.HTML object>"
      ]
     },
     "metadata": {},
     "output_type": "display_data"
    },
    {
     "data": {
      "text/html": [
       "Tracking run with wandb version 0.19.9"
      ],
      "text/plain": [
       "<IPython.core.display.HTML object>"
      ]
     },
     "metadata": {},
     "output_type": "display_data"
    },
    {
     "data": {
      "text/html": [
       "Run data is saved locally in <code>/mnt/nfs1/home/yamamoto-hiroto/research/vertebrae/Sakaguchi_file/S_model_learning/wandb/run-20250506_230647-aqs68h1s</code>"
      ],
      "text/plain": [
       "<IPython.core.display.HTML object>"
      ]
     },
     "metadata": {},
     "output_type": "display_data"
    },
    {
     "data": {
      "text/html": [
       "Syncing run <strong><a href='https://wandb.ai/yuya00-university-of-hyogo/vertebrae-online_aug_axial_learning_3-3%28%CE%B1%3D0.8%2Cgamma%3D1.0%29/runs/aqs68h1s' target=\"_blank\">twilight-spaceship-10</a></strong> to <a href='https://wandb.ai/yuya00-university-of-hyogo/vertebrae-online_aug_axial_learning_3-3%28%CE%B1%3D0.8%2Cgamma%3D1.0%29' target=\"_blank\">Weights & Biases</a> (<a href='https://wandb.me/developer-guide' target=\"_blank\">docs</a>)<br>"
      ],
      "text/plain": [
       "<IPython.core.display.HTML object>"
      ]
     },
     "metadata": {},
     "output_type": "display_data"
    },
    {
     "data": {
      "text/html": [
       " View project at <a href='https://wandb.ai/yuya00-university-of-hyogo/vertebrae-online_aug_axial_learning_3-3%28%CE%B1%3D0.8%2Cgamma%3D1.0%29' target=\"_blank\">https://wandb.ai/yuya00-university-of-hyogo/vertebrae-online_aug_axial_learning_3-3%28%CE%B1%3D0.8%2Cgamma%3D1.0%29</a>"
      ],
      "text/plain": [
       "<IPython.core.display.HTML object>"
      ]
     },
     "metadata": {},
     "output_type": "display_data"
    },
    {
     "data": {
      "text/html": [
       " View run at <a href='https://wandb.ai/yuya00-university-of-hyogo/vertebrae-online_aug_axial_learning_3-3%28%CE%B1%3D0.8%2Cgamma%3D1.0%29/runs/aqs68h1s' target=\"_blank\">https://wandb.ai/yuya00-university-of-hyogo/vertebrae-online_aug_axial_learning_3-3%28%CE%B1%3D0.8%2Cgamma%3D1.0%29/runs/aqs68h1s</a>"
      ],
      "text/plain": [
       "<IPython.core.display.HTML object>"
      ]
     },
     "metadata": {},
     "output_type": "display_data"
    },
    {
     "name": "stderr",
     "output_type": "stream",
     "text": [
      "\u001b[34m\u001b[1mwandb\u001b[0m: \u001b[32m\u001b[41mERROR\u001b[0m The nbformat package was not found. It is required to save notebook history.\n"
     ]
    },
    {
     "data": {
      "text/html": [],
      "text/plain": [
       "<IPython.core.display.HTML object>"
      ]
     },
     "metadata": {},
     "output_type": "display_data"
    },
    {
     "data": {
      "text/html": [
       "<br>    <style><br>        .wandb-row {<br>            display: flex;<br>            flex-direction: row;<br>            flex-wrap: wrap;<br>            justify-content: flex-start;<br>            width: 100%;<br>        }<br>        .wandb-col {<br>            display: flex;<br>            flex-direction: column;<br>            flex-basis: 100%;<br>            flex: 1;<br>            padding: 10px;<br>        }<br>    </style><br><div class=\"wandb-row\"><div class=\"wandb-col\"><h3>Run history:</h3><br/><table class=\"wandb\"><tr><td>epoch</td><td>▁▃▆█</td></tr><tr><td>lr</td><td>█▅▂▁</td></tr><tr><td>train_loss</td><td>█▃▂▁</td></tr><tr><td>val_loss</td><td>▁▅▃█</td></tr><tr><td>val_prauc</td><td>▁▅██</td></tr></table><br/></div><div class=\"wandb-col\"><h3>Run summary:</h3><br/><table class=\"wandb\"><tr><td>epoch</td><td>4</td></tr><tr><td>lr</td><td>0.0</td></tr><tr><td>train_loss</td><td>0.00063</td></tr><tr><td>val_loss</td><td>0.09208</td></tr><tr><td>val_prauc</td><td>0.43227</td></tr></table><br/></div></div>"
      ],
      "text/plain": [
       "<IPython.core.display.HTML object>"
      ]
     },
     "metadata": {},
     "output_type": "display_data"
    },
    {
     "data": {
      "text/html": [
       " View run <strong style=\"color:#cdcd00\">twilight-spaceship-10</strong> at: <a href='https://wandb.ai/yuya00-university-of-hyogo/vertebrae-online_aug_axial_learning_3-3%28%CE%B1%3D0.8%2Cgamma%3D1.0%29/runs/aqs68h1s' target=\"_blank\">https://wandb.ai/yuya00-university-of-hyogo/vertebrae-online_aug_axial_learning_3-3%28%CE%B1%3D0.8%2Cgamma%3D1.0%29/runs/aqs68h1s</a><br> View project at: <a href='https://wandb.ai/yuya00-university-of-hyogo/vertebrae-online_aug_axial_learning_3-3%28%CE%B1%3D0.8%2Cgamma%3D1.0%29' target=\"_blank\">https://wandb.ai/yuya00-university-of-hyogo/vertebrae-online_aug_axial_learning_3-3%28%CE%B1%3D0.8%2Cgamma%3D1.0%29</a><br>Synced 5 W&B file(s), 0 media file(s), 0 artifact file(s) and 0 other file(s)"
      ],
      "text/plain": [
       "<IPython.core.display.HTML object>"
      ]
     },
     "metadata": {},
     "output_type": "display_data"
    },
    {
     "data": {
      "text/html": [
       "Find logs at: <code>./wandb/run-20250506_230647-aqs68h1s/logs</code>"
      ],
      "text/plain": [
       "<IPython.core.display.HTML object>"
      ]
     },
     "metadata": {},
     "output_type": "display_data"
    },
    {
     "data": {
      "text/html": [
       "Tracking run with wandb version 0.19.9"
      ],
      "text/plain": [
       "<IPython.core.display.HTML object>"
      ]
     },
     "metadata": {},
     "output_type": "display_data"
    },
    {
     "data": {
      "text/html": [
       "Run data is saved locally in <code>/mnt/nfs1/home/yamamoto-hiroto/research/vertebrae/Sakaguchi_file/S_model_learning/wandb/run-20250506_230859-ht3yvetu</code>"
      ],
      "text/plain": [
       "<IPython.core.display.HTML object>"
      ]
     },
     "metadata": {},
     "output_type": "display_data"
    },
    {
     "data": {
      "text/html": [
       "Syncing run <strong><a href='https://wandb.ai/yuya00-university-of-hyogo/vertebrae-online_aug_axial_learning_3-3%28%CE%B1%3D0.8%2Cgamma%3D1.0%29/runs/ht3yvetu' target=\"_blank\">honest-fog-11</a></strong> to <a href='https://wandb.ai/yuya00-university-of-hyogo/vertebrae-online_aug_axial_learning_3-3%28%CE%B1%3D0.8%2Cgamma%3D1.0%29' target=\"_blank\">Weights & Biases</a> (<a href='https://wandb.me/developer-guide' target=\"_blank\">docs</a>)<br>"
      ],
      "text/plain": [
       "<IPython.core.display.HTML object>"
      ]
     },
     "metadata": {},
     "output_type": "display_data"
    },
    {
     "data": {
      "text/html": [
       " View project at <a href='https://wandb.ai/yuya00-university-of-hyogo/vertebrae-online_aug_axial_learning_3-3%28%CE%B1%3D0.8%2Cgamma%3D1.0%29' target=\"_blank\">https://wandb.ai/yuya00-university-of-hyogo/vertebrae-online_aug_axial_learning_3-3%28%CE%B1%3D0.8%2Cgamma%3D1.0%29</a>"
      ],
      "text/plain": [
       "<IPython.core.display.HTML object>"
      ]
     },
     "metadata": {},
     "output_type": "display_data"
    },
    {
     "data": {
      "text/html": [
       " View run at <a href='https://wandb.ai/yuya00-university-of-hyogo/vertebrae-online_aug_axial_learning_3-3%28%CE%B1%3D0.8%2Cgamma%3D1.0%29/runs/ht3yvetu' target=\"_blank\">https://wandb.ai/yuya00-university-of-hyogo/vertebrae-online_aug_axial_learning_3-3%28%CE%B1%3D0.8%2Cgamma%3D1.0%29/runs/ht3yvetu</a>"
      ],
      "text/plain": [
       "<IPython.core.display.HTML object>"
      ]
     },
     "metadata": {},
     "output_type": "display_data"
    },
    {
     "name": "stderr",
     "output_type": "stream",
     "text": [
      "\u001b[34m\u001b[1mwandb\u001b[0m: \u001b[32m\u001b[41mERROR\u001b[0m The nbformat package was not found. It is required to save notebook history.\n"
     ]
    },
    {
     "data": {
      "text/html": [],
      "text/plain": [
       "<IPython.core.display.HTML object>"
      ]
     },
     "metadata": {},
     "output_type": "display_data"
    },
    {
     "data": {
      "text/html": [
       "<br>    <style><br>        .wandb-row {<br>            display: flex;<br>            flex-direction: row;<br>            flex-wrap: wrap;<br>            justify-content: flex-start;<br>            width: 100%;<br>        }<br>        .wandb-col {<br>            display: flex;<br>            flex-direction: column;<br>            flex-basis: 100%;<br>            flex: 1;<br>            padding: 10px;<br>        }<br>    </style><br><div class=\"wandb-row\"><div class=\"wandb-col\"><h3>Run history:</h3><br/><table class=\"wandb\"><tr><td>epoch</td><td>▁▃▆█</td></tr><tr><td>lr</td><td>█▅▂▁</td></tr><tr><td>train_loss</td><td>█▂▁▁</td></tr><tr><td>val_loss</td><td>▂▁█▇</td></tr><tr><td>val_prauc</td><td>▁▆▇█</td></tr></table><br/></div><div class=\"wandb-col\"><h3>Run summary:</h3><br/><table class=\"wandb\"><tr><td>epoch</td><td>4</td></tr><tr><td>lr</td><td>0.0</td></tr><tr><td>train_loss</td><td>0.00132</td></tr><tr><td>val_loss</td><td>0.10485</td></tr><tr><td>val_prauc</td><td>0.46446</td></tr></table><br/></div></div>"
      ],
      "text/plain": [
       "<IPython.core.display.HTML object>"
      ]
     },
     "metadata": {},
     "output_type": "display_data"
    },
    {
     "data": {
      "text/html": [
       " View run <strong style=\"color:#cdcd00\">honest-fog-11</strong> at: <a href='https://wandb.ai/yuya00-university-of-hyogo/vertebrae-online_aug_axial_learning_3-3%28%CE%B1%3D0.8%2Cgamma%3D1.0%29/runs/ht3yvetu' target=\"_blank\">https://wandb.ai/yuya00-university-of-hyogo/vertebrae-online_aug_axial_learning_3-3%28%CE%B1%3D0.8%2Cgamma%3D1.0%29/runs/ht3yvetu</a><br> View project at: <a href='https://wandb.ai/yuya00-university-of-hyogo/vertebrae-online_aug_axial_learning_3-3%28%CE%B1%3D0.8%2Cgamma%3D1.0%29' target=\"_blank\">https://wandb.ai/yuya00-university-of-hyogo/vertebrae-online_aug_axial_learning_3-3%28%CE%B1%3D0.8%2Cgamma%3D1.0%29</a><br>Synced 5 W&B file(s), 0 media file(s), 0 artifact file(s) and 0 other file(s)"
      ],
      "text/plain": [
       "<IPython.core.display.HTML object>"
      ]
     },
     "metadata": {},
     "output_type": "display_data"
    },
    {
     "data": {
      "text/html": [
       "Find logs at: <code>./wandb/run-20250506_230859-ht3yvetu/logs</code>"
      ],
      "text/plain": [
       "<IPython.core.display.HTML object>"
      ]
     },
     "metadata": {},
     "output_type": "display_data"
    },
    {
     "data": {
      "text/html": [
       "Tracking run with wandb version 0.19.9"
      ],
      "text/plain": [
       "<IPython.core.display.HTML object>"
      ]
     },
     "metadata": {},
     "output_type": "display_data"
    },
    {
     "data": {
      "text/html": [
       "Run data is saved locally in <code>/mnt/nfs1/home/yamamoto-hiroto/research/vertebrae/Sakaguchi_file/S_model_learning/wandb/run-20250506_231112-slbno38c</code>"
      ],
      "text/plain": [
       "<IPython.core.display.HTML object>"
      ]
     },
     "metadata": {},
     "output_type": "display_data"
    },
    {
     "data": {
      "text/html": [
       "Syncing run <strong><a href='https://wandb.ai/yuya00-university-of-hyogo/vertebrae-online_aug_axial_learning_3-3%28%CE%B1%3D0.8%2Cgamma%3D1.0%29/runs/slbno38c' target=\"_blank\">apricot-microwave-12</a></strong> to <a href='https://wandb.ai/yuya00-university-of-hyogo/vertebrae-online_aug_axial_learning_3-3%28%CE%B1%3D0.8%2Cgamma%3D1.0%29' target=\"_blank\">Weights & Biases</a> (<a href='https://wandb.me/developer-guide' target=\"_blank\">docs</a>)<br>"
      ],
      "text/plain": [
       "<IPython.core.display.HTML object>"
      ]
     },
     "metadata": {},
     "output_type": "display_data"
    },
    {
     "data": {
      "text/html": [
       " View project at <a href='https://wandb.ai/yuya00-university-of-hyogo/vertebrae-online_aug_axial_learning_3-3%28%CE%B1%3D0.8%2Cgamma%3D1.0%29' target=\"_blank\">https://wandb.ai/yuya00-university-of-hyogo/vertebrae-online_aug_axial_learning_3-3%28%CE%B1%3D0.8%2Cgamma%3D1.0%29</a>"
      ],
      "text/plain": [
       "<IPython.core.display.HTML object>"
      ]
     },
     "metadata": {},
     "output_type": "display_data"
    },
    {
     "data": {
      "text/html": [
       " View run at <a href='https://wandb.ai/yuya00-university-of-hyogo/vertebrae-online_aug_axial_learning_3-3%28%CE%B1%3D0.8%2Cgamma%3D1.0%29/runs/slbno38c' target=\"_blank\">https://wandb.ai/yuya00-university-of-hyogo/vertebrae-online_aug_axial_learning_3-3%28%CE%B1%3D0.8%2Cgamma%3D1.0%29/runs/slbno38c</a>"
      ],
      "text/plain": [
       "<IPython.core.display.HTML object>"
      ]
     },
     "metadata": {},
     "output_type": "display_data"
    },
    {
     "name": "stderr",
     "output_type": "stream",
     "text": [
      "\u001b[34m\u001b[1mwandb\u001b[0m: \u001b[32m\u001b[41mERROR\u001b[0m The nbformat package was not found. It is required to save notebook history.\n"
     ]
    },
    {
     "data": {
      "text/html": [],
      "text/plain": [
       "<IPython.core.display.HTML object>"
      ]
     },
     "metadata": {},
     "output_type": "display_data"
    },
    {
     "data": {
      "text/html": [
       "<br>    <style><br>        .wandb-row {<br>            display: flex;<br>            flex-direction: row;<br>            flex-wrap: wrap;<br>            justify-content: flex-start;<br>            width: 100%;<br>        }<br>        .wandb-col {<br>            display: flex;<br>            flex-direction: column;<br>            flex-basis: 100%;<br>            flex: 1;<br>            padding: 10px;<br>        }<br>    </style><br><div class=\"wandb-row\"><div class=\"wandb-col\"><h3>Run history:</h3><br/><table class=\"wandb\"><tr><td>epoch</td><td>▁▃▆█</td></tr><tr><td>lr</td><td>█▅▂▁</td></tr><tr><td>train_loss</td><td>█▂▁▁</td></tr><tr><td>val_loss</td><td>▁▄██</td></tr><tr><td>val_prauc</td><td>▁▃▆█</td></tr></table><br/></div><div class=\"wandb-col\"><h3>Run summary:</h3><br/><table class=\"wandb\"><tr><td>epoch</td><td>4</td></tr><tr><td>lr</td><td>0.0</td></tr><tr><td>train_loss</td><td>0.00075</td></tr><tr><td>val_loss</td><td>0.08384</td></tr><tr><td>val_prauc</td><td>0.38949</td></tr></table><br/></div></div>"
      ],
      "text/plain": [
       "<IPython.core.display.HTML object>"
      ]
     },
     "metadata": {},
     "output_type": "display_data"
    },
    {
     "data": {
      "text/html": [
       " View run <strong style=\"color:#cdcd00\">apricot-microwave-12</strong> at: <a href='https://wandb.ai/yuya00-university-of-hyogo/vertebrae-online_aug_axial_learning_3-3%28%CE%B1%3D0.8%2Cgamma%3D1.0%29/runs/slbno38c' target=\"_blank\">https://wandb.ai/yuya00-university-of-hyogo/vertebrae-online_aug_axial_learning_3-3%28%CE%B1%3D0.8%2Cgamma%3D1.0%29/runs/slbno38c</a><br> View project at: <a href='https://wandb.ai/yuya00-university-of-hyogo/vertebrae-online_aug_axial_learning_3-3%28%CE%B1%3D0.8%2Cgamma%3D1.0%29' target=\"_blank\">https://wandb.ai/yuya00-university-of-hyogo/vertebrae-online_aug_axial_learning_3-3%28%CE%B1%3D0.8%2Cgamma%3D1.0%29</a><br>Synced 5 W&B file(s), 0 media file(s), 0 artifact file(s) and 0 other file(s)"
      ],
      "text/plain": [
       "<IPython.core.display.HTML object>"
      ]
     },
     "metadata": {},
     "output_type": "display_data"
    },
    {
     "data": {
      "text/html": [
       "Find logs at: <code>./wandb/run-20250506_231112-slbno38c/logs</code>"
      ],
      "text/plain": [
       "<IPython.core.display.HTML object>"
      ]
     },
     "metadata": {},
     "output_type": "display_data"
    },
    {
     "data": {
      "text/html": [
       "Tracking run with wandb version 0.19.9"
      ],
      "text/plain": [
       "<IPython.core.display.HTML object>"
      ]
     },
     "metadata": {},
     "output_type": "display_data"
    },
    {
     "data": {
      "text/html": [
       "Run data is saved locally in <code>/mnt/nfs1/home/yamamoto-hiroto/research/vertebrae/Sakaguchi_file/S_model_learning/wandb/run-20250506_231324-6cd9206j</code>"
      ],
      "text/plain": [
       "<IPython.core.display.HTML object>"
      ]
     },
     "metadata": {},
     "output_type": "display_data"
    },
    {
     "data": {
      "text/html": [
       "Syncing run <strong><a href='https://wandb.ai/yuya00-university-of-hyogo/vertebrae-online_aug_axial_learning_3-3%28%CE%B1%3D0.8%2Cgamma%3D1.0%29/runs/6cd9206j' target=\"_blank\">copper-snowball-13</a></strong> to <a href='https://wandb.ai/yuya00-university-of-hyogo/vertebrae-online_aug_axial_learning_3-3%28%CE%B1%3D0.8%2Cgamma%3D1.0%29' target=\"_blank\">Weights & Biases</a> (<a href='https://wandb.me/developer-guide' target=\"_blank\">docs</a>)<br>"
      ],
      "text/plain": [
       "<IPython.core.display.HTML object>"
      ]
     },
     "metadata": {},
     "output_type": "display_data"
    },
    {
     "data": {
      "text/html": [
       " View project at <a href='https://wandb.ai/yuya00-university-of-hyogo/vertebrae-online_aug_axial_learning_3-3%28%CE%B1%3D0.8%2Cgamma%3D1.0%29' target=\"_blank\">https://wandb.ai/yuya00-university-of-hyogo/vertebrae-online_aug_axial_learning_3-3%28%CE%B1%3D0.8%2Cgamma%3D1.0%29</a>"
      ],
      "text/plain": [
       "<IPython.core.display.HTML object>"
      ]
     },
     "metadata": {},
     "output_type": "display_data"
    },
    {
     "data": {
      "text/html": [
       " View run at <a href='https://wandb.ai/yuya00-university-of-hyogo/vertebrae-online_aug_axial_learning_3-3%28%CE%B1%3D0.8%2Cgamma%3D1.0%29/runs/6cd9206j' target=\"_blank\">https://wandb.ai/yuya00-university-of-hyogo/vertebrae-online_aug_axial_learning_3-3%28%CE%B1%3D0.8%2Cgamma%3D1.0%29/runs/6cd9206j</a>"
      ],
      "text/plain": [
       "<IPython.core.display.HTML object>"
      ]
     },
     "metadata": {},
     "output_type": "display_data"
    },
    {
     "name": "stderr",
     "output_type": "stream",
     "text": [
      "\u001b[34m\u001b[1mwandb\u001b[0m: \u001b[32m\u001b[41mERROR\u001b[0m The nbformat package was not found. It is required to save notebook history.\n"
     ]
    },
    {
     "data": {
      "text/html": [],
      "text/plain": [
       "<IPython.core.display.HTML object>"
      ]
     },
     "metadata": {},
     "output_type": "display_data"
    },
    {
     "data": {
      "text/html": [
       "<br>    <style><br>        .wandb-row {<br>            display: flex;<br>            flex-direction: row;<br>            flex-wrap: wrap;<br>            justify-content: flex-start;<br>            width: 100%;<br>        }<br>        .wandb-col {<br>            display: flex;<br>            flex-direction: column;<br>            flex-basis: 100%;<br>            flex: 1;<br>            padding: 10px;<br>        }<br>    </style><br><div class=\"wandb-row\"><div class=\"wandb-col\"><h3>Run history:</h3><br/><table class=\"wandb\"><tr><td>epoch</td><td>▁▃▆█</td></tr><tr><td>lr</td><td>█▅▂▁</td></tr><tr><td>train_loss</td><td>█▄▂▁</td></tr><tr><td>val_loss</td><td>█▁▇▅</td></tr><tr><td>val_prauc</td><td>▁▅██</td></tr></table><br/></div><div class=\"wandb-col\"><h3>Run summary:</h3><br/><table class=\"wandb\"><tr><td>epoch</td><td>4</td></tr><tr><td>lr</td><td>0.0</td></tr><tr><td>train_loss</td><td>0.00251</td></tr><tr><td>val_loss</td><td>0.11352</td></tr><tr><td>val_prauc</td><td>0.4469</td></tr></table><br/></div></div>"
      ],
      "text/plain": [
       "<IPython.core.display.HTML object>"
      ]
     },
     "metadata": {},
     "output_type": "display_data"
    },
    {
     "data": {
      "text/html": [
       " View run <strong style=\"color:#cdcd00\">copper-snowball-13</strong> at: <a href='https://wandb.ai/yuya00-university-of-hyogo/vertebrae-online_aug_axial_learning_3-3%28%CE%B1%3D0.8%2Cgamma%3D1.0%29/runs/6cd9206j' target=\"_blank\">https://wandb.ai/yuya00-university-of-hyogo/vertebrae-online_aug_axial_learning_3-3%28%CE%B1%3D0.8%2Cgamma%3D1.0%29/runs/6cd9206j</a><br> View project at: <a href='https://wandb.ai/yuya00-university-of-hyogo/vertebrae-online_aug_axial_learning_3-3%28%CE%B1%3D0.8%2Cgamma%3D1.0%29' target=\"_blank\">https://wandb.ai/yuya00-university-of-hyogo/vertebrae-online_aug_axial_learning_3-3%28%CE%B1%3D0.8%2Cgamma%3D1.0%29</a><br>Synced 5 W&B file(s), 0 media file(s), 0 artifact file(s) and 0 other file(s)"
      ],
      "text/plain": [
       "<IPython.core.display.HTML object>"
      ]
     },
     "metadata": {},
     "output_type": "display_data"
    },
    {
     "data": {
      "text/html": [
       "Find logs at: <code>./wandb/run-20250506_231324-6cd9206j/logs</code>"
      ],
      "text/plain": [
       "<IPython.core.display.HTML object>"
      ]
     },
     "metadata": {},
     "output_type": "display_data"
    },
    {
     "data": {
      "text/html": [
       "Tracking run with wandb version 0.19.9"
      ],
      "text/plain": [
       "<IPython.core.display.HTML object>"
      ]
     },
     "metadata": {},
     "output_type": "display_data"
    },
    {
     "data": {
      "text/html": [
       "Run data is saved locally in <code>/mnt/nfs1/home/yamamoto-hiroto/research/vertebrae/Sakaguchi_file/S_model_learning/wandb/run-20250506_231536-l1g0cmnn</code>"
      ],
      "text/plain": [
       "<IPython.core.display.HTML object>"
      ]
     },
     "metadata": {},
     "output_type": "display_data"
    },
    {
     "data": {
      "text/html": [
       "Syncing run <strong><a href='https://wandb.ai/yuya00-university-of-hyogo/vertebrae-online_aug_axial_learning_3-3%28%CE%B1%3D0.8%2Cgamma%3D1.0%29/runs/l1g0cmnn' target=\"_blank\">zesty-silence-14</a></strong> to <a href='https://wandb.ai/yuya00-university-of-hyogo/vertebrae-online_aug_axial_learning_3-3%28%CE%B1%3D0.8%2Cgamma%3D1.0%29' target=\"_blank\">Weights & Biases</a> (<a href='https://wandb.me/developer-guide' target=\"_blank\">docs</a>)<br>"
      ],
      "text/plain": [
       "<IPython.core.display.HTML object>"
      ]
     },
     "metadata": {},
     "output_type": "display_data"
    },
    {
     "data": {
      "text/html": [
       " View project at <a href='https://wandb.ai/yuya00-university-of-hyogo/vertebrae-online_aug_axial_learning_3-3%28%CE%B1%3D0.8%2Cgamma%3D1.0%29' target=\"_blank\">https://wandb.ai/yuya00-university-of-hyogo/vertebrae-online_aug_axial_learning_3-3%28%CE%B1%3D0.8%2Cgamma%3D1.0%29</a>"
      ],
      "text/plain": [
       "<IPython.core.display.HTML object>"
      ]
     },
     "metadata": {},
     "output_type": "display_data"
    },
    {
     "data": {
      "text/html": [
       " View run at <a href='https://wandb.ai/yuya00-university-of-hyogo/vertebrae-online_aug_axial_learning_3-3%28%CE%B1%3D0.8%2Cgamma%3D1.0%29/runs/l1g0cmnn' target=\"_blank\">https://wandb.ai/yuya00-university-of-hyogo/vertebrae-online_aug_axial_learning_3-3%28%CE%B1%3D0.8%2Cgamma%3D1.0%29/runs/l1g0cmnn</a>"
      ],
      "text/plain": [
       "<IPython.core.display.HTML object>"
      ]
     },
     "metadata": {},
     "output_type": "display_data"
    },
    {
     "name": "stderr",
     "output_type": "stream",
     "text": [
      "\u001b[34m\u001b[1mwandb\u001b[0m: \u001b[32m\u001b[41mERROR\u001b[0m The nbformat package was not found. It is required to save notebook history.\n"
     ]
    },
    {
     "data": {
      "text/html": [],
      "text/plain": [
       "<IPython.core.display.HTML object>"
      ]
     },
     "metadata": {},
     "output_type": "display_data"
    },
    {
     "data": {
      "text/html": [
       "<br>    <style><br>        .wandb-row {<br>            display: flex;<br>            flex-direction: row;<br>            flex-wrap: wrap;<br>            justify-content: flex-start;<br>            width: 100%;<br>        }<br>        .wandb-col {<br>            display: flex;<br>            flex-direction: column;<br>            flex-basis: 100%;<br>            flex: 1;<br>            padding: 10px;<br>        }<br>    </style><br><div class=\"wandb-row\"><div class=\"wandb-col\"><h3>Run history:</h3><br/><table class=\"wandb\"><tr><td>epoch</td><td>▁▃▆█</td></tr><tr><td>lr</td><td>█▅▂▁</td></tr><tr><td>train_loss</td><td>█▄▂▁</td></tr><tr><td>val_loss</td><td>▄▁▆█</td></tr><tr><td>val_prauc</td><td>▁█▅█</td></tr></table><br/></div><div class=\"wandb-col\"><h3>Run summary:</h3><br/><table class=\"wandb\"><tr><td>epoch</td><td>4</td></tr><tr><td>lr</td><td>0.0</td></tr><tr><td>train_loss</td><td>0.00178</td></tr><tr><td>val_loss</td><td>0.063</td></tr><tr><td>val_prauc</td><td>0.43513</td></tr></table><br/></div></div>"
      ],
      "text/plain": [
       "<IPython.core.display.HTML object>"
      ]
     },
     "metadata": {},
     "output_type": "display_data"
    },
    {
     "data": {
      "text/html": [
       " View run <strong style=\"color:#cdcd00\">zesty-silence-14</strong> at: <a href='https://wandb.ai/yuya00-university-of-hyogo/vertebrae-online_aug_axial_learning_3-3%28%CE%B1%3D0.8%2Cgamma%3D1.0%29/runs/l1g0cmnn' target=\"_blank\">https://wandb.ai/yuya00-university-of-hyogo/vertebrae-online_aug_axial_learning_3-3%28%CE%B1%3D0.8%2Cgamma%3D1.0%29/runs/l1g0cmnn</a><br> View project at: <a href='https://wandb.ai/yuya00-university-of-hyogo/vertebrae-online_aug_axial_learning_3-3%28%CE%B1%3D0.8%2Cgamma%3D1.0%29' target=\"_blank\">https://wandb.ai/yuya00-university-of-hyogo/vertebrae-online_aug_axial_learning_3-3%28%CE%B1%3D0.8%2Cgamma%3D1.0%29</a><br>Synced 5 W&B file(s), 0 media file(s), 0 artifact file(s) and 0 other file(s)"
      ],
      "text/plain": [
       "<IPython.core.display.HTML object>"
      ]
     },
     "metadata": {},
     "output_type": "display_data"
    },
    {
     "data": {
      "text/html": [
       "Find logs at: <code>./wandb/run-20250506_231536-l1g0cmnn/logs</code>"
      ],
      "text/plain": [
       "<IPython.core.display.HTML object>"
      ]
     },
     "metadata": {},
     "output_type": "display_data"
    },
    {
     "data": {
      "text/html": [
       "Tracking run with wandb version 0.19.9"
      ],
      "text/plain": [
       "<IPython.core.display.HTML object>"
      ]
     },
     "metadata": {},
     "output_type": "display_data"
    },
    {
     "data": {
      "text/html": [
       "Run data is saved locally in <code>/mnt/nfs1/home/yamamoto-hiroto/research/vertebrae/Sakaguchi_file/S_model_learning/wandb/run-20250506_231748-5wz7t5f6</code>"
      ],
      "text/plain": [
       "<IPython.core.display.HTML object>"
      ]
     },
     "metadata": {},
     "output_type": "display_data"
    },
    {
     "data": {
      "text/html": [
       "Syncing run <strong><a href='https://wandb.ai/yuya00-university-of-hyogo/vertebrae-online_aug_axial_learning_3-3%28%CE%B1%3D0.8%2Cgamma%3D1.0%29/runs/5wz7t5f6' target=\"_blank\">colorful-frost-15</a></strong> to <a href='https://wandb.ai/yuya00-university-of-hyogo/vertebrae-online_aug_axial_learning_3-3%28%CE%B1%3D0.8%2Cgamma%3D1.0%29' target=\"_blank\">Weights & Biases</a> (<a href='https://wandb.me/developer-guide' target=\"_blank\">docs</a>)<br>"
      ],
      "text/plain": [
       "<IPython.core.display.HTML object>"
      ]
     },
     "metadata": {},
     "output_type": "display_data"
    },
    {
     "data": {
      "text/html": [
       " View project at <a href='https://wandb.ai/yuya00-university-of-hyogo/vertebrae-online_aug_axial_learning_3-3%28%CE%B1%3D0.8%2Cgamma%3D1.0%29' target=\"_blank\">https://wandb.ai/yuya00-university-of-hyogo/vertebrae-online_aug_axial_learning_3-3%28%CE%B1%3D0.8%2Cgamma%3D1.0%29</a>"
      ],
      "text/plain": [
       "<IPython.core.display.HTML object>"
      ]
     },
     "metadata": {},
     "output_type": "display_data"
    },
    {
     "data": {
      "text/html": [
       " View run at <a href='https://wandb.ai/yuya00-university-of-hyogo/vertebrae-online_aug_axial_learning_3-3%28%CE%B1%3D0.8%2Cgamma%3D1.0%29/runs/5wz7t5f6' target=\"_blank\">https://wandb.ai/yuya00-university-of-hyogo/vertebrae-online_aug_axial_learning_3-3%28%CE%B1%3D0.8%2Cgamma%3D1.0%29/runs/5wz7t5f6</a>"
      ],
      "text/plain": [
       "<IPython.core.display.HTML object>"
      ]
     },
     "metadata": {},
     "output_type": "display_data"
    },
    {
     "name": "stderr",
     "output_type": "stream",
     "text": [
      "\u001b[34m\u001b[1mwandb\u001b[0m: \u001b[32m\u001b[41mERROR\u001b[0m The nbformat package was not found. It is required to save notebook history.\n"
     ]
    },
    {
     "data": {
      "text/html": [],
      "text/plain": [
       "<IPython.core.display.HTML object>"
      ]
     },
     "metadata": {},
     "output_type": "display_data"
    },
    {
     "data": {
      "text/html": [
       "<br>    <style><br>        .wandb-row {<br>            display: flex;<br>            flex-direction: row;<br>            flex-wrap: wrap;<br>            justify-content: flex-start;<br>            width: 100%;<br>        }<br>        .wandb-col {<br>            display: flex;<br>            flex-direction: column;<br>            flex-basis: 100%;<br>            flex: 1;<br>            padding: 10px;<br>        }<br>    </style><br><div class=\"wandb-row\"><div class=\"wandb-col\"><h3>Run history:</h3><br/><table class=\"wandb\"><tr><td>epoch</td><td>▁▃▆█</td></tr><tr><td>lr</td><td>█▅▂▁</td></tr><tr><td>train_loss</td><td>█▃▂▁</td></tr><tr><td>val_loss</td><td>▅▁▇█</td></tr><tr><td>val_prauc</td><td>▁▃▇█</td></tr></table><br/></div><div class=\"wandb-col\"><h3>Run summary:</h3><br/><table class=\"wandb\"><tr><td>epoch</td><td>4</td></tr><tr><td>lr</td><td>0.0</td></tr><tr><td>train_loss</td><td>0.00221</td></tr><tr><td>val_loss</td><td>0.11315</td></tr><tr><td>val_prauc</td><td>0.47624</td></tr></table><br/></div></div>"
      ],
      "text/plain": [
       "<IPython.core.display.HTML object>"
      ]
     },
     "metadata": {},
     "output_type": "display_data"
    },
    {
     "data": {
      "text/html": [
       " View run <strong style=\"color:#cdcd00\">colorful-frost-15</strong> at: <a href='https://wandb.ai/yuya00-university-of-hyogo/vertebrae-online_aug_axial_learning_3-3%28%CE%B1%3D0.8%2Cgamma%3D1.0%29/runs/5wz7t5f6' target=\"_blank\">https://wandb.ai/yuya00-university-of-hyogo/vertebrae-online_aug_axial_learning_3-3%28%CE%B1%3D0.8%2Cgamma%3D1.0%29/runs/5wz7t5f6</a><br> View project at: <a href='https://wandb.ai/yuya00-university-of-hyogo/vertebrae-online_aug_axial_learning_3-3%28%CE%B1%3D0.8%2Cgamma%3D1.0%29' target=\"_blank\">https://wandb.ai/yuya00-university-of-hyogo/vertebrae-online_aug_axial_learning_3-3%28%CE%B1%3D0.8%2Cgamma%3D1.0%29</a><br>Synced 5 W&B file(s), 0 media file(s), 0 artifact file(s) and 0 other file(s)"
      ],
      "text/plain": [
       "<IPython.core.display.HTML object>"
      ]
     },
     "metadata": {},
     "output_type": "display_data"
    },
    {
     "data": {
      "text/html": [
       "Find logs at: <code>./wandb/run-20250506_231748-5wz7t5f6/logs</code>"
      ],
      "text/plain": [
       "<IPython.core.display.HTML object>"
      ]
     },
     "metadata": {},
     "output_type": "display_data"
    },
    {
     "data": {
      "text/html": [
       "Tracking run with wandb version 0.19.9"
      ],
      "text/plain": [
       "<IPython.core.display.HTML object>"
      ]
     },
     "metadata": {},
     "output_type": "display_data"
    },
    {
     "data": {
      "text/html": [
       "Run data is saved locally in <code>/mnt/nfs1/home/yamamoto-hiroto/research/vertebrae/Sakaguchi_file/S_model_learning/wandb/run-20250506_232001-wilyudnw</code>"
      ],
      "text/plain": [
       "<IPython.core.display.HTML object>"
      ]
     },
     "metadata": {},
     "output_type": "display_data"
    },
    {
     "data": {
      "text/html": [
       "Syncing run <strong><a href='https://wandb.ai/yuya00-university-of-hyogo/vertebrae-online_aug_axial_learning_3-3%28%CE%B1%3D0.8%2Cgamma%3D1.0%29/runs/wilyudnw' target=\"_blank\">feasible-terrain-16</a></strong> to <a href='https://wandb.ai/yuya00-university-of-hyogo/vertebrae-online_aug_axial_learning_3-3%28%CE%B1%3D0.8%2Cgamma%3D1.0%29' target=\"_blank\">Weights & Biases</a> (<a href='https://wandb.me/developer-guide' target=\"_blank\">docs</a>)<br>"
      ],
      "text/plain": [
       "<IPython.core.display.HTML object>"
      ]
     },
     "metadata": {},
     "output_type": "display_data"
    },
    {
     "data": {
      "text/html": [
       " View project at <a href='https://wandb.ai/yuya00-university-of-hyogo/vertebrae-online_aug_axial_learning_3-3%28%CE%B1%3D0.8%2Cgamma%3D1.0%29' target=\"_blank\">https://wandb.ai/yuya00-university-of-hyogo/vertebrae-online_aug_axial_learning_3-3%28%CE%B1%3D0.8%2Cgamma%3D1.0%29</a>"
      ],
      "text/plain": [
       "<IPython.core.display.HTML object>"
      ]
     },
     "metadata": {},
     "output_type": "display_data"
    },
    {
     "data": {
      "text/html": [
       " View run at <a href='https://wandb.ai/yuya00-university-of-hyogo/vertebrae-online_aug_axial_learning_3-3%28%CE%B1%3D0.8%2Cgamma%3D1.0%29/runs/wilyudnw' target=\"_blank\">https://wandb.ai/yuya00-university-of-hyogo/vertebrae-online_aug_axial_learning_3-3%28%CE%B1%3D0.8%2Cgamma%3D1.0%29/runs/wilyudnw</a>"
      ],
      "text/plain": [
       "<IPython.core.display.HTML object>"
      ]
     },
     "metadata": {},
     "output_type": "display_data"
    },
    {
     "name": "stderr",
     "output_type": "stream",
     "text": [
      "\u001b[34m\u001b[1mwandb\u001b[0m: \u001b[32m\u001b[41mERROR\u001b[0m The nbformat package was not found. It is required to save notebook history.\n"
     ]
    },
    {
     "data": {
      "text/html": [],
      "text/plain": [
       "<IPython.core.display.HTML object>"
      ]
     },
     "metadata": {},
     "output_type": "display_data"
    },
    {
     "data": {
      "text/html": [
       "<br>    <style><br>        .wandb-row {<br>            display: flex;<br>            flex-direction: row;<br>            flex-wrap: wrap;<br>            justify-content: flex-start;<br>            width: 100%;<br>        }<br>        .wandb-col {<br>            display: flex;<br>            flex-direction: column;<br>            flex-basis: 100%;<br>            flex: 1;<br>            padding: 10px;<br>        }<br>    </style><br><div class=\"wandb-row\"><div class=\"wandb-col\"><h3>Run history:</h3><br/><table class=\"wandb\"><tr><td>epoch</td><td>▁▃▆█</td></tr><tr><td>lr</td><td>█▅▂▁</td></tr><tr><td>train_loss</td><td>█▄▂▁</td></tr><tr><td>val_loss</td><td>▇▁▇█</td></tr><tr><td>val_prauc</td><td>▁▇▅█</td></tr></table><br/></div><div class=\"wandb-col\"><h3>Run summary:</h3><br/><table class=\"wandb\"><tr><td>epoch</td><td>4</td></tr><tr><td>lr</td><td>0.0</td></tr><tr><td>train_loss</td><td>0.00178</td></tr><tr><td>val_loss</td><td>0.07535</td></tr><tr><td>val_prauc</td><td>0.42284</td></tr></table><br/></div></div>"
      ],
      "text/plain": [
       "<IPython.core.display.HTML object>"
      ]
     },
     "metadata": {},
     "output_type": "display_data"
    },
    {
     "data": {
      "text/html": [
       " View run <strong style=\"color:#cdcd00\">feasible-terrain-16</strong> at: <a href='https://wandb.ai/yuya00-university-of-hyogo/vertebrae-online_aug_axial_learning_3-3%28%CE%B1%3D0.8%2Cgamma%3D1.0%29/runs/wilyudnw' target=\"_blank\">https://wandb.ai/yuya00-university-of-hyogo/vertebrae-online_aug_axial_learning_3-3%28%CE%B1%3D0.8%2Cgamma%3D1.0%29/runs/wilyudnw</a><br> View project at: <a href='https://wandb.ai/yuya00-university-of-hyogo/vertebrae-online_aug_axial_learning_3-3%28%CE%B1%3D0.8%2Cgamma%3D1.0%29' target=\"_blank\">https://wandb.ai/yuya00-university-of-hyogo/vertebrae-online_aug_axial_learning_3-3%28%CE%B1%3D0.8%2Cgamma%3D1.0%29</a><br>Synced 5 W&B file(s), 0 media file(s), 0 artifact file(s) and 0 other file(s)"
      ],
      "text/plain": [
       "<IPython.core.display.HTML object>"
      ]
     },
     "metadata": {},
     "output_type": "display_data"
    },
    {
     "data": {
      "text/html": [
       "Find logs at: <code>./wandb/run-20250506_232001-wilyudnw/logs</code>"
      ],
      "text/plain": [
       "<IPython.core.display.HTML object>"
      ]
     },
     "metadata": {},
     "output_type": "display_data"
    },
    {
     "data": {
      "text/html": [
       "Tracking run with wandb version 0.19.9"
      ],
      "text/plain": [
       "<IPython.core.display.HTML object>"
      ]
     },
     "metadata": {},
     "output_type": "display_data"
    },
    {
     "data": {
      "text/html": [
       "Run data is saved locally in <code>/mnt/nfs1/home/yamamoto-hiroto/research/vertebrae/Sakaguchi_file/S_model_learning/wandb/run-20250506_232213-9u7p1uwf</code>"
      ],
      "text/plain": [
       "<IPython.core.display.HTML object>"
      ]
     },
     "metadata": {},
     "output_type": "display_data"
    },
    {
     "data": {
      "text/html": [
       "Syncing run <strong><a href='https://wandb.ai/yuya00-university-of-hyogo/vertebrae-online_aug_axial_learning_3-3%28%CE%B1%3D0.8%2Cgamma%3D1.0%29/runs/9u7p1uwf' target=\"_blank\">logical-voice-17</a></strong> to <a href='https://wandb.ai/yuya00-university-of-hyogo/vertebrae-online_aug_axial_learning_3-3%28%CE%B1%3D0.8%2Cgamma%3D1.0%29' target=\"_blank\">Weights & Biases</a> (<a href='https://wandb.me/developer-guide' target=\"_blank\">docs</a>)<br>"
      ],
      "text/plain": [
       "<IPython.core.display.HTML object>"
      ]
     },
     "metadata": {},
     "output_type": "display_data"
    },
    {
     "data": {
      "text/html": [
       " View project at <a href='https://wandb.ai/yuya00-university-of-hyogo/vertebrae-online_aug_axial_learning_3-3%28%CE%B1%3D0.8%2Cgamma%3D1.0%29' target=\"_blank\">https://wandb.ai/yuya00-university-of-hyogo/vertebrae-online_aug_axial_learning_3-3%28%CE%B1%3D0.8%2Cgamma%3D1.0%29</a>"
      ],
      "text/plain": [
       "<IPython.core.display.HTML object>"
      ]
     },
     "metadata": {},
     "output_type": "display_data"
    },
    {
     "data": {
      "text/html": [
       " View run at <a href='https://wandb.ai/yuya00-university-of-hyogo/vertebrae-online_aug_axial_learning_3-3%28%CE%B1%3D0.8%2Cgamma%3D1.0%29/runs/9u7p1uwf' target=\"_blank\">https://wandb.ai/yuya00-university-of-hyogo/vertebrae-online_aug_axial_learning_3-3%28%CE%B1%3D0.8%2Cgamma%3D1.0%29/runs/9u7p1uwf</a>"
      ],
      "text/plain": [
       "<IPython.core.display.HTML object>"
      ]
     },
     "metadata": {},
     "output_type": "display_data"
    },
    {
     "name": "stderr",
     "output_type": "stream",
     "text": [
      "\u001b[34m\u001b[1mwandb\u001b[0m: \u001b[32m\u001b[41mERROR\u001b[0m The nbformat package was not found. It is required to save notebook history.\n"
     ]
    },
    {
     "data": {
      "text/html": [],
      "text/plain": [
       "<IPython.core.display.HTML object>"
      ]
     },
     "metadata": {},
     "output_type": "display_data"
    },
    {
     "data": {
      "text/html": [
       "<br>    <style><br>        .wandb-row {<br>            display: flex;<br>            flex-direction: row;<br>            flex-wrap: wrap;<br>            justify-content: flex-start;<br>            width: 100%;<br>        }<br>        .wandb-col {<br>            display: flex;<br>            flex-direction: column;<br>            flex-basis: 100%;<br>            flex: 1;<br>            padding: 10px;<br>        }<br>    </style><br><div class=\"wandb-row\"><div class=\"wandb-col\"><h3>Run history:</h3><br/><table class=\"wandb\"><tr><td>epoch</td><td>▁▂▂▃▃▄▄▅▅▆▆▇▇█</td></tr><tr><td>lr</td><td>▁▆████▇▇▇▆▆▆▅▅</td></tr><tr><td>train_loss</td><td>█▂▂▂▂▂▂▂▁▁▁▁▁▁</td></tr><tr><td>val_loss</td><td>▁▂▁█▂▁▂▂▁▂▃▂▁▁</td></tr><tr><td>val_prauc</td><td>▅▆▄▂▇▅▅█▅▆▄▅▅▁</td></tr></table><br/></div><div class=\"wandb-col\"><h3>Run summary:</h3><br/><table class=\"wandb\"><tr><td>epoch</td><td>14</td></tr><tr><td>lr</td><td>6e-05</td></tr><tr><td>train_loss</td><td>0.00658</td></tr><tr><td>val_loss</td><td>0.09433</td></tr><tr><td>val_prauc</td><td>0.24956</td></tr></table><br/></div></div>"
      ],
      "text/plain": [
       "<IPython.core.display.HTML object>"
      ]
     },
     "metadata": {},
     "output_type": "display_data"
    },
    {
     "data": {
      "text/html": [
       " View run <strong style=\"color:#cdcd00\">logical-voice-17</strong> at: <a href='https://wandb.ai/yuya00-university-of-hyogo/vertebrae-online_aug_axial_learning_3-3%28%CE%B1%3D0.8%2Cgamma%3D1.0%29/runs/9u7p1uwf' target=\"_blank\">https://wandb.ai/yuya00-university-of-hyogo/vertebrae-online_aug_axial_learning_3-3%28%CE%B1%3D0.8%2Cgamma%3D1.0%29/runs/9u7p1uwf</a><br> View project at: <a href='https://wandb.ai/yuya00-university-of-hyogo/vertebrae-online_aug_axial_learning_3-3%28%CE%B1%3D0.8%2Cgamma%3D1.0%29' target=\"_blank\">https://wandb.ai/yuya00-university-of-hyogo/vertebrae-online_aug_axial_learning_3-3%28%CE%B1%3D0.8%2Cgamma%3D1.0%29</a><br>Synced 5 W&B file(s), 0 media file(s), 0 artifact file(s) and 0 other file(s)"
      ],
      "text/plain": [
       "<IPython.core.display.HTML object>"
      ]
     },
     "metadata": {},
     "output_type": "display_data"
    },
    {
     "data": {
      "text/html": [
       "Find logs at: <code>./wandb/run-20250506_232213-9u7p1uwf/logs</code>"
      ],
      "text/plain": [
       "<IPython.core.display.HTML object>"
      ]
     },
     "metadata": {},
     "output_type": "display_data"
    },
    {
     "data": {
      "text/html": [
       "Tracking run with wandb version 0.19.9"
      ],
      "text/plain": [
       "<IPython.core.display.HTML object>"
      ]
     },
     "metadata": {},
     "output_type": "display_data"
    },
    {
     "data": {
      "text/html": [
       "Run data is saved locally in <code>/mnt/nfs1/home/yamamoto-hiroto/research/vertebrae/Sakaguchi_file/S_model_learning/wandb/run-20250506_232950-tgm5tc05</code>"
      ],
      "text/plain": [
       "<IPython.core.display.HTML object>"
      ]
     },
     "metadata": {},
     "output_type": "display_data"
    },
    {
     "data": {
      "text/html": [
       "Syncing run <strong><a href='https://wandb.ai/yuya00-university-of-hyogo/vertebrae-online_aug_axial_learning_3-3%28%CE%B1%3D0.8%2Cgamma%3D1.0%29/runs/tgm5tc05' target=\"_blank\">glamorous-resonance-18</a></strong> to <a href='https://wandb.ai/yuya00-university-of-hyogo/vertebrae-online_aug_axial_learning_3-3%28%CE%B1%3D0.8%2Cgamma%3D1.0%29' target=\"_blank\">Weights & Biases</a> (<a href='https://wandb.me/developer-guide' target=\"_blank\">docs</a>)<br>"
      ],
      "text/plain": [
       "<IPython.core.display.HTML object>"
      ]
     },
     "metadata": {},
     "output_type": "display_data"
    },
    {
     "data": {
      "text/html": [
       " View project at <a href='https://wandb.ai/yuya00-university-of-hyogo/vertebrae-online_aug_axial_learning_3-3%28%CE%B1%3D0.8%2Cgamma%3D1.0%29' target=\"_blank\">https://wandb.ai/yuya00-university-of-hyogo/vertebrae-online_aug_axial_learning_3-3%28%CE%B1%3D0.8%2Cgamma%3D1.0%29</a>"
      ],
      "text/plain": [
       "<IPython.core.display.HTML object>"
      ]
     },
     "metadata": {},
     "output_type": "display_data"
    },
    {
     "data": {
      "text/html": [
       " View run at <a href='https://wandb.ai/yuya00-university-of-hyogo/vertebrae-online_aug_axial_learning_3-3%28%CE%B1%3D0.8%2Cgamma%3D1.0%29/runs/tgm5tc05' target=\"_blank\">https://wandb.ai/yuya00-university-of-hyogo/vertebrae-online_aug_axial_learning_3-3%28%CE%B1%3D0.8%2Cgamma%3D1.0%29/runs/tgm5tc05</a>"
      ],
      "text/plain": [
       "<IPython.core.display.HTML object>"
      ]
     },
     "metadata": {},
     "output_type": "display_data"
    },
    {
     "name": "stderr",
     "output_type": "stream",
     "text": [
      "\u001b[34m\u001b[1mwandb\u001b[0m: \u001b[32m\u001b[41mERROR\u001b[0m The nbformat package was not found. It is required to save notebook history.\n"
     ]
    },
    {
     "data": {
      "text/html": [],
      "text/plain": [
       "<IPython.core.display.HTML object>"
      ]
     },
     "metadata": {},
     "output_type": "display_data"
    },
    {
     "data": {
      "text/html": [
       "<br>    <style><br>        .wandb-row {<br>            display: flex;<br>            flex-direction: row;<br>            flex-wrap: wrap;<br>            justify-content: flex-start;<br>            width: 100%;<br>        }<br>        .wandb-col {<br>            display: flex;<br>            flex-direction: column;<br>            flex-basis: 100%;<br>            flex: 1;<br>            padding: 10px;<br>        }<br>    </style><br><div class=\"wandb-row\"><div class=\"wandb-col\"><h3>Run history:</h3><br/><table class=\"wandb\"><tr><td>epoch</td><td>▁▂▃▄▅▅▆▇█</td></tr><tr><td>lr</td><td>▁▆████▇▇▇</td></tr><tr><td>train_loss</td><td>█▂▂▁▁▁▁▁▁</td></tr><tr><td>val_loss</td><td>▅█▁▃▂▂▂▂▂</td></tr><tr><td>val_prauc</td><td>▁▃█▃▅▇▅▄▆</td></tr></table><br/></div><div class=\"wandb-col\"><h3>Run summary:</h3><br/><table class=\"wandb\"><tr><td>epoch</td><td>9</td></tr><tr><td>lr</td><td>9e-05</td></tr><tr><td>train_loss</td><td>0.00618</td></tr><tr><td>val_loss</td><td>0.07364</td></tr><tr><td>val_prauc</td><td>0.41423</td></tr></table><br/></div></div>"
      ],
      "text/plain": [
       "<IPython.core.display.HTML object>"
      ]
     },
     "metadata": {},
     "output_type": "display_data"
    },
    {
     "data": {
      "text/html": [
       " View run <strong style=\"color:#cdcd00\">glamorous-resonance-18</strong> at: <a href='https://wandb.ai/yuya00-university-of-hyogo/vertebrae-online_aug_axial_learning_3-3%28%CE%B1%3D0.8%2Cgamma%3D1.0%29/runs/tgm5tc05' target=\"_blank\">https://wandb.ai/yuya00-university-of-hyogo/vertebrae-online_aug_axial_learning_3-3%28%CE%B1%3D0.8%2Cgamma%3D1.0%29/runs/tgm5tc05</a><br> View project at: <a href='https://wandb.ai/yuya00-university-of-hyogo/vertebrae-online_aug_axial_learning_3-3%28%CE%B1%3D0.8%2Cgamma%3D1.0%29' target=\"_blank\">https://wandb.ai/yuya00-university-of-hyogo/vertebrae-online_aug_axial_learning_3-3%28%CE%B1%3D0.8%2Cgamma%3D1.0%29</a><br>Synced 5 W&B file(s), 0 media file(s), 0 artifact file(s) and 0 other file(s)"
      ],
      "text/plain": [
       "<IPython.core.display.HTML object>"
      ]
     },
     "metadata": {},
     "output_type": "display_data"
    },
    {
     "data": {
      "text/html": [
       "Find logs at: <code>./wandb/run-20250506_232950-tgm5tc05/logs</code>"
      ],
      "text/plain": [
       "<IPython.core.display.HTML object>"
      ]
     },
     "metadata": {},
     "output_type": "display_data"
    },
    {
     "data": {
      "text/html": [
       "Tracking run with wandb version 0.19.9"
      ],
      "text/plain": [
       "<IPython.core.display.HTML object>"
      ]
     },
     "metadata": {},
     "output_type": "display_data"
    },
    {
     "data": {
      "text/html": [
       "Run data is saved locally in <code>/mnt/nfs1/home/yamamoto-hiroto/research/vertebrae/Sakaguchi_file/S_model_learning/wandb/run-20250506_233444-pipa6v40</code>"
      ],
      "text/plain": [
       "<IPython.core.display.HTML object>"
      ]
     },
     "metadata": {},
     "output_type": "display_data"
    },
    {
     "data": {
      "text/html": [
       "Syncing run <strong><a href='https://wandb.ai/yuya00-university-of-hyogo/vertebrae-online_aug_axial_learning_3-3%28%CE%B1%3D0.8%2Cgamma%3D1.0%29/runs/pipa6v40' target=\"_blank\">misty-elevator-19</a></strong> to <a href='https://wandb.ai/yuya00-university-of-hyogo/vertebrae-online_aug_axial_learning_3-3%28%CE%B1%3D0.8%2Cgamma%3D1.0%29' target=\"_blank\">Weights & Biases</a> (<a href='https://wandb.me/developer-guide' target=\"_blank\">docs</a>)<br>"
      ],
      "text/plain": [
       "<IPython.core.display.HTML object>"
      ]
     },
     "metadata": {},
     "output_type": "display_data"
    },
    {
     "data": {
      "text/html": [
       " View project at <a href='https://wandb.ai/yuya00-university-of-hyogo/vertebrae-online_aug_axial_learning_3-3%28%CE%B1%3D0.8%2Cgamma%3D1.0%29' target=\"_blank\">https://wandb.ai/yuya00-university-of-hyogo/vertebrae-online_aug_axial_learning_3-3%28%CE%B1%3D0.8%2Cgamma%3D1.0%29</a>"
      ],
      "text/plain": [
       "<IPython.core.display.HTML object>"
      ]
     },
     "metadata": {},
     "output_type": "display_data"
    },
    {
     "data": {
      "text/html": [
       " View run at <a href='https://wandb.ai/yuya00-university-of-hyogo/vertebrae-online_aug_axial_learning_3-3%28%CE%B1%3D0.8%2Cgamma%3D1.0%29/runs/pipa6v40' target=\"_blank\">https://wandb.ai/yuya00-university-of-hyogo/vertebrae-online_aug_axial_learning_3-3%28%CE%B1%3D0.8%2Cgamma%3D1.0%29/runs/pipa6v40</a>"
      ],
      "text/plain": [
       "<IPython.core.display.HTML object>"
      ]
     },
     "metadata": {},
     "output_type": "display_data"
    },
    {
     "name": "stderr",
     "output_type": "stream",
     "text": [
      "\u001b[34m\u001b[1mwandb\u001b[0m: \u001b[32m\u001b[41mERROR\u001b[0m The nbformat package was not found. It is required to save notebook history.\n"
     ]
    },
    {
     "data": {
      "text/html": [],
      "text/plain": [
       "<IPython.core.display.HTML object>"
      ]
     },
     "metadata": {},
     "output_type": "display_data"
    },
    {
     "data": {
      "text/html": [
       "<br>    <style><br>        .wandb-row {<br>            display: flex;<br>            flex-direction: row;<br>            flex-wrap: wrap;<br>            justify-content: flex-start;<br>            width: 100%;<br>        }<br>        .wandb-col {<br>            display: flex;<br>            flex-direction: column;<br>            flex-basis: 100%;<br>            flex: 1;<br>            padding: 10px;<br>        }<br>    </style><br><div class=\"wandb-row\"><div class=\"wandb-col\"><h3>Run history:</h3><br/><table class=\"wandb\"><tr><td>epoch</td><td>▁▂▂▃▄▅▅▆▇▇█</td></tr><tr><td>lr</td><td>▁▆████▇▇▇▆▆</td></tr><tr><td>train_loss</td><td>█▃▃▃▂▂▂▂▁▁▁</td></tr><tr><td>val_loss</td><td>▁▂▂▄▁▄▇▂█▄▅</td></tr><tr><td>val_prauc</td><td>▆▃▁▅█▄▃▄▁▃▃</td></tr></table><br/></div><div class=\"wandb-col\"><h3>Run summary:</h3><br/><table class=\"wandb\"><tr><td>epoch</td><td>11</td></tr><tr><td>lr</td><td>8e-05</td></tr><tr><td>train_loss</td><td>0.00892</td></tr><tr><td>val_loss</td><td>0.23123</td></tr><tr><td>val_prauc</td><td>0.25597</td></tr></table><br/></div></div>"
      ],
      "text/plain": [
       "<IPython.core.display.HTML object>"
      ]
     },
     "metadata": {},
     "output_type": "display_data"
    },
    {
     "data": {
      "text/html": [
       " View run <strong style=\"color:#cdcd00\">misty-elevator-19</strong> at: <a href='https://wandb.ai/yuya00-university-of-hyogo/vertebrae-online_aug_axial_learning_3-3%28%CE%B1%3D0.8%2Cgamma%3D1.0%29/runs/pipa6v40' target=\"_blank\">https://wandb.ai/yuya00-university-of-hyogo/vertebrae-online_aug_axial_learning_3-3%28%CE%B1%3D0.8%2Cgamma%3D1.0%29/runs/pipa6v40</a><br> View project at: <a href='https://wandb.ai/yuya00-university-of-hyogo/vertebrae-online_aug_axial_learning_3-3%28%CE%B1%3D0.8%2Cgamma%3D1.0%29' target=\"_blank\">https://wandb.ai/yuya00-university-of-hyogo/vertebrae-online_aug_axial_learning_3-3%28%CE%B1%3D0.8%2Cgamma%3D1.0%29</a><br>Synced 5 W&B file(s), 0 media file(s), 0 artifact file(s) and 0 other file(s)"
      ],
      "text/plain": [
       "<IPython.core.display.HTML object>"
      ]
     },
     "metadata": {},
     "output_type": "display_data"
    },
    {
     "data": {
      "text/html": [
       "Find logs at: <code>./wandb/run-20250506_233444-pipa6v40/logs</code>"
      ],
      "text/plain": [
       "<IPython.core.display.HTML object>"
      ]
     },
     "metadata": {},
     "output_type": "display_data"
    },
    {
     "data": {
      "text/html": [
       "Tracking run with wandb version 0.19.9"
      ],
      "text/plain": [
       "<IPython.core.display.HTML object>"
      ]
     },
     "metadata": {},
     "output_type": "display_data"
    },
    {
     "data": {
      "text/html": [
       "Run data is saved locally in <code>/mnt/nfs1/home/yamamoto-hiroto/research/vertebrae/Sakaguchi_file/S_model_learning/wandb/run-20250506_234044-ko7046m8</code>"
      ],
      "text/plain": [
       "<IPython.core.display.HTML object>"
      ]
     },
     "metadata": {},
     "output_type": "display_data"
    },
    {
     "data": {
      "text/html": [
       "Syncing run <strong><a href='https://wandb.ai/yuya00-university-of-hyogo/vertebrae-online_aug_axial_learning_3-3%28%CE%B1%3D0.8%2Cgamma%3D1.0%29/runs/ko7046m8' target=\"_blank\">driven-lake-20</a></strong> to <a href='https://wandb.ai/yuya00-university-of-hyogo/vertebrae-online_aug_axial_learning_3-3%28%CE%B1%3D0.8%2Cgamma%3D1.0%29' target=\"_blank\">Weights & Biases</a> (<a href='https://wandb.me/developer-guide' target=\"_blank\">docs</a>)<br>"
      ],
      "text/plain": [
       "<IPython.core.display.HTML object>"
      ]
     },
     "metadata": {},
     "output_type": "display_data"
    },
    {
     "data": {
      "text/html": [
       " View project at <a href='https://wandb.ai/yuya00-university-of-hyogo/vertebrae-online_aug_axial_learning_3-3%28%CE%B1%3D0.8%2Cgamma%3D1.0%29' target=\"_blank\">https://wandb.ai/yuya00-university-of-hyogo/vertebrae-online_aug_axial_learning_3-3%28%CE%B1%3D0.8%2Cgamma%3D1.0%29</a>"
      ],
      "text/plain": [
       "<IPython.core.display.HTML object>"
      ]
     },
     "metadata": {},
     "output_type": "display_data"
    },
    {
     "data": {
      "text/html": [
       " View run at <a href='https://wandb.ai/yuya00-university-of-hyogo/vertebrae-online_aug_axial_learning_3-3%28%CE%B1%3D0.8%2Cgamma%3D1.0%29/runs/ko7046m8' target=\"_blank\">https://wandb.ai/yuya00-university-of-hyogo/vertebrae-online_aug_axial_learning_3-3%28%CE%B1%3D0.8%2Cgamma%3D1.0%29/runs/ko7046m8</a>"
      ],
      "text/plain": [
       "<IPython.core.display.HTML object>"
      ]
     },
     "metadata": {},
     "output_type": "display_data"
    },
    {
     "name": "stderr",
     "output_type": "stream",
     "text": [
      "\u001b[34m\u001b[1mwandb\u001b[0m: \u001b[32m\u001b[41mERROR\u001b[0m The nbformat package was not found. It is required to save notebook history.\n"
     ]
    },
    {
     "data": {
      "text/html": [],
      "text/plain": [
       "<IPython.core.display.HTML object>"
      ]
     },
     "metadata": {},
     "output_type": "display_data"
    },
    {
     "data": {
      "text/html": [
       "<br>    <style><br>        .wandb-row {<br>            display: flex;<br>            flex-direction: row;<br>            flex-wrap: wrap;<br>            justify-content: flex-start;<br>            width: 100%;<br>        }<br>        .wandb-col {<br>            display: flex;<br>            flex-direction: column;<br>            flex-basis: 100%;<br>            flex: 1;<br>            padding: 10px;<br>        }<br>    </style><br><div class=\"wandb-row\"><div class=\"wandb-col\"><h3>Run history:</h3><br/><table class=\"wandb\"><tr><td>epoch</td><td>▁▂▂▃▃▄▅▅▆▆▇▇█</td></tr><tr><td>lr</td><td>▁▆████▇▇▇▆▆▆▅</td></tr><tr><td>train_loss</td><td>█▃▃▃▃▃▂▂▂▂▁▁▁</td></tr><tr><td>val_loss</td><td>▁▂▃▂▃▆▁▆▄▆█▅▆</td></tr><tr><td>val_prauc</td><td>▇▄▅▄▄▄█▅▆▃▅▁▂</td></tr></table><br/></div><div class=\"wandb-col\"><h3>Run summary:</h3><br/><table class=\"wandb\"><tr><td>epoch</td><td>13</td></tr><tr><td>lr</td><td>7e-05</td></tr><tr><td>train_loss</td><td>0.00468</td></tr><tr><td>val_loss</td><td>0.0726</td></tr><tr><td>val_prauc</td><td>0.18345</td></tr></table><br/></div></div>"
      ],
      "text/plain": [
       "<IPython.core.display.HTML object>"
      ]
     },
     "metadata": {},
     "output_type": "display_data"
    },
    {
     "data": {
      "text/html": [
       " View run <strong style=\"color:#cdcd00\">driven-lake-20</strong> at: <a href='https://wandb.ai/yuya00-university-of-hyogo/vertebrae-online_aug_axial_learning_3-3%28%CE%B1%3D0.8%2Cgamma%3D1.0%29/runs/ko7046m8' target=\"_blank\">https://wandb.ai/yuya00-university-of-hyogo/vertebrae-online_aug_axial_learning_3-3%28%CE%B1%3D0.8%2Cgamma%3D1.0%29/runs/ko7046m8</a><br> View project at: <a href='https://wandb.ai/yuya00-university-of-hyogo/vertebrae-online_aug_axial_learning_3-3%28%CE%B1%3D0.8%2Cgamma%3D1.0%29' target=\"_blank\">https://wandb.ai/yuya00-university-of-hyogo/vertebrae-online_aug_axial_learning_3-3%28%CE%B1%3D0.8%2Cgamma%3D1.0%29</a><br>Synced 5 W&B file(s), 0 media file(s), 0 artifact file(s) and 0 other file(s)"
      ],
      "text/plain": [
       "<IPython.core.display.HTML object>"
      ]
     },
     "metadata": {},
     "output_type": "display_data"
    },
    {
     "data": {
      "text/html": [
       "Find logs at: <code>./wandb/run-20250506_234044-ko7046m8/logs</code>"
      ],
      "text/plain": [
       "<IPython.core.display.HTML object>"
      ]
     },
     "metadata": {},
     "output_type": "display_data"
    },
    {
     "name": "stdout",
     "output_type": "stream",
     "text": [
      "✅ saved best_model.pth   PRAUC=0.4755\n",
      "   hyper-params: {'lr': 0.0001, 'wd': 0.001, 'dropout': 0.3, 'gamma': 1.0}\n"
     ]
    }
   ],
   "source": [
    "# ## 7. DataLoader 準備\n",
    "# %%\n",
    "train_csv = \"/mnt/nfs1/home/yamamoto-hiroto/research/vertebrae/Sakaguchi_file/slice_train/axial/train_labels_axial.csv\"\n",
    "val_csv   = \"/mnt/nfs1/home/yamamoto-hiroto/research/vertebrae/Sakaguchi_file/slice_val/axial/val_labels_axial.csv\"\n",
    "\n",
    "train_ds = CTDataset(train_csv, pos_tf=pos_tf, neg_tf=neg_tf)\n",
    "val_ds   = CTDataset(val_csv,   pos_tf=val_tf, neg_tf=val_tf)\n",
    "\n",
    "\n",
    "## ★ Sampler で 1:1 → α=0.5 固定\n",
    "pos_weight = 0.8\n",
    "print(f\"pos_weight (alpha) = {pos_weight:.3f}\")\n",
    "\n",
    "y = train_ds.data[\"Fracture_Label\"].astype(int).values\n",
    "cls_cnt = np.bincount(y, minlength=2)\n",
    "weights = (1. / cls_cnt)[y]\n",
    "sampler = WeightedRandomSampler(weights=torch.DoubleTensor(weights),\n",
    "                                num_samples=len(weights),\n",
    "                                replacement=True)\n",
    "\n",
    "batch = 64\n",
    "train_loader = DataLoader(train_ds, batch_size=batch,\n",
    "                          sampler=sampler, num_workers=4)\n",
    "val_loader   = DataLoader(val_ds,  batch_size=batch,\n",
    "                          shuffle=False, num_workers=4)\n",
    "\n",
    "print(f\"Train: {len(train_ds)} (neg {cls_cnt[0]}, pos {cls_cnt[1]})\")\n",
    "\n",
    "# ----------------- 8. 実行！ -----------------\n",
    "grid_search(train_loader, val_loader, pos_weight=pos_weight,\n",
    "            quick_epochs=4, full_epochs=30, top_k=4)"
   ]
  }
 ],
 "metadata": {
  "kernelspec": {
   "display_name": ".venv",
   "language": "python",
   "name": "python3"
  },
  "language_info": {
   "codemirror_mode": {
    "name": "ipython",
    "version": 3
   },
   "file_extension": ".py",
   "mimetype": "text/x-python",
   "name": "python",
   "nbconvert_exporter": "python",
   "pygments_lexer": "ipython3",
   "version": "3.12.8"
  }
 },
 "nbformat": 4,
 "nbformat_minor": 5
}

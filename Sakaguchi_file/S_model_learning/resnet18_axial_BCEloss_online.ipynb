{
 "cells": [
  {
   "cell_type": "code",
   "execution_count": 16,
   "id": "e8549f26",
   "metadata": {},
   "outputs": [],
   "source": [
    "import os\n",
    "import copy\n",
    "import random\n",
    "import numpy as np\n",
    "import pandas as pd\n",
    "import torch\n",
    "import torch.nn as nn\n",
    "import torch.optim as optim\n",
    "from torch.utils.data import Dataset, DataLoader, WeightedRandomSampler\n",
    "from torchvision import models, transforms \n",
    "import torch.nn.functional as F\n",
    "import nibabel as nib\n",
    "import optuna # Optunaをインポート\n",
    "\n",
    "from PIL import Image\n",
    "from tqdm import tqdm # tqdm.notebookからtqdmに変更 (一般的な環境向け)\n",
    "from sklearn.metrics import precision_recall_curve, auc\n",
    "import wandb\n",
    "from datetime import datetime\n",
    "import itertools\n",
    "\n",
    "\n"
   ]
  },
  {
   "cell_type": "markdown",
   "id": "f49816a4",
   "metadata": {},
   "source": [
    "## 学習モデル"
   ]
  },
  {
   "cell_type": "code",
   "execution_count": 17,
   "id": "85152df3",
   "metadata": {},
   "outputs": [
    {
     "name": "stdout",
     "output_type": "stream",
     "text": [
      "Using device: cuda\n"
     ]
    }
   ],
   "source": [
    "# GPUの設定\n",
    "# CUDA_VISIBLE_DEVICESを設定して、使用するGPUを指定\n",
    "os.environ[\"CUDA_VISIBLE_DEVICES\"] = \"0\" # 環境に合わせて設定\n",
    "device = \"cuda\" if torch.cuda.is_available() else \"cpu\"\n",
    "print(\"Using device:\", device)"
   ]
  },
  {
   "cell_type": "code",
   "execution_count": 20,
   "id": "aa5d1c87",
   "metadata": {},
   "outputs": [
    {
     "name": "stderr",
     "output_type": "stream",
     "text": [
      "\u001b[34m\u001b[1mwandb\u001b[0m: \u001b[33mWARNING\u001b[0m Calling wandb.login() after wandb.init() has no effect.\n"
     ]
    },
    {
     "name": "stderr",
     "output_type": "stream",
     "text": [
      "\u001b[34m\u001b[1mwandb\u001b[0m: \u001b[32m\u001b[41mERROR\u001b[0m The nbformat package was not found. It is required to save notebook history.\n"
     ]
    },
    {
     "name": "stdout",
     "output_type": "stream",
     "text": [
      "Starting Grid Search with 4 combinations...\n",
      "\n",
      "--- Starting Trial 1/4: e20_lr1e-06_wd0.0005_do0.2_run1 ---\n"
     ]
    },
    {
     "data": {
      "text/html": [],
      "text/plain": [
       "<IPython.core.display.HTML object>"
      ]
     },
     "metadata": {},
     "output_type": "display_data"
    },
    {
     "data": {
      "text/html": [
       "<br>    <style><br>        .wandb-row {<br>            display: flex;<br>            flex-direction: row;<br>            flex-wrap: wrap;<br>            justify-content: flex-start;<br>            width: 100%;<br>        }<br>        .wandb-col {<br>            display: flex;<br>            flex-direction: column;<br>            flex-basis: 100%;<br>            flex: 1;<br>            padding: 10px;<br>        }<br>    </style><br><div class=\"wandb-row\"><div class=\"wandb-col\"><h3>Run history:</h3><br/><table class=\"wandb\"><tr><td>epoch</td><td>▁</td></tr><tr><td>learning_rate</td><td>▁</td></tr><tr><td>train_loss</td><td>▁</td></tr><tr><td>val_loss</td><td>▁</td></tr><tr><td>val_prauc</td><td>▁</td></tr></table><br/></div><div class=\"wandb-col\"><h3>Run summary:</h3><br/><table class=\"wandb\"><tr><td>epoch</td><td>1</td></tr><tr><td>learning_rate</td><td>0.0</td></tr><tr><td>train_loss</td><td>0.42821</td></tr><tr><td>val_loss</td><td>0.30685</td></tr><tr><td>val_prauc</td><td>0.33127</td></tr></table><br/></div></div>"
      ],
      "text/plain": [
       "<IPython.core.display.HTML object>"
      ]
     },
     "metadata": {},
     "output_type": "display_data"
    },
    {
     "data": {
      "text/html": [
       " View run <strong style=\"color:#cdcd00\">e20_lr1e-06_wd0.0005_do0.2_run1</strong> at: <a href='https://wandb.ai/yuya00-university-of-hyogo/vertebrae_axial_bce_a/runs/6kcug7q7' target=\"_blank\">https://wandb.ai/yuya00-university-of-hyogo/vertebrae_axial_bce_a/runs/6kcug7q7</a><br> View project at: <a href='https://wandb.ai/yuya00-university-of-hyogo/vertebrae_axial_bce_a' target=\"_blank\">https://wandb.ai/yuya00-university-of-hyogo/vertebrae_axial_bce_a</a><br>Synced 5 W&B file(s), 0 media file(s), 0 artifact file(s) and 0 other file(s)"
      ],
      "text/plain": [
       "<IPython.core.display.HTML object>"
      ]
     },
     "metadata": {},
     "output_type": "display_data"
    },
    {
     "data": {
      "text/html": [
       "Find logs at: <code>./wandb/run-20250508_173525-6kcug7q7/logs</code>"
      ],
      "text/plain": [
       "<IPython.core.display.HTML object>"
      ]
     },
     "metadata": {},
     "output_type": "display_data"
    },
    {
     "data": {
      "text/html": [
       "Tracking run with wandb version 0.19.9"
      ],
      "text/plain": [
       "<IPython.core.display.HTML object>"
      ]
     },
     "metadata": {},
     "output_type": "display_data"
    },
    {
     "data": {
      "text/html": [
       "Run data is saved locally in <code>/mnt/nfs1/home/yamamoto-hiroto/research/vertebrae/Sakaguchi_file/S_model_learning/wandb/run-20250508_174105-z1d679e8</code>"
      ],
      "text/plain": [
       "<IPython.core.display.HTML object>"
      ]
     },
     "metadata": {},
     "output_type": "display_data"
    },
    {
     "data": {
      "text/html": [
       "Syncing run <strong><a href='https://wandb.ai/yuya00-university-of-hyogo/vertebrae_axial_bce_a/runs/z1d679e8' target=\"_blank\">e20_lr1e-06_wd0.0005_do0.2_run1</a></strong> to <a href='https://wandb.ai/yuya00-university-of-hyogo/vertebrae_axial_bce_a' target=\"_blank\">Weights & Biases</a> (<a href='https://wandb.me/developer-guide' target=\"_blank\">docs</a>)<br>"
      ],
      "text/plain": [
       "<IPython.core.display.HTML object>"
      ]
     },
     "metadata": {},
     "output_type": "display_data"
    },
    {
     "data": {
      "text/html": [
       " View project at <a href='https://wandb.ai/yuya00-university-of-hyogo/vertebrae_axial_bce_a' target=\"_blank\">https://wandb.ai/yuya00-university-of-hyogo/vertebrae_axial_bce_a</a>"
      ],
      "text/plain": [
       "<IPython.core.display.HTML object>"
      ]
     },
     "metadata": {},
     "output_type": "display_data"
    },
    {
     "data": {
      "text/html": [
       " View run at <a href='https://wandb.ai/yuya00-university-of-hyogo/vertebrae_axial_bce_a/runs/z1d679e8' target=\"_blank\">https://wandb.ai/yuya00-university-of-hyogo/vertebrae_axial_bce_a/runs/z1d679e8</a>"
      ],
      "text/plain": [
       "<IPython.core.display.HTML object>"
      ]
     },
     "metadata": {},
     "output_type": "display_data"
    },
    {
     "name": "stderr",
     "output_type": "stream",
     "text": [
      "/mnt/nfs1/home/yamamoto-hiroto/research/vertebrae/.venv/lib/python3.12/site-packages/torch/optim/lr_scheduler.py:60: UserWarning: The verbose parameter is deprecated. Please use get_last_lr() to access the learning rate.\n",
      "  warnings.warn(\n",
      "                                                                                   \r"
     ]
    },
    {
     "name": "stdout",
     "output_type": "stream",
     "text": [
      "Epoch 1/20 - Train Loss: 0.4282, Val Loss: 0.3069, Val PRAUC: 0.3313, Best Thr: 0.49, LR: 1.00e-06\n",
      "New best PRAUC model saved to /mnt/nfs1/home/yamamoto-hiroto/research/vertebrae/Sakaguchi_file/S_model_learning/model_pth/e20_lr1e-06_wd0.0005_do0.2_run1_best_prauc_model.pth with PRAUC: 0.3313 at epoch 1\n"
     ]
    },
    {
     "name": "stderr",
     "output_type": "stream",
     "text": [
      "                                                                                    \r"
     ]
    },
    {
     "name": "stdout",
     "output_type": "stream",
     "text": [
      "Epoch 2/20 - Train Loss: 0.2598, Val Loss: 0.2533, Val PRAUC: 0.3080, Best Thr: 0.50, LR: 1.00e-06\n"
     ]
    },
    {
     "name": "stderr",
     "output_type": "stream",
     "text": [
      "                                                                                    \r"
     ]
    },
    {
     "name": "stdout",
     "output_type": "stream",
     "text": [
      "Epoch 3/20 - Train Loss: 0.1809, Val Loss: 0.2630, Val PRAUC: 0.2947, Best Thr: 0.46, LR: 1.00e-06\n"
     ]
    },
    {
     "name": "stderr",
     "output_type": "stream",
     "text": [
      "                                                                                    \r"
     ]
    },
    {
     "name": "stdout",
     "output_type": "stream",
     "text": [
      "Epoch 4/20 - Train Loss: 0.1341, Val Loss: 0.2506, Val PRAUC: 0.2644, Best Thr: 0.51, LR: 1.00e-06\n"
     ]
    },
    {
     "name": "stderr",
     "output_type": "stream",
     "text": [
      "                                                                                    \r"
     ]
    },
    {
     "name": "stdout",
     "output_type": "stream",
     "text": [
      "Epoch 5/20 - Train Loss: 0.1102, Val Loss: 0.2649, Val PRAUC: 0.2306, Best Thr: 0.22, LR: 1.00e-06\n"
     ]
    },
    {
     "name": "stderr",
     "output_type": "stream",
     "text": [
      "                                                                                    \r"
     ]
    },
    {
     "name": "stdout",
     "output_type": "stream",
     "text": [
      "Epoch 6/20 - Train Loss: 0.0888, Val Loss: 0.2688, Val PRAUC: 0.2453, Best Thr: 0.21, LR: 1.00e-06\n"
     ]
    },
    {
     "name": "stderr",
     "output_type": "stream",
     "text": [
      "                                                                                     \r"
     ]
    },
    {
     "name": "stdout",
     "output_type": "stream",
     "text": [
      "Epoch 7/20 - Train Loss: 0.0764, Val Loss: 0.2673, Val PRAUC: 0.2432, Best Thr: 0.28, LR: 1.00e-06\n"
     ]
    },
    {
     "name": "stderr",
     "output_type": "stream",
     "text": [
      "                                                                                     \r"
     ]
    },
    {
     "name": "stdout",
     "output_type": "stream",
     "text": [
      "Epoch 8/20 - Train Loss: 0.0679, Val Loss: 0.2686, Val PRAUC: 0.2445, Best Thr: 0.17, LR: 1.00e-06\n"
     ]
    },
    {
     "name": "stderr",
     "output_type": "stream",
     "text": [
      "                                                                                     \r"
     ]
    },
    {
     "name": "stdout",
     "output_type": "stream",
     "text": [
      "Epoch 9/20 - Train Loss: 0.0605, Val Loss: 0.2847, Val PRAUC: 0.2377, Best Thr: 0.17, LR: 1.00e-06\n",
      "Early stopping triggered at epoch 9 as validation loss did not improve for 5 epochs.\n",
      "!!! New Overall Best PRAUC: 0.3313 with params: {'epochs_max': 20, 'learning_rate': 1e-06, 'weight_decay': 0.0005, 'dropout_rate': 0.2, 'batch_size': 32, 'architecture': 'ModifiedResNet18', 'scheduler': 'ReduceLROnPlateau', 'scheduler_patience': 5, 'scheduler_factor': 0.1, 'early_stopping_patience': 5, 'sampler': 'WeightedRandomSampler_1to1', 'aug_resize_size': [224, 224], 'aug_rotation_degrees': 15, 'aug_translate_percent': [0.1, 0.1], 'aug_scale_range': [0.9, 1.1], 'aug_gaussian_noise_std': 0.05, 'aug_gaussian_noise_prob': 0.5, 'seed': 42} !!!\n"
     ]
    },
    {
     "data": {
      "text/html": [],
      "text/plain": [
       "<IPython.core.display.HTML object>"
      ]
     },
     "metadata": {},
     "output_type": "display_data"
    },
    {
     "data": {
      "text/html": [
       "<br>    <style><br>        .wandb-row {<br>            display: flex;<br>            flex-direction: row;<br>            flex-wrap: wrap;<br>            justify-content: flex-start;<br>            width: 100%;<br>        }<br>        .wandb-col {<br>            display: flex;<br>            flex-direction: column;<br>            flex-basis: 100%;<br>            flex: 1;<br>            padding: 10px;<br>        }<br>    </style><br><div class=\"wandb-row\"><div class=\"wandb-col\"><h3>Run history:</h3><br/><table class=\"wandb\"><tr><td>epoch</td><td>▁▂▃▄▅▅▆▇█</td></tr><tr><td>learning_rate</td><td>▁▁▁▁▁▁▁▁▁</td></tr><tr><td>train_loss</td><td>█▅▃▂▂▂▁▁▁</td></tr><tr><td>val_loss</td><td>█▁▃▁▃▃▃▃▅</td></tr><tr><td>val_prauc</td><td>█▆▅▃▁▂▂▂▁</td></tr></table><br/></div><div class=\"wandb-col\"><h3>Run summary:</h3><br/><table class=\"wandb\"><tr><td>best_trial_prauc</td><td>0.33127</td></tr><tr><td>epoch</td><td>9</td></tr><tr><td>learning_rate</td><td>0.0</td></tr><tr><td>train_loss</td><td>0.06055</td></tr><tr><td>val_loss</td><td>0.28475</td></tr><tr><td>val_prauc</td><td>0.23773</td></tr></table><br/></div></div>"
      ],
      "text/plain": [
       "<IPython.core.display.HTML object>"
      ]
     },
     "metadata": {},
     "output_type": "display_data"
    },
    {
     "data": {
      "text/html": [
       " View run <strong style=\"color:#cdcd00\">e20_lr1e-06_wd0.0005_do0.2_run1</strong> at: <a href='https://wandb.ai/yuya00-university-of-hyogo/vertebrae_axial_bce_a/runs/z1d679e8' target=\"_blank\">https://wandb.ai/yuya00-university-of-hyogo/vertebrae_axial_bce_a/runs/z1d679e8</a><br> View project at: <a href='https://wandb.ai/yuya00-university-of-hyogo/vertebrae_axial_bce_a' target=\"_blank\">https://wandb.ai/yuya00-university-of-hyogo/vertebrae_axial_bce_a</a><br>Synced 5 W&B file(s), 0 media file(s), 0 artifact file(s) and 0 other file(s)"
      ],
      "text/plain": [
       "<IPython.core.display.HTML object>"
      ]
     },
     "metadata": {},
     "output_type": "display_data"
    },
    {
     "data": {
      "text/html": [
       "Find logs at: <code>./wandb/run-20250508_174105-z1d679e8/logs</code>"
      ],
      "text/plain": [
       "<IPython.core.display.HTML object>"
      ]
     },
     "metadata": {},
     "output_type": "display_data"
    },
    {
     "name": "stdout",
     "output_type": "stream",
     "text": [
      "\n",
      "--- Starting Trial 2/4: e20_lr1e-06_wd0.005_do0.2_run2 ---\n"
     ]
    },
    {
     "data": {
      "text/html": [
       "Tracking run with wandb version 0.19.9"
      ],
      "text/plain": [
       "<IPython.core.display.HTML object>"
      ]
     },
     "metadata": {},
     "output_type": "display_data"
    },
    {
     "data": {
      "text/html": [
       "Run data is saved locally in <code>/mnt/nfs1/home/yamamoto-hiroto/research/vertebrae/Sakaguchi_file/S_model_learning/wandb/run-20250508_174603-pll6l5w6</code>"
      ],
      "text/plain": [
       "<IPython.core.display.HTML object>"
      ]
     },
     "metadata": {},
     "output_type": "display_data"
    },
    {
     "data": {
      "text/html": [
       "Syncing run <strong><a href='https://wandb.ai/yuya00-university-of-hyogo/vertebrae_axial_bce_a/runs/pll6l5w6' target=\"_blank\">e20_lr1e-06_wd0.005_do0.2_run2</a></strong> to <a href='https://wandb.ai/yuya00-university-of-hyogo/vertebrae_axial_bce_a' target=\"_blank\">Weights & Biases</a> (<a href='https://wandb.me/developer-guide' target=\"_blank\">docs</a>)<br>"
      ],
      "text/plain": [
       "<IPython.core.display.HTML object>"
      ]
     },
     "metadata": {},
     "output_type": "display_data"
    },
    {
     "data": {
      "text/html": [
       " View project at <a href='https://wandb.ai/yuya00-university-of-hyogo/vertebrae_axial_bce_a' target=\"_blank\">https://wandb.ai/yuya00-university-of-hyogo/vertebrae_axial_bce_a</a>"
      ],
      "text/plain": [
       "<IPython.core.display.HTML object>"
      ]
     },
     "metadata": {},
     "output_type": "display_data"
    },
    {
     "data": {
      "text/html": [
       " View run at <a href='https://wandb.ai/yuya00-university-of-hyogo/vertebrae_axial_bce_a/runs/pll6l5w6' target=\"_blank\">https://wandb.ai/yuya00-university-of-hyogo/vertebrae_axial_bce_a/runs/pll6l5w6</a>"
      ],
      "text/plain": [
       "<IPython.core.display.HTML object>"
      ]
     },
     "metadata": {},
     "output_type": "display_data"
    },
    {
     "name": "stderr",
     "output_type": "stream",
     "text": [
      "/mnt/nfs1/home/yamamoto-hiroto/research/vertebrae/.venv/lib/python3.12/site-packages/torch/optim/lr_scheduler.py:60: UserWarning: The verbose parameter is deprecated. Please use get_last_lr() to access the learning rate.\n",
      "  warnings.warn(\n",
      "                                                                                   \r"
     ]
    },
    {
     "name": "stdout",
     "output_type": "stream",
     "text": [
      "Epoch 1/20 - Train Loss: 0.4506, Val Loss: 0.3361, Val PRAUC: 0.1792, Best Thr: 0.37, LR: 1.00e-06\n",
      "New best PRAUC model saved to /mnt/nfs1/home/yamamoto-hiroto/research/vertebrae/Sakaguchi_file/S_model_learning/model_pth/e20_lr1e-06_wd0.005_do0.2_run2_best_prauc_model.pth with PRAUC: 0.1792 at epoch 1\n"
     ]
    },
    {
     "name": "stderr",
     "output_type": "stream",
     "text": [
      "                                                                                    \r"
     ]
    },
    {
     "name": "stdout",
     "output_type": "stream",
     "text": [
      "Epoch 2/20 - Train Loss: 0.2844, Val Loss: 0.2609, Val PRAUC: 0.2229, Best Thr: 0.42, LR: 1.00e-06\n",
      "New best PRAUC model saved to /mnt/nfs1/home/yamamoto-hiroto/research/vertebrae/Sakaguchi_file/S_model_learning/model_pth/e20_lr1e-06_wd0.005_do0.2_run2_best_prauc_model.pth with PRAUC: 0.2229 at epoch 2\n"
     ]
    },
    {
     "name": "stderr",
     "output_type": "stream",
     "text": [
      "                                                                                    \r"
     ]
    },
    {
     "name": "stdout",
     "output_type": "stream",
     "text": [
      "Epoch 3/20 - Train Loss: 0.1914, Val Loss: 0.2412, Val PRAUC: 0.2425, Best Thr: 0.28, LR: 1.00e-06\n",
      "New best PRAUC model saved to /mnt/nfs1/home/yamamoto-hiroto/research/vertebrae/Sakaguchi_file/S_model_learning/model_pth/e20_lr1e-06_wd0.005_do0.2_run2_best_prauc_model.pth with PRAUC: 0.2425 at epoch 3\n"
     ]
    },
    {
     "name": "stderr",
     "output_type": "stream",
     "text": [
      "                                                                                    \r"
     ]
    },
    {
     "name": "stdout",
     "output_type": "stream",
     "text": [
      "Epoch 4/20 - Train Loss: 0.1422, Val Loss: 0.2369, Val PRAUC: 0.2501, Best Thr: 0.27, LR: 1.00e-06\n",
      "New best PRAUC model saved to /mnt/nfs1/home/yamamoto-hiroto/research/vertebrae/Sakaguchi_file/S_model_learning/model_pth/e20_lr1e-06_wd0.005_do0.2_run2_best_prauc_model.pth with PRAUC: 0.2501 at epoch 4\n"
     ]
    },
    {
     "name": "stderr",
     "output_type": "stream",
     "text": [
      "                                                                                    \r"
     ]
    },
    {
     "name": "stdout",
     "output_type": "stream",
     "text": [
      "Epoch 5/20 - Train Loss: 0.1180, Val Loss: 0.2330, Val PRAUC: 0.2500, Best Thr: 0.19, LR: 1.00e-06\n"
     ]
    },
    {
     "name": "stderr",
     "output_type": "stream",
     "text": [
      "                                                                                    \r"
     ]
    },
    {
     "name": "stdout",
     "output_type": "stream",
     "text": [
      "Epoch 6/20 - Train Loss: 0.0953, Val Loss: 0.2319, Val PRAUC: 0.2616, Best Thr: 0.17, LR: 1.00e-06\n",
      "New best PRAUC model saved to /mnt/nfs1/home/yamamoto-hiroto/research/vertebrae/Sakaguchi_file/S_model_learning/model_pth/e20_lr1e-06_wd0.005_do0.2_run2_best_prauc_model.pth with PRAUC: 0.2616 at epoch 6\n"
     ]
    },
    {
     "name": "stderr",
     "output_type": "stream",
     "text": [
      "                                                                                     \r"
     ]
    },
    {
     "name": "stdout",
     "output_type": "stream",
     "text": [
      "Epoch 7/20 - Train Loss: 0.0820, Val Loss: 0.2377, Val PRAUC: 0.2678, Best Thr: 0.20, LR: 1.00e-06\n",
      "New best PRAUC model saved to /mnt/nfs1/home/yamamoto-hiroto/research/vertebrae/Sakaguchi_file/S_model_learning/model_pth/e20_lr1e-06_wd0.005_do0.2_run2_best_prauc_model.pth with PRAUC: 0.2678 at epoch 7\n"
     ]
    },
    {
     "name": "stderr",
     "output_type": "stream",
     "text": [
      "                                                                                     \r"
     ]
    },
    {
     "name": "stdout",
     "output_type": "stream",
     "text": [
      "Epoch 8/20 - Train Loss: 0.0693, Val Loss: 0.2484, Val PRAUC: 0.2743, Best Thr: 0.10, LR: 1.00e-06\n",
      "New best PRAUC model saved to /mnt/nfs1/home/yamamoto-hiroto/research/vertebrae/Sakaguchi_file/S_model_learning/model_pth/e20_lr1e-06_wd0.005_do0.2_run2_best_prauc_model.pth with PRAUC: 0.2743 at epoch 8\n"
     ]
    },
    {
     "name": "stderr",
     "output_type": "stream",
     "text": [
      "                                                                                     \r"
     ]
    },
    {
     "name": "stdout",
     "output_type": "stream",
     "text": [
      "Epoch 9/20 - Train Loss: 0.0612, Val Loss: 0.2422, Val PRAUC: 0.2723, Best Thr: 0.16, LR: 1.00e-06\n"
     ]
    },
    {
     "name": "stderr",
     "output_type": "stream",
     "text": [
      "                                                                                      \r"
     ]
    },
    {
     "name": "stdout",
     "output_type": "stream",
     "text": [
      "Epoch 10/20 - Train Loss: 0.0545, Val Loss: 0.2372, Val PRAUC: 0.2934, Best Thr: 0.21, LR: 1.00e-06\n",
      "New best PRAUC model saved to /mnt/nfs1/home/yamamoto-hiroto/research/vertebrae/Sakaguchi_file/S_model_learning/model_pth/e20_lr1e-06_wd0.005_do0.2_run2_best_prauc_model.pth with PRAUC: 0.2934 at epoch 10\n"
     ]
    },
    {
     "name": "stderr",
     "output_type": "stream",
     "text": [
      "                                                                                      \r"
     ]
    },
    {
     "name": "stdout",
     "output_type": "stream",
     "text": [
      "Epoch 11/20 - Train Loss: 0.0482, Val Loss: 0.2402, Val PRAUC: 0.3124, Best Thr: 0.17, LR: 1.00e-06\n"
     ]
    },
    {
     "name": "stderr",
     "output_type": "stream",
     "text": [
      "\u001b[34m\u001b[1mwandb\u001b[0m: \u001b[32m\u001b[41mERROR\u001b[0m The nbformat package was not found. It is required to save notebook history.\n"
     ]
    },
    {
     "name": "stdout",
     "output_type": "stream",
     "text": [
      "New best PRAUC model saved to /mnt/nfs1/home/yamamoto-hiroto/research/vertebrae/Sakaguchi_file/S_model_learning/model_pth/e20_lr1e-06_wd0.005_do0.2_run2_best_prauc_model.pth with PRAUC: 0.3124 at epoch 11\n",
      "Early stopping triggered at epoch 11 as validation loss did not improve for 5 epochs.\n"
     ]
    },
    {
     "data": {
      "text/html": [],
      "text/plain": [
       "<IPython.core.display.HTML object>"
      ]
     },
     "metadata": {},
     "output_type": "display_data"
    },
    {
     "data": {
      "text/html": [
       "<br>    <style><br>        .wandb-row {<br>            display: flex;<br>            flex-direction: row;<br>            flex-wrap: wrap;<br>            justify-content: flex-start;<br>            width: 100%;<br>        }<br>        .wandb-col {<br>            display: flex;<br>            flex-direction: column;<br>            flex-basis: 100%;<br>            flex: 1;<br>            padding: 10px;<br>        }<br>    </style><br><div class=\"wandb-row\"><div class=\"wandb-col\"><h3>Run history:</h3><br/><table class=\"wandb\"><tr><td>epoch</td><td>▁▂▂▃▄▅▅▆▇▇█</td></tr><tr><td>learning_rate</td><td>▁▁▁▁▁▁▁▁▁▁▁</td></tr><tr><td>train_loss</td><td>█▅▃▃▂▂▂▁▁▁▁</td></tr><tr><td>val_loss</td><td>█▃▂▁▁▁▁▂▂▁▂</td></tr><tr><td>val_prauc</td><td>▁▃▄▅▅▅▆▆▆▇█</td></tr></table><br/></div><div class=\"wandb-col\"><h3>Run summary:</h3><br/><table class=\"wandb\"><tr><td>best_trial_prauc</td><td>0.31243</td></tr><tr><td>epoch</td><td>11</td></tr><tr><td>learning_rate</td><td>0.0</td></tr><tr><td>train_loss</td><td>0.04821</td></tr><tr><td>val_loss</td><td>0.2402</td></tr><tr><td>val_prauc</td><td>0.31243</td></tr></table><br/></div></div>"
      ],
      "text/plain": [
       "<IPython.core.display.HTML object>"
      ]
     },
     "metadata": {},
     "output_type": "display_data"
    },
    {
     "data": {
      "text/html": [
       " View run <strong style=\"color:#cdcd00\">e20_lr1e-06_wd0.005_do0.2_run2</strong> at: <a href='https://wandb.ai/yuya00-university-of-hyogo/vertebrae_axial_bce_a/runs/pll6l5w6' target=\"_blank\">https://wandb.ai/yuya00-university-of-hyogo/vertebrae_axial_bce_a/runs/pll6l5w6</a><br> View project at: <a href='https://wandb.ai/yuya00-university-of-hyogo/vertebrae_axial_bce_a' target=\"_blank\">https://wandb.ai/yuya00-university-of-hyogo/vertebrae_axial_bce_a</a><br>Synced 5 W&B file(s), 0 media file(s), 0 artifact file(s) and 0 other file(s)"
      ],
      "text/plain": [
       "<IPython.core.display.HTML object>"
      ]
     },
     "metadata": {},
     "output_type": "display_data"
    },
    {
     "data": {
      "text/html": [
       "Find logs at: <code>./wandb/run-20250508_174603-pll6l5w6/logs</code>"
      ],
      "text/plain": [
       "<IPython.core.display.HTML object>"
      ]
     },
     "metadata": {},
     "output_type": "display_data"
    },
    {
     "name": "stdout",
     "output_type": "stream",
     "text": [
      "\n",
      "--- Starting Trial 3/4: e20_lr0.001_wd0.0005_do0.2_run3 ---\n"
     ]
    },
    {
     "data": {
      "text/html": [
       "Tracking run with wandb version 0.19.9"
      ],
      "text/plain": [
       "<IPython.core.display.HTML object>"
      ]
     },
     "metadata": {},
     "output_type": "display_data"
    },
    {
     "data": {
      "text/html": [
       "Run data is saved locally in <code>/mnt/nfs1/home/yamamoto-hiroto/research/vertebrae/Sakaguchi_file/S_model_learning/wandb/run-20250508_175207-9t5grwut</code>"
      ],
      "text/plain": [
       "<IPython.core.display.HTML object>"
      ]
     },
     "metadata": {},
     "output_type": "display_data"
    },
    {
     "data": {
      "text/html": [
       "Syncing run <strong><a href='https://wandb.ai/yuya00-university-of-hyogo/vertebrae_axial_bce_a/runs/9t5grwut' target=\"_blank\">e20_lr0.001_wd0.0005_do0.2_run3</a></strong> to <a href='https://wandb.ai/yuya00-university-of-hyogo/vertebrae_axial_bce_a' target=\"_blank\">Weights & Biases</a> (<a href='https://wandb.me/developer-guide' target=\"_blank\">docs</a>)<br>"
      ],
      "text/plain": [
       "<IPython.core.display.HTML object>"
      ]
     },
     "metadata": {},
     "output_type": "display_data"
    },
    {
     "data": {
      "text/html": [
       " View project at <a href='https://wandb.ai/yuya00-university-of-hyogo/vertebrae_axial_bce_a' target=\"_blank\">https://wandb.ai/yuya00-university-of-hyogo/vertebrae_axial_bce_a</a>"
      ],
      "text/plain": [
       "<IPython.core.display.HTML object>"
      ]
     },
     "metadata": {},
     "output_type": "display_data"
    },
    {
     "data": {
      "text/html": [
       " View run at <a href='https://wandb.ai/yuya00-university-of-hyogo/vertebrae_axial_bce_a/runs/9t5grwut' target=\"_blank\">https://wandb.ai/yuya00-university-of-hyogo/vertebrae_axial_bce_a/runs/9t5grwut</a>"
      ],
      "text/plain": [
       "<IPython.core.display.HTML object>"
      ]
     },
     "metadata": {},
     "output_type": "display_data"
    },
    {
     "name": "stderr",
     "output_type": "stream",
     "text": [
      "/mnt/nfs1/home/yamamoto-hiroto/research/vertebrae/.venv/lib/python3.12/site-packages/torch/optim/lr_scheduler.py:60: UserWarning: The verbose parameter is deprecated. Please use get_last_lr() to access the learning rate.\n",
      "  warnings.warn(\n",
      "                                                                                     \r"
     ]
    },
    {
     "name": "stdout",
     "output_type": "stream",
     "text": [
      "Epoch 1/20 - Train Loss: 0.1492, Val Loss: 7.2986, Val PRAUC: 0.0333, Best Thr: 0.00, LR: 1.00e-03\n",
      "New best PRAUC model saved to /mnt/nfs1/home/yamamoto-hiroto/research/vertebrae/Sakaguchi_file/S_model_learning/model_pth/e20_lr0.001_wd0.0005_do0.2_run3_best_prauc_model.pth with PRAUC: 0.0333 at epoch 1\n"
     ]
    },
    {
     "name": "stderr",
     "output_type": "stream",
     "text": [
      "                                                                                     \r"
     ]
    },
    {
     "name": "stdout",
     "output_type": "stream",
     "text": [
      "Epoch 2/20 - Train Loss: 0.0727, Val Loss: 0.3270, Val PRAUC: 0.0896, Best Thr: 0.05, LR: 1.00e-03\n",
      "New best PRAUC model saved to /mnt/nfs1/home/yamamoto-hiroto/research/vertebrae/Sakaguchi_file/S_model_learning/model_pth/e20_lr0.001_wd0.0005_do0.2_run3_best_prauc_model.pth with PRAUC: 0.0896 at epoch 2\n"
     ]
    },
    {
     "name": "stderr",
     "output_type": "stream",
     "text": [
      "                                                                                     \r"
     ]
    },
    {
     "name": "stdout",
     "output_type": "stream",
     "text": [
      "Epoch 3/20 - Train Loss: 0.0530, Val Loss: 2.3687, Val PRAUC: 0.0707, Best Thr: 0.92, LR: 1.00e-03\n"
     ]
    },
    {
     "name": "stderr",
     "output_type": "stream",
     "text": [
      "                                                                                     \r"
     ]
    },
    {
     "name": "stdout",
     "output_type": "stream",
     "text": [
      "Epoch 4/20 - Train Loss: 0.0431, Val Loss: 0.9282, Val PRAUC: 0.1217, Best Thr: 0.00, LR: 1.00e-03\n",
      "New best PRAUC model saved to /mnt/nfs1/home/yamamoto-hiroto/research/vertebrae/Sakaguchi_file/S_model_learning/model_pth/e20_lr0.001_wd0.0005_do0.2_run3_best_prauc_model.pth with PRAUC: 0.1217 at epoch 4\n"
     ]
    },
    {
     "name": "stderr",
     "output_type": "stream",
     "text": [
      "                                                                                      \r"
     ]
    },
    {
     "name": "stdout",
     "output_type": "stream",
     "text": [
      "Epoch 5/20 - Train Loss: 0.0379, Val Loss: 2.8119, Val PRAUC: 0.0811, Best Thr: 0.00, LR: 1.00e-03\n"
     ]
    },
    {
     "name": "stderr",
     "output_type": "stream",
     "text": [
      "                                                                                     \r"
     ]
    },
    {
     "name": "stdout",
     "output_type": "stream",
     "text": [
      "Epoch 6/20 - Train Loss: 0.0345, Val Loss: 0.3003, Val PRAUC: 0.0975, Best Thr: 0.10, LR: 1.00e-03\n"
     ]
    },
    {
     "name": "stderr",
     "output_type": "stream",
     "text": [
      "                                                                                      \r"
     ]
    },
    {
     "name": "stdout",
     "output_type": "stream",
     "text": [
      "Epoch 7/20 - Train Loss: 0.0304, Val Loss: 1.4523, Val PRAUC: 0.1003, Best Thr: 0.00, LR: 1.00e-03\n"
     ]
    },
    {
     "name": "stderr",
     "output_type": "stream",
     "text": [
      "                                                                                      \r"
     ]
    },
    {
     "name": "stdout",
     "output_type": "stream",
     "text": [
      "Epoch 8/20 - Train Loss: 0.0239, Val Loss: 7.5593, Val PRAUC: 0.0705, Best Thr: 1.00, LR: 1.00e-03\n"
     ]
    },
    {
     "name": "stderr",
     "output_type": "stream",
     "text": [
      "                                                                                      \r"
     ]
    },
    {
     "name": "stdout",
     "output_type": "stream",
     "text": [
      "Epoch 9/20 - Train Loss: 0.0270, Val Loss: 1.4850, Val PRAUC: 0.0733, Best Thr: 0.68, LR: 1.00e-03\n"
     ]
    },
    {
     "name": "stderr",
     "output_type": "stream",
     "text": [
      "                                                                                       \r"
     ]
    },
    {
     "name": "stdout",
     "output_type": "stream",
     "text": [
      "Epoch 10/20 - Train Loss: 0.0257, Val Loss: 0.6987, Val PRAUC: 0.0759, Best Thr: 0.00, LR: 1.00e-03\n"
     ]
    },
    {
     "name": "stderr",
     "output_type": "stream",
     "text": [
      "\u001b[34m\u001b[1mwandb\u001b[0m: \u001b[32m\u001b[41mERROR\u001b[0m The nbformat package was not found. It is required to save notebook history.\n"
     ]
    },
    {
     "name": "stdout",
     "output_type": "stream",
     "text": [
      "Epoch 11/20 - Train Loss: 0.0272, Val Loss: 0.4829, Val PRAUC: 0.0624, Best Thr: 0.00, LR: 1.00e-03\n",
      "Early stopping triggered at epoch 11 as validation loss did not improve for 5 epochs.\n"
     ]
    },
    {
     "data": {
      "text/html": [],
      "text/plain": [
       "<IPython.core.display.HTML object>"
      ]
     },
     "metadata": {},
     "output_type": "display_data"
    },
    {
     "data": {
      "text/html": [
       "<br>    <style><br>        .wandb-row {<br>            display: flex;<br>            flex-direction: row;<br>            flex-wrap: wrap;<br>            justify-content: flex-start;<br>            width: 100%;<br>        }<br>        .wandb-col {<br>            display: flex;<br>            flex-direction: column;<br>            flex-basis: 100%;<br>            flex: 1;<br>            padding: 10px;<br>        }<br>    </style><br><div class=\"wandb-row\"><div class=\"wandb-col\"><h3>Run history:</h3><br/><table class=\"wandb\"><tr><td>epoch</td><td>▁▂▂▃▄▅▅▆▇▇█</td></tr><tr><td>learning_rate</td><td>▁▁▁▁▁▁▁▁▁▁▁</td></tr><tr><td>train_loss</td><td>█▄▃▂▂▂▁▁▁▁▁</td></tr><tr><td>val_loss</td><td>█▁▃▂▃▁▂█▂▁▁</td></tr><tr><td>val_prauc</td><td>▁▅▄█▅▆▆▄▄▄▃</td></tr></table><br/></div><div class=\"wandb-col\"><h3>Run summary:</h3><br/><table class=\"wandb\"><tr><td>best_trial_prauc</td><td>0.12175</td></tr><tr><td>epoch</td><td>11</td></tr><tr><td>learning_rate</td><td>0.001</td></tr><tr><td>train_loss</td><td>0.02718</td></tr><tr><td>val_loss</td><td>0.48292</td></tr><tr><td>val_prauc</td><td>0.06239</td></tr></table><br/></div></div>"
      ],
      "text/plain": [
       "<IPython.core.display.HTML object>"
      ]
     },
     "metadata": {},
     "output_type": "display_data"
    },
    {
     "data": {
      "text/html": [
       " View run <strong style=\"color:#cdcd00\">e20_lr0.001_wd0.0005_do0.2_run3</strong> at: <a href='https://wandb.ai/yuya00-university-of-hyogo/vertebrae_axial_bce_a/runs/9t5grwut' target=\"_blank\">https://wandb.ai/yuya00-university-of-hyogo/vertebrae_axial_bce_a/runs/9t5grwut</a><br> View project at: <a href='https://wandb.ai/yuya00-university-of-hyogo/vertebrae_axial_bce_a' target=\"_blank\">https://wandb.ai/yuya00-university-of-hyogo/vertebrae_axial_bce_a</a><br>Synced 5 W&B file(s), 0 media file(s), 0 artifact file(s) and 0 other file(s)"
      ],
      "text/plain": [
       "<IPython.core.display.HTML object>"
      ]
     },
     "metadata": {},
     "output_type": "display_data"
    },
    {
     "data": {
      "text/html": [
       "Find logs at: <code>./wandb/run-20250508_175207-9t5grwut/logs</code>"
      ],
      "text/plain": [
       "<IPython.core.display.HTML object>"
      ]
     },
     "metadata": {},
     "output_type": "display_data"
    },
    {
     "name": "stdout",
     "output_type": "stream",
     "text": [
      "\n",
      "--- Starting Trial 4/4: e20_lr0.001_wd0.005_do0.2_run4 ---\n"
     ]
    },
    {
     "data": {
      "text/html": [
       "Tracking run with wandb version 0.19.9"
      ],
      "text/plain": [
       "<IPython.core.display.HTML object>"
      ]
     },
     "metadata": {},
     "output_type": "display_data"
    },
    {
     "data": {
      "text/html": [
       "Run data is saved locally in <code>/mnt/nfs1/home/yamamoto-hiroto/research/vertebrae/Sakaguchi_file/S_model_learning/wandb/run-20250508_175809-z9jirrpn</code>"
      ],
      "text/plain": [
       "<IPython.core.display.HTML object>"
      ]
     },
     "metadata": {},
     "output_type": "display_data"
    },
    {
     "data": {
      "text/html": [
       "Syncing run <strong><a href='https://wandb.ai/yuya00-university-of-hyogo/vertebrae_axial_bce_a/runs/z9jirrpn' target=\"_blank\">e20_lr0.001_wd0.005_do0.2_run4</a></strong> to <a href='https://wandb.ai/yuya00-university-of-hyogo/vertebrae_axial_bce_a' target=\"_blank\">Weights & Biases</a> (<a href='https://wandb.me/developer-guide' target=\"_blank\">docs</a>)<br>"
      ],
      "text/plain": [
       "<IPython.core.display.HTML object>"
      ]
     },
     "metadata": {},
     "output_type": "display_data"
    },
    {
     "data": {
      "text/html": [
       " View project at <a href='https://wandb.ai/yuya00-university-of-hyogo/vertebrae_axial_bce_a' target=\"_blank\">https://wandb.ai/yuya00-university-of-hyogo/vertebrae_axial_bce_a</a>"
      ],
      "text/plain": [
       "<IPython.core.display.HTML object>"
      ]
     },
     "metadata": {},
     "output_type": "display_data"
    },
    {
     "data": {
      "text/html": [
       " View run at <a href='https://wandb.ai/yuya00-university-of-hyogo/vertebrae_axial_bce_a/runs/z9jirrpn' target=\"_blank\">https://wandb.ai/yuya00-university-of-hyogo/vertebrae_axial_bce_a/runs/z9jirrpn</a>"
      ],
      "text/plain": [
       "<IPython.core.display.HTML object>"
      ]
     },
     "metadata": {},
     "output_type": "display_data"
    },
    {
     "name": "stderr",
     "output_type": "stream",
     "text": [
      "/mnt/nfs1/home/yamamoto-hiroto/research/vertebrae/.venv/lib/python3.12/site-packages/torch/optim/lr_scheduler.py:60: UserWarning: The verbose parameter is deprecated. Please use get_last_lr() to access the learning rate.\n",
      "  warnings.warn(\n",
      "                                                                                    \r"
     ]
    },
    {
     "name": "stdout",
     "output_type": "stream",
     "text": [
      "Epoch 1/20 - Train Loss: 0.1951, Val Loss: 5.1334, Val PRAUC: 0.0761, Best Thr: 1.00, LR: 1.00e-03\n",
      "New best PRAUC model saved to /mnt/nfs1/home/yamamoto-hiroto/research/vertebrae/Sakaguchi_file/S_model_learning/model_pth/e20_lr0.001_wd0.005_do0.2_run4_best_prauc_model.pth with PRAUC: 0.0761 at epoch 1\n"
     ]
    },
    {
     "name": "stderr",
     "output_type": "stream",
     "text": [
      "                                                                                    \r"
     ]
    },
    {
     "name": "stdout",
     "output_type": "stream",
     "text": [
      "Epoch 2/20 - Train Loss: 0.1087, Val Loss: 1.1235, Val PRAUC: 0.0667, Best Thr: 0.00, LR: 1.00e-03\n"
     ]
    },
    {
     "name": "stderr",
     "output_type": "stream",
     "text": [
      "                                                                                    \r"
     ]
    },
    {
     "name": "stdout",
     "output_type": "stream",
     "text": [
      "Epoch 3/20 - Train Loss: 0.0827, Val Loss: 4.2311, Val PRAUC: 0.0766, Best Thr: 0.99, LR: 1.00e-03\n",
      "New best PRAUC model saved to /mnt/nfs1/home/yamamoto-hiroto/research/vertebrae/Sakaguchi_file/S_model_learning/model_pth/e20_lr0.001_wd0.005_do0.2_run4_best_prauc_model.pth with PRAUC: 0.0766 at epoch 3\n"
     ]
    },
    {
     "name": "stderr",
     "output_type": "stream",
     "text": [
      "                                                                                    \r"
     ]
    },
    {
     "name": "stdout",
     "output_type": "stream",
     "text": [
      "Epoch 4/20 - Train Loss: 0.0775, Val Loss: 5.3658, Val PRAUC: 0.1015, Best Thr: 1.00, LR: 1.00e-03\n",
      "New best PRAUC model saved to /mnt/nfs1/home/yamamoto-hiroto/research/vertebrae/Sakaguchi_file/S_model_learning/model_pth/e20_lr0.001_wd0.005_do0.2_run4_best_prauc_model.pth with PRAUC: 0.1015 at epoch 4\n"
     ]
    },
    {
     "name": "stderr",
     "output_type": "stream",
     "text": [
      "                                                                                    \r"
     ]
    },
    {
     "name": "stdout",
     "output_type": "stream",
     "text": [
      "Epoch 5/20 - Train Loss: 0.0684, Val Loss: 0.5628, Val PRAUC: 0.0834, Best Thr: 0.00, LR: 1.00e-03\n"
     ]
    },
    {
     "name": "stderr",
     "output_type": "stream",
     "text": [
      "                                                                                     \r"
     ]
    },
    {
     "name": "stdout",
     "output_type": "stream",
     "text": [
      "Epoch 6/20 - Train Loss: 0.0667, Val Loss: 2.3686, Val PRAUC: 0.0561, Best Thr: 0.75, LR: 1.00e-03\n"
     ]
    },
    {
     "name": "stderr",
     "output_type": "stream",
     "text": [
      "                                                                                     \r"
     ]
    },
    {
     "name": "stdout",
     "output_type": "stream",
     "text": [
      "Epoch 7/20 - Train Loss: 0.0582, Val Loss: 1.3547, Val PRAUC: 0.1318, Best Thr: 0.00, LR: 1.00e-03\n",
      "New best PRAUC model saved to /mnt/nfs1/home/yamamoto-hiroto/research/vertebrae/Sakaguchi_file/S_model_learning/model_pth/e20_lr0.001_wd0.005_do0.2_run4_best_prauc_model.pth with PRAUC: 0.1318 at epoch 7\n"
     ]
    },
    {
     "name": "stderr",
     "output_type": "stream",
     "text": [
      "                                                                                     \r"
     ]
    },
    {
     "name": "stdout",
     "output_type": "stream",
     "text": [
      "Epoch 8/20 - Train Loss: 0.0611, Val Loss: 5.1804, Val PRAUC: 0.1385, Best Thr: 1.00, LR: 1.00e-03\n",
      "New best PRAUC model saved to /mnt/nfs1/home/yamamoto-hiroto/research/vertebrae/Sakaguchi_file/S_model_learning/model_pth/e20_lr0.001_wd0.005_do0.2_run4_best_prauc_model.pth with PRAUC: 0.1385 at epoch 8\n"
     ]
    },
    {
     "name": "stderr",
     "output_type": "stream",
     "text": [
      "                                                                                     \r"
     ]
    },
    {
     "name": "stdout",
     "output_type": "stream",
     "text": [
      "Epoch 9/20 - Train Loss: 0.0597, Val Loss: 0.5421, Val PRAUC: 0.1100, Best Thr: 0.00, LR: 1.00e-03\n"
     ]
    },
    {
     "name": "stderr",
     "output_type": "stream",
     "text": [
      "                                                                                      \r"
     ]
    },
    {
     "name": "stdout",
     "output_type": "stream",
     "text": [
      "Epoch 10/20 - Train Loss: 0.0633, Val Loss: 0.7435, Val PRAUC: 0.0829, Best Thr: 0.00, LR: 1.00e-03\n"
     ]
    },
    {
     "name": "stderr",
     "output_type": "stream",
     "text": [
      "                                                                                      \r"
     ]
    },
    {
     "name": "stdout",
     "output_type": "stream",
     "text": [
      "Epoch 11/20 - Train Loss: 0.0550, Val Loss: 4.9992, Val PRAUC: 0.0872, Best Thr: 0.99, LR: 1.00e-03\n"
     ]
    },
    {
     "name": "stderr",
     "output_type": "stream",
     "text": [
      "                                                                                      \r"
     ]
    },
    {
     "name": "stdout",
     "output_type": "stream",
     "text": [
      "Epoch 12/20 - Train Loss: 0.0524, Val Loss: 0.7804, Val PRAUC: 0.1099, Best Thr: 0.00, LR: 1.00e-03\n"
     ]
    },
    {
     "name": "stderr",
     "output_type": "stream",
     "text": [
      "                                                                                      \r"
     ]
    },
    {
     "name": "stdout",
     "output_type": "stream",
     "text": [
      "Epoch 13/20 - Train Loss: 0.0592, Val Loss: 1.0411, Val PRAUC: 0.0593, Best Thr: 0.00, LR: 1.00e-03\n"
     ]
    },
    {
     "name": "stderr",
     "output_type": "stream",
     "text": [
      "\u001b[34m\u001b[1mwandb\u001b[0m: \u001b[32m\u001b[41mERROR\u001b[0m The nbformat package was not found. It is required to save notebook history.\n"
     ]
    },
    {
     "name": "stdout",
     "output_type": "stream",
     "text": [
      "Epoch 14/20 - Train Loss: 0.0543, Val Loss: 2.2920, Val PRAUC: 0.0654, Best Thr: 0.91, LR: 1.00e-03\n",
      "Early stopping triggered at epoch 14 as validation loss did not improve for 5 epochs.\n"
     ]
    },
    {
     "data": {
      "text/html": [],
      "text/plain": [
       "<IPython.core.display.HTML object>"
      ]
     },
     "metadata": {},
     "output_type": "display_data"
    },
    {
     "data": {
      "text/html": [
       "<br>    <style><br>        .wandb-row {<br>            display: flex;<br>            flex-direction: row;<br>            flex-wrap: wrap;<br>            justify-content: flex-start;<br>            width: 100%;<br>        }<br>        .wandb-col {<br>            display: flex;<br>            flex-direction: column;<br>            flex-basis: 100%;<br>            flex: 1;<br>            padding: 10px;<br>        }<br>    </style><br><div class=\"wandb-row\"><div class=\"wandb-col\"><h3>Run history:</h3><br/><table class=\"wandb\"><tr><td>epoch</td><td>▁▂▂▃▃▄▄▅▅▆▆▇▇█</td></tr><tr><td>learning_rate</td><td>▁▁▁▁▁▁▁▁▁▁▁▁▁▁</td></tr><tr><td>train_loss</td><td>█▄▂▂▂▂▁▁▁▂▁▁▁▁</td></tr><tr><td>val_loss</td><td>█▂▆█▁▄▂█▁▁▇▁▂▄</td></tr><tr><td>val_prauc</td><td>▃▂▃▅▃▁▇█▆▃▄▆▁▂</td></tr></table><br/></div><div class=\"wandb-col\"><h3>Run summary:</h3><br/><table class=\"wandb\"><tr><td>best_trial_prauc</td><td>0.13855</td></tr><tr><td>epoch</td><td>14</td></tr><tr><td>learning_rate</td><td>0.001</td></tr><tr><td>train_loss</td><td>0.05431</td></tr><tr><td>val_loss</td><td>2.29198</td></tr><tr><td>val_prauc</td><td>0.06539</td></tr></table><br/></div></div>"
      ],
      "text/plain": [
       "<IPython.core.display.HTML object>"
      ]
     },
     "metadata": {},
     "output_type": "display_data"
    },
    {
     "data": {
      "text/html": [
       " View run <strong style=\"color:#cdcd00\">e20_lr0.001_wd0.005_do0.2_run4</strong> at: <a href='https://wandb.ai/yuya00-university-of-hyogo/vertebrae_axial_bce_a/runs/z9jirrpn' target=\"_blank\">https://wandb.ai/yuya00-university-of-hyogo/vertebrae_axial_bce_a/runs/z9jirrpn</a><br> View project at: <a href='https://wandb.ai/yuya00-university-of-hyogo/vertebrae_axial_bce_a' target=\"_blank\">https://wandb.ai/yuya00-university-of-hyogo/vertebrae_axial_bce_a</a><br>Synced 5 W&B file(s), 0 media file(s), 0 artifact file(s) and 0 other file(s)"
      ],
      "text/plain": [
       "<IPython.core.display.HTML object>"
      ]
     },
     "metadata": {},
     "output_type": "display_data"
    },
    {
     "data": {
      "text/html": [
       "Find logs at: <code>./wandb/run-20250508_175809-z9jirrpn/logs</code>"
      ],
      "text/plain": [
       "<IPython.core.display.HTML object>"
      ]
     },
     "metadata": {},
     "output_type": "display_data"
    },
    {
     "name": "stdout",
     "output_type": "stream",
     "text": [
      "\n",
      "--- Grid Search Finished ---\n",
      "Best Overall PRAUC: 0.3313\n",
      "Best Parameters: {'epochs_max': 20, 'learning_rate': 1e-06, 'weight_decay': 0.0005, 'dropout_rate': 0.2, 'batch_size': 32, 'architecture': 'ModifiedResNet18', 'scheduler': 'ReduceLROnPlateau', 'scheduler_patience': 5, 'scheduler_factor': 0.1, 'early_stopping_patience': 5, 'sampler': 'WeightedRandomSampler_1to1', 'aug_resize_size': [224, 224], 'aug_rotation_degrees': 15, 'aug_translate_percent': [0.1, 0.1], 'aug_scale_range': [0.9, 1.1], 'aug_gaussian_noise_std': 0.05, 'aug_gaussian_noise_prob': 0.5, 'seed': 42}\n"
     ]
    }
   ],
   "source": [
    "\n",
    "# --- グローバル設定 ---\n",
    "# TODO: ご自身の環境に合わせて設定してください\n",
    "WANDB_PROJECT_NAME = \"vertebrae_axial_bce_a\" # 例: W&Bプロジェクト名\n",
    "TRAIN_CSV_PATH = \"/mnt/nfs1/home/yamamoto-hiroto/research/vertebrae/Sakaguchi_file/slice_train/axial/train_labels_axial.csv\"        # 例: 訓練用CSVファイルのパス\n",
    "VAL_CSV_PATH = \"/mnt/nfs1/home/yamamoto-hiroto/research/vertebrae/Sakaguchi_file/slice_val/axial/val_labels_axial.csv\"            # 例: 検証用CSVファイルのパス\n",
    "MODEL_SAVE_DIR = \"/mnt/nfs1/home/yamamoto-hiroto/research/vertebrae/Sakaguchi_file/S_model_learning/model_pth\"               # 例: モデル保存ディレクトリ\n",
    "SEED = 42 # 再現性のためのシード値\n",
    "DEVICE = torch.device(\"cuda\" if torch.cuda.is_available() else \"cpu\")\n",
    "\n",
    "# データ拡張パラメータ\n",
    "AUG_RESIZE_SIZE = (224, 224)\n",
    "AUG_ROTATION_DEGREES = 15  # 陽性サンプルへの回転角度\n",
    "AUG_TRANSLATE_PERCENT = (0.1, 0.1)  # 平行移動の割合 (幅・高さに対する最大移動割合のタプル)\n",
    "AUG_SCALE_RANGE = (0.9, 1.1)        # 拡大縮小の範囲 (例: 0.9倍から1.1倍)\n",
    "AUG_GAUSSIAN_NOISE_STD = 0.05       # ガウスノイズの標準偏差 (0-1正規化後画像への適用を想定)\n",
    "AUG_GAUSSIAN_NOISE_PROB = 0.5       # ガウスノイズを適用する確率\n",
    "AUG_NORM_MEAN = (0.5,)\n",
    "AUG_NORM_STD = (0.5,)\n",
    "\n",
    "# 学習制御パラメータ\n",
    "EARLY_STOPPING_PATIENCE = 5 # 検証損失がこのエポック数改善しなければ早期終了\n",
    "SCHEDULER_PATIENCE = 5     # ReduceLROnPlateau: 検証損失がこのエポック数改善しなければLR低下\n",
    "SCHEDULER_FACTOR = 0.1     # ReduceLROnPlateau: 学習率を低下させる係数\n",
    "\n",
    "# --- カスタム変換: ガウスノイズ追加 ---\n",
    "class AddGaussianNoise(object):\n",
    "    def __init__(self, mean=0., std=0.05, p=0.5):\n",
    "        self.std = std\n",
    "        self.mean = mean\n",
    "        self.p = p\n",
    "\n",
    "    def __call__(self, tensor):\n",
    "        if torch.rand(1).item() < self.p:\n",
    "            # テンソルが0-1の範囲にあると仮定し、ノイズ付加後にクリップ\n",
    "            noisy_tensor = tensor + torch.randn(tensor.size()) * self.std + self.mean\n",
    "            return torch.clamp(noisy_tensor, 0., 1.) # 0-1の範囲に収める\n",
    "        return tensor\n",
    "\n",
    "    def __repr__(self):\n",
    "        return self.__class__.__name__ + f'(mean={self.mean}, std={self.std}, p={self.p})'\n",
    "\n",
    "# --- データセットクラス (修正版) ---\n",
    "class CTDataset(Dataset):\n",
    "    def __init__(self, csv_path, pos_tf=None, neg_tf=None):\n",
    "        self.data   = pd.read_csv(csv_path)\n",
    "        self.pos_tf = pos_tf\n",
    "        self.neg_tf = neg_tf\n",
    "\n",
    "    def __len__(self):\n",
    "        return len(self.data)\n",
    "\n",
    "    def _load_nifti(self, path):\n",
    "        try:\n",
    "            img = nib.load(path).get_fdata()\n",
    "            if img.ndim == 3:\n",
    "                img = img[:, :, 0]\n",
    "            elif img.ndim != 2:\n",
    "                print(f\"Warning: Unexpected image dimension {img.ndim} for {path}. Using empty slice.\")\n",
    "                return Image.fromarray(np.zeros(AUG_RESIZE_SIZE, dtype=np.uint8)).convert(\"L\")\n",
    "\n",
    "            img_min = 100\n",
    "            img_max = 2000\n",
    "            img = np.clip(img, img_min, img_max)\n",
    "            img = (img - img_min) / (img_max - img_min)\n",
    "            img = (img * 255).astype(np.uint8)\n",
    "            return Image.fromarray(img).convert(\"L\")\n",
    "        except FileNotFoundError:\n",
    "            print(f\"Error: File not found at {path}. Returning a black image.\")\n",
    "            return Image.fromarray(np.zeros(AUG_RESIZE_SIZE, dtype=np.uint8)).convert(\"L\")\n",
    "        except Exception as e:\n",
    "            print(f\"Error loading NIfTI file {path}: {e}. Returning a black image.\")\n",
    "            return Image.fromarray(np.zeros(AUG_RESIZE_SIZE, dtype=np.uint8)).convert(\"L\")\n",
    "\n",
    "    def __getitem__(self, idx): # ★★★ このメソッドを以下のように置き換えてください ★★★\n",
    "        r      = self.data.iloc[idx]\n",
    "        label  = int(r[\"Fracture_Label\"])\n",
    "        img    = self._load_nifti(r[\"FullPath\"]) # PIL Image\n",
    "\n",
    "        transform_to_apply = None\n",
    "        if label == 1:\n",
    "            # 陽性ラベルの場合、pos_tf を試みる\n",
    "            transform_to_apply = self.pos_tf\n",
    "        else: # label == 0\n",
    "            # 陰性ラベルの場合、neg_tf を試みる\n",
    "            transform_to_apply = self.neg_tf\n",
    "\n",
    "        # もし上記の条件で適切な transform が見つからなかった場合\n",
    "        # (例: label=0 で self.neg_tf が Noneだった場合、または label=1 で self.pos_tf が Noneだった場合)\n",
    "        # フォールバックとして self.pos_tf を使用する\n",
    "        # (検証/テスト時や、訓練時に陰性専用の変換がない場合にこれを想定)\n",
    "        if transform_to_apply is None:\n",
    "            transform_to_apply = self.pos_tf\n",
    "\n",
    "        # 最終的に適用する変換が存在するか確認\n",
    "        if transform_to_apply:\n",
    "            img = transform_to_apply(img)\n",
    "        else:\n",
    "            # このケースは、self.pos_tf すら None の場合であり、設定エラーの可能性が高い。\n",
    "            raise ValueError(\n",
    "                f\"No transform could be applied for image at index {idx} (label: {label}). \"\n",
    "                \"Ensure CTDataset is initialized with `pos_tf` (and optionally `neg_tf`) \"\n",
    "                \"containing appropriate transformations including ToTensor().\"\n",
    "            )\n",
    "        return img, float(label)\n",
    "    \n",
    "# --- モデル定義 (変更なし) ---\n",
    "class ModifiedResNet(nn.Module):\n",
    "    def __init__(self, dropout_rate=0.5):\n",
    "        super(ModifiedResNet, self).__init__()\n",
    "        self.resnet = models.resnet18(weights=models.ResNet18_Weights.DEFAULT)\n",
    "        self.resnet.conv1 = nn.Conv2d(1, 64, kernel_size=(7, 7), stride=(2, 2), padding=(3, 3), bias=False)\n",
    "        num_features = self.resnet.fc.in_features\n",
    "        self.resnet.fc = nn.Sequential(\n",
    "            nn.Dropout(dropout_rate),\n",
    "            nn.Linear(num_features, 1),\n",
    "        )\n",
    "\n",
    "    def forward(self, x):\n",
    "        x = self.resnet.conv1(x)\n",
    "        x = self.resnet.bn1(x)\n",
    "        x = self.resnet.relu(x)\n",
    "        x = self.resnet.maxpool(x)\n",
    "        x = self.resnet.layer1(x)\n",
    "        x = self.resnet.layer2(x)\n",
    "        x = self.resnet.layer3(x)\n",
    "        x = self.resnet.layer4(x)\n",
    "        x = self.resnet.avgpool(x)\n",
    "        x = torch.flatten(x, 1)\n",
    "        x = self.resnet.fc(x)\n",
    "        return x\n",
    "\n",
    "# --- データ拡張定義 (修正) ---\n",
    "def get_transforms(resize_size, rotation_degrees, translate_percent, scale_range,\n",
    "                   gaussian_std, gaussian_prob, norm_mean, norm_std):\n",
    "    # 訓練時の陽性サンプル用データ拡張\n",
    "    pos_train_transforms = transforms.Compose([\n",
    "        transforms.Resize(resize_size),\n",
    "        transforms.RandomAffine(degrees=rotation_degrees,\n",
    "                                translate=translate_percent,\n",
    "                                scale=scale_range,\n",
    "                                shear=None), # せん断は使用しない\n",
    "        transforms.ToTensor(), # PIL Imageをテンソルに変換 (0-1スケール)\n",
    "        AddGaussianNoise(mean=0., std=gaussian_std, p=gaussian_prob),\n",
    "        transforms.Normalize(mean=norm_mean, std=norm_std)\n",
    "    ])\n",
    "\n",
    "    # 訓練時の陰性サンプル用データ拡張 (拡張なし、基本変換のみ)\n",
    "    neg_train_transforms = transforms.Compose([\n",
    "        transforms.Resize(resize_size),\n",
    "        transforms.ToTensor(),\n",
    "        transforms.Normalize(mean=norm_mean, std=norm_std)\n",
    "    ])\n",
    "\n",
    "    # 検証用データ拡張 (拡張なし、基本変換のみ)\n",
    "    val_transforms = transforms.Compose([\n",
    "        transforms.Resize(resize_size),\n",
    "        transforms.ToTensor(),\n",
    "        transforms.Normalize(mean=norm_mean, std=norm_std)\n",
    "    ])\n",
    "    return pos_train_transforms, neg_train_transforms, val_transforms\n",
    "\n",
    "# --- WeightedRandomSampler 作成関数 (変更なし) ---\n",
    "def create_sampler(dataset_df): # データセット全体ではなく、DataFrameを受け取るように変更\n",
    "    # DataFrameからラベルのリストを直接取得\n",
    "    # CTDatasetインスタンス化前にラベル情報が必要なため\n",
    "    labels = dataset_df['Fracture_Label'].values \n",
    "    class_counts = np.bincount(labels.astype(int))\n",
    "    if len(class_counts) < 2:\n",
    "        print(\"Warning: Only one class found in the dataset. WeightedRandomSampler might not work as expected.\")\n",
    "        return None\n",
    "\n",
    "    class_weights = 1. / class_counts\n",
    "    sample_weights = np.array([class_weights[int(l)] for l in labels])\n",
    "    sampler = WeightedRandomSampler(weights=sample_weights, num_samples=len(sample_weights), replacement=True)\n",
    "    return sampler\n",
    "\n",
    "# --- 評価関数 (変更なし) ---\n",
    "def evaluate_model(model, val_loader, criterion, device):\n",
    "    model.eval()\n",
    "    running_loss = 0.0\n",
    "    all_labels, all_preds_probs = [], []\n",
    "\n",
    "    with torch.no_grad():\n",
    "        for images, labels in val_loader:\n",
    "            images, labels = images.to(device), labels.to(device).float().unsqueeze(1)\n",
    "            outputs = model(images)\n",
    "            loss = criterion(outputs, labels)\n",
    "            running_loss += loss.item()\n",
    "            probs = torch.sigmoid(outputs).cpu().numpy().flatten()\n",
    "            all_labels.extend(labels.cpu().numpy().flatten())\n",
    "            all_preds_probs.extend(probs)\n",
    "\n",
    "    avg_loss = running_loss / len(val_loader)\n",
    "    prauc = -1.0\n",
    "    best_threshold = 0.5\n",
    "    best_precision = 0.0\n",
    "    best_recall = 0.0\n",
    "\n",
    "    if len(all_labels) > 0 and len(all_preds_probs) > 0:\n",
    "        all_labels_np = np.array(all_labels)\n",
    "        all_preds_probs_np = np.array(all_preds_probs)\n",
    "        if len(np.unique(all_labels_np)) > 1:\n",
    "            precision, recall, thresholds = precision_recall_curve(all_labels_np, all_preds_probs_np)\n",
    "            prauc = auc(recall, precision)\n",
    "            f1_scores = 2 * (precision * recall) / (precision + recall + 1e-8)\n",
    "            if len(f1_scores) > 0:\n",
    "                best_idx = np.argmax(f1_scores)\n",
    "                best_threshold = thresholds[min(best_idx, len(thresholds)-1)] if len(thresholds) > 0 else 0.5\n",
    "                best_precision = precision[best_idx]\n",
    "                best_recall = recall[best_idx]\n",
    "        else:\n",
    "            print(f\"Warning: Only one class present in y_true for PRAUC calculation. PRAUC set to 0.\")\n",
    "            prauc = 0.0\n",
    "    return avg_loss, prauc, best_threshold, best_precision, best_recall\n",
    "\n",
    "# --- 訓練関数 (早期終了、スケジューラ修正) ---\n",
    "def train_model(model, train_loader, val_loader, criterion, optimizer, scheduler, num_epochs, device, run_name, early_stopping_patience):\n",
    "    best_val_prauc = -1.0\n",
    "    best_epoch_for_prauc = -1\n",
    "    \n",
    "    # 早期終了用\n",
    "    best_val_loss_for_early_stop = float('inf')\n",
    "    early_stopping_counter = 0\n",
    "\n",
    "    for epoch in range(num_epochs):\n",
    "        model.train()\n",
    "        running_train_loss = 0.0\n",
    "        progress_bar = tqdm(train_loader, desc=f\"Epoch {epoch+1}/{num_epochs} [Train]\", leave=False)\n",
    "        for images, labels in progress_bar:\n",
    "            images, labels = images.to(device), labels.to(device).float().unsqueeze(1)\n",
    "            optimizer.zero_grad()\n",
    "            outputs = model(images)\n",
    "            loss = criterion(outputs, labels)\n",
    "            loss.backward()\n",
    "            optimizer.step()\n",
    "            running_train_loss += loss.item()\n",
    "            progress_bar.set_postfix(loss=loss.item())\n",
    "\n",
    "        avg_train_loss = running_train_loss / len(train_loader)\n",
    "        avg_val_loss, val_prauc, best_thr, _, _ = evaluate_model(model, val_loader, criterion, device)\n",
    "        \n",
    "        print(f\"Epoch {epoch+1}/{num_epochs} - Train Loss: {avg_train_loss:.4f}, Val Loss: {avg_val_loss:.4f}, Val PRAUC: {val_prauc:.4f}, Best Thr: {best_thr:.2f}, LR: {optimizer.param_groups[0]['lr']:.2e}\")\n",
    "\n",
    "        wandb.log({\n",
    "            \"epoch\": epoch + 1,\n",
    "            \"train_loss\": avg_train_loss,\n",
    "            \"val_loss\": avg_val_loss,\n",
    "            \"val_prauc\": val_prauc,\n",
    "            \"learning_rate\": optimizer.param_groups[0]['lr']\n",
    "        })\n",
    "\n",
    "        # PRAUCに基づく最良モデルの保存\n",
    "        if val_prauc > best_val_prauc:\n",
    "            best_val_prauc = val_prauc\n",
    "            best_epoch_for_prauc = epoch + 1\n",
    "            model_path = os.path.join(MODEL_SAVE_DIR, f\"{run_name}_best_prauc_model.pth\") # シンプルな名前に\n",
    "            torch.save(model.state_dict(), model_path)\n",
    "            print(f\"New best PRAUC model saved to {model_path} with PRAUC: {best_val_prauc:.4f} at epoch {best_epoch_for_prauc}\")\n",
    "            # wandb.save(model_path) # W&Bに直接保存も可能\n",
    "\n",
    "        # 早期終了判定 (検証損失に基づく)\n",
    "        if avg_val_loss < best_val_loss_for_early_stop:\n",
    "            best_val_loss_for_early_stop = avg_val_loss\n",
    "            early_stopping_counter = 0\n",
    "            # 早期終了用に最良の検証損失モデルを保存する場合 (オプション)\n",
    "            # model_path_es = os.path.join(MODEL_SAVE_DIR, f\"{run_name}_best_valloss_model.pth\")\n",
    "            # torch.save(model.state_dict(), model_path_es)\n",
    "        else:\n",
    "            early_stopping_counter += 1\n",
    "        \n",
    "        if early_stopping_counter >= early_stopping_patience:\n",
    "            print(f\"Early stopping triggered at epoch {epoch+1} as validation loss did not improve for {early_stopping_patience} epochs.\")\n",
    "            break # 学習ループを抜ける\n",
    "\n",
    "        # スケジューラ更新 (検証損失に基づく)\n",
    "        if scheduler:\n",
    "            scheduler.step(avg_val_loss)\n",
    "\n",
    "    return best_val_prauc, best_epoch_for_prauc\n",
    "\n",
    "# --- グリッドサーチ関数 (W&B config更新) ---\n",
    "def grid_search_main(train_csv_path, val_csv_path):\n",
    "    num_epochs_list = [20]\n",
    "    lr_list = [1e-6, 1e-3]\n",
    "    weight_decay_list = [5e-4, 5e-3]\n",
    "    dropout_rate_list = [0.2]\n",
    "    batch_size = 32\n",
    "\n",
    "    pos_train_tf, neg_train_tf, val_tf = get_transforms(\n",
    "        resize_size=AUG_RESIZE_SIZE,\n",
    "        rotation_degrees=AUG_ROTATION_DEGREES,\n",
    "        translate_percent=AUG_TRANSLATE_PERCENT,\n",
    "        scale_range=AUG_SCALE_RANGE,\n",
    "        gaussian_std=AUG_GAUSSIAN_NOISE_STD,\n",
    "        gaussian_prob=AUG_GAUSSIAN_NOISE_PROB,\n",
    "        norm_mean=AUG_NORM_MEAN,\n",
    "        norm_std=AUG_NORM_STD\n",
    "    )\n",
    "\n",
    "    val_dataset = CTDataset(csv_path=val_csv_path, pos_tf=val_tf) # pos_tfにval_tfを渡す\n",
    "    val_loader = DataLoader(val_dataset, batch_size=batch_size, shuffle=False, num_workers=4, pin_memory=True)\n",
    "    train_df = pd.read_csv(train_csv_path)\n",
    "\n",
    "    best_overall_prauc = -1.0\n",
    "    best_params_overall = {}\n",
    "    \n",
    "    param_combinations = list(itertools.product(num_epochs_list, lr_list, weight_decay_list, dropout_rate_list))\n",
    "    print(f\"Starting Grid Search with {len(param_combinations)} combinations...\")\n",
    "\n",
    "    for i, params_combo in enumerate(param_combinations):\n",
    "        current_num_epochs, lr, weight_decay, dropout = params_combo\n",
    "        run_name = f\"e{current_num_epochs}_lr{lr}_wd{weight_decay}_do{dropout}_run{i+1}\"\n",
    "        \n",
    "        print(f\"\\n--- Starting Trial {i+1}/{len(param_combinations)}: {run_name} ---\")\n",
    "\n",
    "        wandb.init(\n",
    "            project=WANDB_PROJECT_NAME,\n",
    "            name=run_name,\n",
    "            config={\n",
    "                \"epochs_max\": current_num_epochs,\n",
    "                \"learning_rate\": lr,\n",
    "                \"weight_decay\": weight_decay,\n",
    "                \"dropout_rate\": dropout,\n",
    "                \"batch_size\": batch_size,\n",
    "                \"architecture\": \"ModifiedResNet18\",\n",
    "                \"scheduler\": \"ReduceLROnPlateau\",\n",
    "                \"scheduler_patience\": SCHEDULER_PATIENCE,\n",
    "                \"scheduler_factor\": SCHEDULER_FACTOR,\n",
    "                \"early_stopping_patience\": EARLY_STOPPING_PATIENCE,\n",
    "                \"sampler\": \"WeightedRandomSampler_1to1\",\n",
    "                \"aug_resize_size\": AUG_RESIZE_SIZE,\n",
    "                \"aug_rotation_degrees\": AUG_ROTATION_DEGREES,\n",
    "                \"aug_translate_percent\": AUG_TRANSLATE_PERCENT,\n",
    "                \"aug_scale_range\": AUG_SCALE_RANGE,\n",
    "                \"aug_gaussian_noise_std\": AUG_GAUSSIAN_NOISE_STD,\n",
    "                \"aug_gaussian_noise_prob\": AUG_GAUSSIAN_NOISE_PROB,\n",
    "                \"seed\": SEED + i # 各試行で異なるシードにする場合\n",
    "            },\n",
    "            reinit=True\n",
    "        )\n",
    "        \n",
    "        current_seed = SEED + i\n",
    "        torch.manual_seed(current_seed)\n",
    "        np.random.seed(current_seed)\n",
    "        if torch.cuda.is_available():\n",
    "            torch.cuda.manual_seed_all(current_seed)\n",
    "            torch.backends.cudnn.deterministic = True\n",
    "            torch.backends.cudnn.benchmark = False\n",
    "\n",
    "        model = ModifiedResNet(dropout_rate=dropout).to(DEVICE)\n",
    "        criterion = nn.BCEWithLogitsLoss().to(DEVICE)\n",
    "        optimizer = optim.Adam(model.parameters(), lr=lr, weight_decay=weight_decay)\n",
    "        scheduler = optim.lr_scheduler.ReduceLROnPlateau(optimizer, mode='min', factor=SCHEDULER_FACTOR, patience=SCHEDULER_PATIENCE, verbose=True)\n",
    "\n",
    "        train_dataset_instance = CTDataset(csv_path=train_csv_path, pos_tf=pos_train_tf, neg_tf=neg_train_tf)\n",
    "        sampler = create_sampler(train_df)\n",
    "        \n",
    "        if sampler:\n",
    "            train_loader = DataLoader(train_dataset_instance, batch_size=batch_size, sampler=sampler, num_workers=4, pin_memory=True)\n",
    "        else:\n",
    "            train_loader = DataLoader(train_dataset_instance, batch_size=batch_size, shuffle=True, num_workers=4, pin_memory=True)\n",
    "\n",
    "        current_best_prauc_for_trial, _ = train_model(model, train_loader, val_loader, criterion, optimizer, scheduler, current_num_epochs, DEVICE, run_name, EARLY_STOPPING_PATIENCE)\n",
    "\n",
    "        if current_best_prauc_for_trial > best_overall_prauc:\n",
    "            best_overall_prauc = current_best_prauc_for_trial\n",
    "            best_params_overall = wandb.config.as_dict()\n",
    "            print(f\"!!! New Overall Best PRAUC: {best_overall_prauc:.4f} with params: {best_params_overall} !!!\")\n",
    "\n",
    "        wandb.summary[\"best_trial_prauc\"] = current_best_prauc_for_trial\n",
    "        wandb.finish()\n",
    "\n",
    "    print(f\"\\n--- Grid Search Finished ---\")\n",
    "    print(f\"Best Overall PRAUC: {best_overall_prauc:.4f}\")\n",
    "    print(f\"Best Parameters: {best_params_overall}\")\n",
    "\n",
    "if __name__ == \"__main__\":\n",
    "    try:\n",
    "        wandb.login()\n",
    "    except Exception as e:\n",
    "        print(f\"Could not login to W&B: {e}.\")\n",
    "\n",
    "    grid_search_main(TRAIN_CSV_PATH, VAL_CSV_PATH)"
   ]
  },
  {
   "cell_type": "code",
   "execution_count": null,
   "id": "902e2dc9",
   "metadata": {},
   "outputs": [],
   "source": []
  },
  {
   "cell_type": "code",
   "execution_count": null,
   "id": "23dcd47f",
   "metadata": {},
   "outputs": [],
   "source": []
  }
 ],
 "metadata": {
  "kernelspec": {
   "display_name": "vertebrae",
   "language": "python",
   "name": "python3"
  },
  "language_info": {
   "codemirror_mode": {
    "name": "ipython",
    "version": 3
   },
   "file_extension": ".py",
   "mimetype": "text/x-python",
   "name": "python",
   "nbconvert_exporter": "python",
   "pygments_lexer": "ipython3",
   "version": "3.12.8"
  }
 },
 "nbformat": 4,
 "nbformat_minor": 5
}
